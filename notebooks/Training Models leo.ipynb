{
 "cells": [
  {
   "cell_type": "code",
   "execution_count": 101,
   "id": "ce3a5a50",
   "metadata": {},
   "outputs": [],
   "source": [
    "import pandas as pd\n",
    "import numpy as np"
   ]
  },
  {
   "cell_type": "code",
   "execution_count": 2,
   "id": "cbaaa0c1",
   "metadata": {
    "scrolled": true
   },
   "outputs": [
    {
     "data": {
      "text/html": [
       "<div>\n",
       "<style scoped>\n",
       "    .dataframe tbody tr th:only-of-type {\n",
       "        vertical-align: middle;\n",
       "    }\n",
       "\n",
       "    .dataframe tbody tr th {\n",
       "        vertical-align: top;\n",
       "    }\n",
       "\n",
       "    .dataframe thead th {\n",
       "        text-align: right;\n",
       "    }\n",
       "</style>\n",
       "<table border=\"1\" class=\"dataframe\">\n",
       "  <thead>\n",
       "    <tr style=\"text-align: right;\">\n",
       "      <th></th>\n",
       "      <th>tweets</th>\n",
       "      <th>label</th>\n",
       "    </tr>\n",
       "  </thead>\n",
       "  <tbody>\n",
       "    <tr>\n",
       "      <th>4621</th>\n",
       "      <td>lose anger anxieti insecur depress medit buddh...</td>\n",
       "      <td>1</td>\n",
       "    </tr>\n",
       "    <tr>\n",
       "      <th>4622</th>\n",
       "      <td>anisalukman baik aja mani secret amp lie kalo ...</td>\n",
       "      <td>0</td>\n",
       "    </tr>\n",
       "    <tr>\n",
       "      <th>4623</th>\n",
       "      <td>pan ghey friend lean leftist side polit medic ...</td>\n",
       "      <td>1</td>\n",
       "    </tr>\n",
       "    <tr>\n",
       "      <th>4624</th>\n",
       "      <td>amarieb eeee nacho glasvega bad eh</td>\n",
       "      <td>0</td>\n",
       "    </tr>\n",
       "    <tr>\n",
       "      <th>4625</th>\n",
       "      <td>think go hit amp meat groceri store crazi hang...</td>\n",
       "      <td>0</td>\n",
       "    </tr>\n",
       "  </tbody>\n",
       "</table>\n",
       "</div>"
      ],
      "text/plain": [
       "                                                 tweets  label\n",
       "4621  lose anger anxieti insecur depress medit buddh...      1\n",
       "4622  anisalukman baik aja mani secret amp lie kalo ...      0\n",
       "4623  pan ghey friend lean leftist side polit medic ...      1\n",
       "4624                 amarieb eeee nacho glasvega bad eh      0\n",
       "4625  think go hit amp meat groceri store crazi hang...      0"
      ]
     },
     "execution_count": 2,
     "metadata": {},
     "output_type": "execute_result"
    }
   ],
   "source": [
    "df = pd.read_csv('../raw_data/tweets_cleaned',names=['tweets','label'],skiprows=1)\n",
    "df.tail()"
   ]
  },
  {
   "cell_type": "code",
   "execution_count": 3,
   "id": "5a1082ba",
   "metadata": {},
   "outputs": [
    {
     "data": {
      "text/plain": [
       "(4626, 2)"
      ]
     },
     "execution_count": 3,
     "metadata": {},
     "output_type": "execute_result"
    }
   ],
   "source": [
    "df.shape"
   ]
  },
  {
   "cell_type": "code",
   "execution_count": 4,
   "id": "55150984",
   "metadata": {},
   "outputs": [
    {
     "data": {
      "text/plain": [
       "1    2313\n",
       "0    2313\n",
       "Name: label, dtype: int64"
      ]
     },
     "execution_count": 4,
     "metadata": {},
     "output_type": "execute_result"
    }
   ],
   "source": [
    "df['label'].value_counts()"
   ]
  },
  {
   "cell_type": "code",
   "execution_count": 5,
   "id": "1ea9549f",
   "metadata": {},
   "outputs": [],
   "source": [
    "df = df.dropna()"
   ]
  },
  {
   "cell_type": "markdown",
   "id": "c1dae9bc",
   "metadata": {},
   "source": [
    "# Model"
   ]
  },
  {
   "cell_type": "code",
   "execution_count": 6,
   "id": "29089bb5",
   "metadata": {},
   "outputs": [],
   "source": [
    "X = df['tweets']\n",
    "y = df['label']"
   ]
  },
  {
   "cell_type": "code",
   "execution_count": 7,
   "id": "006da8f3",
   "metadata": {},
   "outputs": [
    {
     "data": {
      "text/plain": [
       "[array(['stormeranna life gener depress anxieti futur',\n",
       "        'kellyclarkson amaz much depress parent divorc music help lot music empow mayb write one inner struggl abl dri tear find someon chang life need like',\n",
       "        'sooooooo happppi pupppyy offici potti train also mom bought appl jack last night soo start day right',\n",
       "        ...,\n",
       "        'pan ghey friend lean leftist side polit medic depress showin face without makeup yall think itll',\n",
       "        'amarieb eeee nacho glasvega bad eh',\n",
       "        'think go hit amp meat groceri store crazi hangov achiev'],\n",
       "       dtype=object)]"
      ]
     },
     "execution_count": 7,
     "metadata": {},
     "output_type": "execute_result"
    }
   ],
   "source": [
    "[X.values]"
   ]
  },
  {
   "cell_type": "code",
   "execution_count": 8,
   "id": "69a9aac9",
   "metadata": {},
   "outputs": [
    {
     "data": {
      "text/plain": [
       "'fri happi food tweet sg'"
      ]
     },
     "execution_count": 8,
     "metadata": {},
     "output_type": "execute_result"
    }
   ],
   "source": [
    "X.values[3800]"
   ]
  },
  {
   "cell_type": "code",
   "execution_count": 9,
   "id": "cd0fed2e",
   "metadata": {},
   "outputs": [
    {
     "data": {
      "text/plain": [
       "0"
      ]
     },
     "execution_count": 9,
     "metadata": {},
     "output_type": "execute_result"
    }
   ],
   "source": [
    "X.isnull().sum()"
   ]
  },
  {
   "cell_type": "code",
   "execution_count": 10,
   "id": "b94fb04d",
   "metadata": {
    "scrolled": true
   },
   "outputs": [
    {
     "data": {
      "text/plain": [
       "Pipeline(memory=None,\n",
       "         steps=[('tfidf',\n",
       "                 TfidfVectorizer(analyzer='word', binary=False,\n",
       "                                 decode_error='strict',\n",
       "                                 dtype=<class 'numpy.float64'>,\n",
       "                                 encoding='utf-8', input='content',\n",
       "                                 lowercase=True, max_df=0.8, max_features=None,\n",
       "                                 min_df=1, ngram_range=(1, 2), norm='l2',\n",
       "                                 preprocessor=None, smooth_idf=True,\n",
       "                                 stop_words=None, strip_accents=None,\n",
       "                                 sublinear_tf=False,\n",
       "                                 token_pattern='(?u)\\\\b\\\\w\\\\w+\\\\b',\n",
       "                                 tokenizer=None, use_idf=True,\n",
       "                                 vocabulary=None)),\n",
       "                ('nb',\n",
       "                 MultinomialNB(alpha=1.0, class_prior=None, fit_prior=True))],\n",
       "         verbose=False)"
      ]
     },
     "execution_count": 10,
     "metadata": {},
     "output_type": "execute_result"
    }
   ],
   "source": [
    "from sklearn.feature_extraction.text import CountVectorizer\n",
    "from sklearn.feature_extraction.text import TfidfVectorizer\n",
    "from sklearn.naive_bayes import MultinomialNB\n",
    "from sklearn.pipeline import Pipeline\n",
    "from sklearn.model_selection import cross_val_score\n",
    "\n",
    "# Create Pipeline\n",
    "pipeline = Pipeline([\n",
    "    ('tfidf', TfidfVectorizer(max_df = 0.8, ngram_range=(1, 2))),\n",
    "    ('nb', MultinomialNB(alpha=1.0)),\n",
    "])\n",
    "\n",
    "pipeline"
   ]
  },
  {
   "cell_type": "code",
   "execution_count": 11,
   "id": "dd8aeb37",
   "metadata": {},
   "outputs": [
    {
     "data": {
      "text/plain": [
       "0            stormeranna life gener depress anxieti futur\n",
       "1       kellyclarkson amaz much depress parent divorc ...\n",
       "2       sooooooo happppi pupppyy offici potti train al...\n",
       "3       today girl two month day feel like way fuckin ...\n",
       "4       one mini poem helenswritingmentalhealthdepress...\n",
       "                              ...                        \n",
       "4621    lose anger anxieti insecur depress medit buddh...\n",
       "4622    anisalukman baik aja mani secret amp lie kalo ...\n",
       "4623    pan ghey friend lean leftist side polit medic ...\n",
       "4624                   amarieb eeee nacho glasvega bad eh\n",
       "4625    think go hit amp meat groceri store crazi hang...\n",
       "Name: tweets, Length: 4618, dtype: object"
      ]
     },
     "execution_count": 11,
     "metadata": {},
     "output_type": "execute_result"
    }
   ],
   "source": [
    "X"
   ]
  },
  {
   "cell_type": "code",
   "execution_count": 12,
   "id": "e4a2c399",
   "metadata": {},
   "outputs": [
    {
     "data": {
      "text/plain": [
       "0.9167059795764129"
      ]
     },
     "execution_count": 12,
     "metadata": {},
     "output_type": "execute_result"
    }
   ],
   "source": [
    "cross_val_score(estimator=pipeline,\n",
    "               X=X,\n",
    "               y=y,\n",
    "               scoring='f1',\n",
    "               cv=5,\n",
    "               n_jobs=-1).mean()"
   ]
  },
  {
   "cell_type": "markdown",
   "id": "246ae54c",
   "metadata": {},
   "source": [
    "## Model Parameters"
   ]
  },
  {
   "cell_type": "code",
   "execution_count": 13,
   "id": "1e26f058",
   "metadata": {},
   "outputs": [],
   "source": [
    "tfid3 = TfidfVectorizer(ngram_range=(1,2))\n",
    "nb3 = MultinomialNB(alpha = 1.0)"
   ]
  },
  {
   "cell_type": "code",
   "execution_count": 14,
   "id": "85960934",
   "metadata": {},
   "outputs": [
    {
     "data": {
      "text/plain": [
       "TfidfVectorizer(analyzer='word', binary=False, decode_error='strict',\n",
       "                dtype=<class 'numpy.float64'>, encoding='utf-8',\n",
       "                input='content', lowercase=True, max_df=1.0, max_features=None,\n",
       "                min_df=1, ngram_range=(1, 2), norm='l2', preprocessor=None,\n",
       "                smooth_idf=True, stop_words=None, strip_accents=None,\n",
       "                sublinear_tf=False, token_pattern='(?u)\\\\b\\\\w\\\\w+\\\\b',\n",
       "                tokenizer=None, use_idf=True, vocabulary=None)"
      ]
     },
     "execution_count": 14,
     "metadata": {},
     "output_type": "execute_result"
    }
   ],
   "source": [
    "tfid3.fit(X)"
   ]
  },
  {
   "cell_type": "code",
   "execution_count": 15,
   "id": "ff4fd185",
   "metadata": {},
   "outputs": [],
   "source": [
    "vector3 = tfid3.transform(X)"
   ]
  },
  {
   "cell_type": "code",
   "execution_count": 16,
   "id": "c75fd40e",
   "metadata": {},
   "outputs": [
    {
     "data": {
      "text/plain": [
       "['aa',\n",
       " 'aa poc',\n",
       " 'aaa',\n",
       " 'aaa shooter',\n",
       " 'aaaa',\n",
       " 'aaaa realli',\n",
       " 'aaaaaaaand',\n",
       " 'aaaaaaaand back',\n",
       " 'aaaaaah',\n",
       " 'aaaaaah officialquest',\n",
       " 'aaaaaand',\n",
       " 'aaaaaand depress',\n",
       " 'aaaaargh',\n",
       " 'aaaaargh also',\n",
       " 'aaaaayyyyy',\n",
       " 'aaaaayyyyy momma',\n",
       " 'aaaah',\n",
       " 'aaaah babi',\n",
       " 'aaaawwwwww',\n",
       " 'aaaawwwwww love',\n",
       " 'aaah',\n",
       " 'aaah see',\n",
       " 'aaahhhh',\n",
       " 'aaahhhh hypocrisi',\n",
       " 'aabc',\n",
       " 'aaca',\n",
       " 'aacebad',\n",
       " 'aaron',\n",
       " 'aaron dor',\n",
       " 'aaron right',\n",
       " 'aawjti',\n",
       " 'aawjti ocid',\n",
       " 'ab',\n",
       " 'ab challeng',\n",
       " 'ab gp',\n",
       " 'ab may',\n",
       " 'ab month',\n",
       " 'abandon',\n",
       " 'abandon heartbroken',\n",
       " 'abat',\n",
       " 'abat depress',\n",
       " 'abatevintag',\n",
       " 'abatevintag fleurchipbowl',\n",
       " 'abatevintag list',\n",
       " 'abbey',\n",
       " 'abbey church',\n",
       " 'abbey year',\n",
       " 'abbi',\n",
       " 'abbi bestieessss',\n",
       " 'abbrevi',\n",
       " 'abbrevi sr',\n",
       " 'abbuffata',\n",
       " 'abbuffata cab',\n",
       " 'abcacffcaeecd',\n",
       " 'abdul',\n",
       " 'abdul coolin',\n",
       " 'abdulla',\n",
       " 'abdulla shaikh',\n",
       " 'abe',\n",
       " 'abe lincoln',\n",
       " 'abeautyhealthi',\n",
       " 'abeautyhealthi www',\n",
       " 'abel',\n",
       " 'abel love',\n",
       " 'abil',\n",
       " 'abil accessal',\n",
       " 'abil manag',\n",
       " 'abil think',\n",
       " 'abl',\n",
       " 'abl acplish',\n",
       " 'abl assist',\n",
       " 'abl catch',\n",
       " 'abl dri',\n",
       " 'abl get',\n",
       " 'abl give',\n",
       " 'abl join',\n",
       " 'abl leav',\n",
       " 'abl pay',\n",
       " 'abl pull',\n",
       " 'abl run',\n",
       " 'abl see',\n",
       " 'abl skate',\n",
       " 'abl sleepdepress',\n",
       " 'abl take',\n",
       " 'abl th',\n",
       " 'abl turn',\n",
       " 'abl wear',\n",
       " 'abl without',\n",
       " 'abl work',\n",
       " 'abl write',\n",
       " 'abnorm',\n",
       " 'abnorm function',\n",
       " 'abokssignatur',\n",
       " 'abokssignatur chill',\n",
       " 'abort',\n",
       " 'abort child',\n",
       " 'abort consid',\n",
       " 'aboutdepressionfact',\n",
       " 'aboutdepressionfact wxu',\n",
       " 'abqlaura',\n",
       " 'abqlaura oh',\n",
       " 'abraham',\n",
       " 'abraham lincoln',\n",
       " 'abroad',\n",
       " 'abroad depress',\n",
       " 'absenc',\n",
       " 'absenc cedar',\n",
       " 'absolut',\n",
       " 'absolut burner',\n",
       " 'absolut garbag',\n",
       " 'absolut noth',\n",
       " 'absolut posit',\n",
       " 'absolut reason',\n",
       " 'absolut shit',\n",
       " 'absolut terribl',\n",
       " 'absolut true',\n",
       " 'absolutli',\n",
       " 'absolutli love',\n",
       " 'absorb',\n",
       " 'absorb wood',\n",
       " 'abstract',\n",
       " 'abstract utmsourc',\n",
       " 'abt',\n",
       " 'abt blk',\n",
       " 'abt depress',\n",
       " 'abt di',\n",
       " 'abt drug',\n",
       " 'abt recoveri',\n",
       " 'abt tell',\n",
       " 'abt vote',\n",
       " 'abt wan',\n",
       " 'abtoni',\n",
       " 'abtoni sunni',\n",
       " 'abund',\n",
       " 'abund junk',\n",
       " 'abus',\n",
       " 'abus alochol',\n",
       " 'abus anxieti',\n",
       " 'abus anzac',\n",
       " 'abus bulli',\n",
       " 'abus depress',\n",
       " 'abus isstd',\n",
       " 'abus low',\n",
       " 'abus old',\n",
       " 'abus rape',\n",
       " 'abus support',\n",
       " 'abus survivor',\n",
       " 'abus teenag',\n",
       " 'abus ur',\n",
       " 'ac',\n",
       " 'ac mccann',\n",
       " 'ac uk',\n",
       " 'academ',\n",
       " 'academ pressur',\n",
       " 'acb',\n",
       " 'acb aph',\n",
       " 'accent',\n",
       " 'accent right',\n",
       " 'accept',\n",
       " 'accept cuz',\n",
       " 'accept experi',\n",
       " 'accept otherwis',\n",
       " 'accept phase',\n",
       " 'accept refus',\n",
       " 'accept semi',\n",
       " 'accept stop',\n",
       " 'acceptancei',\n",
       " 'acceptancei still',\n",
       " 'access',\n",
       " 'access drug',\n",
       " 'access mental',\n",
       " 'access pt',\n",
       " 'accessal',\n",
       " 'accessal climatechang',\n",
       " 'accessori',\n",
       " 'accessori lmao',\n",
       " 'accid',\n",
       " 'accid drop',\n",
       " 'accid suffer',\n",
       " 'accident',\n",
       " 'accident made',\n",
       " 'accident see',\n",
       " 'accident took',\n",
       " 'accnam',\n",
       " 'accnam guest',\n",
       " 'accord',\n",
       " 'accord cdcp',\n",
       " 'accord new',\n",
       " 'accord someon',\n",
       " 'accordingli',\n",
       " 'accordingli weather',\n",
       " 'account',\n",
       " 'account add',\n",
       " 'account depress',\n",
       " 'account lil',\n",
       " 'account pic',\n",
       " 'account queenxxlarray',\n",
       " 'account ship',\n",
       " 'account transpar',\n",
       " 'account year',\n",
       " 'accur',\n",
       " 'accur medium',\n",
       " 'accus',\n",
       " 'accus crap',\n",
       " 'ace',\n",
       " 'ace technolog',\n",
       " 'ach',\n",
       " 'ach lol',\n",
       " 'ach sleep',\n",
       " 'acha',\n",
       " 'acha lagta',\n",
       " 'achiev',\n",
       " 'achiev dream',\n",
       " 'achiev duplic',\n",
       " 'achiev get',\n",
       " 'achiev goal',\n",
       " 'achiv',\n",
       " 'achiv goal',\n",
       " 'acim',\n",
       " 'acim choic',\n",
       " 'acknowledg',\n",
       " 'aclzpbbwf',\n",
       " 'acn',\n",
       " 'acn caus',\n",
       " 'acn cure',\n",
       " 'acn depress',\n",
       " 'acorn',\n",
       " 'acorn call',\n",
       " 'acount',\n",
       " 'acount nya',\n",
       " 'acoust',\n",
       " 'acoust track',\n",
       " 'acpani',\n",
       " 'acpani mani',\n",
       " 'acplish',\n",
       " 'acplish one',\n",
       " 'acplish sinc',\n",
       " 'acplish someth',\n",
       " 'acquir',\n",
       " 'acquir mojito',\n",
       " 'across',\n",
       " 'across happi',\n",
       " 'across land',\n",
       " 'across websit',\n",
       " 'acryl',\n",
       " 'acryl charm',\n",
       " 'act',\n",
       " 'act depress',\n",
       " 'act forsur',\n",
       " 'act injustic',\n",
       " 'act like',\n",
       " 'act next',\n",
       " 'act normal',\n",
       " 'act pre',\n",
       " 'act self',\n",
       " 'act thought',\n",
       " 'act violent',\n",
       " 'action',\n",
       " 'action attent',\n",
       " 'action gain',\n",
       " 'action know',\n",
       " 'action step',\n",
       " 'action tonight',\n",
       " 'activ',\n",
       " 'activ decreas',\n",
       " 'activ even',\n",
       " 'activ found',\n",
       " 'activ go',\n",
       " 'activ help',\n",
       " 'activ incid',\n",
       " 'activ late',\n",
       " 'activ lesser',\n",
       " 'activ lifestyl',\n",
       " 'activ moment',\n",
       " 'activ motiv',\n",
       " 'activ much',\n",
       " 'activ oomph',\n",
       " 'activ phase',\n",
       " 'activ pic',\n",
       " 'activ protect',\n",
       " 'activ recent',\n",
       " 'activ receptor',\n",
       " 'activ reject',\n",
       " 'activ robust',\n",
       " 'activ serotonin',\n",
       " 'activelinc',\n",
       " 'activelinc bikeabl',\n",
       " 'actor',\n",
       " 'actor actress',\n",
       " 'actor great',\n",
       " 'actor regret',\n",
       " 'actor symptom',\n",
       " 'actor vern',\n",
       " 'actress',\n",
       " 'actress love',\n",
       " 'actual',\n",
       " 'actual beer',\n",
       " 'actual believ',\n",
       " 'actual bestfriend',\n",
       " 'actual bipolar',\n",
       " 'actual chemic',\n",
       " 'actual cure',\n",
       " 'actual definit',\n",
       " 'actual depress',\n",
       " 'actual dreamnt',\n",
       " 'actual edit',\n",
       " 'actual everyon',\n",
       " 'actual father',\n",
       " 'actual feel',\n",
       " 'actual fight',\n",
       " 'actual german',\n",
       " 'actual good',\n",
       " 'actual happi',\n",
       " 'actual help',\n",
       " 'actual high',\n",
       " 'actual im',\n",
       " 'actual imbal',\n",
       " 'actual interact',\n",
       " 'actual kip',\n",
       " 'actual like',\n",
       " 'actual liter',\n",
       " 'actual live',\n",
       " 'actual lucki',\n",
       " 'actual made',\n",
       " 'actual make',\n",
       " 'actual mit',\n",
       " 'actual one',\n",
       " 'actual pictur',\n",
       " 'actual poor',\n",
       " 'actual quit',\n",
       " 'actual real',\n",
       " 'actual realis',\n",
       " 'actual realli',\n",
       " 'actual see',\n",
       " 'actual someth',\n",
       " 'actual start',\n",
       " 'actual struggl',\n",
       " 'actual thought',\n",
       " 'actual understand',\n",
       " 'actual vile',\n",
       " 'actual wan',\n",
       " 'actual ye',\n",
       " 'actulli',\n",
       " 'actulli fun',\n",
       " 'acut',\n",
       " 'acut depress',\n",
       " 'ad',\n",
       " 'ad air',\n",
       " 'ad designshack',\n",
       " 'ad diagnost',\n",
       " 'ad difficulti',\n",
       " 'ad hominem',\n",
       " 'ad look',\n",
       " 'ad lot',\n",
       " 'ad set',\n",
       " 'ad sidebar',\n",
       " 'ad video',\n",
       " 'ada',\n",
       " 'ada adek',\n",
       " 'adam',\n",
       " 'adam adam',\n",
       " 'adam amp',\n",
       " 'adam eve',\n",
       " 'adam rowland',\n",
       " 'adamhoward',\n",
       " 'adamhoward serious',\n",
       " 'adamkingstudio',\n",
       " 'adamkingstudio oooh',\n",
       " 'adammilo',\n",
       " 'adammilo depress',\n",
       " 'adamsilvera',\n",
       " 'adamsilvera book',\n",
       " 'adapt',\n",
       " 'add',\n",
       " 'add add',\n",
       " 'add anxieti',\n",
       " 'add can',\n",
       " 'add cours',\n",
       " 'add depress',\n",
       " 'add emoji',\n",
       " 'add everyon',\n",
       " 'add friend',\n",
       " 'add frostpunk',\n",
       " 'add mental',\n",
       " 'add pain',\n",
       " 'add pl',\n",
       " 'add plurk',\n",
       " 'add sever',\n",
       " 'add webcam',\n",
       " 'add week',\n",
       " 'addam',\n",
       " 'addam famili',\n",
       " 'adderal',\n",
       " 'addict',\n",
       " 'addict abus',\n",
       " 'addict anxieti',\n",
       " 'addict arent',\n",
       " 'addict blend',\n",
       " 'addict chronic',\n",
       " 'addict crimin',\n",
       " 'addict daili',\n",
       " 'addict depress',\n",
       " 'addict domest',\n",
       " 'addict dont',\n",
       " 'addict eat',\n",
       " 'addict game',\n",
       " 'addict good',\n",
       " 'addict hotlin',\n",
       " 'addict inspir',\n",
       " 'addict like',\n",
       " 'addict lol',\n",
       " 'addict lv',\n",
       " 'addict one',\n",
       " 'addict psychosi',\n",
       " 'addict reduc',\n",
       " 'addict select',\n",
       " 'addit',\n",
       " 'addit exercis',\n",
       " 'addit forget',\n",
       " 'addit never',\n",
       " 'addit silver',\n",
       " 'address',\n",
       " 'address abe',\n",
       " 'address bipolar',\n",
       " 'address mental',\n",
       " 'address pendem',\n",
       " 'address question',\n",
       " 'address rage',\n",
       " 'adek',\n",
       " 'adfeefb',\n",
       " 'adfeefb utmterm',\n",
       " 'adhd',\n",
       " 'adhd affect',\n",
       " 'adhd depress',\n",
       " 'adhd get',\n",
       " 'adhd horribl',\n",
       " 'adhd one',\n",
       " 'adhd parent',\n",
       " 'adhd sad',\n",
       " 'adhd stress',\n",
       " 'adjust',\n",
       " 'adjust know',\n",
       " 'adkinsk',\n",
       " 'adkinsk sheffieldpsi',\n",
       " 'adm',\n",
       " 'adm get',\n",
       " 'admin',\n",
       " 'admin may',\n",
       " 'administr',\n",
       " 'administr lead',\n",
       " 'administr still',\n",
       " 'admir',\n",
       " 'admir jackson',\n",
       " 'admir natur',\n",
       " 'admir share',\n",
       " 'admiralryn',\n",
       " 'admiralryn got',\n",
       " 'admit',\n",
       " 'admit ate',\n",
       " 'admit depress',\n",
       " 'admit fault',\n",
       " 'admit higher',\n",
       " 'admit hospit',\n",
       " 'admit other',\n",
       " 'admit patient',\n",
       " 'admit problem',\n",
       " 'admit problemy',\n",
       " 'adnankhun',\n",
       " 'adnankhun nurulnxha',\n",
       " 'adobespark',\n",
       " 'adobespark creat',\n",
       " 'adoizv',\n",
       " 'adoizv overland',\n",
       " 'adolesc',\n",
       " 'adolesc accord',\n",
       " 'adolesc depart',\n",
       " 'adolesc depress',\n",
       " 'adolesc gay',\n",
       " 'adolesc higher',\n",
       " 'adolesc make',\n",
       " 'adolesc may',\n",
       " 'adolesc solut',\n",
       " 'adolesc univers',\n",
       " 'adolesc year',\n",
       " 'adopt',\n",
       " 'adopt lgbqt',\n",
       " 'ador',\n",
       " 'ador af',\n",
       " 'ador relationship',\n",
       " 'ador stay',\n",
       " 'adragonswing',\n",
       " 'adragonswing absolut',\n",
       " 'adreanainlb',\n",
       " 'adreanainlb mairinmurphi',\n",
       " 'adresss',\n",
       " 'adresss part',\n",
       " 'adrian',\n",
       " 'adrian music',\n",
       " 'adrianvziegl',\n",
       " 'adrianvziegl hi',\n",
       " 'adriennebailon',\n",
       " 'adriennebailon immort',\n",
       " 'adrift',\n",
       " 'adrift frequent',\n",
       " 'aduc',\n",
       " 'aduc alfqrd',\n",
       " 'adul',\n",
       " 'adul demon',\n",
       " 'adult',\n",
       " 'adult addit',\n",
       " 'adult autism',\n",
       " 'adult depress',\n",
       " 'adult diagnosi',\n",
       " 'adult happi',\n",
       " 'adult ic',\n",
       " 'adult interact',\n",
       " 'adult life',\n",
       " 'adult men',\n",
       " 'adult nesdo',\n",
       " 'adult teacher',\n",
       " 'advanc',\n",
       " 'advanc swear',\n",
       " 'advantag',\n",
       " 'advantag exercisework',\n",
       " 'advantag peopl',\n",
       " 'adventur',\n",
       " 'adventur amp',\n",
       " 'adventur vodka',\n",
       " 'adventurefarm',\n",
       " 'adventurefarm pleasur',\n",
       " 'adventuretravel',\n",
       " 'adventuretravel travel',\n",
       " 'advers',\n",
       " 'advers ld',\n",
       " 'advers like',\n",
       " 'advertis',\n",
       " 'advertis chase',\n",
       " 'advertis promot',\n",
       " 'advic',\n",
       " 'advic hrer',\n",
       " 'advic know',\n",
       " 'advic offer',\n",
       " 'advic relaps',\n",
       " 'advic suffer',\n",
       " 'advisor',\n",
       " 'advisor depress',\n",
       " 'advisor one',\n",
       " 'advisori',\n",
       " 'advisori tonight',\n",
       " 'advoc',\n",
       " 'advoc caus',\n",
       " 'advoc pic',\n",
       " 'adweek',\n",
       " 'adweek friend',\n",
       " 'adweek pic',\n",
       " 'adweek qyr',\n",
       " 'aecpa',\n",
       " 'aecpa adreanainlb',\n",
       " 'aemtrtvp',\n",
       " 'aeoth',\n",
       " 'aeoth heheh',\n",
       " 'aeproduc',\n",
       " 'aeproduc ja',\n",
       " 'aerob',\n",
       " 'aerob strengthen',\n",
       " 'aesthet',\n",
       " 'aesthet depress',\n",
       " 'aeusmcgirl',\n",
       " 'aeusmcgirl thank',\n",
       " 'af',\n",
       " 'af depress',\n",
       " 'af though',\n",
       " 'af twice',\n",
       " 'af via',\n",
       " 'affect',\n",
       " 'affect abil',\n",
       " 'affect anxieti',\n",
       " 'affect anyon',\n",
       " 'affect belief',\n",
       " 'affect ch',\n",
       " 'affect could',\n",
       " 'affect depress',\n",
       " 'affect disord',\n",
       " 'affect health',\n",
       " 'affect level',\n",
       " 'affect million',\n",
       " 'affect oughtibridg',\n",
       " 'affect peopl',\n",
       " 'affect person',\n",
       " 'affect product',\n",
       " 'affect sever',\n",
       " 'affect sleep',\n",
       " 'affect write',\n",
       " 'affirm',\n",
       " 'affirm big',\n",
       " 'affirm feelgoodart',\n",
       " 'affirm video',\n",
       " 'afford',\n",
       " 'afford bu',\n",
       " 'afford cure',\n",
       " 'afford fuck',\n",
       " 'afford peopl',\n",
       " 'afford time',\n",
       " 'afloat',\n",
       " 'afraid',\n",
       " 'afraid admit',\n",
       " 'afraid make',\n",
       " 'afraid part',\n",
       " 'afraid seem',\n",
       " 'afraid sit',\n",
       " 'afraid tri',\n",
       " 'afraid would',\n",
       " 'africa',\n",
       " 'africa billion',\n",
       " 'africa present',\n",
       " 'africa tech',\n",
       " 'african',\n",
       " 'african american',\n",
       " 'african suffer',\n",
       " 'afsfh',\n",
       " 'afsfh statu',\n",
       " 'afsfh stress',\n",
       " 'aft',\n",
       " 'afta',\n",
       " 'afta nice',\n",
       " 'afternoon',\n",
       " 'afternoon delici',\n",
       " 'afternoon get',\n",
       " 'afternoon got',\n",
       " 'afternoon id',\n",
       " 'afternoon sup',\n",
       " 'afternoon whilst',\n",
       " 'aftr',\n",
       " 'aftr night',\n",
       " 'ag',\n",
       " 'againtoday',\n",
       " 'againtoday thank',\n",
       " 'agajikxz',\n",
       " 'agajikxz pic',\n",
       " 'age',\n",
       " 'age depress',\n",
       " 'age fight',\n",
       " 'age gender',\n",
       " 'age geograph',\n",
       " 'age good',\n",
       " 'age join',\n",
       " 'age make',\n",
       " 'age peopl',\n",
       " 'age process',\n",
       " 'age rais',\n",
       " 'age research',\n",
       " 'age srsli',\n",
       " 'age wealth',\n",
       " 'age wrinkl',\n",
       " 'age yoga',\n",
       " 'agebettersheffield',\n",
       " 'agebettersheffield www',\n",
       " 'agenc',\n",
       " 'agenc want',\n",
       " 'agenciaajn',\n",
       " 'agenciaajn noticia',\n",
       " 'aggress',\n",
       " 'aggress argument',\n",
       " 'aggress behavior',\n",
       " 'aggress medic',\n",
       " 'aggress never',\n",
       " 'agit',\n",
       " 'agit nervous',\n",
       " 'agnosticquest',\n",
       " 'agnosticquest onfiremiss',\n",
       " 'ago',\n",
       " 'ago argument',\n",
       " 'ago destroy',\n",
       " 'ago excus',\n",
       " 'ago experienc',\n",
       " 'ago gladli',\n",
       " 'ago go',\n",
       " 'ago happen',\n",
       " 'ago happi',\n",
       " 'ago hope',\n",
       " 'ago live',\n",
       " 'ago meme',\n",
       " 'ago never',\n",
       " 'ago scratch',\n",
       " 'ago speak',\n",
       " 'ago steve',\n",
       " 'ago took',\n",
       " 'agoni',\n",
       " 'agoraphobiadepressionptsdanxietysicknotweaki',\n",
       " 'agoraphobiadepressionptsdanxietysicknotweaki coupl',\n",
       " 'agre',\n",
       " 'agre bulli',\n",
       " 'agre disagre',\n",
       " 'agre emoji',\n",
       " 'agre luna',\n",
       " 'agre opinion',\n",
       " 'agre sing',\n",
       " 'agreement',\n",
       " 'agreement collect',\n",
       " 'agynaathavaasi',\n",
       " 'agynaathavaasi core',\n",
       " 'ah',\n",
       " 'ah awak',\n",
       " 'ah bad',\n",
       " 'ah belov',\n",
       " 'ah cheer',\n",
       " 'ah chembur',\n",
       " 'ah dream',\n",
       " 'ah favorit',\n",
       " 'ah feel',\n",
       " 'ah look',\n",
       " 'ah never',\n",
       " 'ah vision',\n",
       " 'ah whoo',\n",
       " 'ah work',\n",
       " 'ah ye',\n",
       " 'aha',\n",
       " 'aha surviv',\n",
       " 'ahahahaakk',\n",
       " 'ahahahaakk know',\n",
       " 'aham',\n",
       " 'aham shay',\n",
       " 'ahead',\n",
       " 'ahead admit',\n",
       " 'ahead curv',\n",
       " 'ahead dark',\n",
       " 'ahead studio',\n",
       " 'ahead ur',\n",
       " 'aherman',\n",
       " 'aherman depress',\n",
       " 'ahh',\n",
       " 'ahh feel',\n",
       " 'ahh final',\n",
       " 'ahh hope',\n",
       " 'ahhh',\n",
       " 'ahhh let',\n",
       " 'ahhh long',\n",
       " 'ahhh love',\n",
       " 'ahhh uni',\n",
       " 'ahhhh',\n",
       " 'ahhhh daluckym',\n",
       " 'ahhhh stoke',\n",
       " 'ahhhh walk',\n",
       " 'ahhhhh',\n",
       " 'ahhhhh everyth',\n",
       " 'ahja',\n",
       " 'ahja lieb',\n",
       " 'ahmedaniy',\n",
       " 'ahmedaniy toddtrott',\n",
       " 'ahmnoher',\n",
       " 'ahmnoher lol',\n",
       " 'ahold',\n",
       " 'ahold take',\n",
       " 'ahoy',\n",
       " 'ahukewirjnbedtaahvgkgmkhubxqauieygd',\n",
       " 'ahukewirjnbedtaahvgkgmkhubxqauieygd biw',\n",
       " 'ai',\n",
       " 'ai ffyu',\n",
       " 'aid',\n",
       " 'aid content',\n",
       " 'aid ye',\n",
       " 'aidean',\n",
       " 'aidean cuti',\n",
       " 'aightindiaaaaaa',\n",
       " 'aightindiaaaaaa give',\n",
       " 'aiinb',\n",
       " 'aikenstandard',\n",
       " 'aikenstandard lifestyl',\n",
       " 'aim',\n",
       " 'aim anyon',\n",
       " 'aim help',\n",
       " 'aim reduc',\n",
       " 'aint',\n",
       " 'aint fast',\n",
       " 'aint hurt',\n",
       " 'aint miss',\n",
       " 'aint never',\n",
       " 'aint noth',\n",
       " 'aint what',\n",
       " 'ainz',\n",
       " 'ainz love',\n",
       " 'air',\n",
       " 'air die',\n",
       " 'air guitar',\n",
       " 'air week',\n",
       " 'aircheck',\n",
       " 'aircheck live',\n",
       " 'aircon',\n",
       " 'aircon car',\n",
       " 'airplan',\n",
       " 'airplan departur',\n",
       " 'airplan depress',\n",
       " 'airplan earli',\n",
       " 'airplan intens',\n",
       " 'airport',\n",
       " 'airtim',\n",
       " 'airtim pro',\n",
       " 'aish',\n",
       " 'aish achiev',\n",
       " 'aish fan',\n",
       " 'ait',\n",
       " 'aiyerchitra',\n",
       " 'aiyerchitra rohitsabu',\n",
       " 'aja',\n",
       " 'aja mani',\n",
       " 'ajackielarsen',\n",
       " 'ajackielarsen greatdaneuj',\n",
       " 'ajackielarsen idk',\n",
       " 'ajackielarsen nemosanartist',\n",
       " 'ajackielarsen statu',\n",
       " 'ajaxthepixi',\n",
       " 'ajaxthepixi yay',\n",
       " 'ajbrzski',\n",
       " 'ajbrzski angrierthanmost',\n",
       " 'ajhi',\n",
       " 'ajhi urekyewflst',\n",
       " 'ajit',\n",
       " 'ajit intrigu',\n",
       " 'ajod',\n",
       " 'ajod gorgeou',\n",
       " 'ajp',\n",
       " 'ajp doi',\n",
       " 'ajp exercisework',\n",
       " 'ajp includ',\n",
       " 'ajp platform',\n",
       " 'ajp psychiatryonlin',\n",
       " 'ajsgmajc',\n",
       " 'ajsgmajc donnawithrow',\n",
       " 'aka',\n",
       " 'aka conciqu',\n",
       " 'aka democrat',\n",
       " 'aka depress',\n",
       " 'akcounsellor',\n",
       " 'akcounsellor know',\n",
       " 'akfryoo',\n",
       " 'akmattb',\n",
       " 'akmattb other',\n",
       " 'ako',\n",
       " 'ako ng',\n",
       " 'ako within',\n",
       " 'akon',\n",
       " 'akon amp',\n",
       " 'akoomatsu',\n",
       " 'akoomatsu statu',\n",
       " 'akp',\n",
       " 'akp turkey',\n",
       " 'akpeach',\n",
       " 'akpeach love',\n",
       " 'akphotoman',\n",
       " 'akphotoman akmattb',\n",
       " 'akumaneko',\n",
       " 'akumaneko go',\n",
       " 'al',\n",
       " 'al dent',\n",
       " 'ala',\n",
       " 'ala depress',\n",
       " 'alan',\n",
       " 'alan like',\n",
       " 'alan tate',\n",
       " 'alancostello',\n",
       " 'alancostello game',\n",
       " 'alani',\n",
       " 'alani hope',\n",
       " 'alarm',\n",
       " 'alarm eh',\n",
       " 'alarm rise',\n",
       " 'alaska',\n",
       " 'alaska mitchkitt',\n",
       " 'alaska think',\n",
       " 'albani',\n",
       " 'albani go',\n",
       " 'albino',\n",
       " 'albino alig',\n",
       " 'albino structur',\n",
       " 'album',\n",
       " 'album artist',\n",
       " 'album bateman',\n",
       " 'album concern',\n",
       " 'album forgotten',\n",
       " 'album like',\n",
       " 'album listen',\n",
       " 'album lt',\n",
       " 'album mania',\n",
       " 'album ping',\n",
       " 'album pleas',\n",
       " 'album pray',\n",
       " 'album sterl',\n",
       " 'alcohol',\n",
       " 'alcohol abus',\n",
       " 'alcohol addict',\n",
       " 'alcohol cocain',\n",
       " 'alcohol cross',\n",
       " 'alcohol drug',\n",
       " 'alcohol easi',\n",
       " 'alcohol hour',\n",
       " 'alcohol lip',\n",
       " 'alcohol marijuana',\n",
       " 'alcohol mine',\n",
       " 'alcohol never',\n",
       " 'alcohol poison',\n",
       " 'alcohol potenti',\n",
       " 'alcohol ur',\n",
       " 'aldridtl',\n",
       " 'aldridtl thank',\n",
       " 'alert',\n",
       " 'alert activ',\n",
       " 'alert suddenli',\n",
       " 'alert world',\n",
       " 'alex',\n",
       " 'alex hook',\n",
       " 'alex in',\n",
       " 'alex love',\n",
       " 'alexa',\n",
       " 'alexa ask',\n",
       " 'alexalltim',\n",
       " 'alexalltim ask',\n",
       " 'alexalltimelow',\n",
       " 'alexalltimelow hello',\n",
       " 'alexandramus',\n",
       " 'alexandramus diveristi',\n",
       " 'alexbwel',\n",
       " 'alexbwel would',\n",
       " 'alexderossi',\n",
       " 'alexderossi realli',\n",
       " 'alexi',\n",
       " 'alexi mom',\n",
       " 'alexisonfir',\n",
       " 'alexisonfir time',\n",
       " 'alfqrd',\n",
       " 'algarv',\n",
       " 'algarv gt',\n",
       " 'ali',\n",
       " 'ali open',\n",
       " 'alia',\n",
       " 'alia begin',\n",
       " 'alibabaotu',\n",
       " 'alibabaotu lololol',\n",
       " 'alic',\n",
       " 'alic ever',\n",
       " 'alien',\n",
       " 'alien world',\n",
       " 'alig',\n",
       " 'alik',\n",
       " 'alisawoodard',\n",
       " 'alisawoodard swantowski',\n",
       " 'alison',\n",
       " 'alison alrit',\n",
       " 'aliv',\n",
       " 'aliv care',\n",
       " 'aliv da',\n",
       " 'aliv emoji',\n",
       " 'aliv life',\n",
       " 'aliv matthaig',\n",
       " 'aliv pic',\n",
       " 'aliv wick',\n",
       " 'alkerm',\n",
       " 'alkerm depress',\n",
       " 'allah',\n",
       " 'allay',\n",
       " 'allay depress',\n",
       " 'allay malais',\n",
       " 'allen',\n",
       " 'allen got',\n",
       " 'allergi',\n",
       " 'allergi depress',\n",
       " 'allergi leav',\n",
       " 'allergi mental',\n",
       " 'allevi',\n",
       " 'allevi anxieti',\n",
       " 'allevi depress',\n",
       " 'allevi problem',\n",
       " 'allevin',\n",
       " 'allevin sadli',\n",
       " 'alli',\n",
       " 'alli depress',\n",
       " 'alll',\n",
       " 'alll day',\n",
       " 'alllll',\n",
       " 'alllll depress',\n",
       " 'allow',\n",
       " 'allow catch',\n",
       " 'allow depress',\n",
       " 'allow euthanasia',\n",
       " 'allow feel',\n",
       " 'allow nurs',\n",
       " 'allow see',\n",
       " 'allow wallow',\n",
       " 'allow win',\n",
       " 'allthesedoubt',\n",
       " 'allthesedoubt interest',\n",
       " 'alluresha',\n",
       " 'alluresha statu',\n",
       " 'allynisprettydamncrazi',\n",
       " 'allynisprettydamncrazi kbacktosleepnow',\n",
       " 'allysarmydoc',\n",
       " 'allysarmydoc can',\n",
       " 'almost',\n",
       " 'almost alway',\n",
       " 'almost anyth',\n",
       " 'almost bee',\n",
       " ...]"
      ]
     },
     "execution_count": 16,
     "metadata": {},
     "output_type": "execute_result"
    }
   ],
   "source": [
    "tfid3.get_feature_names()"
   ]
  },
  {
   "cell_type": "code",
   "execution_count": 17,
   "id": "65f9f4a7",
   "metadata": {},
   "outputs": [
    {
     "data": {
      "text/plain": [
       "MultinomialNB(alpha=1.0, class_prior=None, fit_prior=True)"
      ]
     },
     "execution_count": 17,
     "metadata": {},
     "output_type": "execute_result"
    }
   ],
   "source": [
    "nb3.fit(vector3, y)"
   ]
  },
  {
   "cell_type": "code",
   "execution_count": 18,
   "id": "cd140975",
   "metadata": {},
   "outputs": [
    {
     "data": {
      "text/plain": [
       "array([[-10.83882374, -10.83237508, -10.8227035 , ..., -10.86929887,\n",
       "        -10.79040235, -10.79040235]])"
      ]
     },
     "execution_count": 18,
     "metadata": {},
     "output_type": "execute_result"
    }
   ],
   "source": [
    "nb3.coef_"
   ]
  },
  {
   "cell_type": "code",
   "execution_count": 19,
   "id": "d35bd77d",
   "metadata": {},
   "outputs": [],
   "source": [
    "coefs = pd.Series(nb3.coef_[0], index = tfid3.get_feature_names())"
   ]
  },
  {
   "cell_type": "code",
   "execution_count": 20,
   "id": "71ab1bba",
   "metadata": {},
   "outputs": [
    {
     "data": {
      "text/plain": [
       "lol know        -10.981609\n",
       "phlippin        -10.981609\n",
       "phlippin love   -10.981609\n",
       "flavor quot     -10.981609\n",
       "flavor          -10.981609\n",
       "                   ...    \n",
       "face             -7.848994\n",
       "pic              -7.618340\n",
       "emoji            -7.511419\n",
       "anxieti          -7.323297\n",
       "depress          -6.074262\n",
       "Length: 47971, dtype: float64"
      ]
     },
     "execution_count": 20,
     "metadata": {},
     "output_type": "execute_result"
    }
   ],
   "source": [
    "coefs.sort_values()"
   ]
  },
  {
   "cell_type": "markdown",
   "id": "f20c0dd0",
   "metadata": {},
   "source": [
    "# Train the model including Reddit posts"
   ]
  },
  {
   "cell_type": "markdown",
   "id": "0a85c725",
   "metadata": {},
   "source": [
    "## Import data"
   ]
  },
  {
   "cell_type": "code",
   "execution_count": 28,
   "id": "6de6b0cf",
   "metadata": {
    "scrolled": true
   },
   "outputs": [
    {
     "data": {
      "text/plain": [
       "text     10\n",
       "label     0\n",
       "dtype: int64"
      ]
     },
     "execution_count": 28,
     "metadata": {},
     "output_type": "execute_result"
    }
   ],
   "source": [
    "df = pd.read_csv('../raw_data/twitter_reddit_text.csv',names=['text','label'],skiprows=1)\n",
    "df.isnull().sum()"
   ]
  },
  {
   "cell_type": "code",
   "execution_count": 29,
   "id": "a48ee287",
   "metadata": {},
   "outputs": [],
   "source": [
    "df = df.dropna()"
   ]
  },
  {
   "cell_type": "code",
   "execution_count": 130,
   "id": "c6f93835",
   "metadata": {},
   "outputs": [
    {
     "data": {
      "text/plain": [
       "1    12679\n",
       "0    12679\n",
       "Name: label, dtype: int64"
      ]
     },
     "execution_count": 130,
     "metadata": {},
     "output_type": "execute_result"
    }
   ],
   "source": [
    "df['label'].value_counts()"
   ]
  },
  {
   "cell_type": "markdown",
   "id": "4f734fe4",
   "metadata": {},
   "source": [
    "## Holdout Method"
   ]
  },
  {
   "cell_type": "code",
   "execution_count": 137,
   "id": "10996cca",
   "metadata": {},
   "outputs": [],
   "source": [
    "from sklearn.model_selection import train_test_split\n",
    "\n",
    "X = df['text'].values\n",
    "y= df['label'].values\n",
    "\n",
    "X_train, X_test, y_train, y_test = train_test_split(X,y,test_size=0.3)"
   ]
  },
  {
   "cell_type": "markdown",
   "id": "fc2a9b79",
   "metadata": {},
   "source": [
    "## Model"
   ]
  },
  {
   "cell_type": "code",
   "execution_count": 37,
   "id": "e6c2af54",
   "metadata": {},
   "outputs": [
    {
     "data": {
      "text/plain": [
       "0.8755270587177378"
      ]
     },
     "execution_count": 37,
     "metadata": {},
     "output_type": "execute_result"
    }
   ],
   "source": [
    "cross_val_score(estimator=pipeline,\n",
    "               X=X_train,\n",
    "               y=y_train,\n",
    "               scoring='f1',\n",
    "               cv=5,\n",
    "               n_jobs=-1).mean()"
   ]
  },
  {
   "cell_type": "markdown",
   "id": "74c1091c",
   "metadata": {},
   "source": [
    "## Grid Search"
   ]
  },
  {
   "cell_type": "code",
   "execution_count": 38,
   "id": "a76fff44",
   "metadata": {},
   "outputs": [
    {
     "data": {
      "text/plain": [
       "{'memory': None,\n",
       " 'steps': [('tfidf',\n",
       "   TfidfVectorizer(analyzer='word', binary=False, decode_error='strict',\n",
       "                   dtype=<class 'numpy.float64'>, encoding='utf-8',\n",
       "                   input='content', lowercase=True, max_df=1.0, max_features=None,\n",
       "                   min_df=1, ngram_range=(1, 1), norm='l2', preprocessor=None,\n",
       "                   smooth_idf=True, stop_words=None, strip_accents=None,\n",
       "                   sublinear_tf=False, token_pattern='(?u)\\\\b\\\\w\\\\w+\\\\b',\n",
       "                   tokenizer=None, use_idf=True, vocabulary=None)),\n",
       "  ('nb', MultinomialNB(alpha=1.0, class_prior=None, fit_prior=True))],\n",
       " 'verbose': False,\n",
       " 'tfidf': TfidfVectorizer(analyzer='word', binary=False, decode_error='strict',\n",
       "                 dtype=<class 'numpy.float64'>, encoding='utf-8',\n",
       "                 input='content', lowercase=True, max_df=1.0, max_features=None,\n",
       "                 min_df=1, ngram_range=(1, 1), norm='l2', preprocessor=None,\n",
       "                 smooth_idf=True, stop_words=None, strip_accents=None,\n",
       "                 sublinear_tf=False, token_pattern='(?u)\\\\b\\\\w\\\\w+\\\\b',\n",
       "                 tokenizer=None, use_idf=True, vocabulary=None),\n",
       " 'nb': MultinomialNB(alpha=1.0, class_prior=None, fit_prior=True),\n",
       " 'tfidf__analyzer': 'word',\n",
       " 'tfidf__binary': False,\n",
       " 'tfidf__decode_error': 'strict',\n",
       " 'tfidf__dtype': numpy.float64,\n",
       " 'tfidf__encoding': 'utf-8',\n",
       " 'tfidf__input': 'content',\n",
       " 'tfidf__lowercase': True,\n",
       " 'tfidf__max_df': 1.0,\n",
       " 'tfidf__max_features': None,\n",
       " 'tfidf__min_df': 1,\n",
       " 'tfidf__ngram_range': (1, 1),\n",
       " 'tfidf__norm': 'l2',\n",
       " 'tfidf__preprocessor': None,\n",
       " 'tfidf__smooth_idf': True,\n",
       " 'tfidf__stop_words': None,\n",
       " 'tfidf__strip_accents': None,\n",
       " 'tfidf__sublinear_tf': False,\n",
       " 'tfidf__token_pattern': '(?u)\\\\b\\\\w\\\\w+\\\\b',\n",
       " 'tfidf__tokenizer': None,\n",
       " 'tfidf__use_idf': True,\n",
       " 'tfidf__vocabulary': None,\n",
       " 'nb__alpha': 1.0,\n",
       " 'nb__class_prior': None,\n",
       " 'nb__fit_prior': True}"
      ]
     },
     "execution_count": 38,
     "metadata": {},
     "output_type": "execute_result"
    }
   ],
   "source": [
    "from sklearn.model_selection import GridSearchCV\n",
    "\n",
    "pipeline.get_params()"
   ]
  },
  {
   "cell_type": "code",
   "execution_count": 66,
   "id": "d5afdd96",
   "metadata": {},
   "outputs": [
    {
     "data": {
      "text/plain": [
       "GridSearchCV(cv=None, error_score=nan,\n",
       "             estimator=Pipeline(memory=None,\n",
       "                                steps=[('tfidf',\n",
       "                                        TfidfVectorizer(analyzer='word',\n",
       "                                                        binary=False,\n",
       "                                                        decode_error='strict',\n",
       "                                                        dtype=<class 'numpy.float64'>,\n",
       "                                                        encoding='utf-8',\n",
       "                                                        input='content',\n",
       "                                                        lowercase=True,\n",
       "                                                        max_df=1.0,\n",
       "                                                        max_features=None,\n",
       "                                                        min_df=1,\n",
       "                                                        ngram_range=(1, 1),\n",
       "                                                        norm='l2',\n",
       "                                                        preprocessor=None,\n",
       "                                                        smooth_idf=True,\n",
       "                                                        stop_words=None,\n",
       "                                                        strip_...\n",
       "                                                        use_idf=True,\n",
       "                                                        vocabulary=None)),\n",
       "                                       ('nb',\n",
       "                                        MultinomialNB(alpha=1.0,\n",
       "                                                      class_prior=None,\n",
       "                                                      fit_prior=True))],\n",
       "                                verbose=False),\n",
       "             iid='deprecated', n_jobs=-1,\n",
       "             param_grid={'tfidf__max_df': [0.7, 0.8, 0.9, 1.0],\n",
       "                         'tfidf__max_features': [None, 10, 100, 1000, 5000],\n",
       "                         'tfidf__ngram_range': [(1, 1), (1, 2), (2, 2)]},\n",
       "             pre_dispatch='2*n_jobs', refit=True, return_train_score=False,\n",
       "             scoring='f1', verbose=0)"
      ]
     },
     "execution_count": 66,
     "metadata": {},
     "output_type": "execute_result"
    }
   ],
   "source": [
    "params = {\n",
    "    'tfidf__max_df': [0.7,0.8,0.9,1.0],\n",
    "    'tfidf__max_features': [None,10,100,1000,5000],\n",
    "    'tfidf__ngram_range': [(1,1),(1,2),(2,2)]\n",
    "}\n",
    "\n",
    "search = GridSearchCV(estimator=pipeline,\n",
    "                     n_jobs=-1,\n",
    "                     scoring='f1',\n",
    "                     param_grid=params)\n",
    "\n",
    "search.fit(X_train,y_train)"
   ]
  },
  {
   "cell_type": "code",
   "execution_count": 67,
   "id": "226a1012",
   "metadata": {},
   "outputs": [
    {
     "data": {
      "text/plain": [
       "{'tfidf__max_df': 0.7,\n",
       " 'tfidf__max_features': 5000,\n",
       " 'tfidf__ngram_range': (1, 2)}"
      ]
     },
     "execution_count": 67,
     "metadata": {},
     "output_type": "execute_result"
    }
   ],
   "source": [
    "search.best_params_"
   ]
  },
  {
   "cell_type": "code",
   "execution_count": 68,
   "id": "eb682718",
   "metadata": {},
   "outputs": [
    {
     "data": {
      "text/plain": [
       "0.9334691107627991"
      ]
     },
     "execution_count": 68,
     "metadata": {},
     "output_type": "execute_result"
    }
   ],
   "source": [
    "search.best_score_"
   ]
  },
  {
   "cell_type": "code",
   "execution_count": 69,
   "id": "76a00fe0",
   "metadata": {},
   "outputs": [],
   "source": [
    "best_model = search.best_estimator_"
   ]
  },
  {
   "cell_type": "code",
   "execution_count": 80,
   "id": "bd6f9a09",
   "metadata": {},
   "outputs": [
    {
     "data": {
      "text/plain": [
       "0.9449014084507042"
      ]
     },
     "execution_count": 80,
     "metadata": {},
     "output_type": "execute_result"
    }
   ],
   "source": [
    "best_model.score(X_train,y_train)"
   ]
  },
  {
   "cell_type": "code",
   "execution_count": 70,
   "id": "e3d6e83b",
   "metadata": {},
   "outputs": [],
   "source": [
    "y_pred = best_model.predict(X_test)"
   ]
  },
  {
   "cell_type": "code",
   "execution_count": 71,
   "id": "3542bc6b",
   "metadata": {},
   "outputs": [
    {
     "data": {
      "text/plain": [
       "0.9343287359230672"
      ]
     },
     "execution_count": 71,
     "metadata": {},
     "output_type": "execute_result"
    }
   ],
   "source": [
    "from sklearn.metrics import f1_score\n",
    "from sklearn.metrics import roc_auc_score\n",
    "\n",
    "f1_score(y_test,y_pred)"
   ]
  },
  {
   "cell_type": "code",
   "execution_count": 72,
   "id": "f4f6943b",
   "metadata": {},
   "outputs": [
    {
     "data": {
      "text/plain": [
       "0.931619716032213"
      ]
     },
     "execution_count": 72,
     "metadata": {},
     "output_type": "execute_result"
    }
   ],
   "source": [
    "roc_auc_score(y_test,y_pred)"
   ]
  },
  {
   "cell_type": "markdown",
   "id": "135b90eb",
   "metadata": {},
   "source": [
    "## Model parameters"
   ]
  },
  {
   "cell_type": "code",
   "execution_count": 113,
   "id": "c2482d55",
   "metadata": {},
   "outputs": [
    {
     "data": {
      "text/plain": [
       "feel        -4.980915\n",
       "depress     -5.009774\n",
       "like        -5.227683\n",
       "want        -5.333743\n",
       "life        -5.548030\n",
       "get         -5.556344\n",
       "know        -5.612004\n",
       "go          -5.631488\n",
       "can         -5.728632\n",
       "not         -5.729611\n",
       "can not     -5.729937\n",
       "time        -5.831193\n",
       "even        -5.834412\n",
       "feel like   -5.840599\n",
       "peopl       -5.847394\n",
       "thing       -5.924690\n",
       "day         -5.938678\n",
       "realli      -5.943600\n",
       "would       -5.957292\n",
       "think       -5.963733\n",
       "tri         -5.968485\n",
       "friend      -5.978202\n",
       "help        -5.979301\n",
       "year        -5.980429\n",
       "make        -6.004084\n",
       "one         -6.033744\n",
       "fuck        -6.089638\n",
       "work        -6.122084\n",
       "never       -6.200036\n",
       "much        -6.232740\n",
       "dtype: float64"
      ]
     },
     "execution_count": 113,
     "metadata": {},
     "output_type": "execute_result"
    }
   ],
   "source": [
    "tfid3 = TfidfVectorizer(ngram_range=(1,2), max_features=10000, max_df=0.7)\n",
    "nb3 = MultinomialNB()\n",
    "\n",
    "tfid3.fit(X_train)\n",
    "\n",
    "vector3 = tfid3.transform(X_train)\n",
    "\n",
    "nb3.fit(vector3, y_train)\n",
    "\n",
    "coefs = pd.Series(nb3.coef_[0], index = tfid3.get_feature_names())\n",
    "\n",
    "coefs.sort_values(ascending=False).head(30)"
   ]
  },
  {
   "cell_type": "code",
   "execution_count": 115,
   "id": "4447fa72",
   "metadata": {},
   "outputs": [
    {
     "name": "stdout",
     "output_type": "stream",
     "text": [
      "Recall: 0.9659863945578231\n",
      "Precision: 0.9046802254349424\n"
     ]
    }
   ],
   "source": [
    "from sklearn.metrics import recall_score\n",
    "from sklearn.metrics import precision_score\n",
    "\n",
    "vector4 = tfid3.transform(X_test)\n",
    "\n",
    "y_pred = best_model.predict(X_test)\n",
    "\n",
    "recall = recall_score(y_test,y_pred)\n",
    "precision = precision_score(y_test,y_pred)\n",
    "\n",
    "print(f\"Recall: {recall}\")\n",
    "print(f\"Precision: {precision}\")"
   ]
  },
  {
   "cell_type": "markdown",
   "id": "bcdcd264",
   "metadata": {},
   "source": [
    "## Optimize max_features"
   ]
  },
  {
   "cell_type": "code",
   "execution_count": 108,
   "id": "0e724af7",
   "metadata": {},
   "outputs": [],
   "source": [
    "def tune_model(max_features_list):\n",
    "    train_scores = []\n",
    "    test_scores = []\n",
    "    \n",
    "    for max_features in max_features_list:\n",
    "        tfid3 = TfidfVectorizer(ngram_range=(1,2),\n",
    "                                max_features=max_features,\n",
    "                                max_df=0.7)\n",
    "\n",
    "        nb3 = MultinomialNB()\n",
    "\n",
    "        tfid3.fit(X_train)\n",
    "\n",
    "        vector3 = tfid3.transform(X_train)\n",
    "\n",
    "        nb3.fit(vector3, y_train)\n",
    "\n",
    "        train_score = nb3.score(vector3, y_train)\n",
    "        train_scores.append(train_score)\n",
    "\n",
    "        vector4 = tfid3.transform(X_test)\n",
    "        y_pred = nb3.predict(vector4)\n",
    "\n",
    "        test_score = roc_auc_score(y_test,y_pred)\n",
    "        test_scores.append(test_score)\n",
    "        \n",
    "    return train_scores, test_scores\n",
    "\n",
    "\n",
    "max_features_list = range(1000,30000,1000)\n",
    "\n",
    "train_scores, test_scores = tune_model(max_features_list)"
   ]
  },
  {
   "cell_type": "code",
   "execution_count": 109,
   "id": "9ded71fa",
   "metadata": {},
   "outputs": [
    {
     "data": {
      "text/plain": [
       "<matplotlib.legend.Legend at 0x7fe442ee11c0>"
      ]
     },
     "execution_count": 109,
     "metadata": {},
     "output_type": "execute_result"
    },
    {
     "data": {
      "image/png": "[encoded data removed]",
      "text/plain": [
       "<Figure size 432x288 with 1 Axes>"
      ]
     },
     "metadata": {
      "needs_background": "light"
     },
     "output_type": "display_data"
    }
   ],
   "source": [
    "import matplotlib.pyplot as plt\n",
    "\n",
    "plt.plot(list(max_features_list), train_scores, label='Train data')\n",
    "plt.plot(list(max_features_list), test_scores, label='Test data')\n",
    "plt.xlabel('max_features')\n",
    "plt.ylabel('roc score')\n",
    "plt.legend()"
   ]
  },
  {
   "cell_type": "code",
   "execution_count": 111,
   "id": "4e85d124",
   "metadata": {},
   "outputs": [
    {
     "data": {
      "text/plain": [
       "10000"
      ]
     },
     "execution_count": 111,
     "metadata": {},
     "output_type": "execute_result"
    }
   ],
   "source": [
    "max_features_list = list(max_features_list)\n",
    "\n",
    "max_features_optimized = max_features_list[np.array(test_scores).argmax()]\n",
    "max_features_optimized"
   ]
  },
  {
   "cell_type": "markdown",
   "id": "d714d4ed",
   "metadata": {},
   "source": [
    "**Se observa que el modelo comienza a \"Overfitear\" a partir de 10000 max_features**"
   ]
  },
  {
   "cell_type": "code",
   "execution_count": 117,
   "id": "4e3d79bb",
   "metadata": {},
   "outputs": [],
   "source": [
    "def tune_model(ngram_ranges):\n",
    "    train_scores = []\n",
    "    test_scores = []\n",
    "    \n",
    "    for ngram_range in ngram_ranges:\n",
    "        tfid3 = TfidfVectorizer(ngram_range=ngram_range,\n",
    "                                max_features=10000,\n",
    "                                max_df=0.7)\n",
    "\n",
    "        nb3 = MultinomialNB()\n",
    "\n",
    "        tfid3.fit(X_train)\n",
    "\n",
    "        vector3 = tfid3.transform(X_train)\n",
    "\n",
    "        nb3.fit(vector3, y_train)\n",
    "\n",
    "        train_score = nb3.score(vector3, y_train)\n",
    "        train_scores.append(train_score)\n",
    "\n",
    "        vector4 = tfid3.transform(X_test)\n",
    "        y_pred = nb3.predict(vector4)\n",
    "\n",
    "        test_score = roc_auc_score(y_test,y_pred)\n",
    "        test_scores.append(test_score)\n",
    "        \n",
    "    return train_scores, test_scores\n",
    "\n",
    "\n",
    "ngram_ranges = [(1,1),(1,2),(1,3),(2,2),(2,3),(3,3)]\n",
    "\n",
    "train_scores, test_scores = tune_model(ngram_ranges)"
   ]
  },
  {
   "cell_type": "code",
   "execution_count": 118,
   "id": "b52e66c5",
   "metadata": {
    "scrolled": true
   },
   "outputs": [
    {
     "data": {
      "text/plain": [
       "<matplotlib.legend.Legend at 0x7fe448e66cd0>"
      ]
     },
     "execution_count": 118,
     "metadata": {},
     "output_type": "execute_result"
    },
    {
     "data": {
      "image/png": "[encoded data removed]",
      "text/plain": [
       "<Figure size 432x288 with 1 Axes>"
      ]
     },
     "metadata": {
      "needs_background": "light"
     },
     "output_type": "display_data"
    }
   ],
   "source": [
    "plt.plot(train_scores, label='Train data')\n",
    "plt.plot(test_scores, label='Test data')\n",
    "plt.xlabel('max_features')\n",
    "plt.ylabel('roc score')\n",
    "plt.legend()"
   ]
  },
  {
   "cell_type": "markdown",
   "id": "136db7b3",
   "metadata": {},
   "source": [
    "# Classification report"
   ]
  },
  {
   "cell_type": "code",
   "execution_count": 121,
   "id": "69137660",
   "metadata": {},
   "outputs": [
    {
     "name": "stdout",
     "output_type": "stream",
     "text": [
      "              precision    recall  f1-score   support\n",
      "\n",
      "           0       0.96      0.90      0.93      3786\n",
      "           1       0.90      0.97      0.93      3822\n",
      "\n",
      "    accuracy                           0.93      7608\n",
      "   macro avg       0.93      0.93      0.93      7608\n",
      "weighted avg       0.93      0.93      0.93      7608\n",
      "\n"
     ]
    }
   ],
   "source": [
    "from sklearn.metrics import classification_report\n",
    "\n",
    "print(classification_report(y_test,y_pred))"
   ]
  },
  {
   "cell_type": "code",
   "execution_count": 126,
   "id": "f0c1ce2e",
   "metadata": {},
   "outputs": [
    {
     "data": {
      "text/plain": [
       "<sklearn.metrics._plot.confusion_matrix.ConfusionMatrixDisplay at 0x7fe4513d7eb0>"
      ]
     },
     "execution_count": 126,
     "metadata": {},
     "output_type": "execute_result"
    },
    {
     "data": {
      "image/png": "[encoded data removed]",
      "text/plain": [
       "<Figure size 432x288 with 2 Axes>"
      ]
     },
     "metadata": {
      "needs_background": "light"
     },
     "output_type": "display_data"
    }
   ],
   "source": [
    "from sklearn.metrics import plot_confusion_matrix\n",
    "\n",
    "plot_confusion_matrix(estimator=best_model,\n",
    "                     X=X_test,\n",
    "                     y_true=y_test)"
   ]
  },
  {
   "cell_type": "code",
   "execution_count": 129,
   "id": "0d99920a",
   "metadata": {},
   "outputs": [
    {
     "data": {
      "text/plain": [
       "array([[3397,  389],\n",
       "       [ 130, 3692]])"
      ]
     },
     "execution_count": 129,
     "metadata": {},
     "output_type": "execute_result"
    }
   ],
   "source": [
    "from sklearn.metrics import confusion_matrix\n",
    "\n",
    "confusion_matrix(y_test,y_pred)"
   ]
  }
 ],
 "metadata": {
  "kernelspec": {
   "display_name": "Python 3 (ipykernel)",
   "language": "python",
   "name": "python3"
  },
  "language_info": {
   "codemirror_mode": {
    "name": "ipython",
    "version": 3
   },
   "file_extension": ".py",
   "mimetype": "text/x-python",
   "name": "python",
   "nbconvert_exporter": "python",
   "pygments_lexer": "ipython3",
   "version": "3.8.12"
  },
  "toc": {
   "base_numbering": 1,
   "nav_menu": {},
   "number_sections": true,
   "sideBar": true,
   "skip_h1_title": false,
   "title_cell": "Table of Contents",
   "title_sidebar": "Contents",
   "toc_cell": false,
   "toc_position": {},
   "toc_section_display": true,
   "toc_window_display": false
  }
 },
 "nbformat": 4,
 "nbformat_minor": 5
}
