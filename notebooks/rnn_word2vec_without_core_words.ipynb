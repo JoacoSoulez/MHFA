{
 "cells": [
  {
   "cell_type": "code",
   "execution_count": 76,
   "id": "2149acd8",
   "metadata": {},
   "outputs": [],
   "source": [
    "import pandas as pd\n",
    "import numpy as np\n",
    "import matplotlib.pyplot as plt\n",
    "import seaborn as sns\n",
    "from sklearn.model_selection import train_test_split"
   ]
  },
  {
   "cell_type": "code",
   "execution_count": 77,
   "id": "42dcd3fc",
   "metadata": {},
   "outputs": [],
   "source": [
    "path = '/home/lucaspancotto/code/JoacoSoulez/mental_health_first_aid_evaluation/data/twitter_reddit_text.csv'\n",
    "core_path = '/home/lucaspancotto/code/JoacoSoulez/mental_health_first_aid_evaluation/data/sorted_coefs_naivebayes_twitterreddit.csv'\n",
    "data= pd.read_csv(f'{path}')\n",
    "core_data = pd.read_csv(f'{core_path}')\n",
    "\n",
    "\n"
   ]
  },
  {
   "cell_type": "code",
   "execution_count": 75,
   "id": "9769e1fa",
   "metadata": {},
   "outputs": [
    {
     "data": {
      "text/html": [
       "<div>\n",
       "<style scoped>\n",
       "    .dataframe tbody tr th:only-of-type {\n",
       "        vertical-align: middle;\n",
       "    }\n",
       "\n",
       "    .dataframe tbody tr th {\n",
       "        vertical-align: top;\n",
       "    }\n",
       "\n",
       "    .dataframe thead th {\n",
       "        text-align: right;\n",
       "    }\n",
       "</style>\n",
       "<table border=\"1\" class=\"dataframe\">\n",
       "  <thead>\n",
       "    <tr style=\"text-align: right;\">\n",
       "      <th></th>\n",
       "      <th>Unnamed: 0</th>\n",
       "      <th>0</th>\n",
       "    </tr>\n",
       "  </thead>\n",
       "  <tbody>\n",
       "    <tr>\n",
       "      <th>0</th>\n",
       "      <td>feel</td>\n",
       "      <td>-4.990164</td>\n",
       "    </tr>\n",
       "    <tr>\n",
       "      <th>1</th>\n",
       "      <td>depress</td>\n",
       "      <td>-5.006754</td>\n",
       "    </tr>\n",
       "    <tr>\n",
       "      <th>2</th>\n",
       "      <td>like</td>\n",
       "      <td>-5.237492</td>\n",
       "    </tr>\n",
       "    <tr>\n",
       "      <th>3</th>\n",
       "      <td>want</td>\n",
       "      <td>-5.350858</td>\n",
       "    </tr>\n",
       "    <tr>\n",
       "      <th>4</th>\n",
       "      <td>get</td>\n",
       "      <td>-5.560917</td>\n",
       "    </tr>\n",
       "    <tr>\n",
       "      <th>5</th>\n",
       "      <td>life</td>\n",
       "      <td>-5.566263</td>\n",
       "    </tr>\n",
       "    <tr>\n",
       "      <th>6</th>\n",
       "      <td>know</td>\n",
       "      <td>-5.591696</td>\n",
       "    </tr>\n",
       "    <tr>\n",
       "      <th>7</th>\n",
       "      <td>go</td>\n",
       "      <td>-5.640298</td>\n",
       "    </tr>\n",
       "    <tr>\n",
       "      <th>8</th>\n",
       "      <td>not</td>\n",
       "      <td>-5.735271</td>\n",
       "    </tr>\n",
       "    <tr>\n",
       "      <th>9</th>\n",
       "      <td>can</td>\n",
       "      <td>-5.735307</td>\n",
       "    </tr>\n",
       "    <tr>\n",
       "      <th>10</th>\n",
       "      <td>can not</td>\n",
       "      <td>-5.735622</td>\n",
       "    </tr>\n",
       "    <tr>\n",
       "      <th>11</th>\n",
       "      <td>even</td>\n",
       "      <td>-5.829297</td>\n",
       "    </tr>\n",
       "    <tr>\n",
       "      <th>12</th>\n",
       "      <td>time</td>\n",
       "      <td>-5.840889</td>\n",
       "    </tr>\n",
       "    <tr>\n",
       "      <th>13</th>\n",
       "      <td>peopl</td>\n",
       "      <td>-5.859473</td>\n",
       "    </tr>\n",
       "    <tr>\n",
       "      <th>14</th>\n",
       "      <td>feel like</td>\n",
       "      <td>-5.862636</td>\n",
       "    </tr>\n",
       "    <tr>\n",
       "      <th>15</th>\n",
       "      <td>thing</td>\n",
       "      <td>-5.929623</td>\n",
       "    </tr>\n",
       "    <tr>\n",
       "      <th>16</th>\n",
       "      <td>day</td>\n",
       "      <td>-5.929635</td>\n",
       "    </tr>\n",
       "    <tr>\n",
       "      <th>17</th>\n",
       "      <td>realli</td>\n",
       "      <td>-5.947516</td>\n",
       "    </tr>\n",
       "    <tr>\n",
       "      <th>18</th>\n",
       "      <td>think</td>\n",
       "      <td>-5.956727</td>\n",
       "    </tr>\n",
       "    <tr>\n",
       "      <th>19</th>\n",
       "      <td>year</td>\n",
       "      <td>-5.968913</td>\n",
       "    </tr>\n",
       "    <tr>\n",
       "      <th>20</th>\n",
       "      <td>would</td>\n",
       "      <td>-5.968947</td>\n",
       "    </tr>\n",
       "    <tr>\n",
       "      <th>21</th>\n",
       "      <td>friend</td>\n",
       "      <td>-5.973066</td>\n",
       "    </tr>\n",
       "    <tr>\n",
       "      <th>22</th>\n",
       "      <td>help</td>\n",
       "      <td>-5.980579</td>\n",
       "    </tr>\n",
       "    <tr>\n",
       "      <th>23</th>\n",
       "      <td>tri</td>\n",
       "      <td>-5.982532</td>\n",
       "    </tr>\n",
       "    <tr>\n",
       "      <th>24</th>\n",
       "      <td>make</td>\n",
       "      <td>-5.989467</td>\n",
       "    </tr>\n",
       "    <tr>\n",
       "      <th>25</th>\n",
       "      <td>one</td>\n",
       "      <td>-6.037735</td>\n",
       "    </tr>\n",
       "    <tr>\n",
       "      <th>26</th>\n",
       "      <td>work</td>\n",
       "      <td>-6.124760</td>\n",
       "    </tr>\n",
       "    <tr>\n",
       "      <th>27</th>\n",
       "      <td>fuck</td>\n",
       "      <td>-6.136749</td>\n",
       "    </tr>\n",
       "    <tr>\n",
       "      <th>28</th>\n",
       "      <td>never</td>\n",
       "      <td>-6.192955</td>\n",
       "    </tr>\n",
       "    <tr>\n",
       "      <th>29</th>\n",
       "      <td>live</td>\n",
       "      <td>-6.244375</td>\n",
       "    </tr>\n",
       "  </tbody>\n",
       "</table>\n",
       "</div>"
      ],
      "text/plain": [
       "   Unnamed: 0         0\n",
       "0        feel -4.990164\n",
       "1     depress -5.006754\n",
       "2        like -5.237492\n",
       "3        want -5.350858\n",
       "4         get -5.560917\n",
       "5        life -5.566263\n",
       "6        know -5.591696\n",
       "7          go -5.640298\n",
       "8         not -5.735271\n",
       "9         can -5.735307\n",
       "10    can not -5.735622\n",
       "11       even -5.829297\n",
       "12       time -5.840889\n",
       "13      peopl -5.859473\n",
       "14  feel like -5.862636\n",
       "15      thing -5.929623\n",
       "16        day -5.929635\n",
       "17     realli -5.947516\n",
       "18      think -5.956727\n",
       "19       year -5.968913\n",
       "20      would -5.968947\n",
       "21     friend -5.973066\n",
       "22       help -5.980579\n",
       "23        tri -5.982532\n",
       "24       make -5.989467\n",
       "25        one -6.037735\n",
       "26       work -6.124760\n",
       "27       fuck -6.136749\n",
       "28      never -6.192955\n",
       "29       live -6.244375"
      ]
     },
     "execution_count": 75,
     "metadata": {},
     "output_type": "execute_result"
    }
   ],
   "source": [
    "core_data.head(30)"
   ]
  },
  {
   "cell_type": "code",
   "execution_count": 80,
   "id": "02a6a106",
   "metadata": {},
   "outputs": [],
   "source": [
    "core_words = core_data['Unnamed: 0'].to_list()[:5000]"
   ]
  },
  {
   "cell_type": "code",
   "execution_count": 81,
   "id": "b8566c7d",
   "metadata": {},
   "outputs": [
    {
     "data": {
      "text/plain": [
       "5000"
      ]
     },
     "execution_count": 81,
     "metadata": {},
     "output_type": "execute_result"
    }
   ],
   "source": [
    "len(core_words)"
   ]
  },
  {
   "cell_type": "code",
   "execution_count": 47,
   "id": "e793716a",
   "metadata": {},
   "outputs": [
    {
     "data": {
      "text/html": [
       "<div>\n",
       "<style scoped>\n",
       "    .dataframe tbody tr th:only-of-type {\n",
       "        vertical-align: middle;\n",
       "    }\n",
       "\n",
       "    .dataframe tbody tr th {\n",
       "        vertical-align: top;\n",
       "    }\n",
       "\n",
       "    .dataframe thead th {\n",
       "        text-align: right;\n",
       "    }\n",
       "</style>\n",
       "<table border=\"1\" class=\"dataframe\">\n",
       "  <thead>\n",
       "    <tr style=\"text-align: right;\">\n",
       "      <th></th>\n",
       "      <th>Unnamed: 0</th>\n",
       "      <th>clean_text</th>\n",
       "      <th>label</th>\n",
       "    </tr>\n",
       "  </thead>\n",
       "  <tbody>\n",
       "    <tr>\n",
       "      <th>0</th>\n",
       "      <td>0</td>\n",
       "      <td>lay bed hour point back pain get work minut cl...</td>\n",
       "      <td>1</td>\n",
       "    </tr>\n",
       "    <tr>\n",
       "      <th>1</th>\n",
       "      <td>1</td>\n",
       "      <td>dlitedaili dont play wouldnt want anyth world</td>\n",
       "      <td>0</td>\n",
       "    </tr>\n",
       "    <tr>\n",
       "      <th>2</th>\n",
       "      <td>2</td>\n",
       "      <td>rewebcoach hey handsom time get day go</td>\n",
       "      <td>0</td>\n",
       "    </tr>\n",
       "    <tr>\n",
       "      <th>3</th>\n",
       "      <td>3</td>\n",
       "      <td>get readi tenni maryyi</td>\n",
       "      <td>0</td>\n",
       "    </tr>\n",
       "    <tr>\n",
       "      <th>4</th>\n",
       "      <td>4</td>\n",
       "      <td>hear song band almost never play favourit radi...</td>\n",
       "      <td>0</td>\n",
       "    </tr>\n",
       "  </tbody>\n",
       "</table>\n",
       "</div>"
      ],
      "text/plain": [
       "   Unnamed: 0                                         clean_text  label\n",
       "0           0  lay bed hour point back pain get work minut cl...      1\n",
       "1           1      dlitedaili dont play wouldnt want anyth world      0\n",
       "2           2             rewebcoach hey handsom time get day go      0\n",
       "3           3                             get readi tenni maryyi      0\n",
       "4           4  hear song band almost never play favourit radi...      0"
      ]
     },
     "execution_count": 47,
     "metadata": {},
     "output_type": "execute_result"
    }
   ],
   "source": [
    "data.head()"
   ]
  },
  {
   "cell_type": "code",
   "execution_count": 82,
   "id": "a02cdaa8",
   "metadata": {},
   "outputs": [],
   "source": [
    "from nltk.tokenize import word_tokenize\n",
    "from gensim.models import Word2Vec"
   ]
  },
  {
   "cell_type": "code",
   "execution_count": 83,
   "id": "96f33fb8",
   "metadata": {},
   "outputs": [],
   "source": [
    "def stop_core_words(txt):\n",
    "    txt = word_tokenize(str(txt))\n",
    "    txt = ' '.join(word for word in txt if not word in core_words)\n",
    "    return txt"
   ]
  },
  {
   "cell_type": "code",
   "execution_count": 84,
   "id": "223f10db",
   "metadata": {},
   "outputs": [
    {
     "data": {
      "text/plain": [
       "'my goodness'"
      ]
     },
     "execution_count": 84,
     "metadata": {},
     "output_type": "execute_result"
    }
   ],
   "source": [
    "stop_core_words('depress my goodness oh fuck')"
   ]
  },
  {
   "cell_type": "code",
   "execution_count": 85,
   "id": "940dde12",
   "metadata": {},
   "outputs": [],
   "source": [
    "data_stopped = data.clean_text.apply(stop_core_words)"
   ]
  },
  {
   "cell_type": "code",
   "execution_count": 86,
   "id": "bb1886fd",
   "metadata": {},
   "outputs": [
    {
     "data": {
      "text/plain": [
       "0                                       \n",
       "1                     dlitedaili wouldnt\n",
       "2                     rewebcoach handsom\n",
       "3                           tenni maryyi\n",
       "4                         favourit radio\n",
       "                      ...               \n",
       "25363                                   \n",
       "25364                    u prayer asap u\n",
       "25365                                   \n",
       "25366    l demolish highlight inadequaci\n",
       "25367            burghrealtor pghjen pie\n",
       "Name: clean_text, Length: 25368, dtype: object"
      ]
     },
     "execution_count": 86,
     "metadata": {},
     "output_type": "execute_result"
    }
   ],
   "source": [
    "data_stopped"
   ]
  },
  {
   "cell_type": "code",
   "execution_count": 87,
   "id": "93743df4",
   "metadata": {},
   "outputs": [
    {
     "name": "stdout",
     "output_type": "stream",
     "text": [
      "length of X_train 17757 length of X_test 7611 length of y_train 17757 length of y_test 7611\n"
     ]
    }
   ],
   "source": [
    "X = data_stopped\n",
    "y = data.label\n",
    "\n",
    "X_train, X_test, y_train, y_test = train_test_split(X , y ,test_size = 0.3 )\n",
    "print('length of X_train',len(X_train), 'length of X_test',len(X_test), 'length of y_train',len(y_train), 'length of y_test',len(y_test))\n",
    "\n",
    "X_train = [word_tokenize(str(_)) for _ in X_train]\n",
    "X_test = [word_tokenize(str(_)) for _ in X_test]\n"
   ]
  },
  {
   "cell_type": "markdown",
   "id": "9af63d02",
   "metadata": {},
   "source": [
    "# embed data"
   ]
  },
  {
   "cell_type": "code",
   "execution_count": 88,
   "id": "06a32cf9",
   "metadata": {},
   "outputs": [],
   "source": [
    "# This line trains an entire embedding for the words in your train set\n",
    "word2vec = Word2Vec(sentences=X_train, vector_size=100, window=5, min_count=5)\n",
    "\n",
    "def embed_sentence(word2vec, sentence):\n",
    "    # $CHALLENGIFY_BEGIN\n",
    "    embedded_sentence = []\n",
    "    for word in sentence:\n",
    "        if word in word2vec.wv:\n",
    "            embedded_sentence.append(word2vec.wv[word])\n",
    "        \n",
    "    return np.array(embedded_sentence)\n",
    "def embedding(word2vec, sentences):\n",
    "    # $CHALLENGIFY_BEGIN\n",
    "    embed = []\n",
    "    \n",
    "    for sentence in sentences:\n",
    "        embedded_sentence = embed_sentence(word2vec, sentence)\n",
    "        embed.append(embedded_sentence)\n",
    "        \n",
    "    return embed\n",
    "    # $CHALLENGIFY_END\n",
    "    \n",
    "X_train = embedding(word2vec, X_train)\n",
    "X_test = embedding(word2vec, X_test)\n"
   ]
  },
  {
   "cell_type": "code",
   "execution_count": 89,
   "id": "60fa49f8",
   "metadata": {},
   "outputs": [],
   "source": [
    "#cortamos en 400 words\n",
    "from tensorflow.keras.preprocessing.sequence import pad_sequences\n",
    "X_train_pad = pad_sequences(X_train, dtype='float', padding='post', maxlen= 400,truncating= 'post')\n",
    "X_test_pad = pad_sequences(X_test, dtype='float', padding='post', maxlen = 400 , truncating = 'post')\n"
   ]
  },
  {
   "cell_type": "markdown",
   "id": "532ff76a",
   "metadata": {},
   "source": [
    "# model rnn"
   ]
  },
  {
   "cell_type": "code",
   "execution_count": 90,
   "id": "3a0ca35b",
   "metadata": {},
   "outputs": [],
   "source": [
    "from tensorflow.keras import Sequential\n",
    "from tensorflow.keras import layers\n",
    "\n",
    "def init_model():\n",
    "    model = Sequential()\n",
    "    model.add(layers.Masking())\n",
    "    model.add(layers.LSTM(20, activation='tanh'))\n",
    "    model.add(layers.Dense(15, activation='relu'))\n",
    "    model.add(layers.Dense(1, activation='sigmoid'))\n",
    "\n",
    "    model.compile(loss='binary_crossentropy',\n",
    "                  optimizer='rmsprop',\n",
    "                  metrics=['accuracy', 'AUC','Precision','Recall'])\n",
    "    \n",
    "    return model\n",
    "\n",
    "model = init_model()"
   ]
  },
  {
   "cell_type": "code",
   "execution_count": 91,
   "id": "fe3c1a2d",
   "metadata": {},
   "outputs": [
    {
     "name": "stderr",
     "output_type": "stream",
     "text": [
      "2022-03-09 16:59:43.740277: W tensorflow/core/framework/cpu_allocator_impl.cc:82] Allocation of 1988640000 exceeds 10% of free system memory.\n"
     ]
    },
    {
     "name": "stdout",
     "output_type": "stream",
     "text": [
      "Epoch 1/100\n",
      "389/389 [==============================] - ETA: 0s - loss: 0.6511 - accuracy: 0.5859 - auc: 0.6129 - precision: 0.6194 - recall: 0.4605"
     ]
    },
    {
     "name": "stderr",
     "output_type": "stream",
     "text": [
      "2022-03-09 17:03:35.675400: W tensorflow/core/framework/cpu_allocator_impl.cc:82] Allocation of 852480000 exceeds 10% of free system memory.\n"
     ]
    },
    {
     "name": "stdout",
     "output_type": "stream",
     "text": [
      "389/389 [==============================] - 263s 650ms/step - loss: 0.6511 - accuracy: 0.5859 - auc: 0.6129 - precision: 0.6194 - recall: 0.4605 - val_loss: 0.6405 - val_accuracy: 0.6096 - val_auc: 0.6268 - val_precision: 0.7111 - val_recall: 0.3623\n",
      "Epoch 2/100\n",
      "389/389 [==============================] - 97s 250ms/step - loss: 0.6408 - accuracy: 0.6053 - auc: 0.6240 - precision: 0.7302 - recall: 0.3426 - val_loss: 0.6424 - val_accuracy: 0.6107 - val_auc: 0.6209 - val_precision: 0.7084 - val_recall: 0.3694\n",
      "Epoch 3/100\n",
      "389/389 [==============================] - 98s 252ms/step - loss: 0.6396 - accuracy: 0.6037 - auc: 0.6245 - precision: 0.7233 - recall: 0.3450 - val_loss: 0.6383 - val_accuracy: 0.6100 - val_auc: 0.6224 - val_precision: 0.7112 - val_recall: 0.3634\n",
      "Epoch 4/100\n",
      "389/389 [==============================] - 98s 252ms/step - loss: 0.6385 - accuracy: 0.6055 - auc: 0.6282 - precision: 0.7212 - recall: 0.3530 - val_loss: 0.6393 - val_accuracy: 0.6102 - val_auc: 0.6246 - val_precision: 0.7114 - val_recall: 0.3638\n",
      "Epoch 5/100\n",
      "389/389 [==============================] - 101s 260ms/step - loss: 0.6368 - accuracy: 0.6066 - auc: 0.6321 - precision: 0.7291 - recall: 0.3479 - val_loss: 0.6366 - val_accuracy: 0.6122 - val_auc: 0.6319 - val_precision: 0.7195 - val_recall: 0.3611\n",
      "Epoch 6/100\n",
      "389/389 [==============================] - 98s 251ms/step - loss: 0.6357 - accuracy: 0.6119 - auc: 0.6379 - precision: 0.7366 - recall: 0.3567 - val_loss: 0.6364 - val_accuracy: 0.6081 - val_auc: 0.6483 - val_precision: 0.8230 - val_recall: 0.2702\n",
      "Epoch 7/100\n",
      "389/389 [==============================] - 104s 266ms/step - loss: 0.6340 - accuracy: 0.6154 - auc: 0.6404 - precision: 0.7460 - recall: 0.3581 - val_loss: 0.6313 - val_accuracy: 0.6224 - val_auc: 0.6412 - val_precision: 0.7722 - val_recall: 0.3415\n",
      "Epoch 8/100\n",
      "389/389 [==============================] - 112s 288ms/step - loss: 0.6326 - accuracy: 0.6182 - auc: 0.6454 - precision: 0.7592 - recall: 0.3541 - val_loss: 0.6362 - val_accuracy: 0.6199 - val_auc: 0.6406 - val_precision: 0.7273 - val_recall: 0.3774\n",
      "Epoch 9/100\n",
      "389/389 [==============================] - 107s 276ms/step - loss: 0.6316 - accuracy: 0.6170 - auc: 0.6551 - precision: 0.7608 - recall: 0.3492 - val_loss: 0.6312 - val_accuracy: 0.6218 - val_auc: 0.6451 - val_precision: 0.7296 - val_recall: 0.3808\n",
      "Epoch 10/100\n",
      "389/389 [==============================] - 87s 224ms/step - loss: 0.6293 - accuracy: 0.6203 - auc: 0.6591 - precision: 0.7602 - recall: 0.3592 - val_loss: 0.6315 - val_accuracy: 0.6229 - val_auc: 0.6535 - val_precision: 0.7383 - val_recall: 0.3747\n",
      "Epoch 11/100\n",
      "389/389 [==============================] - 87s 225ms/step - loss: 0.6287 - accuracy: 0.6199 - auc: 0.6654 - precision: 0.7611 - recall: 0.3573 - val_loss: 0.6317 - val_accuracy: 0.6197 - val_auc: 0.6571 - val_precision: 0.7074 - val_recall: 0.4015\n",
      "Epoch 12/100\n",
      "389/389 [==============================] - 93s 238ms/step - loss: 0.6263 - accuracy: 0.6222 - auc: 0.6651 - precision: 0.7586 - recall: 0.3661 - val_loss: 0.6266 - val_accuracy: 0.6271 - val_auc: 0.6664 - val_precision: 0.7560 - val_recall: 0.3694\n",
      "Epoch 13/100\n",
      "389/389 [==============================] - 89s 229ms/step - loss: 0.6248 - accuracy: 0.6239 - auc: 0.6700 - precision: 0.7626 - recall: 0.3675 - val_loss: 0.6268 - val_accuracy: 0.6318 - val_auc: 0.6677 - val_precision: 0.7468 - val_recall: 0.3928\n",
      "Epoch 14/100\n",
      "389/389 [==============================] - 87s 224ms/step - loss: 0.6227 - accuracy: 0.6275 - auc: 0.6722 - precision: 0.7669 - recall: 0.3738 - val_loss: 0.6348 - val_accuracy: 0.6265 - val_auc: 0.6641 - val_precision: 0.7221 - val_recall: 0.4049\n",
      "Epoch 15/100\n",
      "389/389 [==============================] - 88s 226ms/step - loss: 0.6224 - accuracy: 0.6284 - auc: 0.6736 - precision: 0.7662 - recall: 0.3770 - val_loss: 0.6217 - val_accuracy: 0.6346 - val_auc: 0.6743 - val_precision: 0.7774 - val_recall: 0.3717\n",
      "Epoch 16/100\n",
      "389/389 [==============================] - 89s 230ms/step - loss: 0.6206 - accuracy: 0.6312 - auc: 0.6756 - precision: 0.7714 - recall: 0.3802 - val_loss: 0.6198 - val_accuracy: 0.6346 - val_auc: 0.6764 - val_precision: 0.7735 - val_recall: 0.3751\n",
      "Epoch 17/100\n",
      "389/389 [==============================] - 91s 234ms/step - loss: 0.6194 - accuracy: 0.6317 - auc: 0.6773 - precision: 0.7659 - recall: 0.3869 - val_loss: 0.6191 - val_accuracy: 0.6359 - val_auc: 0.6764 - val_precision: 0.7795 - val_recall: 0.3736\n",
      "Epoch 18/100\n",
      "389/389 [==============================] - 91s 234ms/step - loss: 0.6174 - accuracy: 0.6313 - auc: 0.6777 - precision: 0.7607 - recall: 0.3907 - val_loss: 0.6207 - val_accuracy: 0.6301 - val_auc: 0.6747 - val_precision: 0.7220 - val_recall: 0.4166\n",
      "Epoch 19/100\n",
      "389/389 [==============================] - 86s 221ms/step - loss: 0.6161 - accuracy: 0.6330 - auc: 0.6805 - precision: 0.7639 - recall: 0.3925 - val_loss: 0.6207 - val_accuracy: 0.6327 - val_auc: 0.6760 - val_precision: 0.7498 - val_recall: 0.3925\n",
      "Epoch 20/100\n",
      "389/389 [==============================] - 88s 226ms/step - loss: 0.6151 - accuracy: 0.6330 - auc: 0.6824 - precision: 0.7642 - recall: 0.3920 - val_loss: 0.6164 - val_accuracy: 0.6376 - val_auc: 0.6793 - val_precision: 0.7851 - val_recall: 0.3736\n",
      "Epoch 21/100\n",
      "389/389 [==============================] - 91s 234ms/step - loss: 0.6131 - accuracy: 0.6333 - auc: 0.6850 - precision: 0.7630 - recall: 0.3941 - val_loss: 0.6222 - val_accuracy: 0.6241 - val_auc: 0.6741 - val_precision: 0.6825 - val_recall: 0.4566\n",
      "Epoch 22/100\n",
      "389/389 [==============================] - 87s 224ms/step - loss: 0.6127 - accuracy: 0.6329 - auc: 0.6851 - precision: 0.7569 - recall: 0.3990 - val_loss: 0.6160 - val_accuracy: 0.6359 - val_auc: 0.6827 - val_precision: 0.7993 - val_recall: 0.3577\n",
      "Epoch 23/100\n",
      "389/389 [==============================] - 92s 237ms/step - loss: 0.6120 - accuracy: 0.6356 - auc: 0.6865 - precision: 0.7571 - recall: 0.4068 - val_loss: 0.6162 - val_accuracy: 0.6368 - val_auc: 0.6808 - val_precision: 0.7502 - val_recall: 0.4045\n",
      "Epoch 24/100\n",
      "389/389 [==============================] - 90s 231ms/step - loss: 0.6115 - accuracy: 0.6342 - auc: 0.6845 - precision: 0.7539 - recall: 0.4062 - val_loss: 0.6156 - val_accuracy: 0.6361 - val_auc: 0.6822 - val_precision: 0.8160 - val_recall: 0.3464\n",
      "Epoch 25/100\n",
      "389/389 [==============================] - 88s 227ms/step - loss: 0.6110 - accuracy: 0.6372 - auc: 0.6860 - precision: 0.7656 - recall: 0.4028 - val_loss: 0.6192 - val_accuracy: 0.6323 - val_auc: 0.6811 - val_precision: 0.8208 - val_recall: 0.3336\n",
      "Epoch 26/100\n",
      "389/389 [==============================] - 93s 240ms/step - loss: 0.6102 - accuracy: 0.6364 - auc: 0.6876 - precision: 0.7548 - recall: 0.4116 - val_loss: 0.6160 - val_accuracy: 0.6378 - val_auc: 0.6832 - val_precision: 0.7446 - val_recall: 0.4136\n",
      "Epoch 27/100\n",
      "389/389 [==============================] - 102s 261ms/step - loss: 0.6093 - accuracy: 0.6382 - auc: 0.6901 - precision: 0.7594 - recall: 0.4120 - val_loss: 0.6159 - val_accuracy: 0.6374 - val_auc: 0.6836 - val_precision: 0.8042 - val_recall: 0.3581\n"
     ]
    }
   ],
   "source": [
    "from tensorflow.keras.callbacks import EarlyStopping\n",
    "\n",
    "es = EarlyStopping(patience=3, restore_best_weights=True)\n",
    "\n",
    "history_fit = model.fit(X_train_pad, y_train, \n",
    "          batch_size = 32,\n",
    "          epochs=100,\n",
    "          validation_split=0.3,\n",
    "          callbacks=[es],\n",
    "          verbose = 1\n",
    "         )"
   ]
  },
  {
   "cell_type": "code",
   "execution_count": 92,
   "id": "8430f919",
   "metadata": {},
   "outputs": [],
   "source": [
    "def plot_loss(history):\n",
    "    fig, (ax1, ax2) = plt.subplots(1,2, figsize=(13,4))\n",
    "    ax1.plot(history.history['loss'])\n",
    "    ax1.plot(history.history['val_loss'])\n",
    "    ax1.set_title('Model loss')\n",
    "    ax1.set_ylabel('Loss')\n",
    "    ax1.set_xlabel('Epoch')\n",
    "    #ax1.set_ylim(ymin=0, ymax=200)\n",
    "    ax1.legend(['Train', 'Validation'], loc='best')\n",
    "    ax1.grid(axis=\"x\",linewidth=0.5)\n",
    "    ax1.grid(axis=\"y\",linewidth=0.5)    \n",
    "    \n",
    "    ax2.plot(history.history['accuracy'])\n",
    "    ax2.plot(history.history['val_accuracy'])\n",
    "    ax2.set_title('accuracy')\n",
    "    ax2.set_ylabel('accuracy')\n",
    "    ax2.set_xlabel('Epoch')\n",
    "    #ax2.set_ylim(ymin=0, ymax=20)\n",
    "    ax2.legend(['Train', 'Validation'], loc='best')\n",
    "    ax2.grid(axis=\"x\",linewidth=0.5)\n",
    "    ax2.grid(axis=\"y\",linewidth=0.5)    \n",
    "\n",
    "    plt.show()\n",
    "\n"
   ]
  },
  {
   "cell_type": "code",
   "execution_count": 93,
   "id": "21fe80be",
   "metadata": {},
   "outputs": [
    {
     "data": {
      "image/png": "[encoded data removed]",
      "text/plain": [
       "<Figure size 936x288 with 2 Axes>"
      ]
     },
     "metadata": {
      "needs_background": "light"
     },
     "output_type": "display_data"
    }
   ],
   "source": [
    "plot_loss(history_fit)"
   ]
  },
  {
   "cell_type": "code",
   "execution_count": 68,
   "id": "8e60ccb2",
   "metadata": {},
   "outputs": [
    {
     "name": "stderr",
     "output_type": "stream",
     "text": [
      "2022-03-09 16:10:51.909312: W tensorflow/core/framework/cpu_allocator_impl.cc:82] Allocation of 1217760000 exceeds 10% of free system memory.\n"
     ]
    },
    {
     "name": "stdout",
     "output_type": "stream",
     "text": [
      "238/238 [==============================] - 15s 64ms/step - loss: 0.1827 - accuracy: 0.9267 - auc: 0.9759 - precision: 0.9659 - recall: 0.8848\n"
     ]
    },
    {
     "data": {
      "text/plain": [
       "[0.1827172487974167,\n",
       " 0.9266850352287292,\n",
       " 0.975908100605011,\n",
       " 0.96590256690979,\n",
       " 0.8847768902778625]"
      ]
     },
     "execution_count": 68,
     "metadata": {},
     "output_type": "execute_result"
    }
   ],
   "source": [
    "res = model.evaluate(X_test_pad, y_test, verbose = 1, return_dict=True)\n",
    "res"
   ]
  },
  {
   "cell_type": "code",
   "execution_count": 71,
   "id": "0062878a",
   "metadata": {},
   "outputs": [],
   "source": [
    "import joblib"
   ]
  },
  {
   "cell_type": "code",
   "execution_count": 72,
   "id": "fbb63031",
   "metadata": {},
   "outputs": [
    {
     "name": "stderr",
     "output_type": "stream",
     "text": [
      "2022-03-09 16:51:48.360174: W tensorflow/python/util/util.cc:368] Sets are not currently considered sequences, but this may change in the future, so consider avoiding using them.\n",
      "WARNING:absl:Found untraced functions such as lstm_cell_layer_call_fn, lstm_cell_layer_call_and_return_conditional_losses, lstm_cell_layer_call_fn, lstm_cell_layer_call_and_return_conditional_losses, lstm_cell_layer_call_and_return_conditional_losses while saving (showing 5 of 5). These functions will not be directly callable after loading.\n"
     ]
    },
    {
     "name": "stdout",
     "output_type": "stream",
     "text": [
      "INFO:tensorflow:Assets written to: ram://ba185c47-9641-48a7-b1ec-7beb6b3042e3/assets\n"
     ]
    },
    {
     "name": "stderr",
     "output_type": "stream",
     "text": [
      "INFO:tensorflow:Assets written to: ram://ba185c47-9641-48a7-b1ec-7beb6b3042e3/assets\n",
      "WARNING:absl:<keras.layers.recurrent.LSTMCell object at 0x7f3aff7345b0> has the same name 'LSTMCell' as a built-in Keras object. Consider renaming <class 'keras.layers.recurrent.LSTMCell'> to avoid naming conflicts when loading with `tf.keras.models.load_model`. If renaming is not possible, pass the object in the `custom_objects` parameter of the load function.\n"
     ]
    },
    {
     "data": {
      "text/plain": [
       "['rnn_tweetreddit_coreless100.sav']"
      ]
     },
     "execution_count": 72,
     "metadata": {},
     "output_type": "execute_result"
    }
   ],
   "source": [
    "joblib.dump(model , 'rnn_tweetreddit_coreless100.sav')"
   ]
  }
 ],
 "metadata": {
  "kernelspec": {
   "display_name": "Python 3 (ipykernel)",
   "language": "python",
   "name": "python3"
  },
  "language_info": {
   "codemirror_mode": {
    "name": "ipython",
    "version": 3
   },
   "file_extension": ".py",
   "mimetype": "text/x-python",
   "name": "python",
   "nbconvert_exporter": "python",
   "pygments_lexer": "ipython3",
   "version": "3.8.12"
  },
  "toc": {
   "base_numbering": 1,
   "nav_menu": {},
   "number_sections": true,
   "sideBar": true,
   "skip_h1_title": false,
   "title_cell": "Table of Contents",
   "title_sidebar": "Contents",
   "toc_cell": false,
   "toc_position": {},
   "toc_section_display": true,
   "toc_window_display": false
  }
 },
 "nbformat": 4,
 "nbformat_minor": 5
}
