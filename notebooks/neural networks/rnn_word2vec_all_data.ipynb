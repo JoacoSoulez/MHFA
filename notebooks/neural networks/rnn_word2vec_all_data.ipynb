{
 "cells": [
  {
   "cell_type": "markdown",
   "id": "179e4121",
   "metadata": {
    "id": "179e4121"
   },
   "source": [
    "# traer data"
   ]
  },
  {
   "cell_type": "code",
   "execution_count": 63,
   "id": "8d3d5620",
   "metadata": {
    "id": "8d3d5620"
   },
   "outputs": [],
   "source": [
    "import pandas as pd\n",
    "import numpy as np\n",
    "import matplotlib.pyplot as plt\n",
    "import seaborn as sns\n",
    "from sklearn.feature_extraction.text import TfidfVectorizer\n",
    "from sklearn.model_selection import train_test_split\n",
    "from nltk.tokenize import word_tokenize\n",
    "from gensim.models import Word2Vec\n",
    "import numpy as np\n",
    "from tensorflow.keras.preprocessing.sequence import pad_sequences"
   ]
  },
  {
   "cell_type": "code",
   "execution_count": 64,
   "id": "bdb202da",
   "metadata": {
    "colab": {
     "base_uri": "https://localhost:8080/"
    },
    "id": "bdb202da",
    "outputId": "539f45b9-7228-4e50-8a38-116913a55406"
   },
   "outputs": [
    {
     "name": "stdout",
     "output_type": "stream",
     "text": [
      "/home/lucaspancotto/code/JoacoSoulez/mental_health_first_aid_evaluation/MHFA/notebooks/neural networks\r\n"
     ]
    }
   ],
   "source": [
    "!pwd"
   ]
  },
  {
   "cell_type": "code",
   "execution_count": 65,
   "id": "4ad705aa",
   "metadata": {},
   "outputs": [
    {
     "data": {
      "text/plain": [
       "\"twitter = pd.read_csv('../../../data/tweets_cleaned.csv').drop(columns = ['Unnamed: 0'])\\ntwitter.head()\""
      ]
     },
     "execution_count": 65,
     "metadata": {},
     "output_type": "execute_result"
    }
   ],
   "source": [
    "'''twitter = pd.read_csv('../../../data/tweets_cleaned.csv').drop(columns = ['Unnamed: 0'])\n",
    "twitter.head()'''"
   ]
  },
  {
   "cell_type": "code",
   "execution_count": 66,
   "id": "387f1b4c",
   "metadata": {
    "colab": {
     "base_uri": "https://localhost:8080/",
     "height": 206
    },
    "id": "387f1b4c",
    "outputId": "0bf624fe-eb15-4487-f8ed-a804c56d7c85"
   },
   "outputs": [
    {
     "data": {
      "text/html": [
       "<div>\n",
       "<style scoped>\n",
       "    .dataframe tbody tr th:only-of-type {\n",
       "        vertical-align: middle;\n",
       "    }\n",
       "\n",
       "    .dataframe tbody tr th {\n",
       "        vertical-align: top;\n",
       "    }\n",
       "\n",
       "    .dataframe thead th {\n",
       "        text-align: right;\n",
       "    }\n",
       "</style>\n",
       "<table border=\"1\" class=\"dataframe\">\n",
       "  <thead>\n",
       "    <tr style=\"text-align: right;\">\n",
       "      <th></th>\n",
       "      <th>label</th>\n",
       "      <th>text</th>\n",
       "    </tr>\n",
       "  </thead>\n",
       "  <tbody>\n",
       "    <tr>\n",
       "      <th>0</th>\n",
       "      <td>1</td>\n",
       "      <td>lay bed hour point back pain get work minut cl...</td>\n",
       "    </tr>\n",
       "    <tr>\n",
       "      <th>1</th>\n",
       "      <td>0</td>\n",
       "      <td>dlitedaili dont play wouldnt want anyth world</td>\n",
       "    </tr>\n",
       "    <tr>\n",
       "      <th>2</th>\n",
       "      <td>0</td>\n",
       "      <td>rewebcoach hey handsom time get day go</td>\n",
       "    </tr>\n",
       "    <tr>\n",
       "      <th>3</th>\n",
       "      <td>0</td>\n",
       "      <td>get readi tenni maryyi</td>\n",
       "    </tr>\n",
       "    <tr>\n",
       "      <th>4</th>\n",
       "      <td>0</td>\n",
       "      <td>hear song band almost never play favourit radi...</td>\n",
       "    </tr>\n",
       "  </tbody>\n",
       "</table>\n",
       "</div>"
      ],
      "text/plain": [
       "   label                                               text\n",
       "0      1  lay bed hour point back pain get work minut cl...\n",
       "1      0      dlitedaili dont play wouldnt want anyth world\n",
       "2      0             rewebcoach hey handsom time get day go\n",
       "3      0                             get readi tenni maryyi\n",
       "4      0  hear song band almost never play favourit radi..."
      ]
     },
     "execution_count": 66,
     "metadata": {},
     "output_type": "execute_result"
    }
   ],
   "source": [
    "twitter_reddit = pd.read_csv('../../../data/twitter_reddit_text.csv')\n",
    "twitter_reddit.drop(columns=['Unnamed: 0'], inplace = True)\n",
    "twitter_reddit = twitter_reddit.loc[:len(twitter_reddit)-1000]\n",
    "twitter_reddit['text'] = twitter_reddit.clean_text\n",
    "twitter_reddit.drop(columns= ['clean_text'] , inplace = True)\n",
    "twitter_reddit.head()\n"
   ]
  },
  {
   "cell_type": "code",
   "execution_count": 67,
   "id": "15bf1841",
   "metadata": {
    "id": "15bf1841"
   },
   "outputs": [],
   "source": [
    "transcriptions = pd.read_csv('../../../transcriptions/targets/transcriptions_targets_lemmatized.csv')\n",
    "transcriptions['text'] = transcriptions.lemmatized_text\n",
    "transcriptions['label'] = transcriptions.PHQ8_Binary\n",
    "transcriptions = transcriptions.drop(columns = ['Unnamed: 0.1', 'Unnamed: 0','clean_text',\n",
    "       'lemmatized_text', 'PHQ8_Binary'])"
   ]
  },
  {
   "cell_type": "code",
   "execution_count": 68,
   "id": "05d23311",
   "metadata": {
    "colab": {
     "base_uri": "https://localhost:8080/",
     "height": 206
    },
    "id": "05d23311",
    "outputId": "fda1d7e6-43fc-441b-96d2-ea8d6a31badc"
   },
   "outputs": [
    {
     "data": {
      "text/html": [
       "<div>\n",
       "<style scoped>\n",
       "    .dataframe tbody tr th:only-of-type {\n",
       "        vertical-align: middle;\n",
       "    }\n",
       "\n",
       "    .dataframe tbody tr th {\n",
       "        vertical-align: top;\n",
       "    }\n",
       "\n",
       "    .dataframe thead th {\n",
       "        text-align: right;\n",
       "    }\n",
       "</style>\n",
       "<table border=\"1\" class=\"dataframe\">\n",
       "  <thead>\n",
       "    <tr style=\"text-align: right;\">\n",
       "      <th></th>\n",
       "      <th>text</th>\n",
       "      <th>label</th>\n",
       "    </tr>\n",
       "  </thead>\n",
       "  <tbody>\n",
       "    <tr>\n",
       "      <th>0</th>\n",
       "      <td>fine angeles california family friend mixture ...</td>\n",
       "      <td>0.0</td>\n",
       "    </tr>\n",
       "    <tr>\n",
       "      <th>1</th>\n",
       "      <td>moscow family moved moved eventually college l...</td>\n",
       "      <td>0.0</td>\n",
       "    </tr>\n",
       "    <tr>\n",
       "      <th>2</th>\n",
       "      <td>connecticut actor moved san francisco moved at...</td>\n",
       "      <td>0.0</td>\n",
       "    </tr>\n",
       "    <tr>\n",
       "      <th>3</th>\n",
       "      <td>originally angeles weather family moved lot cu...</td>\n",
       "      <td>1.0</td>\n",
       "    </tr>\n",
       "    <tr>\n",
       "      <th>4</th>\n",
       "      <td>angeles lot thing love beach love love sunny t...</td>\n",
       "      <td>1.0</td>\n",
       "    </tr>\n",
       "  </tbody>\n",
       "</table>\n",
       "</div>"
      ],
      "text/plain": [
       "                                                text  label\n",
       "0  fine angeles california family friend mixture ...    0.0\n",
       "1  moscow family moved moved eventually college l...    0.0\n",
       "2  connecticut actor moved san francisco moved at...    0.0\n",
       "3  originally angeles weather family moved lot cu...    1.0\n",
       "4  angeles lot thing love beach love love sunny t...    1.0"
      ]
     },
     "execution_count": 68,
     "metadata": {},
     "output_type": "execute_result"
    }
   ],
   "source": [
    "transcriptions.head()"
   ]
  },
  {
   "cell_type": "code",
   "execution_count": 69,
   "id": "2aa5372c",
   "metadata": {
    "id": "2aa5372c"
   },
   "outputs": [],
   "source": [
    "reddit_uncored = pd.read_csv('../../../uncored_data/reddit_uncored2.csv').loc[1000:]\n",
    "transcriptions_uncored = pd.read_csv('../../../uncored_data/transcription_uncored.csv')\n",
    "\n",
    "transcriptions_uncored['text'] = transcriptions_uncored.uncored\n",
    "transcriptions_uncored['label'] = transcriptions_uncored.PHQ8_Binary\n",
    "transcriptions_uncored.drop(columns=  ['Unnamed: 0' , 'uncored','Unnamed: 0.1','PHQ8_Binary'] , inplace=True)"
   ]
  },
  {
   "cell_type": "code",
   "execution_count": 70,
   "id": "ba29bb0a",
   "metadata": {
    "colab": {
     "base_uri": "https://localhost:8080/",
     "height": 206
    },
    "id": "ba29bb0a",
    "outputId": "fe7e08b9-e095-4e9f-c778-97cbaef5be91"
   },
   "outputs": [
    {
     "data": {
      "text/html": [
       "<div>\n",
       "<style scoped>\n",
       "    .dataframe tbody tr th:only-of-type {\n",
       "        vertical-align: middle;\n",
       "    }\n",
       "\n",
       "    .dataframe tbody tr th {\n",
       "        vertical-align: top;\n",
       "    }\n",
       "\n",
       "    .dataframe thead th {\n",
       "        text-align: right;\n",
       "    }\n",
       "</style>\n",
       "<table border=\"1\" class=\"dataframe\">\n",
       "  <thead>\n",
       "    <tr style=\"text-align: right;\">\n",
       "      <th></th>\n",
       "      <th>text</th>\n",
       "      <th>label</th>\n",
       "    </tr>\n",
       "  </thead>\n",
       "  <tbody>\n",
       "    <tr>\n",
       "      <th>1000</th>\n",
       "      <td>i also think about going to the hospital  0  b...</td>\n",
       "      <td>1</td>\n",
       "    </tr>\n",
       "    <tr>\n",
       "      <th>1001</th>\n",
       "      <td>0  in the darkness with a  0  in  0   0  to m...</td>\n",
       "      <td>0</td>\n",
       "    </tr>\n",
       "    <tr>\n",
       "      <th>1002</th>\n",
       "      <td>0  gave me a  0   0  from uni for a while it ...</td>\n",
       "      <td>0</td>\n",
       "    </tr>\n",
       "    <tr>\n",
       "      <th>1003</th>\n",
       "      <td>if  0  is our  0  i do not want to be a part o...</td>\n",
       "      <td>1</td>\n",
       "    </tr>\n",
       "    <tr>\n",
       "      <th>1004</th>\n",
       "      <td>i have been  0  alone for about  0  now i  0  ...</td>\n",
       "      <td>1</td>\n",
       "    </tr>\n",
       "  </tbody>\n",
       "</table>\n",
       "</div>"
      ],
      "text/plain": [
       "                                                   text  label\n",
       "1000  i also think about going to the hospital  0  b...      1\n",
       "1001   0  in the darkness with a  0  in  0   0  to m...      0\n",
       "1002   0  gave me a  0   0  from uni for a while it ...      0\n",
       "1003  if  0  is our  0  i do not want to be a part o...      1\n",
       "1004  i have been  0  alone for about  0  now i  0  ...      1"
      ]
     },
     "execution_count": 70,
     "metadata": {},
     "output_type": "execute_result"
    }
   ],
   "source": [
    "\n",
    "\n",
    "reddit_uncored['text'] = reddit_uncored.uncored\n",
    "reddit_uncored.drop(columns= ['uncored', 'Unnamed: 0'], inplace=True)\n",
    "\n",
    "reddit_uncored.head()"
   ]
  },
  {
   "cell_type": "code",
   "execution_count": 71,
   "id": "fb988194",
   "metadata": {
    "colab": {
     "base_uri": "https://localhost:8080/",
     "height": 206
    },
    "id": "fb988194",
    "outputId": "c51798d3-1fa5-4d87-b654-8de7c46df34f"
   },
   "outputs": [
    {
     "data": {
      "text/html": [
       "<div>\n",
       "<style scoped>\n",
       "    .dataframe tbody tr th:only-of-type {\n",
       "        vertical-align: middle;\n",
       "    }\n",
       "\n",
       "    .dataframe tbody tr th {\n",
       "        vertical-align: top;\n",
       "    }\n",
       "\n",
       "    .dataframe thead th {\n",
       "        text-align: right;\n",
       "    }\n",
       "</style>\n",
       "<table border=\"1\" class=\"dataframe\">\n",
       "  <thead>\n",
       "    <tr style=\"text-align: right;\">\n",
       "      <th></th>\n",
       "      <th>text</th>\n",
       "      <th>label</th>\n",
       "    </tr>\n",
       "  </thead>\n",
       "  <tbody>\n",
       "    <tr>\n",
       "      <th>0</th>\n",
       "      <td>i am  0  how about yourself i am from los  0  ...</td>\n",
       "      <td>0.0</td>\n",
       "    </tr>\n",
       "    <tr>\n",
       "      <th>1</th>\n",
       "      <td>um  0  um my  0   0  to the u s and then i  0 ...</td>\n",
       "      <td>0.0</td>\n",
       "    </tr>\n",
       "    <tr>\n",
       "      <th>2</th>\n",
       "      <td>yes okay  0  um to be an  0  well i  0  to  0 ...</td>\n",
       "      <td>0.0</td>\n",
       "    </tr>\n",
       "    <tr>\n",
       "      <th>3</th>\n",
       "      <td>yes i am okay  0  i am from here originally lo...</td>\n",
       "      <td>1.0</td>\n",
       "    </tr>\n",
       "    <tr>\n",
       "      <th>4</th>\n",
       "      <td>yes i am okay here in los  0  there is a  0  o...</td>\n",
       "      <td>1.0</td>\n",
       "    </tr>\n",
       "  </tbody>\n",
       "</table>\n",
       "</div>"
      ],
      "text/plain": [
       "                                                text  label\n",
       "0  i am  0  how about yourself i am from los  0  ...    0.0\n",
       "1  um  0  um my  0   0  to the u s and then i  0 ...    0.0\n",
       "2  yes okay  0  um to be an  0  well i  0  to  0 ...    0.0\n",
       "3  yes i am okay  0  i am from here originally lo...    1.0\n",
       "4  yes i am okay here in los  0  there is a  0  o...    1.0"
      ]
     },
     "execution_count": 71,
     "metadata": {},
     "output_type": "execute_result"
    }
   ],
   "source": [
    "transcriptions_uncored.head()"
   ]
  },
  {
   "cell_type": "code",
   "execution_count": 72,
   "id": "ea6d8ac6",
   "metadata": {
    "id": "ea6d8ac6"
   },
   "outputs": [],
   "source": [
    "transcriptions_reddit = transcriptions.merge(twitter_reddit , how='outer')"
   ]
  },
  {
   "cell_type": "code",
   "execution_count": 73,
   "id": "7525026f",
   "metadata": {
    "id": "7525026f"
   },
   "outputs": [],
   "source": [
    "transcriptions_reddit['label']= transcriptions_reddit.label.astype(int)"
   ]
  },
  {
   "cell_type": "code",
   "execution_count": 74,
   "id": "654f8204",
   "metadata": {
    "id": "654f8204"
   },
   "outputs": [],
   "source": [
    "transcriptions_reddit= transcriptions_reddit.sample(n=  6000, random_state = 42)"
   ]
  },
  {
   "cell_type": "code",
   "execution_count": 75,
   "id": "24oGYDpHf1f3",
   "metadata": {
    "id": "24oGYDpHf1f3"
   },
   "outputs": [],
   "source": [
    "transcriptions_reddit.reset_index(drop=True, inplace=True)"
   ]
  },
  {
   "cell_type": "code",
   "execution_count": 76,
   "id": "KIx6Lxo6gTn7",
   "metadata": {
    "colab": {
     "base_uri": "https://localhost:8080/",
     "height": 423
    },
    "id": "KIx6Lxo6gTn7",
    "outputId": "58c54ad9-f879-4520-8781-343ae6215c0d"
   },
   "outputs": [
    {
     "data": {
      "text/html": [
       "<div>\n",
       "<style scoped>\n",
       "    .dataframe tbody tr th:only-of-type {\n",
       "        vertical-align: middle;\n",
       "    }\n",
       "\n",
       "    .dataframe tbody tr th {\n",
       "        vertical-align: top;\n",
       "    }\n",
       "\n",
       "    .dataframe thead th {\n",
       "        text-align: right;\n",
       "    }\n",
       "</style>\n",
       "<table border=\"1\" class=\"dataframe\">\n",
       "  <thead>\n",
       "    <tr style=\"text-align: right;\">\n",
       "      <th></th>\n",
       "      <th>text</th>\n",
       "      <th>label</th>\n",
       "    </tr>\n",
       "  </thead>\n",
       "  <tbody>\n",
       "    <tr>\n",
       "      <th>0</th>\n",
       "      <td>everyth tri feel better fail much shit continu...</td>\n",
       "      <td>1</td>\n",
       "    </tr>\n",
       "    <tr>\n",
       "      <th>1</th>\n",
       "      <td>mrdiamond umm gemini lol</td>\n",
       "      <td>0</td>\n",
       "    </tr>\n",
       "    <tr>\n",
       "      <th>2</th>\n",
       "      <td>memori suppress long suddenli trigger today re...</td>\n",
       "      <td>1</td>\n",
       "    </tr>\n",
       "    <tr>\n",
       "      <th>3</th>\n",
       "      <td>share tinyurl lkpoq si richard poon haha crino...</td>\n",
       "      <td>0</td>\n",
       "    </tr>\n",
       "    <tr>\n",
       "      <th>4</th>\n",
       "      <td>mcgradytraci rehab can not wait see play</td>\n",
       "      <td>0</td>\n",
       "    </tr>\n",
       "    <tr>\n",
       "      <th>...</th>\n",
       "      <td>...</td>\n",
       "      <td>...</td>\n",
       "    </tr>\n",
       "    <tr>\n",
       "      <th>5995</th>\n",
       "      <td>jashal ok gome back say said quot hi quot</td>\n",
       "      <td>0</td>\n",
       "    </tr>\n",
       "    <tr>\n",
       "      <th>5996</th>\n",
       "      <td>want close eye think tomorrow actual go tomorr...</td>\n",
       "      <td>1</td>\n",
       "    </tr>\n",
       "    <tr>\n",
       "      <th>5997</th>\n",
       "      <td>fight depress loneli crime doc thank golden st...</td>\n",
       "      <td>1</td>\n",
       "    </tr>\n",
       "    <tr>\n",
       "      <th>5998</th>\n",
       "      <td>nearli can not help feel like suppos best year...</td>\n",
       "      <td>1</td>\n",
       "    </tr>\n",
       "    <tr>\n",
       "      <th>5999</th>\n",
       "      <td>northonm</td>\n",
       "      <td>0</td>\n",
       "    </tr>\n",
       "  </tbody>\n",
       "</table>\n",
       "<p>6000 rows × 2 columns</p>\n",
       "</div>"
      ],
      "text/plain": [
       "                                                   text  label\n",
       "0     everyth tri feel better fail much shit continu...      1\n",
       "1                              mrdiamond umm gemini lol      0\n",
       "2     memori suppress long suddenli trigger today re...      1\n",
       "3     share tinyurl lkpoq si richard poon haha crino...      0\n",
       "4              mcgradytraci rehab can not wait see play      0\n",
       "...                                                 ...    ...\n",
       "5995          jashal ok gome back say said quot hi quot      0\n",
       "5996  want close eye think tomorrow actual go tomorr...      1\n",
       "5997  fight depress loneli crime doc thank golden st...      1\n",
       "5998  nearli can not help feel like suppos best year...      1\n",
       "5999                                           northonm      0\n",
       "\n",
       "[6000 rows x 2 columns]"
      ]
     },
     "execution_count": 76,
     "metadata": {},
     "output_type": "execute_result"
    }
   ],
   "source": [
    "transcriptions_reddit"
   ]
  },
  {
   "cell_type": "code",
   "execution_count": 77,
   "id": "wi3ZWjwNWz-e",
   "metadata": {
    "id": "wi3ZWjwNWz-e"
   },
   "outputs": [],
   "source": [
    "transcriptions_reddit_val=transcriptions_reddit.loc[:999]\n",
    "\n",
    "transcriptions_reddit_sample = transcriptions_reddit.loc[1000:]"
   ]
  },
  {
   "cell_type": "code",
   "execution_count": 78,
   "id": "PX4uUM3zghdA",
   "metadata": {
    "colab": {
     "base_uri": "https://localhost:8080/",
     "height": 423
    },
    "id": "PX4uUM3zghdA",
    "outputId": "334cc411-d0df-4bb6-acd4-e0dd5014c11b"
   },
   "outputs": [
    {
     "data": {
      "text/html": [
       "<div>\n",
       "<style scoped>\n",
       "    .dataframe tbody tr th:only-of-type {\n",
       "        vertical-align: middle;\n",
       "    }\n",
       "\n",
       "    .dataframe tbody tr th {\n",
       "        vertical-align: top;\n",
       "    }\n",
       "\n",
       "    .dataframe thead th {\n",
       "        text-align: right;\n",
       "    }\n",
       "</style>\n",
       "<table border=\"1\" class=\"dataframe\">\n",
       "  <thead>\n",
       "    <tr style=\"text-align: right;\">\n",
       "      <th></th>\n",
       "      <th>text</th>\n",
       "      <th>label</th>\n",
       "    </tr>\n",
       "  </thead>\n",
       "  <tbody>\n",
       "    <tr>\n",
       "      <th>0</th>\n",
       "      <td>everyth tri feel better fail much shit continu...</td>\n",
       "      <td>1</td>\n",
       "    </tr>\n",
       "    <tr>\n",
       "      <th>1</th>\n",
       "      <td>mrdiamond umm gemini lol</td>\n",
       "      <td>0</td>\n",
       "    </tr>\n",
       "    <tr>\n",
       "      <th>2</th>\n",
       "      <td>memori suppress long suddenli trigger today re...</td>\n",
       "      <td>1</td>\n",
       "    </tr>\n",
       "    <tr>\n",
       "      <th>3</th>\n",
       "      <td>share tinyurl lkpoq si richard poon haha crino...</td>\n",
       "      <td>0</td>\n",
       "    </tr>\n",
       "    <tr>\n",
       "      <th>4</th>\n",
       "      <td>mcgradytraci rehab can not wait see play</td>\n",
       "      <td>0</td>\n",
       "    </tr>\n",
       "    <tr>\n",
       "      <th>...</th>\n",
       "      <td>...</td>\n",
       "      <td>...</td>\n",
       "    </tr>\n",
       "    <tr>\n",
       "      <th>995</th>\n",
       "      <td>got done play pa cousin wet field rain epic di...</td>\n",
       "      <td>0</td>\n",
       "    </tr>\n",
       "    <tr>\n",
       "      <th>996</th>\n",
       "      <td>fun first afternoon intern ridemakerz go great...</td>\n",
       "      <td>0</td>\n",
       "    </tr>\n",
       "    <tr>\n",
       "      <th>997</th>\n",
       "      <td>aaroul look brightsid least rain hail snow day...</td>\n",
       "      <td>0</td>\n",
       "    </tr>\n",
       "    <tr>\n",
       "      <th>998</th>\n",
       "      <td>run way process thing happen way cope depress ...</td>\n",
       "      <td>1</td>\n",
       "    </tr>\n",
       "    <tr>\n",
       "      <th>999</th>\n",
       "      <td>mrrocknrol thank ye whitezombiewednesday turn ...</td>\n",
       "      <td>0</td>\n",
       "    </tr>\n",
       "  </tbody>\n",
       "</table>\n",
       "<p>1000 rows × 2 columns</p>\n",
       "</div>"
      ],
      "text/plain": [
       "                                                  text  label\n",
       "0    everyth tri feel better fail much shit continu...      1\n",
       "1                             mrdiamond umm gemini lol      0\n",
       "2    memori suppress long suddenli trigger today re...      1\n",
       "3    share tinyurl lkpoq si richard poon haha crino...      0\n",
       "4             mcgradytraci rehab can not wait see play      0\n",
       "..                                                 ...    ...\n",
       "995  got done play pa cousin wet field rain epic di...      0\n",
       "996  fun first afternoon intern ridemakerz go great...      0\n",
       "997  aaroul look brightsid least rain hail snow day...      0\n",
       "998  run way process thing happen way cope depress ...      1\n",
       "999  mrrocknrol thank ye whitezombiewednesday turn ...      0\n",
       "\n",
       "[1000 rows x 2 columns]"
      ]
     },
     "execution_count": 78,
     "metadata": {},
     "output_type": "execute_result"
    }
   ],
   "source": [
    "transcriptions_reddit_val"
   ]
  },
  {
   "cell_type": "code",
   "execution_count": 79,
   "id": "add17024",
   "metadata": {
    "id": "add17024"
   },
   "outputs": [],
   "source": [
    "uncored = reddit_uncored.merge(transcriptions_uncored, how='outer')"
   ]
  },
  {
   "cell_type": "code",
   "execution_count": 80,
   "id": "9ab3c673",
   "metadata": {
    "id": "9ab3c673"
   },
   "outputs": [],
   "source": [
    "uncored['label'] = uncored.label.astype(int)"
   ]
  },
  {
   "cell_type": "code",
   "execution_count": 81,
   "id": "ee20fb2a",
   "metadata": {
    "id": "ee20fb2a"
   },
   "outputs": [],
   "source": [
    "uncored_sample = uncored.sample(n = 5000  , random_state = 42)"
   ]
  },
  {
   "cell_type": "code",
   "execution_count": null,
   "id": "Pf-jNmGrWhCs",
   "metadata": {
    "id": "Pf-jNmGrWhCs"
   },
   "outputs": [],
   "source": []
  },
  {
   "cell_type": "code",
   "execution_count": 82,
   "id": "b1625e4e",
   "metadata": {
    "colab": {
     "base_uri": "https://localhost:8080/"
    },
    "id": "b1625e4e",
    "outputId": "978ae5d4-e35d-4a9e-fbfc-f6779ef1cf85"
   },
   "outputs": [
    {
     "name": "stderr",
     "output_type": "stream",
     "text": [
      "[nltk_data] Downloading package punkt to\n",
      "[nltk_data]     /home/lucaspancotto/nltk_data...\n",
      "[nltk_data]   Package punkt is already up-to-date!\n"
     ]
    },
    {
     "data": {
      "text/plain": [
       "True"
      ]
     },
     "execution_count": 82,
     "metadata": {},
     "output_type": "execute_result"
    }
   ],
   "source": [
    "import nltk\n",
    "nltk.download('punkt')\n"
   ]
  },
  {
   "cell_type": "code",
   "execution_count": 19,
   "id": "1b104abf",
   "metadata": {
    "id": "1b104abf"
   },
   "outputs": [],
   "source": []
  },
  {
   "cell_type": "code",
   "execution_count": 19,
   "id": "ef8fbfda",
   "metadata": {
    "id": "ef8fbfda"
   },
   "outputs": [],
   "source": []
  },
  {
   "cell_type": "code",
   "execution_count": 19,
   "id": "6bba9d92",
   "metadata": {
    "id": "6bba9d92"
   },
   "outputs": [],
   "source": []
  },
  {
   "cell_type": "code",
   "execution_count": 19,
   "id": "7d441f74",
   "metadata": {
    "id": "7d441f74"
   },
   "outputs": [],
   "source": []
  },
  {
   "cell_type": "code",
   "execution_count": 19,
   "id": "7495de22",
   "metadata": {
    "id": "7495de22"
   },
   "outputs": [],
   "source": []
  },
  {
   "cell_type": "code",
   "execution_count": 19,
   "id": "814c26d4",
   "metadata": {
    "id": "814c26d4"
   },
   "outputs": [],
   "source": []
  },
  {
   "cell_type": "code",
   "execution_count": 19,
   "id": "9f4f8632",
   "metadata": {
    "id": "9f4f8632"
   },
   "outputs": [],
   "source": []
  },
  {
   "cell_type": "code",
   "execution_count": 19,
   "id": "6b421494",
   "metadata": {
    "id": "6b421494"
   },
   "outputs": [],
   "source": []
  },
  {
   "cell_type": "code",
   "execution_count": 19,
   "id": "4f514079",
   "metadata": {
    "id": "4f514079"
   },
   "outputs": [],
   "source": []
  },
  {
   "cell_type": "markdown",
   "id": "06fe7341",
   "metadata": {
    "id": "06fe7341"
   },
   "source": [
    "## train test split\n"
   ]
  },
  {
   "cell_type": "code",
   "execution_count": 83,
   "id": "7954f8d3",
   "metadata": {
    "id": "7954f8d3"
   },
   "outputs": [],
   "source": [
    "#split for the data which is not uncored\n",
    "\n",
    "X =transcriptions_reddit_sample.text\n",
    "y = transcriptions_reddit_sample.label\n",
    "X_train, X_test, y_train, y_test = train_test_split(X , y ,test_size = 0.3 )\n"
   ]
  },
  {
   "cell_type": "code",
   "execution_count": 84,
   "id": "cedddde8",
   "metadata": {
    "id": "cedddde8"
   },
   "outputs": [],
   "source": [
    "#add uncored data to the training set\n",
    "X_train = pd.concat([X_train,uncored_sample.text])\n",
    "y_train = pd.concat([y_train , uncored_sample.label])"
   ]
  },
  {
   "cell_type": "code",
   "execution_count": 85,
   "id": "64326438",
   "metadata": {
    "colab": {
     "base_uri": "https://localhost:8080/"
    },
    "id": "64326438",
    "outputId": "7bdf2c44-624b-4b6e-8ae8-7b4f875a95c8"
   },
   "outputs": [
    {
     "name": "stdout",
     "output_type": "stream",
     "text": [
      "length of X_train 8500 length of X_test 1500 length of y_train 8500 length of y_test 1500\n"
     ]
    }
   ],
   "source": [
    "print('length of X_train',len(X_train), 'length of X_test',len(X_test), 'length of y_train',len(y_train), 'length of y_test',len(y_test))"
   ]
  },
  {
   "cell_type": "code",
   "execution_count": 86,
   "id": "86f8fc3c",
   "metadata": {
    "id": "86f8fc3c"
   },
   "outputs": [],
   "source": [
    "#validation \n",
    "\n",
    "X_val = transcriptions_reddit_val.text\n",
    "y_val = transcriptions_reddit_val.label"
   ]
  },
  {
   "cell_type": "markdown",
   "id": "d25011c9",
   "metadata": {
    "id": "d25011c9"
   },
   "source": [
    "## word tokenize and word 2 vec"
   ]
  },
  {
   "cell_type": "code",
   "execution_count": 23,
   "id": "20b2dad7",
   "metadata": {
    "id": "20b2dad7"
   },
   "outputs": [],
   "source": []
  },
  {
   "cell_type": "code",
   "execution_count": 87,
   "id": "adc36e55",
   "metadata": {
    "id": "adc36e55"
   },
   "outputs": [],
   "source": [
    "\n",
    "\n",
    "X_train = [word_tokenize(str(_)) for _ in X_train]\n",
    "X_test = [word_tokenize(str(_)) for _ in X_test]\n",
    "X_val = [word_tokenize(str(_)) for _ in X_val]\n"
   ]
  },
  {
   "cell_type": "code",
   "execution_count": 88,
   "id": "fe15b950",
   "metadata": {
    "id": "fe15b950"
   },
   "outputs": [],
   "source": [
    "\n",
    "\n",
    "# This line trains an entire embedding for the words in your train set\n",
    "word2vec = Word2Vec(sentences=X_train, vector_size=100, window=5, min_count=5)"
   ]
  },
  {
   "cell_type": "code",
   "execution_count": 89,
   "id": "-Zq6CmB6HtJ8",
   "metadata": {
    "colab": {
     "base_uri": "https://localhost:8080/"
    },
    "id": "-Zq6CmB6HtJ8",
    "outputId": "964b25e1-28d0-4c2c-b7a1-5cb156b45ec5"
   },
   "outputs": [
    {
     "data": {
      "text/plain": [
       "['word2vec_with_tweets3.sav']"
      ]
     },
     "execution_count": 89,
     "metadata": {},
     "output_type": "execute_result"
    }
   ],
   "source": [
    "import joblib\n",
    "joblib.dump(word2vec,'word2vec_with_tweets3.sav' )"
   ]
  },
  {
   "cell_type": "markdown",
   "id": "437a048b",
   "metadata": {
    "id": "437a048b"
   },
   "source": [
    "# data embedding"
   ]
  },
  {
   "cell_type": "markdown",
   "id": "82b435c1",
   "metadata": {
    "id": "82b435c1"
   },
   "source": [
    "## embed data"
   ]
  },
  {
   "cell_type": "code",
   "execution_count": 26,
   "id": "ac2928cb",
   "metadata": {
    "id": "ac2928cb"
   },
   "outputs": [],
   "source": [
    "def embed_sentence(word2vec, sentence):\n",
    "    # $CHALLENGIFY_BEGIN\n",
    "    embedded_sentence = []\n",
    "    for word in sentence:\n",
    "        if word in word2vec.wv:\n",
    "            embedded_sentence.append(word2vec.wv[word])\n",
    "        \n",
    "    return np.array(embedded_sentence)"
   ]
  },
  {
   "cell_type": "code",
   "execution_count": 27,
   "id": "8e6d47c0",
   "metadata": {
    "id": "8e6d47c0"
   },
   "outputs": [],
   "source": [
    "def embedding(word2vec, sentences):\n",
    "    # $CHALLENGIFY_BEGIN\n",
    "    embed = []\n",
    "    \n",
    "    for sentence in sentences:\n",
    "        embedded_sentence = embed_sentence(word2vec, sentence)\n",
    "        embed.append(embedded_sentence)\n",
    "        \n",
    "    return embed\n",
    "    # $CHALLENGIFY_END\n",
    "    \n",
    "X_train = embedding(word2vec, X_train)\n",
    "X_test = embedding(word2vec, X_test)\n",
    "X_val= embedding(word2vec, X_val)"
   ]
  },
  {
   "cell_type": "markdown",
   "id": "d2d387b3",
   "metadata": {
    "id": "d2d387b3"
   },
   "source": [
    "## pad data"
   ]
  },
  {
   "cell_type": "code",
   "execution_count": 28,
   "id": "c1e6fcc2",
   "metadata": {
    "colab": {
     "base_uri": "https://localhost:8080/",
     "height": 35
    },
    "id": "c1e6fcc2",
    "outputId": "452a9240-87d3-488b-da3c-b8dc8a03526d"
   },
   "outputs": [
    {
     "data": {
      "application/vnd.google.colaboratory.intrinsic+json": {
       "type": "string"
      },
      "text/plain": [
       "\"X_train_pad = pad_sequences(X_train, dtype='float', padding='post')\\nX_test_pad = pad_sequences(X_test, dtype='float', padding='post')\""
      ]
     },
     "execution_count": 28,
     "metadata": {},
     "output_type": "execute_result"
    }
   ],
   "source": [
    "'''X_train_pad = pad_sequences(X_train, dtype='float', padding='post')\n",
    "X_test_pad = pad_sequences(X_test, dtype='float', padding='post')'''"
   ]
  },
  {
   "cell_type": "code",
   "execution_count": 29,
   "id": "825d7dba",
   "metadata": {
    "colab": {
     "base_uri": "https://localhost:8080/"
    },
    "id": "825d7dba",
    "outputId": "4fe3d6be-276e-47d3-86dc-cd96f5c58208"
   },
   "outputs": [
    {
     "name": "stdout",
     "output_type": "stream",
     "text": [
      "number of train texts:  8500\n"
     ]
    },
    {
     "data": {
      "text/plain": [
       "52"
      ]
     },
     "execution_count": 29,
     "metadata": {},
     "output_type": "execute_result"
    }
   ],
   "source": [
    "print('number of train texts: ' ,len(X_train))\n",
    "X_train[3].shape[0]"
   ]
  },
  {
   "cell_type": "code",
   "execution_count": 30,
   "id": "8f4d019f",
   "metadata": {
    "id": "8f4d019f"
   },
   "outputs": [],
   "source": [
    "text_word_lengths = [X_train[i].shape[0] for i in np.arange(len(X_train))]\n",
    "text_word_lengths_test = [X_test[i].shape[0] for i in np.arange(len(X_test))]"
   ]
  },
  {
   "cell_type": "code",
   "execution_count": 31,
   "id": "c3d9443a",
   "metadata": {
    "colab": {
     "base_uri": "https://localhost:8080/",
     "height": 299
    },
    "id": "c3d9443a",
    "outputId": "2cb42b52-a1a2-4ef9-c640-bf48b7104cde"
   },
   "outputs": [
    {
     "data": {
      "text/plain": [
       "<matplotlib.axes._subplots.AxesSubplot at 0x7fa8a11b0650>"
      ]
     },
     "execution_count": 31,
     "metadata": {},
     "output_type": "execute_result"
    },
    {
     "data": {
      "image/png": "[encoded data removed]",
      "text/plain": [
       "<Figure size 432x288 with 2 Axes>"
      ]
     },
     "metadata": {
      "needs_background": "light"
     },
     "output_type": "display_data"
    }
   ],
   "source": [
    "plt.figure()\n",
    "plt.subplot(1,2,1)\n",
    "plt.title('train data lengths')\n",
    "sns.histplot(text_word_lengths)\n",
    "plt.subplot(1,2,2)\n",
    "plt.title('test data lengths')\n",
    "sns.histplot(text_word_lengths_test)"
   ]
  },
  {
   "cell_type": "code",
   "execution_count": 32,
   "id": "cb7954a6",
   "metadata": {
    "id": "cb7954a6"
   },
   "outputs": [],
   "source": [
    "#cortamos en 1000 words\n",
    "\n",
    "X_train_pad = pad_sequences(X_train, dtype='float', padding='post', maxlen= 200,truncating= 'pre')\n",
    "X_test_pad = pad_sequences(X_test, dtype='float', padding='post', maxlen = 200 , truncating = 'pre')\n",
    "X_val_pad = pad_sequences(X_val, dtype='float', padding='post', maxlen = 200 , truncating = 'pre')"
   ]
  },
  {
   "cell_type": "markdown",
   "id": "d0ece19a",
   "metadata": {
    "id": "d0ece19a"
   },
   "source": [
    "# the model"
   ]
  },
  {
   "cell_type": "markdown",
   "id": "9df38eba",
   "metadata": {
    "id": "9df38eba"
   },
   "source": [
    "## baseline score"
   ]
  },
  {
   "cell_type": "code",
   "execution_count": 33,
   "id": "6ab8b75d",
   "metadata": {
    "colab": {
     "base_uri": "https://localhost:8080/"
    },
    "id": "6ab8b75d",
    "outputId": "ab52eaa8-c9fc-4e98-814c-87384d44806e"
   },
   "outputs": [
    {
     "name": "stdout",
     "output_type": "stream",
     "text": [
      "Number of labels in train set {0: 4253, 1: 4247}\n",
      "Baseline accuracy:  0.5113333333333333\n"
     ]
    }
   ],
   "source": [
    "from sklearn.metrics import accuracy_score\n",
    "\n",
    "unique, counts = np.unique(y_train, return_counts=True)\n",
    "counts = dict(zip(unique, counts))\n",
    "print('Number of labels in train set', counts)\n",
    "\n",
    "y_pred = 0 if counts[0] > counts[1] else 1\n",
    "\n",
    "print('Baseline accuracy: ', accuracy_score(y_test, [y_pred]*len(y_test)))"
   ]
  },
  {
   "cell_type": "markdown",
   "id": "9c6b8d4e",
   "metadata": {
    "id": "9c6b8d4e"
   },
   "source": [
    "## first neural network"
   ]
  },
  {
   "cell_type": "code",
   "execution_count": 43,
   "id": "e7c1b929",
   "metadata": {
    "id": "e7c1b929"
   },
   "outputs": [],
   "source": [
    "from tensorflow.keras import Sequential\n",
    "from tensorflow.keras import layers\n",
    "\n",
    "def init_model():\n",
    "    model = Sequential()\n",
    "    model.add(layers.Masking())\n",
    "    model.add(layers.LSTM(100, activation='tanh', return_sequences=True))\n",
    "    model.add(layers.LSTM(100, activation='tanh', return_sequences=True))\n",
    "    model.add(layers.LSTM(50, activation='tanh'))\n",
    "\n",
    "    model.add(layers.Dense(25, activation='tanh'))\n",
    "\n",
    "    model.add(layers.Dropout(0.1))\n",
    "    model.add(layers.Dense(5, activation='tanh'))\n",
    "    model.add(layers.Dropout(0.1))\n",
    "\n",
    "    model.add(layers.Dense(1, activation='sigmoid'))\n",
    "\n",
    "    model.compile(loss='binary_crossentropy',\n",
    "                  optimizer='rmsprop',\n",
    "                  metrics=['accuracy', 'AUC','Precision','Recall'])\n",
    "    \n",
    "    return model\n",
    "\n",
    "model = init_model()"
   ]
  },
  {
   "cell_type": "code",
   "execution_count": 44,
   "id": "52abb431",
   "metadata": {
    "colab": {
     "base_uri": "https://localhost:8080/"
    },
    "id": "52abb431",
    "outputId": "addf53a3-4379-41bd-9027-b140fb6b6569"
   },
   "outputs": [
    {
     "name": "stdout",
     "output_type": "stream",
     "text": [
      "Epoch 1/100\n",
      "266/266 [==============================] - 69s 186ms/step - loss: 0.6944 - accuracy: 0.5305 - auc: 0.5377 - precision: 0.5289 - recall: 0.5522 - val_loss: 0.6561 - val_accuracy: 0.6200 - val_auc: 0.6703 - val_precision: 0.6261 - val_recall: 0.5571\n",
      "Epoch 2/100\n",
      "266/266 [==============================] - 44s 165ms/step - loss: 0.6798 - accuracy: 0.5649 - auc: 0.5922 - precision: 0.5566 - recall: 0.6355 - val_loss: 0.6899 - val_accuracy: 0.5970 - val_auc: 0.7006 - val_precision: 0.6900 - val_recall: 0.3224\n",
      "Epoch 3/100\n",
      "266/266 [==============================] - 44s 165ms/step - loss: 0.6696 - accuracy: 0.5907 - auc: 0.6231 - precision: 0.5809 - recall: 0.6489 - val_loss: 0.6734 - val_accuracy: 0.5900 - val_auc: 0.7088 - val_precision: 0.6905 - val_recall: 0.2959\n",
      "Epoch 4/100\n",
      "266/266 [==============================] - 44s 164ms/step - loss: 0.6564 - accuracy: 0.6141 - auc: 0.6530 - precision: 0.6049 - recall: 0.6567 - val_loss: 0.6383 - val_accuracy: 0.6300 - val_auc: 0.7289 - val_precision: 0.7055 - val_recall: 0.4204\n",
      "Epoch 5/100\n",
      "266/266 [==============================] - 44s 166ms/step - loss: 0.6489 - accuracy: 0.6288 - auc: 0.6702 - precision: 0.6179 - recall: 0.6737 - val_loss: 0.6156 - val_accuracy: 0.6660 - val_auc: 0.7334 - val_precision: 0.6980 - val_recall: 0.5612\n",
      "Epoch 6/100\n",
      "266/266 [==============================] - 46s 173ms/step - loss: 0.6334 - accuracy: 0.6476 - auc: 0.6946 - precision: 0.6390 - recall: 0.6777 - val_loss: 0.5990 - val_accuracy: 0.6750 - val_auc: 0.7347 - val_precision: 0.6307 - val_recall: 0.8122\n",
      "Epoch 7/100\n",
      "266/266 [==============================] - 41s 155ms/step - loss: 0.6239 - accuracy: 0.6608 - auc: 0.7092 - precision: 0.6522 - recall: 0.6883 - val_loss: 0.5938 - val_accuracy: 0.6760 - val_auc: 0.7506 - val_precision: 0.6246 - val_recall: 0.8490\n",
      "Epoch 8/100\n",
      "266/266 [==============================] - 43s 163ms/step - loss: 0.6103 - accuracy: 0.6736 - auc: 0.7286 - precision: 0.6661 - recall: 0.6955 - val_loss: 0.5896 - val_accuracy: 0.6930 - val_auc: 0.7486 - val_precision: 0.6619 - val_recall: 0.7633\n",
      "Epoch 9/100\n",
      "266/266 [==============================] - 43s 162ms/step - loss: 0.5997 - accuracy: 0.6807 - auc: 0.7418 - precision: 0.6729 - recall: 0.7024 - val_loss: 0.6145 - val_accuracy: 0.6680 - val_auc: 0.7535 - val_precision: 0.7182 - val_recall: 0.5306\n",
      "Epoch 10/100\n",
      "266/266 [==============================] - 42s 157ms/step - loss: 0.5896 - accuracy: 0.6902 - auc: 0.7537 - precision: 0.6848 - recall: 0.7040 - val_loss: 0.6020 - val_accuracy: 0.6630 - val_auc: 0.7440 - val_precision: 0.6082 - val_recall: 0.8776\n",
      "Epoch 11/100\n",
      "266/266 [==============================] - 43s 164ms/step - loss: 0.5748 - accuracy: 0.7040 - auc: 0.7703 - precision: 0.6992 - recall: 0.7153 - val_loss: 0.5864 - val_accuracy: 0.6890 - val_auc: 0.7553 - val_precision: 0.7020 - val_recall: 0.6347\n",
      "Epoch 12/100\n",
      "266/266 [==============================] - 43s 163ms/step - loss: 0.5642 - accuracy: 0.7159 - auc: 0.7813 - precision: 0.7117 - recall: 0.7250 - val_loss: 0.5890 - val_accuracy: 0.6750 - val_auc: 0.7531 - val_precision: 0.6324 - val_recall: 0.8041\n",
      "Epoch 13/100\n",
      "266/266 [==============================] - 43s 161ms/step - loss: 0.5465 - accuracy: 0.7265 - auc: 0.7978 - precision: 0.7206 - recall: 0.7391 - val_loss: 0.5804 - val_accuracy: 0.6910 - val_auc: 0.7596 - val_precision: 0.6642 - val_recall: 0.7469\n",
      "Epoch 14/100\n",
      "266/266 [==============================] - 43s 160ms/step - loss: 0.5360 - accuracy: 0.7372 - auc: 0.8077 - precision: 0.7297 - recall: 0.7528 - val_loss: 0.5859 - val_accuracy: 0.6740 - val_auc: 0.7495 - val_precision: 0.6701 - val_recall: 0.6592\n",
      "Epoch 15/100\n",
      "266/266 [==============================] - 44s 165ms/step - loss: 0.5116 - accuracy: 0.7529 - auc: 0.8278 - precision: 0.7486 - recall: 0.7612 - val_loss: 0.6107 - val_accuracy: 0.6810 - val_auc: 0.7587 - val_precision: 0.7232 - val_recall: 0.5653\n",
      "Epoch 16/100\n",
      "266/266 [==============================] - 43s 161ms/step - loss: 0.4913 - accuracy: 0.7615 - auc: 0.8431 - precision: 0.7553 - recall: 0.7733 - val_loss: 0.5897 - val_accuracy: 0.6710 - val_auc: 0.7631 - val_precision: 0.7048 - val_recall: 0.5653\n"
     ]
    }
   ],
   "source": [
    "from tensorflow.keras.callbacks import EarlyStopping\n",
    "\n",
    "es = EarlyStopping(patience=3, restore_best_weights=True)\n",
    "\n",
    "history_fit = model.fit(X_train_pad, y_train.values, \n",
    "          batch_size = 32,\n",
    "          epochs=100,\n",
    "        validation_data= (X_val_pad,y_val.values) ,\n",
    "          callbacks=[es],\n",
    "          verbose = 1\n",
    "         )"
   ]
  },
  {
   "cell_type": "code",
   "execution_count": 35,
   "id": "HYdFB8tAP0tK",
   "metadata": {
    "id": "HYdFB8tAP0tK"
   },
   "outputs": [],
   "source": []
  },
  {
   "cell_type": "code",
   "execution_count": 49,
   "id": "08ccfd80",
   "metadata": {
    "colab": {
     "base_uri": "https://localhost:8080/",
     "height": 305
    },
    "id": "08ccfd80",
    "outputId": "72f6d549-20ba-45d3-f902-d85d17d68ba1"
   },
   "outputs": [
    {
     "ename": "FileNotFoundError",
     "evalue": "ignored",
     "output_type": "error",
     "traceback": [
      "\u001b[0;31m---------------------------------------------------------------------------\u001b[0m",
      "\u001b[0;31mFileNotFoundError\u001b[0m                         Traceback (most recent call last)",
      "\u001b[0;32m<ipython-input-49-60e4b8fd82aa>\u001b[0m in \u001b[0;36m<module>\u001b[0;34m()\u001b[0m\n\u001b[1;32m      1\u001b[0m \u001b[0;32mimport\u001b[0m \u001b[0mjoblib\u001b[0m\u001b[0;34m\u001b[0m\u001b[0;34m\u001b[0m\u001b[0m\n\u001b[0;32m----> 2\u001b[0;31m \u001b[0mjoblib\u001b[0m\u001b[0;34m.\u001b[0m\u001b[0mdump\u001b[0m\u001b[0;34m(\u001b[0m\u001b[0mmodel\u001b[0m\u001b[0;34m,\u001b[0m \u001b[0;34m'/contents/rnn_without_tweets1.sav'\u001b[0m\u001b[0;34m)\u001b[0m\u001b[0;34m\u001b[0m\u001b[0;34m\u001b[0m\u001b[0m\n\u001b[0m",
      "\u001b[0;32m/usr/local/lib/python3.7/dist-packages/joblib/numpy_pickle.py\u001b[0m in \u001b[0;36mdump\u001b[0;34m(value, filename, compress, protocol, cache_size)\u001b[0m\n\u001b[1;32m    479\u001b[0m             \u001b[0mNumpyPickler\u001b[0m\u001b[0;34m(\u001b[0m\u001b[0mf\u001b[0m\u001b[0;34m,\u001b[0m \u001b[0mprotocol\u001b[0m\u001b[0;34m=\u001b[0m\u001b[0mprotocol\u001b[0m\u001b[0;34m)\u001b[0m\u001b[0;34m.\u001b[0m\u001b[0mdump\u001b[0m\u001b[0;34m(\u001b[0m\u001b[0mvalue\u001b[0m\u001b[0;34m)\u001b[0m\u001b[0;34m\u001b[0m\u001b[0;34m\u001b[0m\u001b[0m\n\u001b[1;32m    480\u001b[0m     \u001b[0;32melif\u001b[0m \u001b[0mis_filename\u001b[0m\u001b[0;34m:\u001b[0m\u001b[0;34m\u001b[0m\u001b[0;34m\u001b[0m\u001b[0m\n\u001b[0;32m--> 481\u001b[0;31m         \u001b[0;32mwith\u001b[0m \u001b[0mopen\u001b[0m\u001b[0;34m(\u001b[0m\u001b[0mfilename\u001b[0m\u001b[0;34m,\u001b[0m \u001b[0;34m'wb'\u001b[0m\u001b[0;34m)\u001b[0m \u001b[0;32mas\u001b[0m \u001b[0mf\u001b[0m\u001b[0;34m:\u001b[0m\u001b[0;34m\u001b[0m\u001b[0;34m\u001b[0m\u001b[0m\n\u001b[0m\u001b[1;32m    482\u001b[0m             \u001b[0mNumpyPickler\u001b[0m\u001b[0;34m(\u001b[0m\u001b[0mf\u001b[0m\u001b[0;34m,\u001b[0m \u001b[0mprotocol\u001b[0m\u001b[0;34m=\u001b[0m\u001b[0mprotocol\u001b[0m\u001b[0;34m)\u001b[0m\u001b[0;34m.\u001b[0m\u001b[0mdump\u001b[0m\u001b[0;34m(\u001b[0m\u001b[0mvalue\u001b[0m\u001b[0;34m)\u001b[0m\u001b[0;34m\u001b[0m\u001b[0;34m\u001b[0m\u001b[0m\n\u001b[1;32m    483\u001b[0m     \u001b[0;32melse\u001b[0m\u001b[0;34m:\u001b[0m\u001b[0;34m\u001b[0m\u001b[0;34m\u001b[0m\u001b[0m\n",
      "\u001b[0;31mFileNotFoundError\u001b[0m: [Errno 2] No such file or directory: '/contents/rnn_without_tweets1.sav'"
     ]
    }
   ],
   "source": [
    "import joblib\n",
    "joblib.dump(model, 'rnn_without_tweets1.sav')"
   ]
  },
  {
   "cell_type": "code",
   "execution_count": 46,
   "id": "8218918e",
   "metadata": {
    "colab": {
     "base_uri": "https://localhost:8080/",
     "height": 295
    },
    "id": "8218918e",
    "outputId": "c6ea0c44-6656-416f-ce03-aa0ceefb33c0"
   },
   "outputs": [
    {
     "data": {
      "image/png": "[encoded data removed]",
      "text/plain": [
       "<Figure size 936x288 with 4 Axes>"
      ]
     },
     "metadata": {
      "needs_background": "light"
     },
     "output_type": "display_data"
    }
   ],
   "source": [
    "def plot_loss_mae(history):\n",
    "    fig, (ax1, ax2, ax3, ax4) = plt.subplots(1,4, figsize=(13,4))\n",
    "    ax1.plot(history.history['loss'])\n",
    "    ax1.plot(history.history['val_loss'])\n",
    "    ax1.set_title('Model loss')\n",
    "    ax1.set_ylabel('Loss')\n",
    "    ax1.set_xlabel('Epoch')\n",
    "    #ax1.set_ylim(ymin=0, ymax=200)\n",
    "    ax1.legend(['Train', 'Validation'], loc='best')\n",
    "    ax1.grid(axis=\"x\",linewidth=0.5)\n",
    "    ax1.grid(axis=\"y\",linewidth=0.5)    \n",
    "    \n",
    "    ax2.plot(history.history['accuracy'])\n",
    "    ax2.plot(history.history['val_accuracy'])\n",
    "    ax2.set_title('accuracy')\n",
    "    ax2.set_ylabel('accuracy')\n",
    "    ax2.set_xlabel('Epoch')\n",
    "    #ax2.set_ylim(ymin=0, ymax=20)\n",
    "    ax2.legend(['Train', 'Validation'], loc='best')\n",
    "    ax2.grid(axis=\"x\",linewidth=0.5)\n",
    "    ax2.grid(axis=\"y\",linewidth=0.5)    \n",
    "\n",
    "    \n",
    "    \n",
    "    ax3.plot(history.history['recall'])\n",
    "    ax3.plot(history.history['val_recall'])\n",
    "    ax3.set_title('recall')\n",
    "    ax3.set_ylabel('recall')\n",
    "    ax3.set_xlabel('Epoch')\n",
    "    #ax3.set_ylim(ymin=0, ymax=20)\n",
    "    ax3.legend(['Train', 'Validation'], loc='best')\n",
    "    ax3.grid(axis=\"x\",linewidth=0.5)\n",
    "    ax3.grid(axis=\"y\",linewidth=0.5)\n",
    "    \n",
    "    ax4.plot(history.history['auc'])\n",
    "    ax4.plot(history.history['val_auc'])\n",
    "    ax4.set_title('AUC')\n",
    "    ax4.set_ylabel('AUC')\n",
    "    ax4.set_xlabel('Epoch')\n",
    "    #ax4.set_ylim(ymin=0, ymax=20)\n",
    "    ax4.legend(['Train', 'Validation'], loc='best')\n",
    "    ax4.grid(axis=\"x\",linewidth=0.5)\n",
    "    ax4.grid(axis=\"y\",linewidth=0.5)\n",
    "    \n",
    "    plt.show()\n",
    "\n",
    "plot_loss_mae(history_fit)"
   ]
  },
  {
   "cell_type": "code",
   "execution_count": 47,
   "id": "06456cdd",
   "metadata": {
    "colab": {
     "base_uri": "https://localhost:8080/"
    },
    "id": "06456cdd",
    "outputId": "1480a66d-727c-4a05-af7a-d60d9feb4818"
   },
   "outputs": [
    {
     "name": "stdout",
     "output_type": "stream",
     "text": [
      "47/47 [==============================] - 2s 48ms/step - loss: 0.6118 - accuracy: 0.6673 - auc: 0.7318 - precision: 0.6367 - recall: 0.7435\n"
     ]
    }
   ],
   "source": [
    "evaluation = model.evaluate(X_test_pad , y_test.values , verbose = 1 , return_dict=True)"
   ]
  },
  {
   "cell_type": "code",
   "execution_count": 48,
   "id": "77da5893",
   "metadata": {
    "colab": {
     "base_uri": "https://localhost:8080/"
    },
    "id": "77da5893",
    "outputId": "02017d1a-551f-476a-88f5-c48f223ff49c"
   },
   "outputs": [
    {
     "data": {
      "text/plain": [
       "{'accuracy': 0.6673333048820496,\n",
       " 'auc': 0.7318364977836609,\n",
       " 'loss': 0.611809253692627,\n",
       " 'precision': 0.6366822719573975,\n",
       " 'recall': 0.7435197830200195}"
      ]
     },
     "execution_count": 48,
     "metadata": {},
     "output_type": "execute_result"
    }
   ],
   "source": [
    "evaluation"
   ]
  },
  {
   "cell_type": "code",
   "execution_count": 40,
   "id": "a828d589",
   "metadata": {
    "id": "a828d589"
   },
   "outputs": [],
   "source": []
  },
  {
   "cell_type": "code",
   "execution_count": 40,
   "id": "1ebf7817",
   "metadata": {
    "id": "1ebf7817"
   },
   "outputs": [],
   "source": [
    "\n",
    "\n"
   ]
  },
  {
   "cell_type": "code",
   "execution_count": 40,
   "id": "4d85f92c",
   "metadata": {
    "id": "4d85f92c"
   },
   "outputs": [],
   "source": []
  }
 ],
 "metadata": {
  "accelerator": "GPU",
  "colab": {
   "name": "rnn_word2vec_all_data.ipynb",
   "provenance": []
  },
  "kernelspec": {
   "display_name": "Python 3 (ipykernel)",
   "language": "python",
   "name": "python3"
  },
  "language_info": {
   "codemirror_mode": {
    "name": "ipython",
    "version": 3
   },
   "file_extension": ".py",
   "mimetype": "text/x-python",
   "name": "python",
   "nbconvert_exporter": "python",
   "pygments_lexer": "ipython3",
   "version": "3.8.12"
  },
  "toc": {
   "base_numbering": 1,
   "nav_menu": {},
   "number_sections": true,
   "sideBar": true,
   "skip_h1_title": false,
   "title_cell": "Table of Contents",
   "title_sidebar": "Contents",
   "toc_cell": false,
   "toc_position": {},
   "toc_section_display": true,
   "toc_window_display": false
  }
 },
 "nbformat": 4,
 "nbformat_minor": 5
}
