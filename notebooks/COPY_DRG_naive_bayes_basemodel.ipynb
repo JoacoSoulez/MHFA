{
 "cells": [
  {
   "cell_type": "markdown",
   "id": "6054c8d2",
   "metadata": {},
   "source": [
    "# Bring data"
   ]
  },
  {
   "cell_type": "code",
   "execution_count": 1,
   "id": "526689db",
   "metadata": {},
   "outputs": [],
   "source": [
    "import pandas as pd\n",
    "import numpy as np\n",
    "import matplotlib.pyplot as plt\n",
    "import seaborn as sns"
   ]
  },
  {
   "cell_type": "code",
   "execution_count": 2,
   "id": "93cdc1b3",
   "metadata": {},
   "outputs": [
    {
     "name": "stdout",
     "output_type": "stream",
     "text": [
      "please type your path to the database: /Users/danielriojas/Documents/Random_2022/clean_depressionvspossitive.csv\n"
     ]
    },
    {
     "name": "stderr",
     "output_type": "stream",
     "text": [
      "/var/folders/qt/429xyfsn0gb9bdmc6vhhrh_h0000gn/T/ipykernel_37945/3614654796.py:3: DtypeWarning: Columns (1) have mixed types. Specify dtype option on import or set low_memory=False.\n",
      "  data = pd.read_csv(f'{path}')\n"
     ]
    },
    {
     "data": {
      "text/html": [
       "<div>\n",
       "<style scoped>\n",
       "    .dataframe tbody tr th:only-of-type {\n",
       "        vertical-align: middle;\n",
       "    }\n",
       "\n",
       "    .dataframe tbody tr th {\n",
       "        vertical-align: top;\n",
       "    }\n",
       "\n",
       "    .dataframe thead th {\n",
       "        text-align: right;\n",
       "    }\n",
       "</style>\n",
       "<table border=\"1\" class=\"dataframe\">\n",
       "  <thead>\n",
       "    <tr style=\"text-align: right;\">\n",
       "      <th></th>\n",
       "      <th>Unnamed: 0</th>\n",
       "      <th>ids</th>\n",
       "      <th>Tweet</th>\n",
       "      <th>label</th>\n",
       "    </tr>\n",
       "  </thead>\n",
       "  <tbody>\n",
       "    <tr>\n",
       "      <th>0</th>\n",
       "      <td>799999</td>\n",
       "      <td>1467822272</td>\n",
       "      <td>love health4uandpets u guys r best</td>\n",
       "      <td>0</td>\n",
       "    </tr>\n",
       "    <tr>\n",
       "      <th>1</th>\n",
       "      <td>800000</td>\n",
       "      <td>1467822273</td>\n",
       "      <td>im meeting one besties tonight cant wait girl ...</td>\n",
       "      <td>0</td>\n",
       "    </tr>\n",
       "    <tr>\n",
       "      <th>2</th>\n",
       "      <td>800001</td>\n",
       "      <td>1467822283</td>\n",
       "      <td>darealsunisakim thanks twitter add sunisa got ...</td>\n",
       "      <td>0</td>\n",
       "    </tr>\n",
       "    <tr>\n",
       "      <th>3</th>\n",
       "      <td>800002</td>\n",
       "      <td>1467822287</td>\n",
       "      <td>sick really cheap hurts much eat real food plu...</td>\n",
       "      <td>0</td>\n",
       "    </tr>\n",
       "    <tr>\n",
       "      <th>4</th>\n",
       "      <td>800003</td>\n",
       "      <td>1467822293</td>\n",
       "      <td>lovesbrooklyn2 effect everyone</td>\n",
       "      <td>0</td>\n",
       "    </tr>\n",
       "  </tbody>\n",
       "</table>\n",
       "</div>"
      ],
      "text/plain": [
       "   Unnamed: 0         ids                                              Tweet  \\\n",
       "0      799999  1467822272                 love health4uandpets u guys r best   \n",
       "1      800000  1467822273  im meeting one besties tonight cant wait girl ...   \n",
       "2      800001  1467822283  darealsunisakim thanks twitter add sunisa got ...   \n",
       "3      800002  1467822287  sick really cheap hurts much eat real food plu...   \n",
       "4      800003  1467822293                     lovesbrooklyn2 effect everyone   \n",
       "\n",
       "   label  \n",
       "0      0  \n",
       "1      0  \n",
       "2      0  \n",
       "3      0  \n",
       "4      0  "
      ]
     },
     "execution_count": 2,
     "metadata": {},
     "output_type": "execute_result"
    }
   ],
   "source": [
    "#bring your data!\n",
    "path = input('please type your path to the database: ')\n",
    "data = pd.read_csv(f'{path}')\n",
    "data.head()\n",
    "\n",
    "#/Users/danielriojas/Documents/Random_2022/clean_depressionvspossitive.csv"
   ]
  },
  {
   "cell_type": "code",
   "execution_count": 3,
   "id": "670627dc",
   "metadata": {},
   "outputs": [],
   "source": [
    "positive_data = data[data.label == 0]"
   ]
  },
  {
   "cell_type": "code",
   "execution_count": 6,
   "id": "9a35ff12",
   "metadata": {},
   "outputs": [
    {
     "data": {
      "text/plain": [
       "(800000, 4)"
      ]
     },
     "execution_count": 6,
     "metadata": {},
     "output_type": "execute_result"
    }
   ],
   "source": [
    "positive_data.shape"
   ]
  },
  {
   "cell_type": "code",
   "execution_count": 4,
   "id": "5b64541e",
   "metadata": {},
   "outputs": [],
   "source": [
    "depression_data = data[data.label==1]"
   ]
  },
  {
   "cell_type": "code",
   "execution_count": 7,
   "id": "7d9ddb07",
   "metadata": {},
   "outputs": [
    {
     "data": {
      "text/plain": [
       "(2345, 4)"
      ]
     },
     "execution_count": 7,
     "metadata": {},
     "output_type": "execute_result"
    }
   ],
   "source": [
    "depression_data.shape"
   ]
  },
  {
   "cell_type": "code",
   "execution_count": 8,
   "id": "097e7972",
   "metadata": {},
   "outputs": [],
   "source": [
    "sample_positive_data = positive_data.sample( n  = 2345)"
   ]
  },
  {
   "cell_type": "code",
   "execution_count": 9,
   "id": "749314ed",
   "metadata": {},
   "outputs": [
    {
     "name": "stderr",
     "output_type": "stream",
     "text": [
      "/var/folders/qt/429xyfsn0gb9bdmc6vhhrh_h0000gn/T/ipykernel_37945/2366412613.py:1: FutureWarning: The frame.append method is deprecated and will be removed from pandas in a future version. Use pandas.concat instead.\n",
      "  sample_data = sample_positive_data.append(depression_data)\n"
     ]
    }
   ],
   "source": [
    "sample_data = sample_positive_data.append(depression_data)"
   ]
  },
  {
   "cell_type": "code",
   "execution_count": 10,
   "id": "d271f5c9",
   "metadata": {},
   "outputs": [],
   "source": [
    "sample_data =  sample_data.sample(frac=1)"
   ]
  },
  {
   "cell_type": "code",
   "execution_count": 11,
   "id": "11ea2ee9",
   "metadata": {},
   "outputs": [
    {
     "data": {
      "text/plain": [
       "(4690, 4)"
      ]
     },
     "execution_count": 11,
     "metadata": {},
     "output_type": "execute_result"
    }
   ],
   "source": [
    "sample_data.shape"
   ]
  },
  {
   "cell_type": "code",
   "execution_count": 12,
   "id": "538b89e8",
   "metadata": {},
   "outputs": [
    {
     "name": "stdout",
     "output_type": "stream",
     "text": [
      "choose the text column of your data: Tweet\n",
      "choose the target column of your data: label\n"
     ]
    }
   ],
   "source": [
    "text_col = input('choose the text column of your data: ')\n",
    "X = sample_data[f'{text_col}']\n",
    "\n",
    "target_col = input('choose the target column of your data: ')\n",
    "y = sample_data[f'{target_col}']"
   ]
  },
  {
   "cell_type": "markdown",
   "id": "81ecfccc",
   "metadata": {},
   "source": [
    "# naive bayes model"
   ]
  },
  {
   "cell_type": "markdown",
   "id": "fdd01e52",
   "metadata": {},
   "source": [
    "## cross validation"
   ]
  },
  {
   "cell_type": "code",
   "execution_count": 23,
   "id": "c870d9c7",
   "metadata": {},
   "outputs": [
    {
     "name": "stdout",
     "output_type": "stream",
     "text": [
      "Collecting nltk\n",
      "  Using cached nltk-3.7-py3-none-any.whl (1.5 MB)\n",
      "Collecting click\n",
      "  Downloading click-8.0.4-py3-none-any.whl (97 kB)\n",
      "\u001b[2K     \u001b[90m━━━━━━━━━━━━━━━━━━━━━━━━━━━━━━━━━━━━━━━\u001b[0m \u001b[32m97.5/97.5 KB\u001b[0m \u001b[31m835.1 kB/s\u001b[0m eta \u001b[36m0:00:00\u001b[0m \u001b[36m0:00:01\u001b[0m\n",
      "\u001b[?25hCollecting tqdm\n",
      "  Downloading tqdm-4.63.0-py2.py3-none-any.whl (76 kB)\n",
      "\u001b[2K     \u001b[90m━━━━━━━━━━━━━━━━━━━━━━━━━━━━━━━━━━━━━━━\u001b[0m \u001b[32m76.6/76.6 KB\u001b[0m \u001b[31m651.0 kB/s\u001b[0m eta \u001b[36m0:00:00\u001b[0ma \u001b[36m0:00:01\u001b[0m\n",
      "\u001b[?25hRequirement already satisfied: joblib in /Users/danielriojas/.pyenv/versions/3.8.12/envs/MHFA/lib/python3.8/site-packages (from nltk) (1.1.0)\n",
      "Collecting regex>=2021.8.3\n",
      "  Downloading regex-2022.3.2-cp38-cp38-macosx_10_9_x86_64.whl (289 kB)\n",
      "\u001b[2K     \u001b[90m━━━━━━━━━━━━━━━━━━━━━━━━━━━━━━━━━━━━━━━\u001b[0m \u001b[32m289.1/289.1 KB\u001b[0m \u001b[31m1.0 MB/s\u001b[0m eta \u001b[36m0:00:00\u001b[0m00:01\u001b[0m00:01\u001b[0m\n",
      "\u001b[?25hInstalling collected packages: tqdm, regex, click, nltk\n",
      "Successfully installed click-8.0.4 nltk-3.7 regex-2022.3.2 tqdm-4.63.0\n"
     ]
    }
   ],
   "source": [
    "!pip install nltk"
   ]
  },
  {
   "cell_type": "code",
   "execution_count": 25,
   "id": "56419c81",
   "metadata": {},
   "outputs": [],
   "source": [
    "from sklearn.pipeline import Pipeline\n",
    "from sklearn.model_selection import GridSearchCV , cross_val_score\n",
    "from sklearn.naive_bayes import MultinomialNB\n",
    "from sklearn.feature_extraction.text import TfidfVectorizer\n",
    "from nltk.tokenize import word_tokenize"
   ]
  },
  {
   "cell_type": "code",
   "execution_count": 26,
   "id": "84a04a4e",
   "metadata": {},
   "outputs": [],
   "source": [
    "tfid = TfidfVectorizer(ngram_range=(4,5))\n",
    "nb = MultinomialNB()"
   ]
  },
  {
   "cell_type": "code",
   "execution_count": 27,
   "id": "a64ea47f",
   "metadata": {},
   "outputs": [
    {
     "data": {
      "text/plain": [
       "800439    recently fallen waking going run everyday let ...\n",
       "800286    miss post running mental health use running co...\n",
       "173545    geofffield lol awesome must sign get lorikeets...\n",
       "18433     moblie commercial quot old school quot classic...\n",
       "801489                                                  nan\n",
       "                                ...                        \n",
       "411577                               side note paper doable\n",
       "122932                               thanks jenniwalsh love\n",
       "600675    going visit sister untill felt abit sick nan b...\n",
       "801247    darrenestes negative better option depression ...\n",
       "776548                  today matching nindynindot hahahaha\n",
       "Name: Tweet, Length: 4690, dtype: object"
      ]
     },
     "execution_count": 27,
     "metadata": {},
     "output_type": "execute_result"
    }
   ],
   "source": [
    "X = X.apply(str)\n",
    "#X.apply(word_tokenize)\n",
    "X"
   ]
  },
  {
   "cell_type": "code",
   "execution_count": 28,
   "id": "1177ecc6",
   "metadata": {},
   "outputs": [],
   "source": [
    "vector = tfid.fit_transform(X)"
   ]
  },
  {
   "cell_type": "code",
   "execution_count": null,
   "id": "61de14b4",
   "metadata": {},
   "outputs": [],
   "source": [
    "#X = pd.DataFrame(X.toarray(),columns = tfid.get_feature_names_out())"
   ]
  },
  {
   "cell_type": "code",
   "execution_count": 29,
   "id": "110bcc62",
   "metadata": {},
   "outputs": [
    {
     "name": "stderr",
     "output_type": "stream",
     "text": [
      "[Parallel(n_jobs=-1)]: Using backend LokyBackend with 4 concurrent workers.\n",
      "[Parallel(n_jobs=-1)]: Done   3 out of   3 | elapsed:    2.3s finished\n"
     ]
    }
   ],
   "source": [
    "simple_cross_val_recall = cross_val_score(nb, vector , y , scoring= 'recall', cv=3,\n",
    "               n_jobs = -1 , verbose = 1\n",
    "               )"
   ]
  },
  {
   "cell_type": "code",
   "execution_count": 30,
   "id": "7b754447",
   "metadata": {},
   "outputs": [
    {
     "name": "stdout",
     "output_type": "stream",
     "text": [
      "the recall:  0.15268149234865133\n"
     ]
    }
   ],
   "source": [
    "print('the recall: ' ,np.mean(simple_cross_val_recall))"
   ]
  },
  {
   "cell_type": "code",
   "execution_count": 31,
   "id": "c09e2822",
   "metadata": {},
   "outputs": [
    {
     "name": "stderr",
     "output_type": "stream",
     "text": [
      "[Parallel(n_jobs=-1)]: Using backend LokyBackend with 4 concurrent workers.\n",
      "[Parallel(n_jobs=-1)]: Done   3 out of   3 | elapsed:    1.8s finished\n"
     ]
    }
   ],
   "source": [
    "simple_cross_val_accuracy = cross_val_score(nb, vector , y , scoring= 'accuracy', cv=3,\n",
    "               n_jobs = -1 , verbose = 1\n",
    "               )"
   ]
  },
  {
   "cell_type": "code",
   "execution_count": 32,
   "id": "cbaf1aff",
   "metadata": {},
   "outputs": [
    {
     "name": "stdout",
     "output_type": "stream",
     "text": [
      "the accuracy:  0.551167939984695\n"
     ]
    }
   ],
   "source": [
    "print('the accuracy: ' , np.mean(simple_cross_val_accuracy) )"
   ]
  },
  {
   "cell_type": "markdown",
   "id": "d3649cb0",
   "metadata": {},
   "source": [
    "## grid search"
   ]
  },
  {
   "cell_type": "code",
   "execution_count": 33,
   "id": "0fa522e5",
   "metadata": {},
   "outputs": [
    {
     "data": {
      "text/plain": [
       "800439    recently fallen waking going run everyday let ...\n",
       "800286    miss post running mental health use running co...\n",
       "173545    geofffield lol awesome must sign get lorikeets...\n",
       "18433     moblie commercial quot old school quot classic...\n",
       "801489                                                  nan\n",
       "                                ...                        \n",
       "411577                               side note paper doable\n",
       "122932                               thanks jenniwalsh love\n",
       "600675    going visit sister untill felt abit sick nan b...\n",
       "801247    darrenestes negative better option depression ...\n",
       "776548                  today matching nindynindot hahahaha\n",
       "Name: Tweet, Length: 4690, dtype: object"
      ]
     },
     "execution_count": 33,
     "metadata": {},
     "output_type": "execute_result"
    }
   ],
   "source": [
    "tfid2 = TfidfVectorizer(ngram_range=(4,5))\n",
    "nb2 = MultinomialNB()\n",
    "X = X.apply(str)\n",
    "X"
   ]
  },
  {
   "cell_type": "code",
   "execution_count": 34,
   "id": "760852be",
   "metadata": {},
   "outputs": [],
   "source": [
    "pipe = Pipeline([\n",
    "    ('TfidfVectorizer', tfid2),\n",
    "    ('MultinomialNB()' , nb2)\n",
    "    \n",
    "])"
   ]
  },
  {
   "cell_type": "code",
   "execution_count": 35,
   "id": "8ea64c7e",
   "metadata": {},
   "outputs": [
    {
     "data": {
      "text/plain": [
       "{'memory': None,\n",
       " 'steps': [('TfidfVectorizer', TfidfVectorizer(ngram_range=(4, 5))),\n",
       "  ('MultinomialNB()', MultinomialNB())],\n",
       " 'verbose': False,\n",
       " 'TfidfVectorizer': TfidfVectorizer(ngram_range=(4, 5)),\n",
       " 'MultinomialNB()': MultinomialNB(),\n",
       " 'TfidfVectorizer__analyzer': 'word',\n",
       " 'TfidfVectorizer__binary': False,\n",
       " 'TfidfVectorizer__decode_error': 'strict',\n",
       " 'TfidfVectorizer__dtype': numpy.float64,\n",
       " 'TfidfVectorizer__encoding': 'utf-8',\n",
       " 'TfidfVectorizer__input': 'content',\n",
       " 'TfidfVectorizer__lowercase': True,\n",
       " 'TfidfVectorizer__max_df': 1.0,\n",
       " 'TfidfVectorizer__max_features': None,\n",
       " 'TfidfVectorizer__min_df': 1,\n",
       " 'TfidfVectorizer__ngram_range': (4, 5),\n",
       " 'TfidfVectorizer__norm': 'l2',\n",
       " 'TfidfVectorizer__preprocessor': None,\n",
       " 'TfidfVectorizer__smooth_idf': True,\n",
       " 'TfidfVectorizer__stop_words': None,\n",
       " 'TfidfVectorizer__strip_accents': None,\n",
       " 'TfidfVectorizer__sublinear_tf': False,\n",
       " 'TfidfVectorizer__token_pattern': '(?u)\\\\b\\\\w\\\\w+\\\\b',\n",
       " 'TfidfVectorizer__tokenizer': None,\n",
       " 'TfidfVectorizer__use_idf': True,\n",
       " 'TfidfVectorizer__vocabulary': None,\n",
       " 'MultinomialNB()__alpha': 1.0,\n",
       " 'MultinomialNB()__class_prior': None,\n",
       " 'MultinomialNB()__fit_prior': True}"
      ]
     },
     "execution_count": 35,
     "metadata": {},
     "output_type": "execute_result"
    }
   ],
   "source": [
    "pipe.get_params()"
   ]
  },
  {
   "cell_type": "code",
   "execution_count": 36,
   "id": "97bb330d",
   "metadata": {},
   "outputs": [],
   "source": [
    "pipe_grid = {\n",
    "    'TfidfVectorizer__ngram_range': [(1,2) , (2,3), (3,4),(4, 5)],\n",
    "    'MultinomialNB()__alpha': [0.1 , 0.5 , 1.0]\n",
    "    \n",
    "}"
   ]
  },
  {
   "cell_type": "code",
   "execution_count": 37,
   "id": "84ce48a7",
   "metadata": {},
   "outputs": [],
   "source": [
    "search_recall= GridSearchCV(pipe,\n",
    "    pipe_grid,\n",
    "    scoring='recall',\n",
    "    n_jobs=-1,\n",
    "    cv=3,\n",
    "    verbose=1)"
   ]
  },
  {
   "cell_type": "code",
   "execution_count": 38,
   "id": "fc927baf",
   "metadata": {},
   "outputs": [
    {
     "name": "stdout",
     "output_type": "stream",
     "text": [
      "Fitting 3 folds for each of 12 candidates, totalling 36 fits\n"
     ]
    },
    {
     "data": {
      "text/plain": [
       "GridSearchCV(cv=3,\n",
       "             estimator=Pipeline(steps=[('TfidfVectorizer',\n",
       "                                        TfidfVectorizer(ngram_range=(4, 5))),\n",
       "                                       ('MultinomialNB()', MultinomialNB())]),\n",
       "             n_jobs=-1,\n",
       "             param_grid={'MultinomialNB()__alpha': [0.1, 0.5, 1.0],\n",
       "                         'TfidfVectorizer__ngram_range': [(1, 2), (2, 3),\n",
       "                                                          (3, 4), (4, 5)]},\n",
       "             scoring='recall', verbose=1)"
      ]
     },
     "execution_count": 38,
     "metadata": {},
     "output_type": "execute_result"
    }
   ],
   "source": [
    "search_recall.fit(X , y )"
   ]
  },
  {
   "cell_type": "code",
   "execution_count": 39,
   "id": "e3edd241",
   "metadata": {},
   "outputs": [
    {
     "name": "stdout",
     "output_type": "stream",
     "text": [
      "the best params for recall:  {'MultinomialNB()__alpha': 1.0, 'TfidfVectorizer__ngram_range': (1, 2)}\n",
      "the best recall score:  0.9744180030192782\n"
     ]
    }
   ],
   "source": [
    "print('the best params for recall: ',search_recall.best_params_)\n",
    "print('the best recall score: ' , search_recall.best_score_)"
   ]
  },
  {
   "cell_type": "code",
   "execution_count": 40,
   "id": "2cc21a78",
   "metadata": {},
   "outputs": [],
   "source": [
    "best_model_recall = search_recall.best_estimator_"
   ]
  },
  {
   "cell_type": "code",
   "execution_count": 41,
   "id": "97a5109d",
   "metadata": {},
   "outputs": [
    {
     "ename": "AttributeError",
     "evalue": "'MultinomialNB' object has no attribute 'params'",
     "output_type": "error",
     "traceback": [
      "\u001b[0;31m---------------------------------------------------------------------------\u001b[0m",
      "\u001b[0;31mAttributeError\u001b[0m                            Traceback (most recent call last)",
      "Input \u001b[0;32mIn [41]\u001b[0m, in \u001b[0;36m<cell line: 1>\u001b[0;34m()\u001b[0m\n\u001b[0;32m----> 1\u001b[0m \u001b[43mbest_model_recall\u001b[49m\u001b[43m[\u001b[49m\u001b[38;5;124;43m\"\u001b[39;49m\u001b[38;5;124;43mMultinomialNB()\u001b[39;49m\u001b[38;5;124;43m\"\u001b[39;49m\u001b[43m]\u001b[49m\u001b[38;5;241;43m.\u001b[39;49m\u001b[43mparams\u001b[49m()\n",
      "\u001b[0;31mAttributeError\u001b[0m: 'MultinomialNB' object has no attribute 'params'"
     ]
    }
   ],
   "source": [
    "best_model_recall[\"MultinomialNB()\"].params()"
   ]
  },
  {
   "cell_type": "code",
   "execution_count": null,
   "id": "959bfdb0",
   "metadata": {},
   "outputs": [],
   "source": []
  },
  {
   "cell_type": "code",
   "execution_count": null,
   "id": "fecb5957",
   "metadata": {},
   "outputs": [],
   "source": []
  },
  {
   "cell_type": "code",
   "execution_count": 42,
   "id": "0ebcecdf",
   "metadata": {},
   "outputs": [],
   "source": [
    "search_accuracy= GridSearchCV(pipe,\n",
    "    pipe_grid,\n",
    "    scoring='accuracy',\n",
    "    n_jobs=-1,\n",
    "    cv=3,\n",
    "    verbose=1)"
   ]
  },
  {
   "cell_type": "code",
   "execution_count": 43,
   "id": "a7067f15",
   "metadata": {},
   "outputs": [
    {
     "name": "stdout",
     "output_type": "stream",
     "text": [
      "Fitting 3 folds for each of 12 candidates, totalling 36 fits\n"
     ]
    },
    {
     "data": {
      "text/plain": [
       "GridSearchCV(cv=3,\n",
       "             estimator=Pipeline(steps=[('TfidfVectorizer',\n",
       "                                        TfidfVectorizer(ngram_range=(4, 5))),\n",
       "                                       ('MultinomialNB()', MultinomialNB())]),\n",
       "             n_jobs=-1,\n",
       "             param_grid={'MultinomialNB()__alpha': [0.1, 0.5, 1.0],\n",
       "                         'TfidfVectorizer__ngram_range': [(1, 2), (2, 3),\n",
       "                                                          (3, 4), (4, 5)]},\n",
       "             scoring='accuracy', verbose=1)"
      ]
     },
     "execution_count": 43,
     "metadata": {},
     "output_type": "execute_result"
    }
   ],
   "source": [
    "search_accuracy.fit(X , y)"
   ]
  },
  {
   "cell_type": "code",
   "execution_count": 44,
   "id": "d33c2450",
   "metadata": {},
   "outputs": [
    {
     "name": "stdout",
     "output_type": "stream",
     "text": [
      "the best params for accuracy:  {'MultinomialNB()__alpha': 0.5, 'TfidfVectorizer__ngram_range': (1, 2)}\n",
      "the best accuracy score:  0.9117274799429911\n"
     ]
    }
   ],
   "source": [
    "print('the best params for accuracy: ',search_accuracy.best_params_)\n",
    "print('the best accuracy score: ' , search_accuracy.best_score_)"
   ]
  },
  {
   "cell_type": "markdown",
   "id": "325125af",
   "metadata": {},
   "source": [
    "# testeo y analisis del modelo"
   ]
  },
  {
   "cell_type": "code",
   "execution_count": null,
   "id": "915f9bf5",
   "metadata": {},
   "outputs": [],
   "source": [
    "'''{'MultinomialNB()__alpha': 1.0, 'TfidfVectorizer__ngram_range': (1, 2)}'''"
   ]
  },
  {
   "cell_type": "code",
   "execution_count": 45,
   "id": "02a0ca3a",
   "metadata": {},
   "outputs": [],
   "source": [
    "tfid3 = TfidfVectorizer(ngram_range=(1,2))\n",
    "nb3 = MultinomialNB(alpha = 1.0)"
   ]
  },
  {
   "cell_type": "code",
   "execution_count": 46,
   "id": "619fab53",
   "metadata": {},
   "outputs": [
    {
     "data": {
      "text/plain": [
       "TfidfVectorizer(ngram_range=(1, 2))"
      ]
     },
     "execution_count": 46,
     "metadata": {},
     "output_type": "execute_result"
    }
   ],
   "source": [
    "tfid3.fit(X)"
   ]
  },
  {
   "cell_type": "code",
   "execution_count": 47,
   "id": "6c3e6e9f",
   "metadata": {},
   "outputs": [],
   "source": [
    "vector3 = tfid3.transform(X)"
   ]
  },
  {
   "cell_type": "code",
   "execution_count": 48,
   "id": "da103aeb",
   "metadata": {},
   "outputs": [
    {
     "name": "stderr",
     "output_type": "stream",
     "text": [
      "/Users/danielriojas/.pyenv/versions/3.8.12/envs/MHFA/lib/python3.8/site-packages/sklearn/utils/deprecation.py:87: FutureWarning: Function get_feature_names is deprecated; get_feature_names is deprecated in 1.0 and will be removed in 1.2. Please use get_feature_names_out instead.\n",
      "  warnings.warn(msg, category=FutureWarning)\n"
     ]
    },
    {
     "data": {
      "text/plain": [
       "['001',\n",
       " '001 haha',\n",
       " '01',\n",
       " '01 problem',\n",
       " '08',\n",
       " '08 14',\n",
       " '100',\n",
       " '100 flashbacks',\n",
       " '11',\n",
       " '11 status',\n",
       " '111',\n",
       " '111 middle',\n",
       " '13',\n",
       " '13 new',\n",
       " '14',\n",
       " '14 good',\n",
       " '15',\n",
       " '15 house',\n",
       " '180425',\n",
       " '180425 mscpedit',\n",
       " '1969',\n",
       " '1969 oh',\n",
       " '1988',\n",
       " '1988 well',\n",
       " '1xe',\n",
       " '1xe great',\n",
       " '22',\n",
       " '22 jessleal7',\n",
       " '23275879',\n",
       " '2d3dilumdu',\n",
       " '2d3dilumdu barbara',\n",
       " '3eb0f4cc',\n",
       " '3eb0f4cc fd6',\n",
       " '42',\n",
       " '42 sorry',\n",
       " '4562',\n",
       " '4562 src',\n",
       " '53',\n",
       " '53 depression',\n",
       " '5adf8637e4b061c0bfa27b19',\n",
       " '5adf8637e4b061c0bfa27b19 ncid',\n",
       " '6661',\n",
       " '6661 haha',\n",
       " '6cd2la93',\n",
       " '6ticzy',\n",
       " '6ticzy funniest',\n",
       " '714',\n",
       " '714 lol',\n",
       " '727',\n",
       " '727 silly',\n",
       " '76',\n",
       " '76 good',\n",
       " '76795',\n",
       " '76795 real',\n",
       " '86',\n",
       " '86 smrutimishra7',\n",
       " '99',\n",
       " '99 change',\n",
       " 'a10066808',\n",
       " 'a10066808 utm',\n",
       " 'a1j3hy',\n",
       " 'a1j3hy rekyewflst',\n",
       " 'a2i',\n",
       " 'a3',\n",
       " 'a690a0cebade',\n",
       " 'a6yvb33h2y',\n",
       " 'a6zft61se',\n",
       " 'a7q',\n",
       " 'a8319686',\n",
       " 'a8319686 html',\n",
       " 'a9b8c66acf80fca040784e5e9cd',\n",
       " 'aa',\n",
       " 'aa mtg',\n",
       " 'aa poc',\n",
       " 'aaa',\n",
       " 'aaa shooters',\n",
       " 'aaaaaaaaaaaaaalllll',\n",
       " 'aaaaaaaaaaaaaalllll weeek',\n",
       " 'aaaaaaaand',\n",
       " 'aaaaaaaand back',\n",
       " 'aaaaaah',\n",
       " 'aaaaaah https',\n",
       " 'aaaaaand',\n",
       " 'aaaaaand comes',\n",
       " 'aaaaayyyyy',\n",
       " 'aaaaayyyyy momma',\n",
       " 'aaahhhh',\n",
       " 'aaahhhh hypocrisy',\n",
       " 'aaahhhh networking',\n",
       " 'aac3a',\n",
       " 'aahhhh',\n",
       " 'aahhhh bright',\n",
       " 'aaraddict',\n",
       " 'aaraddict agree',\n",
       " 'aawjt3y',\n",
       " 'aawjt3y ocid',\n",
       " 'ab',\n",
       " 'ab agar',\n",
       " 'ab challenges',\n",
       " 'ab months',\n",
       " 'abandoned',\n",
       " 'abandoned heartbroken',\n",
       " 'abandoned uglies',\n",
       " 'abatement',\n",
       " 'abatement depression',\n",
       " 'abatevintage',\n",
       " 'abatevintage listing',\n",
       " 'abcdevan',\n",
       " 'abcdevan tweet',\n",
       " 'abctwity',\n",
       " 'abctwity hahaha',\n",
       " 'abdulla',\n",
       " 'abdulla shaikh',\n",
       " 'abe',\n",
       " 'abe lincoln',\n",
       " 'abel',\n",
       " 'abel love',\n",
       " 'abelpetsupply',\n",
       " 'abelpetsupply ewwww',\n",
       " 'ability',\n",
       " 'ability manage',\n",
       " 'ability think',\n",
       " 'abit',\n",
       " 'abit cheeky',\n",
       " 'abit going',\n",
       " 'abit sick',\n",
       " 'able',\n",
       " 'able accomplish',\n",
       " 'able catch',\n",
       " 'able dry',\n",
       " 'able get',\n",
       " 'able joekufel',\n",
       " 'able leave',\n",
       " 'able pay',\n",
       " 'able pull',\n",
       " 'able running',\n",
       " 'able sleepdepression',\n",
       " 'able snag',\n",
       " 'able take',\n",
       " 'able turn',\n",
       " 'able wear',\n",
       " 'able without',\n",
       " 'able work',\n",
       " 'able write',\n",
       " 'abnormal',\n",
       " 'abnormal functional',\n",
       " 'aboiut',\n",
       " 'aboiut brownbook',\n",
       " 'abokssignature',\n",
       " 'abokssignature come',\n",
       " 'abort',\n",
       " 'abort child',\n",
       " 'abortion',\n",
       " 'abortion child',\n",
       " 'abortion considered',\n",
       " 'aboutdepressionfacts',\n",
       " 'aboutdepressionfacts com',\n",
       " 'abraham',\n",
       " 'abraham dawn',\n",
       " 'abraham explains',\n",
       " 'abraham lincoln',\n",
       " 'abroad',\n",
       " 'abroad depression',\n",
       " 'abs',\n",
       " 'abs gps',\n",
       " 'absence',\n",
       " 'absence cedar',\n",
       " 'absent',\n",
       " 'absolute',\n",
       " 'absolute rubbish',\n",
       " 'absolutely',\n",
       " 'absolutely awesome',\n",
       " 'absolutely beautiful',\n",
       " 'absolutely coming',\n",
       " 'absolutely gorgeous',\n",
       " 'absolutely point',\n",
       " 'absolutely reason',\n",
       " 'absolutely shit',\n",
       " 'absolutely terrible',\n",
       " 'absolutely true',\n",
       " 'absorbed',\n",
       " 'absorbed wood',\n",
       " 'abstract',\n",
       " 'abstract utm',\n",
       " 'abstractionist',\n",
       " 'abstractionist worry',\n",
       " 'abt',\n",
       " 'abt blk',\n",
       " 'abt depression',\n",
       " 'abt dis',\n",
       " 'abt drug',\n",
       " 'abt recovery',\n",
       " 'abt tell',\n",
       " 'abt voting',\n",
       " 'abt wan',\n",
       " 'abundance',\n",
       " 'abundance junk',\n",
       " 'abuse',\n",
       " 'abuse alochol',\n",
       " 'abuse anxiety',\n",
       " 'abuse bullying',\n",
       " 'abuse depression',\n",
       " 'abuse etc',\n",
       " 'abuse friend',\n",
       " 'abuse low',\n",
       " 'abuse old',\n",
       " 'abuse rape',\n",
       " 'abuse survivor',\n",
       " 'abuse ur',\n",
       " 'abused',\n",
       " 'abused support',\n",
       " 'abused teenager',\n",
       " 'abut',\n",
       " 'abut recession',\n",
       " 'ac',\n",
       " 'ac mccann',\n",
       " 'ac uk',\n",
       " 'aca',\n",
       " 'aca ttn',\n",
       " 'academic',\n",
       " 'academic pressure',\n",
       " 'acb',\n",
       " 'acb aph',\n",
       " 'acc',\n",
       " 'acc haha',\n",
       " 'accept',\n",
       " 'accept experience',\n",
       " 'accept otherwise',\n",
       " 'accept refuse',\n",
       " 'accept stop',\n",
       " 'acceptance',\n",
       " 'acceptance phase',\n",
       " 'acceptance semi',\n",
       " 'acceptancei',\n",
       " 'acceptancei still',\n",
       " 'accepted',\n",
       " 'accepted cuz',\n",
       " 'accepted request',\n",
       " 'access',\n",
       " 'access drugs',\n",
       " 'access mental',\n",
       " 'accessory',\n",
       " 'accessory lmao',\n",
       " 'accident',\n",
       " 'accident dropped',\n",
       " 'accident suffering',\n",
       " 'accidentally',\n",
       " 'accidentally made',\n",
       " 'accidentally see',\n",
       " 'accidentally took',\n",
       " 'accname',\n",
       " 'accname guest',\n",
       " 'accompanied',\n",
       " 'accompanied many',\n",
       " 'accomplish',\n",
       " 'accomplish lol',\n",
       " 'accomplish since',\n",
       " 'accomplish something',\n",
       " 'accomplished',\n",
       " 'accomplished done',\n",
       " 'accomplishments',\n",
       " 'accomplishments amp',\n",
       " 'accomplishments one',\n",
       " 'according',\n",
       " 'according cdcp',\n",
       " 'according new',\n",
       " 'according someone',\n",
       " 'account',\n",
       " 'account depression',\n",
       " 'account follow',\n",
       " 'account morning',\n",
       " 'account queenxxlarray',\n",
       " 'account shipped',\n",
       " 'account todai',\n",
       " 'account years',\n",
       " 'accountability',\n",
       " 'accountability transparency',\n",
       " 'accounts',\n",
       " 'accounts pic',\n",
       " 'accurately',\n",
       " 'accurately media',\n",
       " 'accused',\n",
       " 'accused crap',\n",
       " 'ace',\n",
       " 'ace frehley',\n",
       " 'aches',\n",
       " 'aches sleeping',\n",
       " 'achieve',\n",
       " 'achieve dreams',\n",
       " 'achieve get',\n",
       " 'achieve goals',\n",
       " 'achievements',\n",
       " 'achievements duplicated',\n",
       " 'achive',\n",
       " 'achive goals',\n",
       " 'acl7zpbbwf',\n",
       " 'acne',\n",
       " 'acne causing',\n",
       " 'acne cured',\n",
       " 'acne depression',\n",
       " 'across',\n",
       " 'across bridge',\n",
       " 'across happiness',\n",
       " 'across street',\n",
       " 'across tinternet',\n",
       " 'acrylic',\n",
       " 'acrylic charms',\n",
       " 'act',\n",
       " 'act forsure',\n",
       " 'act fun',\n",
       " 'act like',\n",
       " 'act self',\n",
       " 'act thoughts',\n",
       " 'acted',\n",
       " 'acted pre',\n",
       " 'acted violently',\n",
       " 'acting',\n",
       " 'acting depression',\n",
       " 'action',\n",
       " 'action gain',\n",
       " 'action see',\n",
       " 'action steps',\n",
       " 'action worlds',\n",
       " 'actions',\n",
       " 'actions attention',\n",
       " 'actions know',\n",
       " 'activated',\n",
       " 'activation',\n",
       " 'activation much',\n",
       " 'active',\n",
       " 'active helps',\n",
       " 'active lately',\n",
       " 'active lesser',\n",
       " 'active lifestyle',\n",
       " 'active motivation',\n",
       " 'active oomph',\n",
       " 'active phase',\n",
       " 'active recent',\n",
       " 'active rejection',\n",
       " 'active robust',\n",
       " 'activities',\n",
       " 'activities even',\n",
       " 'activity',\n",
       " 'activity decreases',\n",
       " 'activity found',\n",
       " 'activity go',\n",
       " 'activity incident',\n",
       " 'activity moments',\n",
       " 'activity pic',\n",
       " 'activity protect',\n",
       " 'activity receptors',\n",
       " 'activity serotonin',\n",
       " 'actor',\n",
       " 'actor regret',\n",
       " 'actor verne',\n",
       " 'actors',\n",
       " 'actors symptoms',\n",
       " 'acts',\n",
       " 'acts injustice',\n",
       " 'acts next',\n",
       " 'actual',\n",
       " 'actual chemical',\n",
       " 'actual definition',\n",
       " 'actual depression',\n",
       " 'actual father',\n",
       " 'actual imbalance',\n",
       " 'actual interaction',\n",
       " 'actual picture',\n",
       " 'actual problem',\n",
       " 'actual vile',\n",
       " 'actually',\n",
       " 'actually believe',\n",
       " 'actually betraying',\n",
       " 'actually bipolar',\n",
       " 'actually commit',\n",
       " 'actually cures',\n",
       " 'actually curing',\n",
       " 'actually edits',\n",
       " 'actually even',\n",
       " 'actually everyone',\n",
       " 'actually feel',\n",
       " 'actually fighting',\n",
       " 'actually fit',\n",
       " 'actually got',\n",
       " 'actually haha',\n",
       " 'actually happy',\n",
       " 'actually helped',\n",
       " 'actually helps',\n",
       " 'actually high',\n",
       " 'actually kind',\n",
       " 'actually literally',\n",
       " 'actually loving',\n",
       " 'actually lucky',\n",
       " 'actually makes',\n",
       " 'actually meant',\n",
       " 'actually one',\n",
       " 'actually phone',\n",
       " 'actually poor',\n",
       " 'actually puppy',\n",
       " 'actually quite',\n",
       " 'actually real',\n",
       " 'actually realised',\n",
       " 'actually really',\n",
       " 'actually scrap',\n",
       " 'actually serbia',\n",
       " 'actually something',\n",
       " 'actually spent',\n",
       " 'actually start',\n",
       " 'actually stay',\n",
       " 'actually struggle',\n",
       " 'actually thought',\n",
       " 'actually tweeted',\n",
       " 'actually understands',\n",
       " 'actually ups',\n",
       " 'actually well',\n",
       " 'actually would',\n",
       " 'actually yes',\n",
       " 'acute',\n",
       " 'acute depression',\n",
       " 'ad',\n",
       " 'ad airing',\n",
       " 'ad hominem',\n",
       " 'ad rarely',\n",
       " 'ad sugarsync',\n",
       " 'adam',\n",
       " 'adam eve',\n",
       " 'adam jonas',\n",
       " 'adamhoward2000',\n",
       " 'adamhoward2000 seriously',\n",
       " 'adammilo',\n",
       " 'adammilo depression',\n",
       " 'adammurlewski',\n",
       " 'adammurlewski amazing',\n",
       " 'adams',\n",
       " 'adams hamburg',\n",
       " 'adamsilvera',\n",
       " 'adamsilvera books',\n",
       " 'adarna',\n",
       " 'adarna daym',\n",
       " 'add',\n",
       " 'add anxiety',\n",
       " 'add banished',\n",
       " 'add course',\n",
       " 'add depression',\n",
       " 'add everyone',\n",
       " 'add explains',\n",
       " 'add facebook',\n",
       " 'add following',\n",
       " 'add mental',\n",
       " 'add pain',\n",
       " 'add severe',\n",
       " 'add ws',\n",
       " 'addams',\n",
       " 'addams family',\n",
       " 'added',\n",
       " 'added blog',\n",
       " 'added diagnostic',\n",
       " 'added difficulties',\n",
       " 'added video',\n",
       " 'adderall',\n",
       " 'addict',\n",
       " 'addict criminal',\n",
       " 'addict inspiration',\n",
       " 'addict thank',\n",
       " 'addicted',\n",
       " 'addicted game',\n",
       " 'addicted lady',\n",
       " 'addicted like',\n",
       " 'addiction',\n",
       " 'addiction anxiety',\n",
       " 'addiction arent',\n",
       " 'addiction blend',\n",
       " 'addiction chronic',\n",
       " 'addiction daily',\n",
       " 'addiction depression',\n",
       " 'addiction domestic',\n",
       " 'addiction dont',\n",
       " 'addiction eating',\n",
       " 'addiction good',\n",
       " 'addiction hotline844',\n",
       " 'addiction one',\n",
       " 'addiction psychoses',\n",
       " 'addiction selective',\n",
       " 'adding',\n",
       " 'adding friends',\n",
       " 'addition',\n",
       " 'addition exercise',\n",
       " 'additional',\n",
       " 'additional forget',\n",
       " 'address',\n",
       " 'address bipolar',\n",
       " 'address mental',\n",
       " 'address questions',\n",
       " 'addresses',\n",
       " 'addresses abe',\n",
       " 'addresses pendemic',\n",
       " 'adds',\n",
       " 'adds depression',\n",
       " 'adds emoji',\n",
       " 'adent',\n",
       " 'adent starenka',\n",
       " 'adf',\n",
       " 'adfe73e30fb043711926868',\n",
       " 'adfe73e30fb043711926868 utm',\n",
       " 'adhd',\n",
       " 'adhd affects',\n",
       " 'adhd depression',\n",
       " 'adhd get',\n",
       " 'adhd horrible',\n",
       " 'adhd one',\n",
       " 'adhd sad',\n",
       " 'adityaolivier',\n",
       " 'adityaolivier mr',\n",
       " 'adjusting',\n",
       " 'adjusting know',\n",
       " 'adkinskate',\n",
       " 'adkinskate sheffieldpsy',\n",
       " 'administration',\n",
       " 'administration lead',\n",
       " 'admiral',\n",
       " 'admiral jackson',\n",
       " 'admire',\n",
       " 'admire sharing',\n",
       " 'admit',\n",
       " 'admit depression',\n",
       " 'admit fault',\n",
       " 'admit hospital',\n",
       " 'admit others',\n",
       " 'admit problem',\n",
       " 'admits',\n",
       " 'admits ate',\n",
       " 'admitted',\n",
       " 'admitted patients',\n",
       " 'admitting',\n",
       " 'admitting higher',\n",
       " 'admitting problemyou',\n",
       " 'adms',\n",
       " 'adms getting',\n",
       " 'adnankhun',\n",
       " 'adnankhun nurulnxha',\n",
       " 'adobespark',\n",
       " 'adobespark create',\n",
       " 'adoizv',\n",
       " 'adoizv pic',\n",
       " 'adolescence',\n",
       " 'adolescence according',\n",
       " 'adolescence makes',\n",
       " 'adolescence year',\n",
       " 'adolescent',\n",
       " 'adolescent department',\n",
       " 'adolescent depression',\n",
       " 'adolescent may',\n",
       " 'adolescents',\n",
       " 'adolescents gay',\n",
       " 'adolescents higher',\n",
       " 'adolescents solution',\n",
       " 'adolescents university',\n",
       " 'adopted',\n",
       " 'adopted brother',\n",
       " 'adopted sister',\n",
       " 'adoption',\n",
       " 'adoption lgbqt',\n",
       " 'adorable',\n",
       " 'adorable af',\n",
       " 'adorable thought',\n",
       " 'adore',\n",
       " 'adore wished',\n",
       " 'adragonswinging',\n",
       " 'adragonswinging absolutely',\n",
       " 'adreanainlb',\n",
       " 'adreanainlb mairinmurphy',\n",
       " 'adreich',\n",
       " 'adreich thank',\n",
       " 'adrian',\n",
       " 'adrian music',\n",
       " 'adriankenny',\n",
       " 'adriankenny lets',\n",
       " 'adrianlynch',\n",
       " 'adrianlynch oh',\n",
       " 'adrianvziegler',\n",
       " 'adrianvziegler hi',\n",
       " 'adrift',\n",
       " 'adrift frequently',\n",
       " 'aduc',\n",
       " 'aduc alf9qrd1524673800810',\n",
       " 'adulation',\n",
       " 'adulation demons',\n",
       " 'adult',\n",
       " 'adult comics',\n",
       " 'adult depression',\n",
       " 'adult life',\n",
       " 'adult men',\n",
       " 'adults',\n",
       " 'adults addition',\n",
       " 'adults autism',\n",
       " 'adults diagnosis',\n",
       " 'adults happy',\n",
       " 'adults nesdo',\n",
       " 'advanced',\n",
       " 'advanced swear',\n",
       " 'advantage',\n",
       " 'advantage https',\n",
       " 'advantage people',\n",
       " 'advantage rest',\n",
       " 'adventure',\n",
       " 'adventures',\n",
       " 'adventures days',\n",
       " 'adversity',\n",
       " 'adversity like',\n",
       " 'advertising',\n",
       " 'advertising us',\n",
       " 'advice',\n",
       " 'advice dont',\n",
       " 'advice hrer',\n",
       " 'advice knowing',\n",
       " 'advice lem',\n",
       " 'advice nostalgie',\n",
       " 'advice offered',\n",
       " 'advice relapse',\n",
       " 'advice suffering',\n",
       " 'advisor',\n",
       " 'advisor depression',\n",
       " 'advisor one',\n",
       " 'advocate',\n",
       " 'advocate causes',\n",
       " 'adweek',\n",
       " 'adweek friends',\n",
       " 'adweek pic',\n",
       " 'adweek qy03r6',\n",
       " 'aec',\n",
       " 'aec pa',\n",
       " 'aee',\n",
       " 'aee fee',\n",
       " 'aemtrt94vp',\n",
       " 'aenima',\n",
       " 'aenima follow',\n",
       " 'aenimapl',\n",
       " 'aerialellis',\n",
       " 'aerialellis kiajarmon',\n",
       " 'aerobics',\n",
       " 'aerobics strengthen',\n",
       " 'aesthetic',\n",
       " 'aesthetic depression',\n",
       " 'aewang',\n",
       " 'aewang tweet',\n",
       " 'af',\n",
       " 'af depression',\n",
       " 'af though',\n",
       " 'af twice',\n",
       " 'af via',\n",
       " 'affect',\n",
       " 'affect anyone',\n",
       " 'affect beliefs',\n",
       " 'affect ch',\n",
       " 'affect levels',\n",
       " 'affect millions',\n",
       " 'affect oughtibridge',\n",
       " 'affect people',\n",
       " 'affect quality',\n",
       " 'affect writing',\n",
       " 'affected',\n",
       " 'affected depression',\n",
       " 'affected severe',\n",
       " 'affected sleeping',\n",
       " 'affecting',\n",
       " 'affecting health',\n",
       " 'affective',\n",
       " 'affective disorder',\n",
       " 'affects',\n",
       " 'affects ability',\n",
       " 'affects patients',\n",
       " 'affects person',\n",
       " 'affects productivity',\n",
       " 'affects us',\n",
       " 'affiliates',\n",
       " 'affiliates http',\n",
       " 'affirmations',\n",
       " 'affirmations http',\n",
       " 'affirmationspot',\n",
       " 'affirmationspot hope',\n",
       " 'affirming',\n",
       " 'affirming big',\n",
       " 'afford',\n",
       " 'afford bus',\n",
       " 'afford fucking',\n",
       " 'afford time',\n",
       " 'affordable',\n",
       " 'affordable cure',\n",
       " 'afk',\n",
       " 'afk years',\n",
       " 'afloat',\n",
       " 'afnic',\n",
       " 'afnic could',\n",
       " 'afraid',\n",
       " 'afraid admit',\n",
       " 'afraid kill',\n",
       " 'afraid try',\n",
       " 'africa',\n",
       " 'africa r232',\n",
       " 'african',\n",
       " 'african americans',\n",
       " 'african cider',\n",
       " 'african hip',\n",
       " 'african suffer',\n",
       " 'afrikanboy',\n",
       " 'afrikanboy think',\n",
       " 'afsfh',\n",
       " 'afsfh https',\n",
       " 'afsfh status',\n",
       " 'afternon',\n",
       " 'afternoon',\n",
       " 'afternoon evening',\n",
       " 'afternoon feeling',\n",
       " 'afternoon going',\n",
       " 'afternoon minute',\n",
       " 'afternoon working',\n",
       " 'afternoons',\n",
       " 'afterwards',\n",
       " 'afzaal',\n",
       " 'afzaal depression',\n",
       " 'aga',\n",
       " 'aga http',\n",
       " 'aga930jikxz',\n",
       " 'aga930jikxz pic',\n",
       " 'agar',\n",
       " 'agar madhumakhiyan',\n",
       " 'age',\n",
       " 'age gender',\n",
       " 'age geographical',\n",
       " 'age heh',\n",
       " 'age joined',\n",
       " 'age office',\n",
       " 'age people',\n",
       " 'age pic',\n",
       " 'age raise',\n",
       " 'age wealth',\n",
       " 'age yoga',\n",
       " 'agebettersheffield',\n",
       " 'agebettersheffield https',\n",
       " 'aged',\n",
       " 'aged fight',\n",
       " 'aged like',\n",
       " 'agenciaajn',\n",
       " 'agenciaajn com',\n",
       " 'agencies',\n",
       " 'agencies want',\n",
       " 'agentmurphy',\n",
       " 'agentmurphy rt',\n",
       " 'ages',\n",
       " 'ages btw',\n",
       " 'ages good',\n",
       " 'ages hmmm',\n",
       " 'ages reason',\n",
       " 'ages researchers',\n",
       " 'ages wuu2',\n",
       " 'aggression',\n",
       " 'aggression never',\n",
       " 'aggressive',\n",
       " 'aggressive behavior',\n",
       " 'aggressive medication',\n",
       " 'aggressively',\n",
       " 'aggressively argumentative',\n",
       " 'aging',\n",
       " 'aging process',\n",
       " 'aging wrinkles',\n",
       " 'agitation',\n",
       " 'agitation nervousness',\n",
       " 'agnosticquest',\n",
       " 'agnosticquest onfiremission',\n",
       " 'ago',\n",
       " 'ago clear',\n",
       " 'ago course',\n",
       " 'ago destroyed',\n",
       " 'ago excuse',\n",
       " 'ago experiencing',\n",
       " 'ago gladly',\n",
       " 'ago goes',\n",
       " 'ago happened',\n",
       " 'ago happy',\n",
       " 'ago memes',\n",
       " 'ago scratching',\n",
       " 'ago speaking',\n",
       " 'ago still',\n",
       " 'ago th',\n",
       " 'ago thunderdays',\n",
       " 'ago today',\n",
       " 'ago took',\n",
       " 'agony',\n",
       " 'agree',\n",
       " 'agree best',\n",
       " 'agree disagree',\n",
       " 'agree excuse',\n",
       " 'agree haha',\n",
       " 'agree luna',\n",
       " 'agree often',\n",
       " 'agree opinion',\n",
       " 'agree personally',\n",
       " 'agreed',\n",
       " 'agreed bullied',\n",
       " 'agreed emoji',\n",
       " 'agreements',\n",
       " 'agreements collectively',\n",
       " 'agynaathavaasi',\n",
       " 'agynaathavaasi core',\n",
       " 'ah',\n",
       " 'ah days',\n",
       " 'ah feeling',\n",
       " 'ah ha',\n",
       " 'ah look',\n",
       " 'ah love',\n",
       " 'ah mazinggg',\n",
       " 'ah meant',\n",
       " 'ah nah',\n",
       " 'ah never',\n",
       " 'ah ok',\n",
       " 'ah plus',\n",
       " 'ah shared',\n",
       " 'ah shucks',\n",
       " 'ah still',\n",
       " 'ah thanks',\n",
       " 'ah things',\n",
       " 'ah vision',\n",
       " 'ah watching',\n",
       " 'ah well',\n",
       " 'aha',\n",
       " 'ahaa',\n",
       " 'ahage',\n",
       " 'ahage recordings',\n",
       " 'ahahaha',\n",
       " 'ahahaha cute',\n",
       " 'ahahaha itsss',\n",
       " 'ahead',\n",
       " 'ahead admit',\n",
       " 'ahead darkness',\n",
       " 'ahead life',\n",
       " 'ahead quot',\n",
       " 'ahead ready',\n",
       " 'ahead ur',\n",
       " 'aherman2006',\n",
       " 'aherman2006 depression',\n",
       " 'ahh',\n",
       " 'ahh cant',\n",
       " 'ahh makes',\n",
       " 'ahh might',\n",
       " 'ahh musta',\n",
       " 'ahh pau',\n",
       " 'ahha',\n",
       " 'ahha bestie',\n",
       " 'ahhh',\n",
       " 'ahhh ok',\n",
       " 'ahhh shade',\n",
       " 'ahhhh',\n",
       " 'ahhhh daluckyme',\n",
       " 'ahhhhhh',\n",
       " 'ahhhhhh fucking',\n",
       " 'ahhhhhhhhhhhhh',\n",
       " 'ahhhhhhhhhhhhh ok',\n",
       " 'ahja',\n",
       " 'ahja liebe',\n",
       " 'ahmedaniyal',\n",
       " 'ahmedaniyal toddtrotter3',\n",
       " 'ahold',\n",
       " 'ahold taking',\n",
       " 'ahoy',\n",
       " 'ahukewirjnbe7dtaahvgkgmkhu58bx4q',\n",
       " 'ahukewirjnbe7dtaahvgkgmkhu58bx4q auieygd',\n",
       " 'ai',\n",
       " 'ai ff6yu7',\n",
       " 'aialamode',\n",
       " 'aialamode absolutely',\n",
       " 'aid',\n",
       " 'aid content',\n",
       " 'aidan',\n",
       " 'aidan work',\n",
       " 'aiden',\n",
       " 'aiden virginity',\n",
       " 'aight',\n",
       " 'aight naa',\n",
       " 'aightindiaaaaaa',\n",
       " 'aightindiaaaaaa gives',\n",
       " 'aiin6b',\n",
       " 'aikenstandard',\n",
       " 'aikenstandard com',\n",
       " 'aiming',\n",
       " 'aiming reduce',\n",
       " 'aims',\n",
       " 'aims help',\n",
       " 'aint',\n",
       " 'aint easy',\n",
       " 'aint even',\n",
       " 'aint hurting',\n",
       " 'aint nothing',\n",
       " 'air',\n",
       " 'air conditioning',\n",
       " 'air france',\n",
       " 'air glss',\n",
       " 'air work',\n",
       " 'aireee',\n",
       " 'airing',\n",
       " 'airing week',\n",
       " 'airplane',\n",
       " 'airplane departure',\n",
       " 'airplane depression',\n",
       " 'airplane early',\n",
       " 'airplane intense',\n",
       " 'airport',\n",
       " 'airsoft',\n",
       " 'airsoft war',\n",
       " 'airtime',\n",
       " 'airtime pro',\n",
       " 'aish',\n",
       " 'aish achievements',\n",
       " 'aish fans',\n",
       " 'aisha',\n",
       " 'aisi',\n",
       " 'aisi ke',\n",
       " 'aisle',\n",
       " 'aisle hours',\n",
       " 'ajackielarsen',\n",
       " 'ajackielarsen greatdaneuj',\n",
       " 'ajackielarsen idk',\n",
       " 'ajackielarsen nemosanartist',\n",
       " 'ajackielarsen status',\n",
       " 'ajalon',\n",
       " 'ajalon yeah',\n",
       " 'ajbrzski',\n",
       " 'ajbrzski angrierthanmost',\n",
       " 'ajit9988',\n",
       " 'ajit9988 intriguing',\n",
       " 'ajp',\n",
       " 'ajp doi',\n",
       " 'ajp exerciseworks',\n",
       " 'ajp including',\n",
       " 'ajp platform',\n",
       " 'ajp psychiatryonline',\n",
       " 'ajsgmajc',\n",
       " 'ajsgmajc donnawithrow2',\n",
       " 'ak2f5ryoo',\n",
       " 'aka',\n",
       " 'aka conciquences',\n",
       " 'aka democratic',\n",
       " 'aka depression',\n",
       " 'akcounsellor',\n",
       " 'akcounsellor knows',\n",
       " 'akgovsarahpalin',\n",
       " 'akgovsarahpalin excited',\n",
       " 'akgovsarahpalin would',\n",
       " 'ako',\n",
       " 'ako ng',\n",
       " 'ako within',\n",
       " 'akoomatsu',\n",
       " 'akoomatsu status',\n",
       " 'akp',\n",
       " 'akp turkey',\n",
       " 'al',\n",
       " 'al al',\n",
       " 'al cohol',\n",
       " 'al thanigaga',\n",
       " 'alan',\n",
       " 'alan tate',\n",
       " 'alancia',\n",
       " 'alancia amazing',\n",
       " 'alarming',\n",
       " 'alarming rise',\n",
       " 'alas',\n",
       " 'alas depression',\n",
       " 'alauderdale',\n",
       " 'alauderdale innocent',\n",
       " 'albany',\n",
       " 'albany going',\n",
       " 'albany poo',\n",
       " 'albert',\n",
       " 'albino',\n",
       " 'albino structure',\n",
       " 'albino year',\n",
       " 'album',\n",
       " 'album artist',\n",
       " 'album bateman',\n",
       " 'album come',\n",
       " 'album concerns',\n",
       " 'album forgotten',\n",
       " 'album keep',\n",
       " 'album like',\n",
       " 'album listen',\n",
       " 'album pmmp',\n",
       " 'album veronicas',\n",
       " 'albums',\n",
       " 'albums censored',\n",
       " 'albums mania',\n",
       " 'albury',\n",
       " 'albury catch',\n",
       " 'alcohol',\n",
       " 'alcohol abuse',\n",
       " 'alcohol addiction',\n",
       " 'alcohol cocaine',\n",
       " 'alcohol drug',\n",
       " 'alcohol easy',\n",
       " 'alcohol poisoning',\n",
       " 'alcoholic',\n",
       " 'alcoholic cross',\n",
       " ...]"
      ]
     },
     "execution_count": 48,
     "metadata": {},
     "output_type": "execute_result"
    }
   ],
   "source": [
    "tfid3.get_feature_names()"
   ]
  },
  {
   "cell_type": "code",
   "execution_count": 49,
   "id": "60138d06",
   "metadata": {},
   "outputs": [
    {
     "data": {
      "text/plain": [
       "MultinomialNB()"
      ]
     },
     "execution_count": 49,
     "metadata": {},
     "output_type": "execute_result"
    }
   ],
   "source": [
    "nb3.fit(vector3, y)"
   ]
  },
  {
   "cell_type": "code",
   "execution_count": 50,
   "id": "b567109f",
   "metadata": {},
   "outputs": [
    {
     "name": "stderr",
     "output_type": "stream",
     "text": [
      "/Users/danielriojas/.pyenv/versions/3.8.12/envs/MHFA/lib/python3.8/site-packages/sklearn/utils/deprecation.py:103: FutureWarning: Attribute `coef_` was deprecated in version 0.24 and will be removed in 1.1 (renaming of 0.26).\n",
      "  warnings.warn(msg, category=FutureWarning)\n"
     ]
    },
    {
     "data": {
      "text/plain": [
       "array([[-11.03060179, -11.03060179, -11.03060179, ..., -10.91036042,\n",
       "        -10.85249117, -10.85249117]])"
      ]
     },
     "execution_count": 50,
     "metadata": {},
     "output_type": "execute_result"
    }
   ],
   "source": [
    "nb3.coef_"
   ]
  },
  {
   "cell_type": "code",
   "execution_count": 51,
   "id": "021fe3a5",
   "metadata": {},
   "outputs": [
    {
     "name": "stderr",
     "output_type": "stream",
     "text": [
      "/Users/danielriojas/.pyenv/versions/3.8.12/envs/MHFA/lib/python3.8/site-packages/sklearn/utils/deprecation.py:87: FutureWarning: Function get_feature_names is deprecated; get_feature_names is deprecated in 1.0 and will be removed in 1.2. Please use get_feature_names_out instead.\n",
      "  warnings.warn(msg, category=FutureWarning)\n"
     ]
    }
   ],
   "source": [
    "coefs = pd.Series(nb3.coef_[0], index = tfid3.get_feature_names())\n"
   ]
  },
  {
   "cell_type": "code",
   "execution_count": 52,
   "id": "49bc93c2",
   "metadata": {},
   "outputs": [
    {
     "data": {
      "text/plain": [
       "001                  -11.030602\n",
       "little android       -11.030602\n",
       "litltawny benefits   -11.030602\n",
       "litltawny            -11.030602\n",
       "lithium right        -11.030602\n",
       "                        ...    \n",
       "twitter com           -7.336893\n",
       "twitter               -7.331296\n",
       "https                 -7.331077\n",
       "com                   -7.171262\n",
       "depression            -6.179418\n",
       "Length: 50707, dtype: float64"
      ]
     },
     "execution_count": 52,
     "metadata": {},
     "output_type": "execute_result"
    }
   ],
   "source": [
    "coefs.sort_values()\n",
    "\n",
    "#agregar palabras a las stopwords , por ejemplo 'twitter', 'com'\n",
    "#agregar precision, accuracy, recall , f1 , etc\n",
    "#min, max \n",
    "#max_features:overfitting? ~ regularizacion\n",
    "\n",
    "#to do: traduccion?\n",
    "#red de deeplearning para buscar mejor score\n",
    "#testeos\n",
    "#"
   ]
  },
  {
   "cell_type": "code",
   "execution_count": null,
   "id": "6dd61f83",
   "metadata": {},
   "outputs": [],
   "source": []
  }
 ],
 "metadata": {
  "kernelspec": {
   "display_name": "Python 3 (ipykernel)",
   "language": "python",
   "name": "python3"
  },
  "language_info": {
   "codemirror_mode": {
    "name": "ipython",
    "version": 3
   },
   "file_extension": ".py",
   "mimetype": "text/x-python",
   "name": "python",
   "nbconvert_exporter": "python",
   "pygments_lexer": "ipython3",
   "version": "3.8.12"
  },
  "toc": {
   "base_numbering": 1,
   "nav_menu": {},
   "number_sections": true,
   "sideBar": true,
   "skip_h1_title": false,
   "title_cell": "Table of Contents",
   "title_sidebar": "Contents",
   "toc_cell": false,
   "toc_position": {},
   "toc_section_display": true,
   "toc_window_display": false
  }
 },
 "nbformat": 4,
 "nbformat_minor": 5
}
