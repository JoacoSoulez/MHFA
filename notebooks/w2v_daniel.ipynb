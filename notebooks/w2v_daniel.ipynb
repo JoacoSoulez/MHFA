{
  "cells": [
    {
      "cell_type": "code",
      "execution_count": 1,
      "id": "2bb0bcec",
      "metadata": {
        "id": "2bb0bcec"
      },
      "outputs": [],
      "source": [
        "import pandas as pd\n",
        "import numpy as np\n",
        "import matplotlib.pyplot as plt\n",
        "import seaborn as sns\n",
        "import re\n",
        "import string\n",
        "import nltk\n",
        "import warnings\n",
        "%matplotlib inline\n",
        "\n",
        "warnings.filterwarnings('ignore')"
      ]
    },
    {
      "cell_type": "code",
      "source": [
        "from google.colab import files\n",
        "uploaded = files.upload()"
      ],
      "metadata": {
        "colab": {
          "resources": {
            "http://localhost:8080/nbextensions/google.colab/files.js": {
              "data": "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",
              "ok": true,
              "headers": [
                [
                  "content-type",
                  "application/javascript"
                ]
              ],
              "status": 200,
              "status_text": ""
            }
          },
          "base_uri": "https://localhost:8080/",
          "height": 73
        },
        "id": "fZvDa5ieGbmx",
        "outputId": "ae823867-0f37-4dd2-b8f6-5a297ffb9919"
      },
      "id": "fZvDa5ieGbmx",
      "execution_count": 2,
      "outputs": [
        {
          "output_type": "display_data",
          "data": {
            "text/html": [
              "\n",
              "     <input type=\"file\" id=\"files-d31c7d37-8eae-4c95-ba70-bdaeffbd12c9\" name=\"files[]\" multiple disabled\n",
              "        style=\"border:none\" />\n",
              "     <output id=\"result-d31c7d37-8eae-4c95-ba70-bdaeffbd12c9\">\n",
              "      Upload widget is only available when the cell has been executed in the\n",
              "      current browser session. Please rerun this cell to enable.\n",
              "      </output>\n",
              "      <script src=\"/nbextensions/google.colab/files.js\"></script> "
            ],
            "text/plain": [
              "<IPython.core.display.HTML object>"
            ]
          },
          "metadata": {}
        },
        {
          "output_type": "stream",
          "name": "stdout",
          "text": [
            "Saving df_limpio_v2.csv to df_limpio_v2.csv\n"
          ]
        }
      ]
    },
    {
      "cell_type": "code",
      "source": [
        "import io\n",
        " \n",
        "data = pd.read_csv(io.BytesIO(uploaded['df_limpio_v2.csv']))\n",
        "data.head()"
      ],
      "metadata": {
        "colab": {
          "base_uri": "https://localhost:8080/",
          "height": 206
        },
        "id": "OcOK3vpxGr_2",
        "outputId": "ac009569-7b93-44bd-c2c5-c66d036b9d41"
      },
      "id": "OcOK3vpxGr_2",
      "execution_count": 3,
      "outputs": [
        {
          "output_type": "execute_result",
          "data": {
            "text/html": [
              "\n",
              "  <div id=\"df-f43e349b-5f75-4c2d-9d2b-78f154f3601e\">\n",
              "    <div class=\"colab-df-container\">\n",
              "      <div>\n",
              "<style scoped>\n",
              "    .dataframe tbody tr th:only-of-type {\n",
              "        vertical-align: middle;\n",
              "    }\n",
              "\n",
              "    .dataframe tbody tr th {\n",
              "        vertical-align: top;\n",
              "    }\n",
              "\n",
              "    .dataframe thead th {\n",
              "        text-align: right;\n",
              "    }\n",
              "</style>\n",
              "<table border=\"1\" class=\"dataframe\">\n",
              "  <thead>\n",
              "    <tr style=\"text-align: right;\">\n",
              "      <th></th>\n",
              "      <th>ids</th>\n",
              "      <th>Tweet</th>\n",
              "      <th>label</th>\n",
              "    </tr>\n",
              "  </thead>\n",
              "  <tbody>\n",
              "    <tr>\n",
              "      <th>0</th>\n",
              "      <td>1467822272</td>\n",
              "      <td>love u guys r best</td>\n",
              "      <td>0</td>\n",
              "    </tr>\n",
              "    <tr>\n",
              "      <th>1</th>\n",
              "      <td>1467822273</td>\n",
              "      <td>im meting one besties tonight cant wait girl talk</td>\n",
              "      <td>0</td>\n",
              "    </tr>\n",
              "    <tr>\n",
              "      <th>2</th>\n",
              "      <td>1467822283</td>\n",
              "      <td>thanks twiter ad sunisa got met hin show dc ar...</td>\n",
              "      <td>0</td>\n",
              "    </tr>\n",
              "    <tr>\n",
              "      <th>3</th>\n",
              "      <td>1467822287</td>\n",
              "      <td>sick realy cheap hurts much eat real fod plus ...</td>\n",
              "      <td>0</td>\n",
              "    </tr>\n",
              "    <tr>\n",
              "      <th>4</th>\n",
              "      <td>1467822293</td>\n",
              "      <td>efect everyone</td>\n",
              "      <td>0</td>\n",
              "    </tr>\n",
              "  </tbody>\n",
              "</table>\n",
              "</div>\n",
              "      <button class=\"colab-df-convert\" onclick=\"convertToInteractive('df-f43e349b-5f75-4c2d-9d2b-78f154f3601e')\"\n",
              "              title=\"Convert this dataframe to an interactive table.\"\n",
              "              style=\"display:none;\">\n",
              "        \n",
              "  <svg xmlns=\"http://www.w3.org/2000/svg\" height=\"24px\"viewBox=\"0 0 24 24\"\n",
              "       width=\"24px\">\n",
              "    <path d=\"M0 0h24v24H0V0z\" fill=\"none\"/>\n",
              "    <path d=\"M18.56 5.44l.94 2.06.94-2.06 2.06-.94-2.06-.94-.94-2.06-.94 2.06-2.06.94zm-11 1L8.5 8.5l.94-2.06 2.06-.94-2.06-.94L8.5 2.5l-.94 2.06-2.06.94zm10 10l.94 2.06.94-2.06 2.06-.94-2.06-.94-.94-2.06-.94 2.06-2.06.94z\"/><path d=\"M17.41 7.96l-1.37-1.37c-.4-.4-.92-.59-1.43-.59-.52 0-1.04.2-1.43.59L10.3 9.45l-7.72 7.72c-.78.78-.78 2.05 0 2.83L4 21.41c.39.39.9.59 1.41.59.51 0 1.02-.2 1.41-.59l7.78-7.78 2.81-2.81c.8-.78.8-2.07 0-2.86zM5.41 20L4 18.59l7.72-7.72 1.47 1.35L5.41 20z\"/>\n",
              "  </svg>\n",
              "      </button>\n",
              "      \n",
              "  <style>\n",
              "    .colab-df-container {\n",
              "      display:flex;\n",
              "      flex-wrap:wrap;\n",
              "      gap: 12px;\n",
              "    }\n",
              "\n",
              "    .colab-df-convert {\n",
              "      background-color: #E8F0FE;\n",
              "      border: none;\n",
              "      border-radius: 50%;\n",
              "      cursor: pointer;\n",
              "      display: none;\n",
              "      fill: #1967D2;\n",
              "      height: 32px;\n",
              "      padding: 0 0 0 0;\n",
              "      width: 32px;\n",
              "    }\n",
              "\n",
              "    .colab-df-convert:hover {\n",
              "      background-color: #E2EBFA;\n",
              "      box-shadow: 0px 1px 2px rgba(60, 64, 67, 0.3), 0px 1px 3px 1px rgba(60, 64, 67, 0.15);\n",
              "      fill: #174EA6;\n",
              "    }\n",
              "\n",
              "    [theme=dark] .colab-df-convert {\n",
              "      background-color: #3B4455;\n",
              "      fill: #D2E3FC;\n",
              "    }\n",
              "\n",
              "    [theme=dark] .colab-df-convert:hover {\n",
              "      background-color: #434B5C;\n",
              "      box-shadow: 0px 1px 3px 1px rgba(0, 0, 0, 0.15);\n",
              "      filter: drop-shadow(0px 1px 2px rgba(0, 0, 0, 0.3));\n",
              "      fill: #FFFFFF;\n",
              "    }\n",
              "  </style>\n",
              "\n",
              "      <script>\n",
              "        const buttonEl =\n",
              "          document.querySelector('#df-f43e349b-5f75-4c2d-9d2b-78f154f3601e button.colab-df-convert');\n",
              "        buttonEl.style.display =\n",
              "          google.colab.kernel.accessAllowed ? 'block' : 'none';\n",
              "\n",
              "        async function convertToInteractive(key) {\n",
              "          const element = document.querySelector('#df-f43e349b-5f75-4c2d-9d2b-78f154f3601e');\n",
              "          const dataTable =\n",
              "            await google.colab.kernel.invokeFunction('convertToInteractive',\n",
              "                                                     [key], {});\n",
              "          if (!dataTable) return;\n",
              "\n",
              "          const docLinkHtml = 'Like what you see? Visit the ' +\n",
              "            '<a target=\"_blank\" href=https://colab.research.google.com/notebooks/data_table.ipynb>data table notebook</a>'\n",
              "            + ' to learn more about interactive tables.';\n",
              "          element.innerHTML = '';\n",
              "          dataTable['output_type'] = 'display_data';\n",
              "          await google.colab.output.renderOutput(dataTable, element);\n",
              "          const docLink = document.createElement('div');\n",
              "          docLink.innerHTML = docLinkHtml;\n",
              "          element.appendChild(docLink);\n",
              "        }\n",
              "      </script>\n",
              "    </div>\n",
              "  </div>\n",
              "  "
            ],
            "text/plain": [
              "          ids                                              Tweet  label\n",
              "0  1467822272                                 love u guys r best      0\n",
              "1  1467822273  im meting one besties tonight cant wait girl talk      0\n",
              "2  1467822283  thanks twiter ad sunisa got met hin show dc ar...      0\n",
              "3  1467822287  sick realy cheap hurts much eat real fod plus ...      0\n",
              "4  1467822293                                     efect everyone      0"
            ]
          },
          "metadata": {},
          "execution_count": 3
        }
      ]
    },
    {
      "cell_type": "code",
      "execution_count": null,
      "id": "267583f2",
      "metadata": {
        "id": "267583f2"
      },
      "outputs": [],
      "source": [
        "#get data\n",
        "#path = input('path to the csv: ')\n",
        "#data = pd.read_csv(f\"{path}\")\n",
        "#data.head()\n",
        "\n",
        "#/Users/danielriojas/Documents/Random_2022/df_limpio_v1.csv"
      ]
    },
    {
      "cell_type": "code",
      "execution_count": 4,
      "id": "3d0b19fb",
      "metadata": {
        "colab": {
          "base_uri": "https://localhost:8080/"
        },
        "id": "3d0b19fb",
        "outputId": "fe869f32-9faf-41fc-e2ac-0262eab36c77"
      },
      "outputs": [
        {
          "output_type": "stream",
          "name": "stdout",
          "text": [
            "<class 'pandas.core.frame.DataFrame'>\n",
            "RangeIndex: 802345 entries, 0 to 802344\n",
            "Data columns (total 3 columns):\n",
            " #   Column  Non-Null Count   Dtype \n",
            "---  ------  --------------   ----- \n",
            " 0   ids     802345 non-null  object\n",
            " 1   Tweet   797876 non-null  object\n",
            " 2   label   802345 non-null  int64 \n",
            "dtypes: int64(1), object(2)\n",
            "memory usage: 18.4+ MB\n"
          ]
        }
      ],
      "source": [
        "data.info()"
      ]
    },
    {
      "cell_type": "code",
      "execution_count": 5,
      "id": "ddde9e23",
      "metadata": {
        "id": "ddde9e23"
      },
      "outputs": [],
      "source": [
        "data = data.dropna()"
      ]
    },
    {
      "cell_type": "code",
      "execution_count": 6,
      "id": "e16564e1",
      "metadata": {
        "colab": {
          "base_uri": "https://localhost:8080/"
        },
        "id": "e16564e1",
        "outputId": "aa6d63b6-9838-45fe-dfa2-2ed414bead85"
      },
      "outputs": [
        {
          "output_type": "stream",
          "name": "stdout",
          "text": [
            "<class 'pandas.core.frame.DataFrame'>\n",
            "Int64Index: 797876 entries, 0 to 802344\n",
            "Data columns (total 3 columns):\n",
            " #   Column  Non-Null Count   Dtype \n",
            "---  ------  --------------   ----- \n",
            " 0   ids     797876 non-null  object\n",
            " 1   Tweet   797876 non-null  object\n",
            " 2   label   797876 non-null  int64 \n",
            "dtypes: int64(1), object(2)\n",
            "memory usage: 24.3+ MB\n"
          ]
        }
      ],
      "source": [
        "data.info()"
      ]
    },
    {
      "cell_type": "code",
      "execution_count": 7,
      "id": "844ab52a",
      "metadata": {
        "id": "844ab52a"
      },
      "outputs": [],
      "source": [
        "positive_data = data[data.label == 0]"
      ]
    },
    {
      "cell_type": "code",
      "execution_count": 8,
      "id": "cdc726d0",
      "metadata": {
        "id": "cdc726d0"
      },
      "outputs": [],
      "source": [
        "depression_data = data[data.label==1]"
      ]
    },
    {
      "cell_type": "code",
      "execution_count": 9,
      "id": "b8ecf2d7",
      "metadata": {
        "id": "b8ecf2d7"
      },
      "outputs": [],
      "source": [
        "sample_positive_data = positive_data.sample( n  = 2345)"
      ]
    },
    {
      "cell_type": "code",
      "execution_count": 10,
      "id": "7fdaa5e3",
      "metadata": {
        "id": "7fdaa5e3"
      },
      "outputs": [],
      "source": [
        "sample_data = sample_positive_data.append(depression_data)"
      ]
    },
    {
      "cell_type": "code",
      "execution_count": 11,
      "id": "c5419771",
      "metadata": {
        "id": "c5419771"
      },
      "outputs": [],
      "source": [
        "sample_data =  sample_data.sample(frac=1)"
      ]
    },
    {
      "cell_type": "code",
      "execution_count": 12,
      "id": "6f240d57",
      "metadata": {
        "colab": {
          "base_uri": "https://localhost:8080/"
        },
        "id": "6f240d57",
        "outputId": "7907a6d4-bb8c-4ca0-d302-dd0ff20762b4"
      },
      "outputs": [
        {
          "name": "stdout",
          "output_type": "stream",
          "text": [
            "data: Tweet\n",
            "target: label\n"
          ]
        }
      ],
      "source": [
        "text_col = input('data: ')\n",
        "X = sample_data[f'{text_col}']\n",
        "\n",
        "target_col = input('target: ')\n",
        "y = sample_data[f'{target_col}']"
      ]
    },
    {
      "cell_type": "code",
      "execution_count": 13,
      "id": "ab5d9286",
      "metadata": {
        "id": "ab5d9286"
      },
      "outputs": [],
      "source": [
        "from sklearn.model_selection import train_test_split\n",
        "\n",
        "X_train, X_test, y_train, y_test = train_test_split(X, y, test_size=0.30)"
      ]
    },
    {
      "cell_type": "code",
      "execution_count": 14,
      "id": "001acdf0",
      "metadata": {
        "colab": {
          "base_uri": "https://localhost:8080/"
        },
        "id": "001acdf0",
        "outputId": "1d8d179d-52aa-4efe-f78c-0307a4afc612"
      },
      "outputs": [
        {
          "output_type": "stream",
          "name": "stdout",
          "text": [
            "[nltk_data] Downloading package punkt to /root/nltk_data...\n",
            "[nltk_data]   Unzipping tokenizers/punkt.zip.\n"
          ]
        }
      ],
      "source": [
        "nltk.download('punkt')\n",
        "\n",
        "X_train = [nltk.tokenize.word_tokenize(str(_)) for _ in X_train]\n",
        "X_test = [nltk.tokenize.word_tokenize(str(_)) for _ in X_test]"
      ]
    },
    {
      "cell_type": "code",
      "execution_count": 15,
      "id": "017ca9e6",
      "metadata": {
        "id": "017ca9e6"
      },
      "outputs": [],
      "source": [
        "import gensim.downloader as api\n",
        "\n",
        "info = api.info()"
      ]
    },
    {
      "cell_type": "code",
      "execution_count": 16,
      "id": "7cd51017",
      "metadata": {
        "colab": {
          "base_uri": "https://localhost:8080/"
        },
        "id": "7cd51017",
        "outputId": "62006886-3c44-47c6-a0ac-a71aa31b9adb"
      },
      "outputs": [
        {
          "output_type": "stream",
          "name": "stdout",
          "text": [
            "[==================================================] 100.0% 104.8/104.8MB downloaded\n"
          ]
        }
      ],
      "source": [
        "model = api.load('glove-twitter-25')"
      ]
    },
    {
      "cell_type": "code",
      "source": [
        "model.most_similar('happy')"
      ],
      "metadata": {
        "colab": {
          "base_uri": "https://localhost:8080/"
        },
        "id": "62k-ZZf0Oanr",
        "outputId": "5231afaf-e34b-4be2-e317-e4c8c9213215"
      },
      "id": "62k-ZZf0Oanr",
      "execution_count": 17,
      "outputs": [
        {
          "output_type": "execute_result",
          "data": {
            "text/plain": [
              "[('birthday', 0.9577817916870117),\n",
              " ('thank', 0.9376667141914368),\n",
              " ('welcome', 0.9336150288581848),\n",
              " ('love', 0.9176183938980103),\n",
              " ('miss', 0.916450023651123),\n",
              " ('hello', 0.9158351421356201),\n",
              " ('thanks', 0.9150084257125854),\n",
              " ('merry', 0.9053248763084412),\n",
              " ('bless', 0.9027323126792908),\n",
              " ('wish', 0.9013165831565857)]"
            ]
          },
          "metadata": {},
          "execution_count": 17
        }
      ]
    },
    {
      "cell_type": "code",
      "source": [
        "model.most_similar('sad')"
      ],
      "metadata": {
        "colab": {
          "base_uri": "https://localhost:8080/"
        },
        "id": "NU2jeBmEOld9",
        "outputId": "bdfb6e7b-3af6-4f66-fa3d-9edf13c5f649"
      },
      "id": "NU2jeBmEOld9",
      "execution_count": 18,
      "outputs": [
        {
          "output_type": "execute_result",
          "data": {
            "text/plain": [
              "[('swear', 0.9130126237869263),\n",
              " ('feel', 0.9124104976654053),\n",
              " ('same', 0.9080261588096619),\n",
              " ('wrong', 0.9030308723449707),\n",
              " ('meant', 0.9027896523475647),\n",
              " ('true', 0.9025242924690247),\n",
              " ('reason', 0.9024712443351746),\n",
              " ('remember', 0.9011679291725159),\n",
              " ('i', 0.8995794653892517),\n",
              " ('know', 0.8991307020187378)]"
            ]
          },
          "metadata": {},
          "execution_count": 18
        }
      ]
    },
    {
      "cell_type": "code",
      "source": [
        "model.most_similar('help')"
      ],
      "metadata": {
        "colab": {
          "base_uri": "https://localhost:8080/"
        },
        "id": "17iUVmcWOpRz",
        "outputId": "5f7813e4-acc8-4ea3-aa72-b441fb5e0639"
      },
      "id": "17iUVmcWOpRz",
      "execution_count": 19,
      "outputs": [
        {
          "output_type": "execute_result",
          "data": {
            "text/plain": [
              "[('save', 0.9302788972854614),\n",
              " ('must', 0.9283666610717773),\n",
              " ('need', 0.9236305356025696),\n",
              " ('anyone', 0.9137064814567566),\n",
              " ('give', 0.9123103022575378),\n",
              " ('us', 0.9109663367271423),\n",
              " ('support', 0.9103129506111145),\n",
              " ('care', 0.9066922068595886),\n",
              " ('spread', 0.9033981561660767),\n",
              " ('make', 0.9028555154800415)]"
            ]
          },
          "metadata": {},
          "execution_count": 19
        }
      ]
    },
    {
      "cell_type": "code",
      "source": [
        "model.most_similar('depression')"
      ],
      "metadata": {
        "colab": {
          "base_uri": "https://localhost:8080/"
        },
        "id": "AF7vxH6yOu9t",
        "outputId": "748ff87d-cbe1-4498-ba7c-ba9b82337ae2"
      },
      "id": "AF7vxH6yOu9t",
      "execution_count": 20,
      "outputs": [
        {
          "output_type": "execute_result",
          "data": {
            "text/plain": [
              "[('anxiety', 0.9597739577293396),\n",
              " ('illness', 0.9199442863464355),\n",
              " ('causes', 0.9046310186386108),\n",
              " ('suffering', 0.8942319750785828),\n",
              " ('disease', 0.8909595012664795),\n",
              " ('sickness', 0.8868005871772766),\n",
              " ('symptoms', 0.8831016421318054),\n",
              " ('boredom', 0.8755505084991455),\n",
              " ('disorder', 0.8740999102592468),\n",
              " ('cure', 0.8725260496139526)]"
            ]
          },
          "metadata": {},
          "execution_count": 20
        }
      ]
    },
    {
      "cell_type": "code",
      "source": [
        "model.most_similar('lonely')"
      ],
      "metadata": {
        "colab": {
          "base_uri": "https://localhost:8080/"
        },
        "id": "g5Xdlpu3OzAc",
        "outputId": "0cd1d563-b08a-42cb-c366-310c91ef2c18"
      },
      "id": "g5Xdlpu3OzAc",
      "execution_count": 21,
      "outputs": [
        {
          "output_type": "execute_result",
          "data": {
            "text/plain": [
              "[('quiet', 0.9196479320526123),\n",
              " ('crazy', 0.8963231444358826),\n",
              " ('loud', 0.8955198526382446),\n",
              " ('feel', 0.8897919058799744),\n",
              " ('loving', 0.8833610415458679),\n",
              " ('sober', 0.882926344871521),\n",
              " ('sleeping', 0.8801181316375732),\n",
              " ('depressed', 0.879048764705658),\n",
              " ('scary', 0.8757081627845764),\n",
              " ('sad', 0.8738341927528381)]"
            ]
          },
          "metadata": {},
          "execution_count": 21
        }
      ]
    },
    {
      "cell_type": "code",
      "execution_count": 22,
      "id": "04554d71",
      "metadata": {
        "id": "04554d71"
      },
      "outputs": [],
      "source": [
        "from tensorflow.keras.preprocessing.text import Tokenizer\n",
        "\n",
        "tk = Tokenizer()\n",
        "tk.fit_on_texts(X)"
      ]
    },
    {
      "cell_type": "code",
      "source": [
        "vocab_size = len(tk.word_index)\n",
        "vocab_size"
      ],
      "metadata": {
        "colab": {
          "base_uri": "https://localhost:8080/"
        },
        "id": "p0GsDB0mOk2E",
        "outputId": "49e69e69-ab34-4e81-a296-adb5af80c4ec"
      },
      "id": "p0GsDB0mOk2E",
      "execution_count": 23,
      "outputs": [
        {
          "output_type": "execute_result",
          "data": {
            "text/plain": [
              "9098"
            ]
          },
          "metadata": {},
          "execution_count": 23
        }
      ]
    },
    {
      "cell_type": "code",
      "source": [
        "X.shape , y.shape"
      ],
      "metadata": {
        "colab": {
          "base_uri": "https://localhost:8080/"
        },
        "id": "wCu8HmZbPD9b",
        "outputId": "6bec0113-e1b4-474e-dadf-fa408dade79e"
      },
      "id": "wCu8HmZbPD9b",
      "execution_count": 24,
      "outputs": [
        {
          "output_type": "execute_result",
          "data": {
            "text/plain": [
              "((4653,), (4653,))"
            ]
          },
          "metadata": {},
          "execution_count": 24
        }
      ]
    },
    {
      "cell_type": "code",
      "source": [
        "print(tk.word_index)"
      ],
      "metadata": {
        "colab": {
          "base_uri": "https://localhost:8080/"
        },
        "id": "Vf8yexINPHln",
        "outputId": "6225673f-c81d-4964-94e9-7f1199651f3f"
      },
      "id": "Vf8yexINPHln",
      "execution_count": 25,
      "outputs": [
        {
          "output_type": "stream",
          "name": "stdout",
          "text": [
            "{'depresion': 1, 'emoji': 2, 'anxiety': 3, 'god': 4, 'like': 5, 'al': 6, 'day': 7, 'love': 8, 'face': 9, 'know': 10, 'get': 11, 'one': 12, 'people': 13, 'going': 14, 'go': 15, 'wil': 16, 'time': 17, 'today': 18, 'u': 19, 'se': 20, 'great': 21, 'ben': 22, 'life': 23, 'got': 24, 'back': 25, 'realy': 26, 'quot': 27, 'think': 28, 'fel': 29, 'new': 30, 'l': 31, 'thanks': 32, 'lol': 33, 'much': 34, 'wel': 35, 'mental': 36, 'ned': 37, 'would': 38, 'help': 39, 'right': 40, 'want': 41, 'never': 42, 'hope': 43, 'im': 44, 'make': 45, 'stil': 46, 'oh': 47, 'someone': 48, 'work': 49, 'way': 50, 'twiter': 51, 'hapy': 52, 'take': 53, 'things': 54, 'best': 55, 'amp': 56, 'even': 57, 'home': 58, 'health': 59, 'could': 60, 'let': 61, 'heart': 62, 'us': 63, 'night': 64, 'geting': 65, 'say': 66, 'morning': 67, 'thing': 68, 'beter': 69, 'come': 70, 'also': 71, 'gona': 72, 'yeah': 73, 'real': 74, 'fun': 75, 'post': 76, 'please': 77, 'feling': 78, 'last': 79, 'everyone': 80, 'every': 81, 'mom': 82, 'bad': 83, 'watching': 84, 'hey': 85, 'always': 86, 'lot': 87, 'sure': 88, 'days': 89, 'awesome': 90, 'haha': 91, 'may': 92, 'years': 93, 'thank': 94, 'crying': 95, 'via': 96, 'slep': 97, 'kids': 98, 'something': 99, 'first': 100, 'world': 101, 'x': 102, 'nice': 103, 'person': 104, 'wait': 105, 'try': 106, 'ever': 107, 'hard': 108, 'schol': 109, 'friends': 110, 'shit': 111, 'man': 112, 'tomorow': 113, 'many': 114, 'yes': 115, 'ur': 116, 'around': 117, 'read': 118, 'actualy': 119, 'live': 120, 'stres': 121, 'music': 122, 'maybe': 123, 'tel': 124, 'give': 125, 'makes': 126, 'wekend': 127, 'self': 128, 'wish': 129, 'smiling': 130, 'long': 131, 'tonight': 132, 'lok': 133, 'kep': 134, 'risk': 135, 'trying': 136, 'show': 137, 'watch': 138, 'said': 139, 'talk': 140, 'suicide': 141, 'made': 142, 'next': 143, 'wek': 144, 'ilnes': 145, 'prety': 146, 'w': 147, 'friend': 148, 'study': 149, 'two': 150, 'litle': 151, 'lt': 152, 'sad': 153, 'emotional': 154, 'col': 155, 'since': 156, 'nothing': 157, 'stop': 158, 'fucking': 159, 'year': 160, 'use': 161, 'son': 162, 'ok': 163, 'bed': 164, 'red': 165, 'away': 166, 'cause': 167, 'ready': 168, 'fre': 169, 'twet': 170, 'n': 171, 'care': 172, 'cured': 173, 'taking': 174, 'hate': 175, 'loking': 176, 'eating': 177, 'movie': 178, 'anything': 179, 'though': 180, 'heavy': 181, 'already': 182, 'depresed': 183, 'sufering': 184, 'skin': 185, 'children': 186, 'almost': 187, 'mean': 188, 'everything': 189, 'ah': 190, 'helps': 191, 'yay': 192, 'thoughts': 193, 'guys': 194, 'done': 195, 'suport': 196, 'find': 197, 'amazing': 198, 'working': 199, 'folow': 200, 'cure': 201, 'light': 202, 'development': 203, 'thinking': 204, 'ya': 205, 'wow': 206, 'start': 207, 'talking': 208, 'pain': 209, 'brain': 210, 'disorder': 211, 'loudly': 212, 'family': 213, 'video': 214, 'sumer': 215, 'put': 216, 'sory': 217, 'finaly': 218, 'bit': 219, 'another': 220, 'true': 221, 'tone': 222, 'tied': 223, 'house': 224, 'making': 225, 'wana': 226, 'exercise': 227, 'fod': 228, 'old': 229, 'stuf': 230, 'went': 231, 'coming': 232, 'th': 233, 'okay': 234, 'anyone': 235, 'intelectual': 236, 'hi': 237, 'later': 238, 'end': 239, 'bok': 240, 'joke': 241, 'girl': 242, 'thought': 243, 'hear': 244, 'listen': 245, 'job': 246, 'joy': 247, 'mis': 248, 'tears': 249, 'yet': 250, 'symptoms': 251, 'eyes': 252, 'severe': 253, 'times': 254, 'big': 255, 'hours': 256, 'tired': 257, 'check': 258, 'nap': 259, 'etc': 260, 'mind': 261, 'b': 262, 'isues': 263, 'might': 264, 'baby': 265, 'strugle': 266, 'else': 267, 'beautiful': 268, 'game': 269, 'sign': 270, 'til': 271, 'hit': 272, 'glad': 273, 'therapy': 274, 'rom': 275, 'gets': 276, 'funy': 277, 'reason': 278, 'hand': 279, 'comes': 280, 'gone': 281, 'blog': 282, 'gues': 283, 'tok': 284, 'r': 285, 'deal': 286, 'without': 287, 'song': 288, 'told': 289, 'aw': 290, 'sufer': 291, 'high': 292, 'worst': 293, 'lost': 294, 'serious': 295, 'bitch': 296, 'saw': 297, 'bipolar': 298, 'far': 299, 'cal': 300, 'social': 301, 'found': 302, 'enough': 303, 'sometimes': 304, 'caled': 305, 'problems': 306, 'eat': 307, 'dep': 308, 'part': 309, 'point': 310, 'sucks': 311, 'dont': 312, 'enjoy': 313, 'others': 314, 'stay': 315, 'chronic': 316, 'fact': 317, 'hot': 318, 'place': 319, 'easy': 320, 'change': 321, 'kind': 322, 'wrong': 323, 'ad': 324, 'must': 325, 'fight': 326, 'suicidal': 327, 'bom': 328, 'sleping': 329, 'left': 330, 'birthday': 331, 'death': 332, 'head': 333, 'mod': 334, 'crazy': 335, 'songs': 336, 'adiction': 337, 'cripling': 338, 'started': 339, 'thats': 340, 'drug': 341, 'sun': 342, 'came': 343, 'name': 344, 'hahaha': 345, 'wanted': 346, 'state': 347, 'using': 348, 'runing': 349, 'met': 350, 'least': 351, 'excited': 352, 'pl': 353, 'luck': 354, 'phone': 355, 'lmao': 356, 'reading': 357, 'war': 358, 'able': 359, 'tried': 360, 'course': 361, 'seing': 362, 'understand': 363, 'hands': 364, 'run': 365, 'dark': 366, 'mother': 367, 'join': 368, 'money': 369, 'swet': 370, 'alone': 371, 'cold': 372, 'hair': 373, 'says': 374, 'early': 375, 'woke': 376, 'tens': 377, 'yesterday': 378, 'used': 379, 'medium': 380, 'puf': 381, 'canabis': 382, 'daily': 383, 'sounds': 384, 'ones': 385, 'share': 386, 'saying': 387, 'weather': 388, 'lovely': 389, 'past': 390, 'loks': 391, 'leave': 392, 'experience': 393, 'welcome': 394, 'send': 395, 'bc': 396, 'learn': 397, 'bring': 398, 'loved': 399, 'helo': 400, 'weight': 401, 'wo': 402, 'strugling': 403, 'idea': 404, 'believe': 405, 'honestly': 406, 'ease': 407, 'living': 408, 'finished': 409, 'positive': 410, 'men': 411, 'side': 412, 'literaly': 413, 'anyway': 414, 'open': 415, 'cant': 416, 'f': 417, 'c': 418, 'betwen': 419, 'month': 420, 'exercising': 421, 'physical': 422, 'btw': 423, 'especialy': 424, 'seriously': 425, 'anger': 426, 'writing': 427, 'ful': 428, 'body': 429, 'cry': 430, 'probably': 431, 'play': 432, 'pay': 433, 'clas': 434, 'set': 435, 'media': 436, 'party': 437, 'fuck': 438, 'definitely': 439, 'low': 440, 'caused': 441, 'cute': 442, 'fighting': 443, 'sunday': 444, 'break': 445, 'les': 446, 'waiting': 447, 'avoid': 448, 'gota': 449, 'k': 450, 'album': 451, 'gym': 452, 'atention': 453, 'website': 454, 'whole': 455, 'monday': 456, 'remember': 457, 'ask': 458, 'second': 459, 'lunch': 460, 'patients': 461, 'il': 462, 'dealing': 463, 'major': 464, 'rt': 465, 'twets': 466, 'perfect': 467, 'months': 468, 'diner': 469, 'outside': 470, 'important': 471, 'women': 472, 'worse': 473, 'hour': 474, 'ago': 475, 'story': 476, 'sen': 477, 'instead': 478, 'hotline': 479, 'lose': 480, 'online': 481, 'helped': 482, 'hapen': 483, 'medication': 484, 'anymore': 485, 'clinical': 486, 'atacks': 487, 'minutes': 488, 'decided': 489, 'news': 490, 'signs': 491, 'st': 492, 'ofice': 493, 'cofe': 494, 'wants': 495, 'concert': 496, 'panic': 497, 'turn': 498, 'gave': 499, 'forward': 500, 'rock': 501, 'shows': 502, 'goes': 503, 'weks': 504, 'strong': 505, 'tv': 506, 'white': 507, 'win': 508, 'visit': 509, 'tho': 510, 'nobody': 511, 'write': 512, 'diferent': 513, 'together': 514, 'treatment': 515, 'due': 516, 'sems': 517, 'hm': 518, 'damn': 519, 'sex': 520, 'ways': 521, 'walk': 522, 'meds': 523, 'mater': 524, 'godnight': 525, 'lead': 526, 'link': 527, 'everyday': 528, 'cuts': 529, 'half': 530, 'listening': 531, 'lonely': 532, 'worth': 533, 'excelent': 534, 'parents': 535, 'keps': 536, 'overcome': 537, 'hits': 538, 'beach': 539, 'totaly': 540, 'wonderful': 541, 'liked': 542, 'folowers': 543, 'rain': 544, 'colege': 545, 'trauma': 546, 'research': 547, 'felt': 548, 'dog': 549, 'relationship': 550, 'fan': 551, 'pm': 552, 'medical': 553, 'power': 554, 'diagnosed': 555, 'lots': 556, 'mouth': 557, 'normal': 558, 'facebok': 559, 'works': 560, 'june': 561, 'top': 562, 'lives': 563, 'ap': 564, 'j': 565, 'regularly': 566, 'forget': 567, 'either': 568, 'rather': 569, 'human': 570, 'harm': 571, 'uk': 572, 'friday': 573, 'e': 574, 'fake': 575, 'omg': 576, 'turned': 577, 'losing': 578, 'canot': 579, 'starting': 580, 'yea': 581, 'number': 582, 'page': 583, 'girls': 584, 'park': 585, 'healthy': 586, 'suny': 587, 'developing': 588, 'internet': 589, 'list': 590, 'late': 591, 'smile': 592, 'efects': 593, 'loves': 594, 'giving': 595, 'related': 596, 'sadnes': 597, 'proud': 598, 'causes': 599, 'idk': 600, 'control': 601, 'gt': 602, 'chance': 603, 'society': 604, 'weary': 605, 'rn': 606, 'ptsd': 607, 'hel': 608, 'trust': 609, 'kinda': 610, 'huge': 611, 'woman': 612, 'short': 613, 'history': 614, 'rise': 615, 'season': 616, 'date': 617, 'midle': 618, 'batle': 619, 'heard': 620, 'moment': 621, 'naps': 622, 'shoping': 623, 'beat': 624, 'healing': 625, 'lack': 626, 'playing': 627, 'busines': 628, 'stupid': 629, 'black': 630, 'neds': 631, 'fix': 632, 'talks': 633, 'spend': 634, 'word': 635, 'stigma': 636, 'v': 637, 'emotions': 638, 'piece': 639, 'saturday': 640, 'pray': 641, 'milion': 642, 'child': 643, 'congrats': 644, 'aded': 645, 'hapines': 646, 'reasons': 647, 'fine': 648, 'boks': 649, 'wear': 650, 'breakfast': 651, 'longer': 652, 'text': 653, 'including': 654, 'teling': 655, 'super': 656, 'knowing': 657, 'sweat': 658, 'glas': 659, 'doctor': 660, 'siting': 661, 'posted': 662, 'sent': 663, 'taken': 664, 'truly': 665, 'sick': 666, 'whatever': 667, 'yrs': 668, 'keping': 669, 'save': 670, 'loving': 671, 'usualy': 672, 'wrote': 673, 'drive': 674, 'quite': 675, 'isue': 676, 'paper': 677, 'levels': 678, 'evidence': 679, 'bored': 680, 'wed': 681, 'cuz': 682, 'words': 683, 'ugh': 684, 'couple': 685, 'abuse': 686, 'watched': 687, 'dude': 688, 'problem': 689, 'buy': 690, 'activity': 691, 'photos': 692, 'recovery': 693, 'photo': 694, 'episode': 695, 'cat': 696, 'discus': 697, 'saved': 698, 'age': 699, 'higher': 700, 'treat': 701, 'final': 702, 'asking': 703, 'hurt': 704, 'dad': 705, 'disease': 706, 'sufered': 707, 'practice': 708, 'grow': 709, 'active': 710, 'ha': 711, 'trump': 712, 'researchers': 713, 'often': 714, 'lonelines': 715, 'actual': 716, 'chat': 717, 'lately': 718, 'disorders': 719, 'games': 720, 'wonder': 721, 'choice': 722, 'busy': 723, 'site': 724, 'forgot': 725, 'whether': 726, 'interesting': 727, 'hehe': 728, 'em': 729, 'sound': 730, 'grad': 731, 'learning': 732, 'car': 733, 'worked': 734, 'constantly': 735, 'series': 736, 'dificult': 737, 'awarenes': 738, 'thinks': 739, 'inside': 740, 'absolutely': 741, 'batling': 742, 'diagnosis': 743, 'admit': 744, 'die': 745, 'along': 746, 'folowed': 747, 'update': 748, 'move': 749, 'fam': 750, 'rest': 751, 'imagine': 752, 'energy': 753, 'behind': 754, 'helping': 755, 'young': 756, 'seasonal': 757, 'email': 758, 'pic': 759, 'third': 760, 'ive': 761, 'speak': 762, 'content': 763, 'bout': 764, 'group': 765, 'wining': 766, 'sense': 767, 'straight': 768, 'promise': 769, 'exactly': 770, 'gives': 771, 'afect': 772, 'lil': 773, 'wory': 774, 'pensive': 775, 'wake': 776, 'sudenly': 777, 'questions': 778, 'fal': 779, 'shaped': 780, 'picture': 781, 'fast': 782, 'negative': 783, 'art': 784, 'felings': 785, 'single': 786, 'shower': 787, 'terible': 788, 'yal': 789, 'faling': 790, 'tour': 791, 'bath': 792, 'sat': 793, 'upside': 794, 'cos': 795, 'city': 796, 'dear': 797, 'interview': 798, 'purpose': 799, 'towards': 800, 'opinion': 801, 'sugest': 802, 'sugests': 803, 'level': 804, 'mine': 805, 'type': 806, 'fat': 807, 'article': 808, 'touch': 809, 'pictures': 810, 'youtube': 811, 'folowing': 812, 'mindfulnes': 813, 'weird': 814, 'porn': 815, 'term': 816, 'sir': 817, 'fels': 818, 'pas': 819, 'hiting': 820, 'rates': 821, 'chose': 822, 'journey': 823, 'church': 824, 'mania': 825, 'entire': 826, 'folded': 827, 'per': 828, 'jesus': 829, 'drink': 830, 'pls': 831, 'hapens': 832, 'tips': 833, 'combat': 834, 'gay': 835, 'comon': 836, 'los': 837, 'linked': 838, 'goin': 839, 'twice': 840, 'safe': 841, 'deserve': 842, 'mised': 843, 'company': 844, 'conditions': 845, 'mad': 846, 'cut': 847, 'trip': 848, 'teth': 849, 'eye': 850, 'xoxo': 851, 'playlist': 852, 'lazy': 853, 'fear': 854, 'cancer': 855, 'plus': 856, 'maters': 857, 'realize': 858, 'star': 859, 'relax': 860, 'warm': 861, 'puting': 862, 'plan': 863, 'gender': 864, 'dream': 865, 'thre': 866, 'nite': 867, 'hapening': 868, 'wtf': 869, 'nd': 870, 'cope': 871, 'main': 872, 'obama': 873, 'thx': 874, 'hanging': 875, 'team': 876, 'ten': 877, 'postpartum': 878, 'abt': 879, 'dm': 880, 'drunk': 881, 'pick': 882, 'memes': 883, 'choicedepresion': 884, 'action': 885, 'favorite': 886, 'older': 887, 'favourite': 888, 'tough': 889, 'block': 890, 'line': 891, 'market': 892, 'character': 893, 'manic': 894, 'form': 895, 'diference': 896, 'schedule': 897, 'sesion': 898, 'overwhelming': 899, 'country': 900, 'become': 901, 'regret': 902, 'exam': 903, 'causing': 904, 'sunshine': 905, 'jus': 906, 'changed': 907, 'include': 908, 'hopefuly': 909, 'train': 910, 'catch': 911, 'presure': 912, 'mum': 913, 'means': 914, 'g': 915, 'slightly': 916, 'coment': 917, 'learned': 918, 'continue': 919, 'hold': 920, 'exams': 921, 'peace': 922, 'lower': 923, 'p': 924, 'step': 925, 'leaving': 926, 'prevent': 927, 'boy': 928, 'breaking': 929, 'question': 930, 'except': 931, 'five': 932, 'hoping': 933, 'close': 934, 'smal': 935, 'profesional': 936, 'rare': 937, 'gogle': 938, 'figure': 939, 'barely': 940, 'given': 941, 'highly': 942, 'neded': 943, 'bye': 944, 'debt': 945, 'asked': 946, 'mini': 947, 'pol': 948, 'psychology': 949, 'meditation': 950, 'sem': 951, 'yo': 952, 'voice': 953, 'acount': 954, 'meting': 955, 'test': 956, 'starts': 957, 'pointing': 958, 'index': 959, 'bother': 960, 'cough': 961, 'memory': 962, 'mode': 963, 'recesion': 964, 'proces': 965, 'closer': 966, 'mon': 967, 'recomend': 968, 'training': 969, 'escape': 970, 'teacher': 971, 'podcast': 972, 'stand': 973, 'fave': 974, 'clothes': 975, 'bowl': 976, 'guy': 977, 'estem': 978, 'vastu': 979, 'leads': 980, 'sexual': 981, 'ist': 982, 'tweting': 983, 'speaking': 984, 'agre': 985, 'coking': 986, 'loked': 987, 'ate': 988, 'american': 989, 'based': 990, 'condition': 991, 'suporting': 992, 'jonas': 993, 'brothers': 994, 'bitches': 995, 'fly': 996, 'mtv': 997, 'awards': 998, 'advice': 999, 'potentialy': 1000, 'oficialy': 1001, 'considered': 1002, 'realized': 1003, 'skype': 1004, 'within': 1005, 'contact': 1006, 'slepy': 1007, 'curently': 1008, 'youth': 1009, 'soul': 1010, 'sometime': 1011, 'weding': 1012, 'sharing': 1013, 'ended': 1014, 'answer': 1015, 'regardles': 1016, 'improve': 1017, 'thread': 1018, 'infinity': 1019, 'kick': 1020, 'sing': 1021, 'regular': 1022, 'ages': 1023, 'tuesday': 1024, 'alive': 1025, 'knew': 1026, 'boys': 1027, 'alright': 1028, 'fit': 1029, 'efective': 1030, 'option': 1031, 'driving': 1032, 'meant': 1033, 'crap': 1034, 'information': 1035, 'blend': 1036, 'cures': 1037, 'childhod': 1038, 'round': 1039, 'rd': 1040, 'topic': 1041, 'terms': 1042, 'depika': 1043, 'handle': 1044, 'yep': 1045, 'increased': 1046, 'milenials': 1047, 'deper': 1048, 'medicine': 1049, 'hug': 1050, 'roling': 1051, 'hearts': 1052, 'relate': 1053, 'movies': 1054, 'laugh': 1055, 'case': 1056, 'americans': 1057, 'stresing': 1058, 'hahah': 1059, 'youre': 1060, 'raised': 1061, 'sister': 1062, 'economic': 1063, 'obsesion': 1064, 'daughter': 1065, 'somebody': 1066, 'extremely': 1067, 'result': 1068, 'comunity': 1069, 'dementia': 1070, 'suposed': 1071, 'jokes': 1072, 'truth': 1073, 'knows': 1074, 'isolation': 1075, 'bought': 1076, 'analysis': 1077, 'depresive': 1078, 'epidemic': 1079, 'cares': 1080, 'explain': 1081, 'insomnia': 1082, 'yup': 1083, 'yoga': 1084, 'graduation': 1085, 'computer': 1086, 'comfort': 1087, 'america': 1088, 'hospital': 1089, 'simple': 1090, 'students': 1091, 'space': 1092, 'demons': 1093, 'available': 1094, 'talked': 1095, 'dead': 1096, 'opening': 1097, 'maried': 1098, 'doctors': 1099, 'por': 1100, 'experiences': 1101, 'model': 1102, 'blame': 1103, 'prize': 1104, 'reduce': 1105, 'theory': 1106, 'chers': 1107, 'wit': 1108, 'stuck': 1109, 'creative': 1110, 'clear': 1111, 'posible': 1112, 'brother': 1113, 'financial': 1114, 'situation': 1115, 'studies': 1116, 'therapist': 1117, 'ex': 1118, 'four': 1119, 'hole': 1120, 'gut': 1121, 'cok': 1122, 'pink': 1123, 'disapointed': 1124, 'anti': 1125, 'fire': 1126, 'beating': 1127, 'stresed': 1128, 'alcohol': 1129, 'sort': 1130, 'hapened': 1131, 'nights': 1132, 'clean': 1133, 'hocking': 1134, 'sadepresion': 1135, 'kanye': 1136, 'rapers': 1137, 'band': 1138, 'enjoying': 1139, 'cros': 1140, 'ilneses': 1141, 'drop': 1142, 'fuly': 1143, 'la': 1144, 'hang': 1145, 'known': 1146, 'budy': 1147, 'swear': 1148, 'spiral': 1149, 'unles': 1150, 'bday': 1151, 'yum': 1152, 'ho': 1153, 'postnatal': 1154, 'harmful': 1155, 'phrases': 1156, 'national': 1157, 'minute': 1158, 'minor': 1159, 'impact': 1160, 'random': 1161, 'law': 1162, 'order': 1163, 'plz': 1164, 'recently': 1165, 'teach': 1166, 'hahahaha': 1167, 'otherwise': 1168, 'myspace': 1169, 'adult': 1170, 'xd': 1171, 'destroy': 1172, 'empty': 1173, 'planing': 1174, 'sigh': 1175, 'kiling': 1176, 'wot': 1177, 'stick': 1178, 'husband': 1179, 'trigered': 1180, 'culture': 1181, 'stoped': 1182, 'upset': 1183, 'dor': 1184, 'treated': 1185, 'several': 1186, 'mr': 1187, 'lord': 1188, 'lucky': 1189, 'finds': 1190, 'create': 1191, 'tom': 1192, 'ac': 1193, 'likely': 1194, 'cleared': 1195, 'kils': 1196, 'chemical': 1197, 'incredible': 1198, 'treating': 1199, 'constant': 1200, 'def': 1201, 'goals': 1202, 'slash': 1203, 'personality': 1204, 'future': 1205, 'brought': 1206, 'holiday': 1207, 'tickets': 1208, 'extreme': 1209, 'asociated': 1210, 'non': 1211, 'aka': 1212, 'pils': 1213, 'note': 1214, 'focus': 1215, 'tenagers': 1216, 'gain': 1217, 'properly': 1218, 'breath': 1219, 'likes': 1220, 'near': 1221, 'doc': 1222, 'kept': 1223, 'moments': 1224, 'wild': 1225, 'reply': 1226, 'dr': 1227, 'ride': 1228, 'raise': 1229, 'present': 1230, 'key': 1231, 'forever': 1232, 'sufers': 1233, 'trouble': 1234, 'ugly': 1235, 'acept': 1236, 'smoke': 1237, 'raining': 1238, 'education': 1239, 'museum': 1240, 'hilarious': 1241, 'front': 1242, 'benefits': 1243, 'cover': 1244, 'vintage': 1245, 'club': 1246, 'demi': 1247, 'congratulations': 1248, 'diet': 1249, 'mesage': 1250, 'drugs': 1251, 'everybody': 1252, 'building': 1253, 'despite': 1254, 'mostly': 1255, 'mild': 1256, 'changing': 1257, 'dry': 1258, 'uh': 1259, 'failure': 1260, 'shirt': 1261, 'completely': 1262, 'taylor': 1263, 'gorgeous': 1264, 'kiler': 1265, 'triger': 1266, 'fans': 1267, 'ko': 1268, 'reminds': 1269, 'dreams': 1270, 'quote': 1271, 'celebrate': 1272, 'delicious': 1273, 'protect': 1274, 'scared': 1275, 'atack': 1276, 'clue': 1277, 'finding': 1278, 'deserves': 1279, 'bigest': 1280, 'jk': 1281, 'ber': 1282, 'bush': 1283, 'hary': 1284, 'pushing': 1285, 'wont': 1286, 'graduate': 1287, 'easier': 1288, 'alot': 1289, 'experts': 1290, 'finish': 1291, 'kid': 1292, 'chil': 1293, 'rice': 1294, 'wal': 1295, 'created': 1296, 'personal': 1297, 'exhausted': 1298, 'sis': 1299, 'ahaha': 1300, 'kicking': 1301, 'manage': 1302, 'trailer': 1303, 'blod': 1304, 'closed': 1305, 'fixed': 1306, 'godmorning': 1307, 'spoke': 1308, 'reality': 1309, 'couldnt': 1310, 'individual': 1311, 'chery': 1312, 'federal': 1313, 'imbalance': 1314, 'points': 1315, 'quiet': 1316, 'shoes': 1317, 'spending': 1318, 'broke': 1319, 'awake': 1320, 'adhd': 1321, 'waving': 1322, 'junk': 1323, 'behavior': 1324, 'smels': 1325, 'resources': 1326, 'act': 1327, 'theres': 1328, 'chese': 1329, 'carer': 1330, 'afternon': 1331, 'un': 1332, 'film': 1333, 'aye': 1334, 'te': 1335, 'scary': 1336, 'begin': 1337, 'anytime': 1338, 'bar': 1339, 'characters': 1340, 'spech': 1341, 'strugled': 1342, 'ofer': 1343, 'imposible': 1344, 'ketamine': 1345, 'recomended': 1346, 'hide': 1347, 'dose': 1348, 'among': 1349, 'writen': 1350, 'subject': 1351, 'stronger': 1352, 'knetz': 1353, 'twit': 1354, 'sayin': 1355, 'prove': 1356, 'apreciate': 1357, 'ana': 1358, 'tip': 1359, 'system': 1360, 'clouds': 1361, 'basicaly': 1362, 'none': 1363, 'pased': 1364, 'drinks': 1365, 'amount': 1366, 'victory': 1367, 'musical': 1368, 'kil': 1369, 'shop': 1370, 'wise': 1371, 'wave': 1372, 'padukone': 1373, 'finals': 1374, 'notice': 1375, 'vote': 1376, 'exciting': 1377, 'alow': 1378, 'stoked': 1379, 'videos': 1380, 'ps': 1381, 'getin': 1382, 'interested': 1383, 'ocd': 1384, 'chilin': 1385, 'snap': 1386, 'trafic': 1387, 'answers': 1388, 'bpd': 1389, 'flor': 1390, 'honey': 1391, 'push': 1392, 'distance': 1393, 'secret': 1394, 'earlier': 1395, 'cary': 1396, 'pupy': 1397, 'elizabeth': 1398, 'track': 1399, 'steps': 1400, 'store': 1401, 'decrease': 1402, 'dying': 1403, 'counseling': 1404, 'relationships': 1405, 'born': 1406, 'studying': 1407, 'peter': 1408, 'staying': 1409, 'west': 1410, 'hurts': 1411, 'h': 1412, 'lie': 1413, 'cycle': 1414, 'hela': 1415, 'bus': 1416, 'rainy': 1417, 'growing': 1418, 'sky': 1419, 'strugles': 1420, 'evening': 1421, 'water': 1422, 'chalenge': 1423, 'anxious': 1424, 'mentaly': 1425, 'uses': 1426, 'shares': 1427, 'didnt': 1428, 'somehow': 1429, 'thnx': 1430, 'luv': 1431, 'event': 1432, 'emotion': 1433, 'sarah': 1434, 'beyond': 1435, 'marathon': 1436, 'generation': 1437, 'taught': 1438, 'tax': 1439, 'provide': 1440, 'however': 1441, 'productivity': 1442, 'prevented': 1443, 'print': 1444, 'project': 1445, 'difer': 1446, 'eventualy': 1447, 'bal': 1448, 'sims': 1449, 'neither': 1450, 'boring': 1451, 'stars': 1452, 'spent': 1453, 'scren': 1454, 'chalenges': 1455, 'artist': 1456, 'majority': 1457, 'fantastic': 1458, 'backhand': 1459, 'experiencing': 1460, 'gren': 1461, 'bloging': 1462, 'growth': 1463, 'changes': 1464, 'nose': 1465, 'mid': 1466, 'functioning': 1467, 'pul': 1468, 'asociation': 1469, 'lowers': 1470, 'pics': 1471, 'sugestions': 1472, 'q': 1473, 'huh': 1474, 'staring': 1475, 'waking': 1476, 'box': 1477, 'jb': 1478, 'ms': 1479, 'pres': 1480, 'babe': 1481, 'burn': 1482, 'decreases': 1483, 'received': 1484, 'spring': 1485, 'boyfriend': 1486, 'warning': 1487, 'deply': 1488, 'checking': 1489, 'justin': 1490, 'prob': 1491, 'notes': 1492, 'symbol': 1493, 'cases': 1494, 'profile': 1495, 'puled': 1496, 'slow': 1497, 'thankyou': 1498, 'packing': 1499, 'govt': 1500, 'increases': 1501, 'disney': 1502, 'journal': 1503, 'adres': 1504, 'cd': 1505, 'um': 1506, 'strange': 1507, 'double': 1508, 'situations': 1509, 'moms': 1510, 'diabetes': 1511, 'developed': 1512, 'ladies': 1513, 'updates': 1514, 'raising': 1515, 'grief': 1516, 'covered': 1517, 'genuinely': 1518, 'relief': 1519, 'truck': 1520, 'noticed': 1521, 'mail': 1522, 'turkey': 1523, 'breastfeding': 1524, 'weak': 1525, 'fresh': 1526, 'silent': 1527, 'slowly': 1528, 'simply': 1529, 'psychological': 1530, 'thursday': 1531, 'stock': 1532, 'salt': 1533, 'consider': 1534, 'november': 1535, 'wi': 1536, 'sold': 1537, 'halo': 1538, 'sek': 1539, 'blue': 1540, 'adicted': 1541, 'smel': 1542, 'tweps': 1543, 'nah': 1544, 'vs': 1545, 'botom': 1546, 'clock': 1547, 'mothers': 1548, 'hah': 1549, 'adults': 1550, 'tune': 1551, 'ups': 1552, 'blosom': 1553, 'paranoid': 1554, 'sisters': 1555, 'survived': 1556, 'eh': 1557, 'pure': 1558, 'pouting': 1559, 'suden': 1560, 'ashole': 1561, 'nowhere': 1562, 'individuals': 1563, 'service': 1564, 'phase': 1565, 'bro': 1566, 'period': 1567, 'shame': 1568, 'snack': 1569, 'ahead': 1570, 'le': 1571, 'leson': 1572, 'agred': 1573, 'web': 1574, 'jay': 1575, 'basebal': 1576, 'specificaly': 1577, 'piza': 1578, 'bts': 1579, 'imediately': 1580, 'army': 1581, 'nick': 1582, 'whats': 1583, 'figured': 1584, 'regarding': 1585, 'entering': 1586, 'sam': 1587, 'forgeting': 1588, 'modern': 1589, 'compared': 1590, 'dies': 1591, 'english': 1592, 'strength': 1593, 'na': 1594, 'public': 1595, 'grand': 1596, 'cals': 1597, 'quality': 1598, 'anyways': 1599, 'briliant': 1600, 'although': 1601, 'chocolate': 1602, 'fredom': 1603, 'hows': 1604, 'tryna': 1605, 'plenty': 1606, 'methods': 1607, 'wife': 1608, 'quit': 1609, 'suicides': 1610, 'tea': 1611, 'id': 1612, 'workers': 1613, 'biger': 1614, 'gros': 1615, 'wednesday': 1616, 'pre': 1617, 'uncle': 1618, 'places': 1619, 'fods': 1620, 'medicated': 1621, 'masive': 1622, 'legal': 1623, 'depresing': 1624, 'surgery': 1625, 'moving': 1626, 'chicken': 1627, 'mo': 1628, 'clases': 1629, 'hat': 1630, 'conversations': 1631, 'soup': 1632, 'encouraging': 1633, 'father': 1634, 'corner': 1635, 'review': 1636, 'fed': 1637, 'mcfly': 1638, 'caught': 1639, 'anybody': 1640, 'acne': 1641, 'plant': 1642, 'doubles': 1643, 'sperm': 1644, 'havent': 1645, 'felow': 1646, 'functional': 1647, 'laughing': 1648, 'pot': 1649, 'idiot': 1650, 'female': 1651, 'general': 1652, 'netflix': 1653, 'special': 1654, 'hearing': 1655, 'bi': 1656, 'polar': 1657, 'jobs': 1658, 'creping': 1659, 'garden': 1660, 'involved': 1661, 'nude': 1662, 'develop': 1663, 'fingers': 1664, 'rainbow': 1665, 'physicaly': 1666, 'disability': 1667, 'yr': 1668, 'overwhelmed': 1669, 'fdr': 1670, 'greater': 1671, 'conference': 1672, 'target': 1673, 'relieved': 1674, 'complete': 1675, 'spirit': 1676, 'credit': 1677, 'filed': 1678, 'miserable': 1679, 'station': 1680, 'victim': 1681, 'milk': 1682, 'heal': 1683, 'easedepresion': 1684, 'sexy': 1685, 'walking': 1686, 'flight': 1687, 'understanding': 1688, 'everywhere': 1689, 'york': 1690, 'realise': 1691, 'links': 1692, 'vilainous': 1693, 'remind': 1694, 'spam': 1695, 'wanting': 1696, 'lifestyle': 1697, 'sadly': 1698, 'jealous': 1699, 'vip': 1700, 'sympathy': 1701, 'throw': 1702, 'row': 1703, 'ol': 1704, 'shot': 1705, 'da': 1706, 'iphone': 1707, 'became': 1708, 'sugested': 1709, 'motivation': 1710, 'spiritual': 1711, 'vines': 1712, 'stages': 1713, 'apart': 1714, 'dancing': 1715, 'fitnes': 1716, 'suck': 1717, 'af': 1718, 'adolescents': 1719, 'program': 1720, 'fund': 1721, 'showing': 1722, 'treatments': 1723, 'doesnt': 1724, 'brown': 1725, 'definition': 1726, 'kis': 1727, 'mark': 1728, 'mix': 1729, 'rough': 1730, 'topics': 1731, 'government': 1732, 'search': 1733, 'nails': 1734, 'lmfao': 1735, 'goal': 1736, 'chips': 1737, 'tol': 1738, 'clearly': 1739, 'cars': 1740, 'mountain': 1741, 'bike': 1742, 'percent': 1743, 'dan': 1744, 'positivity': 1745, 'posts': 1746, 'student': 1747, 'fucked': 1748, 'survival': 1749, 'lift': 1750, 'inspired': 1751, 'worthles': 1752, 'begining': 1753, 'productive': 1754, 'yer': 1755, 'helpful': 1756, 'momy': 1757, 'bo': 1758, 'gr': 1759, 'iritability': 1760, 'remembering': 1761, 'employes': 1762, 'results': 1763, 'click': 1764, 'meal': 1765, 'posting': 1766, 'expert': 1767, 'recognition': 1768, 'lets': 1769, 'reduces': 1770, 'greatest': 1771, 'acording': 1772, 'tim': 1773, 'managed': 1774, 'aparently': 1775, 'mate': 1776, 'meaning': 1777, 'de': 1778, 'remove': 1779, 'shots': 1780, 'sports': 1781, 'sicknes': 1782, 'anywhere': 1783, 'airplane': 1784, 'afects': 1785, 'apointment': 1786, 'co': 1787, 'vitamin': 1788, 'leds': 1789, 'darknes': 1790, 'recomends': 1791, 'hun': 1792, 'road': 1793, 'cards': 1794, 'drama': 1795, 'et': 1796, 'rejected': 1797, 'pop': 1798, 'quen': 1799, 'tetris': 1800, 'latest': 1801, 'dating': 1802, 'mising': 1803, 'certainly': 1804, 'dish': 1805, 'signed': 1806, 'autism': 1807, 'spot': 1808, 'normaly': 1809, 'taco': 1810, 'mal': 1811, 'discovered': 1812, 'tension': 1813, 'drinking': 1814, 'drawing': 1815, 'brings': 1816, 'impresed': 1817, 'flat': 1818, 'huby': 1819, 'frustration': 1820, 'turns': 1821, 'ruin': 1822, 'personaly': 1823, 'cole': 1824, 'lifting': 1825, 'muscle': 1826, 'relaxing': 1827, 'pew': 1828, 'arts': 1829, 'library': 1830, 'atempt': 1831, 'chanel': 1832, 'harder': 1833, 'factors': 1834, 'involving': 1835, 'decide': 1836, 'recent': 1837, 'smirking': 1838, 'prayers': 1839, 'travel': 1840, 'posibly': 1841, 'recovered': 1842, 'sit': 1843, 'friendly': 1844, 'reserve': 1845, 'memories': 1846, 'stret': 1847, 'understod': 1848, 'south': 1849, 'lay': 1850, 'sleples': 1851, 'twitering': 1852, 'expect': 1853, 'girlfriend': 1854, 'quick': 1855, 'takes': 1856, 'famous': 1857, 'inspiration': 1858, 'wars': 1859, 'breathing': 1860, 'outa': 1861, 'solid': 1862, 'swiming': 1863, 'discusion': 1864, 'nightime': 1865, 'role': 1866, 'mariage': 1867, 'leting': 1868, 'stream': 1869, 'aside': 1870, 'medications': 1871, 'shut': 1872, 'crash': 1873, 'math': 1874, 'patient': 1875, 'sm': 1876, 'record': 1877, 'cup': 1878, 'reminded': 1879, 'certain': 1880, 'lifetime': 1881, 'international': 1882, 'inocent': 1883, 'workout': 1884, 'bils': 1885, 'spanish': 1886, 'curing': 1887, 'london': 1888, 'tels': 1889, 'nimh': 1890, 'thanx': 1891, 'liking': 1892, 'woried': 1893, 'excuse': 1894, 'guitar': 1895, 'multiple': 1896, 'india': 1897, 'sin': 1898, 'wories': 1899, 'twetdeck': 1900, 'cost': 1901, 'mainly': 1902, 'total': 1903, 'factor': 1904, 'parties': 1905, 'breathe': 1906, 'rap': 1907, 'windows': 1908, 'texting': 1909, 'nine': 1910, 'dragon': 1911, 'identify': 1912, 'bright': 1913, 'mornin': 1914, 'prices': 1915, 'csi': 1916, 'eight': 1917, 'palm': 1918, 'therefore': 1919, 'hotlineshare': 1920, 'numbers': 1921, 'jon': 1922, 'global': 1923, 'andy': 1924, 'shown': 1925, 'ek': 1926, 'confused': 1927, 'drops': 1928, 'shed': 1929, 'waste': 1930, 'hating': 1931, 'improvements': 1932, 'gna': 1933, 'pump': 1934, 'sh': 1935, 'sending': 1936, 'divorce': 1937, 'bird': 1938, 'migraines': 1939, 'increase': 1940, 'hopelesnes': 1941, 'gravity': 1942, 'frequent': 1943, 'highest': 1944, 'view': 1945, 'toxic': 1946, 'lagi': 1947, 'died': 1948, 'mindset': 1949, 'grasp': 1950, 'concept': 1951, 'guilty': 1952, 'blast': 1953, 'dady': 1954, 'copy': 1955, 'mention': 1956, 'heading': 1957, 'yogurt': 1958, 'swing': 1959, 'setle': 1960, 'labeled': 1961, 'peps': 1962, 'afraid': 1963, 'bost': 1964, 'serotonin': 1965, 'runer': 1966, 'surounded': 1967, 'match': 1968, 'ang': 1969, 'version': 1970, 'hanah': 1971, 'montana': 1972, 'dvd': 1973, 'colour': 1974, 'tmrw': 1975, 'tan': 1976, 'count': 1977, 'hn': 1978, 'laughed': 1979, 'instant': 1980, 'faking': 1981, 'shity': 1982, 'lakers': 1983, 'traveling': 1984, 'refuse': 1985, 'dnt': 1986, 'forced': 1987, 'pil': 1988, 'impairment': 1989, 'fet': 1990, 'leading': 1991, 'rude': 1992, 'diploma': 1993, 'groups': 1994, 'particular': 1995, 'generaly': 1996, 'participants': 1997, 'talented': 1998, 'aniversary': 1999, 'concerns': 2000, 'smoking': 2001, 'hated': 2002, 'legit': 2003, 'laughter': 2004, 'dancer': 2005, 'educate': 2006, 'field': 2007, 'psychologist': 2008, 'card': 2009, 'confidence': 2010, 'fol': 2011, 'bateman': 2012, 'lectures': 2013, 'acts': 2014, 'principles': 2015, 'century': 2016, 'equal': 2017, 'gala': 2018, 'vegan': 2019, 'painful': 2020, 'comfy': 2021, 'gurl': 2022, 'sa': 2023, 'nicely': 2024, 'fatest': 2025, 'amen': 2026, 'pa': 2027, 'hay': 2028, 'fever': 2029, 'ordered': 2030, 'area': 2031, 'extended': 2032, 'prior': 2033, 'blesing': 2034, 'tms': 2035, 'unemployment': 2036, 'soner': 2037, 'repeat': 2038, 'louder': 2039, 'drown': 2040, 'od': 2041, 'vision': 2042, 'longest': 2043, 'gbu': 2044, 'shining': 2045, 'bot': 2046, 'godluck': 2047, 'reward': 2048, 'bank': 2049, 'cel': 2050, 'arived': 2051, 'seting': 2052, 'includes': 2053, 'wings': 2054, 'directly': 2055, 'outlet': 2056, 'nt': 2057, 'bag': 2058, 'saving': 2059, 'bulying': 2060, 'function': 2061, 'blody': 2062, 'direct': 2063, 'twenty': 2064, 'pan': 2065, 'score': 2066, 'held': 2067, 'david': 2068, 'naked': 2069, 'weping': 2070, 'worldwide': 2071, 'alergies': 2072, 'conections': 2073, 'extra': 2074, 'min': 2075, 'lake': 2076, 'onto': 2077, 'board': 2078, 'server': 2079, 'scares': 2080, 'thru': 2081, 'spining': 2082, 'checked': 2083, 'mentioned': 2084, 'price': 2085, 'incredibly': 2086, 'compare': 2087, 'meta': 2088, 'led': 2089, 'interventions': 2090, 'flowers': 2091, 'wekends': 2092, 'miley': 2093, 'prefer': 2094, 'witnesed': 2095, 'chiled': 2096, 'mi': 2097, 'voted': 2098, 'snezing': 2099, 'revolving': 2100, 'sparkling': 2101, 'tenager': 2102, 'reflect': 2103, 'colors': 2104, 'sparkles': 2105, 'wishing': 2106, 'taste': 2107, 'liberty': 2108, 'balance': 2109, 'seking': 2110, 'void': 2111, 'disapear': 2112, 'stone': 2113, 'laptop': 2114, 'thankful': 2115, 'similar': 2116, 'mac': 2117, 'cable': 2118, 'seling': 2119, 'trash': 2120, 'ignorant': 2121, 'stranger': 2122, 'surviving': 2123, 'kiding': 2124, 'birth': 2125, 'trek': 2126, 'coping': 2127, 'member': 2128, 'shaking': 2129, 'denial': 2130, 'germany': 2131, 'kitchen': 2132, 'tegan': 2133, 'sara': 2134, 'bil': 2135, 'acidentaly': 2136, 'magic': 2137, 'researched': 2138, 'hiden': 2139, 'menu': 2140, 'nasal': 2141, 'spray': 2142, 'university': 2143, 'economy': 2144, 'families': 2145, 'manila': 2146, 'suces': 2147, 'scream': 2148, 'zicutake': 2149, 'faves': 2150, 'grandma': 2151, 'eu': 2152, 'wash': 2153, 'managing': 2154, 'julia': 2155, 'throwing': 2156, 'tiny': 2157, 'adorable': 2158, 'blaming': 2159, 'pasing': 2160, 'ignored': 2161, 'response': 2162, 'chris': 2163, 'ako': 2164, 'responded': 2165, 'pun': 2166, 'hero': 2167, 'imune': 2168, 'lokin': 2169, 'rant': 2170, 'disgusting': 2171, 'pro': 2172, 'presents': 2173, 'population': 2174, 'diging': 2175, 'unamused': 2176, 'promoting': 2177, 'section': 2178, 'hint': 2179, 'efort': 2180, 'lowered': 2181, 'joined': 2182, 'nearly': 2183, 'biternes': 2184, 'princes': 2185, 'jackson': 2186, 'lisa': 2187, 'gop': 2188, 'election': 2189, 'guna': 2190, 'biological': 2191, 'somewhere': 2192, 'plays': 2193, 'color': 2194, 'achieve': 2195, 'rid': 2196, 'bleding': 2197, 'aleviate': 2198, 'begins': 2199, 'sliping': 2200, 'speaks': 2201, 'disabilities': 2202, 'systems': 2203, 'somewhat': 2204, 'moved': 2205, 'sale': 2206, 'lady': 2207, 'apartment': 2208, 'asholes': 2209, 'hunting': 2210, 'master': 2211, 'mile': 2212, 'camera': 2213, 'stroke': 2214, 'swings': 2215, 'lily': 2216, 'schizophrenia': 2217, 'counts': 2218, 'z': 2219, 'homework': 2220, 'draw': 2221, 'creating': 2222, 'explore': 2223, 'sends': 2224, 'quoting': 2225, 'golden': 2226, 'aple': 2227, 'pub': 2228, 'leaves': 2229, 'shiping': 2230, 'bringing': 2231, 'psychiatry': 2232, 'aslep': 2233, 'faster': 2234, 'dificulty': 2235, 'blesed': 2236, 'robin': 2237, 'joint': 2238, 'pride': 2239, 'draft': 2240, 'reviews': 2241, 'tht': 2242, 'radio': 2243, 'puzle': 2244, 'dp': 2245, 'adolescence': 2246, 'trol': 2247, 'wud': 2248, 'fil': 2249, 'gauge': 2250, 'realizing': 2251, 'cloud': 2252, 'incident': 2253, 'names': 2254, 'crisis': 2255, 'launch': 2256, 'mary': 2257, 'crime': 2258, 'ed': 2259, 'techniques': 2260, 'atempted': 2261, 'skils': 2262, 'tale': 2263, 'yey': 2264, 'poter': 2265, 'macbok': 2266, 'police': 2267, 'chair': 2268, 'variety': 2269, 'spreading': 2270, 'invite': 2271, 'bold': 2272, 'failed': 2273, 'fail': 2274, 'describe': 2275, 'pages': 2276, 'kate': 2277, 'gig': 2278, 'powers': 2279, 'sunglases': 2280, 'boxes': 2281, 'nervous': 2282, 'apt': 2283, 'default': 2284, 'logo': 2285, 'mentality': 2286, 'actions': 2287, 'ca': 2288, 'orange': 2289, 'hearty': 2290, 'chances': 2291, 'fanboys': 2292, 'honor': 2293, 'blues': 2294, 'wins': 2295, 'july': 2296, 'magnesium': 2297, 'festival': 2298, 'diary': 2299, 'overcoming': 2300, 'respect': 2301, 'moves': 2302, 'opinions': 2303, 'dresed': 2304, 'mister': 2305, 'partum': 2306, 'obtained': 2307, 'data': 2308, 'kim': 2309, 'tf': 2310, 'reached': 2311, 'bq': 2312, 'invited': 2313, 'strain': 2314, 'enjoyable': 2315, 'burden': 2316, 'snow': 2317, 'ideas': 2318, 'reflecting': 2319, 'hungry': 2320, 'solution': 2321, 'previous': 2322, 'atlanta': 2323, 'wearing': 2324, 'stomach': 2325, 'url': 2326, 'bits': 2327, 'finger': 2328, 'swel': 2329, 'animal': 2330, 'silence': 2331, 'recomendations': 2332, 'steve': 2333, 'nightmares': 2334, 'cab': 2335, 'loud': 2336, 'caling': 2337, 'wondering': 2338, 'economics': 2339, 'twilight': 2340, 'marijuana': 2341, 'switch': 2342, 'antidepresants': 2343, 'slap': 2344, 'diagnose': 2345, 'alcoholic': 2346, 'gf': 2347, 'psych': 2348, 'purple': 2349, 'projects': 2350, 'reversed': 2351, 'fabulousfinds': 2352, 'asian': 2353, 'spel': 2354, 'esay': 2355, 'played': 2356, 'programs': 2357, 'window': 2358, 'zero': 2359, 'tag': 2360, 'insurance': 2361, 'stresful': 2362, 'banks': 2363, 'seizures': 2364, 'types': 2365, 'prom': 2366, 'decision': 2367, 'contributes': 2368, 'hahahahaha': 2369, 'dramatic': 2370, 'crushing': 2371, 'progres': 2372, 'couch': 2373, 'loging': 2374, 'teachers': 2375, 'award': 2376, 'awhile': 2377, 'holding': 2378, 'luckily': 2379, 'bunch': 2380, 'quarter': 2381, 'testing': 2382, 'request': 2383, 'suplements': 2384, 'kicks': 2385, 'surprise': 2386, 'belief': 2387, 'confirmed': 2388, 'bilion': 2389, 'afected': 2390, 'mama': 2391, 'perspective': 2392, 'florida': 2393, 'info': 2394, 'candy': 2395, 'paul': 2396, 'blocked': 2397, 'josh': 2398, 'talent': 2399, 'dres': 2400, 'cleaned': 2401, 'fav': 2402, 'salad': 2403, 'urself': 2404, 'slept': 2405, 'paid': 2406, 'exercises': 2407, 'deals': 2408, 'continues': 2409, 'design': 2410, 'makeup': 2411, 'adolescent': 2412, 'era': 2413, 'hugs': 2414, 'pasion': 2415, 'droped': 2416, 'entered': 2417, 'steak': 2418, 'insecurity': 2419, 'fotbal': 2420, 'claping': 2421, 'comics': 2422, 'mixed': 2423, 'artists': 2424, 'glorious': 2425, 'banished': 2426, 'decisions': 2427, 'wet': 2428, 'revision': 2429, 'lads': 2430, 'heads': 2431, 'bounce': 2432, 'ka': 2433, 'spread': 2434, 'curious': 2435, 'shake': 2436, 'awe': 2437, 'headed': 2438, 'honest': 2439, 'intense': 2440, 'freshman': 2441, 'stage': 2442, 'defeat': 2443, 'dosage': 2444, 'mh': 2445, 'budha': 2446, 'heck': 2447, 'cuting': 2448, 'mkt': 2449, 'folks': 2450, 'easily': 2451, 'diferently': 2452, 'persevering': 2453, 'eats': 2454, 'dedicated': 2455, 'pair': 2456, 'enjoyed': 2457, 'forgoten': 2458, 'lesons': 2459, 'phd': 2460, 'strikes': 2461, 'jimy': 2462, 'tear': 2463, 'habits': 2464, 'writer': 2465, 'hehehe': 2466, 'handsome': 2467, 'grades': 2468, 'si': 2469, 'baning': 2470, 'prescribed': 2471, 'experienced': 2472, 'enthusiasm': 2473, 'dems': 2474, 'praying': 2475, 'shoutout': 2476, 'validation': 2477, 'pleased': 2478, 'corn': 2479, 'becoming': 2480, 'aford': 2481, 'named': 2482, 'france': 2483, 'shiped': 2484, 'leaf': 2485, 'instagram': 2486, 'ruined': 2487, 'joking': 2488, 'zone': 2489, 'bay': 2490, 'finishing': 2491, 'singing': 2492, 'cutie': 2493, 'gained': 2494, 'charity': 2495, 'breze': 2496, 'cast': 2497, 'vax': 2498, 'companies': 2499, 'management': 2500, 'grind': 2501, 'tablets': 2502, 'wardrobe': 2503, 'wen': 2504, 'king': 2505, 'exist': 2506, 'bathrom': 2507, 'colapse': 2508, 'fleur': 2509, 'anchor': 2510, 'recover': 2511, 'brush': 2512, 'release': 2513, 'rich': 2514, 'glases': 2515, 'facts': 2516, 'drake': 2517, 'reaction': 2518, 'dumb': 2519, 'grown': 2520, 'temper': 2521, 'conversation': 2522, 'example': 2523, 'depends': 2524, 'exact': 2525, 'string': 2526, 'buble': 2527, 'bos': 2528, 'handout': 2529, 'limited': 2530, 'motivated': 2531, 'smoth': 2532, 'brave': 2533, 'survive': 2534, 'surprised': 2535, 'shape': 2536, 'scandal': 2537, 'yeh': 2538, 'cher': 2539, 'sandwich': 2540, 'build': 2541, 'bles': 2542, 'calm': 2543, 'neutral': 2544, 'standing': 2545, 'ran': 2546, 'fortnite': 2547, 'overal': 2548, 'scheduled': 2549, 'slight': 2550, 'epic': 2551, 'smh': 2552, 'woho': 2553, 'fren': 2554, 'depresionme': 2555, 'benefit': 2556, 'monster': 2557, 'altho': 2558, 'frustrating': 2559, 'drag': 2560, 'inded': 2561, 'prison': 2562, 'heartbreaking': 2563, 'skul': 2564, 'promote': 2565, 'rape': 2566, 'square': 2567, 'inflamation': 2568, 'tg': 2569, 'nyc': 2570, 'vodka': 2571, 'fest': 2572, 'rwby': 2573, 'tbh': 2574, 'minority': 2575, 'apearance': 2576, 'jst': 2577, 'dubai': 2578, 'chicago': 2579, 'patio': 2580, 'notch': 2581, 'sept': 2582, 'hil': 2583, 'downstairs': 2584, 'talkin': 2585, 'hangin': 2586, 'bestie': 2587, 'ny': 2588, 'grabing': 2589, 'hihi': 2590, 'ton': 2591, 'sandwiches': 2592, 'dokey': 2593, 'wa': 2594, 'equilibrium': 2595, 'gdp': 2596, 'transition': 2597, 'aint': 2598, 'havoc': 2599, 'clothing': 2600, 'friendships': 2601, 'perks': 2602, 'unrealistic': 2603, 'besides': 2604, 'vmas': 2605, 'txt': 2606, 'pouring': 2607, 'oz': 2608, 'forgive': 2609, 'earth': 2610, 'posibility': 2611, 'mars': 2612, 'nuclear': 2613, 'advertising': 2614, 'sets': 2615, 'rescue': 2616, 'intuition': 2617, 'cognitive': 2618, 'vampire': 2619, 'semed': 2620, 'upon': 2621, 'optimistic': 2622, 'sequels': 2623, 'tal': 2624, 'warns': 2625, 'ken': 2626, 'unwiling': 2627, 'owl': 2628, 'badly': 2629, 'permanent': 2630, 'emails': 2631, 'producer': 2632, 'pumping': 2633, 'quicker': 2634, 'ocupations': 2635, 'interactions': 2636, 'hatred': 2637, 'korea': 2638, 'faith': 2639, 'ily': 2640, 'large': 2641, 'size': 2642, 'wonders': 2643, 'twitervile': 2644, 'eatin': 2645, 'thief': 2646, 'twiters': 2647, 'gosh': 2648, 'japanese': 2649, 'continued': 2650, 'steam': 2651, 'gemini': 2652, 'lang': 2653, 'starbucks': 2654, 'method': 2655, 'evolution': 2656, 'abused': 2657, 'christ': 2658, 'uber': 2659, 'coke': 2660, 'shruging': 2661, 'lyrics': 2662, 'ay': 2663, 'playground': 2664, 'tabo': 2665, 'sucesful': 2666, 'activities': 2667, 'showered': 2668, 'vomiting': 2669, 'notices': 2670, 'cokies': 2671, 'cakes': 2672, 'chinese': 2673, 'ty': 2674, 'iced': 2675, 'ice': 2676, 'thousand': 2677, 'ofered': 2678, 'island': 2679, 'auto': 2680, 'impaired': 2681, 'bers': 2682, 'prince': 2683, 'lab': 2684, 'hitin': 2685, 'republican': 2686, 'tomatoes': 2687, 'aunt': 2688, 'ward': 2689, 'dopamine': 2690, 'atm': 2691, 'banking': 2692, 'albums': 2693, 'spoting': 2694, 'knocked': 2695, 'download': 2696, 'original': 2697, 'consistent': 2698, 'routine': 2699, 'miles': 2700, 'homies': 2701, 'novelist': 2702, 'exhausting': 2703, 'bridge': 2704, 'jumping': 2705, 'thriving': 2706, 'contemplating': 2707, 'sorow': 2708, 'martin': 2709, 'madona': 2710, 'ofend': 2711, 'quickly': 2712, 'outlok': 2713, 'lover': 2714, 'curiculum': 2715, 'sore': 2716, 'throat': 2717, 'unwel': 2718, 'revenge': 2719, 'stoping': 2720, 'spoken': 2721, 'argument': 2722, 'bf': 2723, 'sos': 2724, 'dick': 2725, 'entirely': 2726, 'atract': 2727, 'mounting': 2728, 'apears': 2729, 'sunflower': 2730, 'intimidating': 2731, 'popcorn': 2732, 'onion': 2733, 'decades': 2734, 'medicate': 2735, 'numb': 2736, 'rite': 2737, 'chaotic': 2738, 'tendencies': 2739, 'kindly': 2740, 'clasic': 2741, 'plain': 2742, 'sight': 2743, 'godnes': 2744, 'jackie': 2745, 'uncertainty': 2746, 'brink': 2747, 'lewis': 2748, 'surounding': 2749, 'gradualy': 2750, 'discovery': 2751, 'pens': 2752, 'inequality': 2753, 'democracy': 2754, 'pie': 2755, 'bernie': 2756, 'roughly': 2757, 'grains': 2758, 'inflation': 2759, 'embarased': 2760, 'ne': 2761, 'worthlesnes': 2762, 'pretending': 2763, 'nieces': 2764, 'inspire': 2765, 'auntie': 2766, 'cowgirls': 2767, 'wiling': 2768, 'humans': 2769, 'reasurance': 2770, 'godman': 2771, 'vulnerability': 2772, 'manifested': 2773, 'local': 2774, 'expres': 2775, 'lb': 2776, 'dysphoria': 2777, 'parts': 2778, 'coast': 2779, 'hockey': 2780, 'canadian': 2781, 'fibromyalgia': 2782, 'naturaly': 2783, 'dors': 2784, 'actors': 2785, 'blow': 2786, 'dols': 2787, 'asthma': 2788, 'walks': 2789, 'pleasure': 2790, 'meme': 2791, 'claim': 2792, 'fish': 2793, 'strengthens': 2794, 'brian': 2795, 'sinking': 2796, 'significant': 2797, 'programes': 2798, 'bryan': 2799, 'misunderstod': 2800, 'wisdom': 2801, 'jamie': 2802, 'theories': 2803, 'downward': 2804, 'alert': 2805, 'oposite': 2806, 'rib': 2807, 'ina': 2808, 'ramping': 2809, 'prayer': 2810, 'servers': 2811, 'arow': 2812, 'marking': 2813, 'divorced': 2814, 'dj': 2815, 'escalator': 2816, 'mg': 2817, 'weaknes': 2818, 'shorty': 2819, 'tory': 2820, 'madnes': 2821, 'consuming': 2822, 'largest': 2823, 'pieces': 2824, 'jealousy': 2825, 'understands': 2826, 'relieves': 2827, 'wouldnt': 2828, 'tweterfolow': 2829, 'fought': 2830, 'aproaching': 2831, 'siege': 2832, 'climate': 2833, 'ravaged': 2834, 'beth': 2835, 'survivor': 2836, 'html': 2837, 'nothin': 2838, 'deciding': 2839, 'usual': 2840, 'hangover': 2841, 'feds': 2842, 'admiting': 2843, 'mock': 2844, 'skiped': 2845, 'wrap': 2846, 'capable': 2847, 'clip': 2848, 'induced': 2849, 'alex': 2850, 'actor': 2851, 'verne': 2852, 'troyer': 2853, 'supernatural': 2854, 'matres': 2855, 'adreses': 2856, 'lincoln': 2857, 'deprivation': 2858, 'entertained': 2859, 'aceptance': 2860, 'reminder': 2861, 'dork': 2862, 'tedious': 2863, 'holes': 2864, 'horse': 2865, 'leg': 2866, 'fears': 2867, 'beliefs': 2868, 'asume': 2869, 'independently': 2870, 'terorist': 2871, 'generational': 2872, 'filipino': 2873, 'comited': 2874, 'kansas': 2875, 'define': 2876, 'glowing': 2877, 'technicaly': 2878, 'kiled': 2879, 'revenue': 2880, 'climbing': 2881, 'cousins': 2882, 'areas': 2883, 'nasty': 2884, 'importance': 2885, 'pets': 2886, 'toughest': 2887, 'msn': 2888, 'nostalgic': 2889, 'iraq': 2890, 'cameron': 2891, 'birds': 2892, 'bes': 2893, 'senior': 2894, 'funk': 2895, 'shets': 2896, 'puling': 2897, 'yumy': 2898, 'ship': 2899, 'partners': 2900, 'ads': 2901, 'replied': 2902, 'anime': 2903, 'ng': 2904, 'colored': 2905, 'megan': 2906, 'bely': 2907, 'shane': 2908, 'stories': 2909, 'advanced': 2910, 'irl': 2911, 'acomplish': 2912, 'completed': 2913, 'interest': 2914, 'headache': 2915, 'sized': 2916, 'slice': 2917, 'spectrum': 2918, 'descend': 2919, 'chaos': 2920, 'ethic': 2921, 'sons': 2922, 'instructor': 2923, 'updating': 2924, 'avengers': 2925, 'conecting': 2926, 'bargaining': 2927, 'phil': 2928, 'medicines': 2929, 'dwel': 2930, 'misery': 2931, 'material': 2932, 'deleting': 2933, 'sorted': 2934, 'films': 2935, 'dany': 2936, 'bfv': 2937, 'picked': 2938, 'reverse': 2939, 'wasnt': 2940, 'kya': 2941, 'nadir': 2942, 'meaningful': 2943, 'undiagnosed': 2944, 'schols': 2945, 'hawai': 2946, 'events': 2947, 'recorded': 2948, 'gaga': 2949, 'pushed': 2950, 'laundry': 2951, 'complex': 2952, 'behaviour': 2953, 'simon': 2954, 'troubling': 2955, 'kings': 2956, 'lovers': 2957, 'genetic': 2958, 'stem': 2959, 'centre': 2960, 'imperative': 2961, 'organization': 2962, 'overloked': 2963, 'corporate': 2964, 'sean': 2965, 'prof': 2966, 'ie': 2967, 'ruf': 2968, 'chu': 2969, 'beans': 2970, 'seats': 2971, 'thankfuly': 2972, 'learningmind': 2973, 'compasion': 2974, 'fb': 2975, 'bio': 2976, 'proly': 2977, 'ofers': 2978, 'psychiatric': 2979, 'donating': 2980, 'profits': 2981, 'policies': 2982, 'believes': 2983, 'anoyed': 2984, 'frequently': 2985, 'relatives': 2986, 'maple': 2987, 'htps': 2988, 'fnypost': 2989, 'fhow': 2990, 'gsc': 2991, 'arthritis': 2992, 'giant': 2993, 'rocks': 2994, 'unique': 2995, 'esential': 2996, 'explanation': 2997, 'respected': 2998, 'opened': 2999, 'thresome': 3000, 'edge': 3001, 'dogs': 3002, 'bear': 3003, 'adict': 3004, 'criminal': 3005, 'prescription': 3006, 'studied': 3007, 'duno': 3008, 'twins': 3009, 'hahahah': 3010, 'exception': 3011, 'cricket': 3012, 'indie': 3013, 'shal': 3014, 'studio': 3015, 'boat': 3016, 'han': 3017, 'solo': 3018, 'mari': 3019, 'aur': 3020, 'reuters': 3021, 'fox': 3022, 'hav': 3023, 'leser': 3024, 'rage': 3025, 'clinic': 3026, 'cats': 3027, 'suferers': 3028, 'welp': 3029, 'engaging': 3030, 'code': 3031, 'vulnerable': 3032, 'locals': 3033, 'turning': 3034, 'tad': 3035, 'prospective': 3036, 'cohort': 3037, 'familiar': 3038, 'mei': 3039, 'pronounced': 3040, 'tweple': 3041, 'docs': 3042, 'murder': 3043, 'stack': 3044, 'sofa': 3045, 'hodie': 3046, 'planed': 3047, 'marshal': 3048, 'natural': 3049, 'kit': 3050, 'figures': 3051, 'frustrated': 3052, 'blamed': 3053, 'esp': 3054, 'celebs': 3055, 'ofering': 3056, 'runto': 3057, 'nial': 3058, 'livestream': 3059, 'maps': 3060, 'resulting': 3061, 'naughty': 3062, 'suported': 3063, 'comedy': 3064, 'dave': 3065, 'mktng': 3066, 'wide': 3067, 'awful': 3068, 'operation': 3069, 'bust': 3070, 'bandwidth': 3071, 'retwet': 3072, 'knw': 3073, 'cream': 3074, 'calories': 3075, 'preparing': 3076, 'banjo': 3077, 'whop': 3078, 'milions': 3079, 'spirituality': 3080, 'cus': 3081, 'meat': 3082, 'dreses': 3083, 'thomas': 3084, 'julie': 3085, 'image': 3086, 'significantly': 3087, 'sea': 3088, 'trending': 3089, 'transgender': 3090, 'ab': 3091, 'mango': 3092, 'bayern': 3093, 'ronaldo': 3094, 'droves': 3095, 'bands': 3096, 'wernt': 3097, 'healed': 3098, 'nuts': 3099, 'tend': 3100, 'dificulties': 3101, 'expresive': 3102, 'gear': 3103, 'agenda': 3104, 'handwriten': 3105, 'bearable': 3106, 'gras': 3107, 'careful': 3108, 'jump': 3109, 'expected': 3110, 'shrimp': 3111, 'meringues': 3112, 'pasive': 3113, 'deliver': 3114, 'fm': 3115, 'mesages': 3116, 'katy': 3117, 'september': 3118, 'bestest': 3119, 'angelina': 3120, 'bel': 3121, 'pounds': 3122, 'boked': 3123, 'race': 3124, 'fruit': 3125, 'chili': 3126, 'pised': 3127, 'disapointment': 3128, 'lit': 3129, 'dani': 3130, 'timeline': 3131, 'location': 3132, 'center': 3133, 'strings': 3134, 'reach': 3135, 'grab': 3136, 'aesthetic': 3137, 'opera': 3138, 'unite': 3139, 'liver': 3140, 'apr': 3141, 'unfolding': 3142, 'boi': 3143, 'robots': 3144, 'manager': 3145, 'alowed': 3146, 'natalie': 3147, 'marvel': 3148, 'narcisism': 3149, 'aches': 3150, 'fr': 3151, 'stays': 3152, 'articles': 3153, 'vancouver': 3154, 'stargate': 3155, 'included': 3156, 'concern': 3157, 'consult': 3158, 'impres': 3159, 'aces': 3160, 'ring': 3161, 'itch': 3162, 'grandparents': 3163, 'complaining': 3164, 'pet': 3165, 'vice': 3166, 'premature': 3167, 'dividends': 3168, 'vacation': 3169, 'shud': 3170, 'nancy': 3171, 'imagined': 3172, 'researching': 3173, 'metal': 3174, 'package': 3175, 'tunes': 3176, 'resident': 3177, 'painting': 3178, 'united': 3179, 'states': 3180, 'native': 3181, 'british': 3182, 'incoming': 3183, 'sorts': 3184, 'emergence': 3185, 'region': 3186, 'relaxed': 3187, 'projection': 3188, 'sora': 3189, 'arthur': 3190, 'cbd': 3191, 'audacity': 3192, 'celibate': 3193, 'storm': 3194, 'fisted': 3195, 'lbs': 3196, 'bikini': 3197, 'excitement': 3198, 'loathing': 3199, 'hence': 3200, 'yard': 3201, 'lesbian': 3202, 'vid': 3203, 'originaly': 3204, 'decides': 3205, 'guter': 3206, 'donate': 3207, 'fraud': 3208, 'acros': 3209, 'degres': 3210, 'existence': 3211, 'laughs': 3212, 'improved': 3213, 'options': 3214, 'oxytocin': 3215, 'patron': 3216, 'stufed': 3217, 'violent': 3218, 'delusions': 3219, 'acted': 3220, 'air': 3221, 'overthinking': 3222, 'coz': 3223, 'relevant': 3224, 'curent': 3225, 'inertia': 3226, 'barcelona': 3227, 'hotel': 3228, 'subjects': 3229, 'dealt': 3230, 'worm': 3231, 'capitalism': 3232, 'force': 3233, 'defend': 3234, 'outer': 3235, 'vile': 3236, 'sonic': 3237, 'rhythm': 3238, 'modulation': 3239, 'gsk': 3240, 'catenin': 3241, 'signaling': 3242, 'rat': 3243, 'chelsea': 3244, 'africa': 3245, 'august': 3246, 'psychoses': 3247, 'sushi': 3248, 'chai': 3249, 'meh': 3250, 'east': 3251, 'nonexistent': 3252, 'fuckin': 3253, 'pof': 3254, 'pulverize': 3255, 'providing': 3256, 'smalest': 3257, 'obviously': 3258, 'brasil': 3259, 'pusy': 3260, 'comit': 3261, 'reports': 3262, 'consecutive': 3263, 'bouts': 3264, 'stops': 3265, 'ironic': 3266, 'isolating': 3267, 'circumstances': 3268, 'chief': 3269, 'daft': 3270, 'chasing': 3271, 'yur': 3272, 'african': 3273, 'capabilities': 3274, 'deficiency': 3275, 'andquot': 3276, 'joe': 3277, 'guideline': 3278, 'comite': 3279, 'updated': 3280, 'skirt': 3281, 'cruel': 3282, 'perhaps': 3283, 'kno': 3284, 'nephew': 3285, 'cya': 3286, 'arested': 3287, 'tols': 3288, 'strategies': 3289, 'shared': 3290, 'grade': 3291, 'doubt': 3292, 'therapists': 3293, 'mes': 3294, 'coach': 3295, 'welnes': 3296, 'nutrition': 3297, 'oficial': 3298, 'rejection': 3299, 'promotion': 3300, 'entertaining': 3301, 'ading': 3302, 'searching': 3303, 'sake': 3304, 'sily': 3305, 'arent': 3306, 'makin': 3307, 'crafts': 3308, 'jar': 3309, 'rose': 3310, 'patern': 3311, 'vbs': 3312, 'unfortunately': 3313, 'carson': 3314, 'rug': 3315, 'palavi': 3316, 'impacts': 3317, 'pants': 3318, 'jeans': 3319, 'tod': 3320, 'unfortunate': 3321, 'faced': 3322, 'multi': 3323, 'desk': 3324, 'tub': 3325, 'dreaming': 3326, 'cleaning': 3327, 'bob': 3328, 'heh': 3329, 'powerful': 3330, 'desperate': 3331, 'masively': 3332, 'audio': 3333, 'celebration': 3334, 'hundred': 3335, 'slip': 3336, 'tomy': 3337, 'mario': 3338, 'pit': 3339, 'wats': 3340, 'firstly': 3341, 'pregnancy': 3342, 'bends': 3343, 'seductively': 3344, 'coler': 3345, 'tracking': 3346, 'dangerous': 3347, 'cupid': 3348, 'aging': 3349, 'published': 3350, 'healthier': 3351, 'diagnostic': 3352, 'answered': 3353, 'department': 3354, 'misconceptions': 3355, 'apreciated': 3356, 'acident': 3357, 'critical': 3358, 'swis': 3359, 'owns': 3360, 'temporary': 3361, 'rol': 3362, 'swim': 3363, 'tony': 3364, 'burnt': 3365, 'labor': 3366, 'propaganda': 3367, 'camp': 3368, 'crosed': 3369, 'insane': 3370, 'flares': 3371, 'fabulous': 3372, 'chalenging': 3373, 'anoying': 3374, 'phrase': 3375, 'cudi': 3376, 'abortion': 3377, 'bags': 3378, 'ye': 3379, 'inconvenience': 3380, 'throws': 3381, 'shorthair': 3382, 'frowning': 3383, 'atempts': 3384, 'sexuality': 3385, 'cupcakes': 3386, 'universe': 3387, 'chest': 3388, 'ignorance': 3389, 'hamer': 3390, 'semester': 3391, 'apologizes': 3392, 'dig': 3393, 'gp': 3394, 'aware': 3395, 'slugish': 3396, 'mourning': 3397, 'anythin': 3398, 'celebrating': 3399, 'peas': 3400, 'chip': 3401, 'practicaly': 3402, 'colidge': 3403, 'increasing': 3404, 'struck': 3405, 'huging': 3406, 'delete': 3407, 'canceled': 3408, 'nkotb': 3409, 'rad': 3410, 'idc': 3411, 'knives': 3412, 'juicy': 3413, 'judging': 3414, 'iloveyou': 3415, 'churo': 3416, 'cried': 3417, 'isnt': 3418, 'treatable': 3419, 'scrol': 3420, 'chilen': 3421, 'italian': 3422, 'tweterader': 3423, 'proven': 3424, 'behave': 3425, 'saint': 3426, 'mam': 3427, 'curiousity': 3428, 'taged': 3429, 'flickr': 3430, 'dirts': 3431, 'whose': 3432, 'vocabulary': 3433, 'tongue': 3434, 'tightly': 3435, 'judgement': 3436, 'agresive': 3437, 'ground': 3438, 'guns': 3439, 'checks': 3440, 'situational': 3441, 'lucozade': 3442, 'toward': 3443, 'injustice': 3444, 'haul': 3445, 'existential': 3446, 'praised': 3447, 'reagan': 3448, 'slogan': 3449, 'robed': 3450, 'treasury': 3451, 'luk': 3452, 'penguins': 3453, 'encourage': 3454, 'dedicate': 3455, 'reported': 3456, 'initial': 3457, 'singles': 3458, 'golf': 3459, 'holand': 3460, 'hr': 3461, 'conected': 3462, 'biter': 3463, 'moi': 3464, 'identifies': 3465, 'questioning': 3466, 'fried': 3467, 'yung': 3468, 'debate': 3469, 'science': 3470, 'ws': 3471, 'false': 3472, 'fatigue': 3473, 'lowkey': 3474, 'riped': 3475, 'removed': 3476, 'display': 3477, 'recording': 3478, 'institute': 3479, 'en': 3480, 'eg': 3481, 'convince': 3482, 'streaming': 3483, 'bizare': 3484, 'geky': 3485, 'horible': 3486, 'determine': 3487, 'graham': 3488, 'recipe': 3489, 'honeymon': 3490, 'singer': 3491, 'refering': 3492, 'dis': 3493, 'popular': 3494, 'episodes': 3495, 'periods': 3496, 'knowledge': 3497, 'pasta': 3498, 'semi': 3499, 'trends': 3500, 'miracle': 3501, 'fanfic': 3502, 'atacked': 3503, 'backed': 3504, 'insulting': 3505, 'jez': 3506, 'ancient': 3507, 'rate': 3508, 'itunes': 3509, 'bodies': 3510, 'throughout': 3511, 'injuries': 3512, 'hpv': 3513, 'riding': 3514, 'hurting': 3515, 'marvin': 3516, 'organised': 3517, 'cultural': 3518, 'stocking': 3519, 'winter': 3520, 'negatively': 3521, 'ch': 3522, 'avoided': 3523, 'pulitzer': 3524, 'winer': 3525, 'french': 3526, 'downs': 3527, 'pineaple': 3528, 'crew': 3529, 'trans': 3530, 'director': 3531, 'vegas': 3532, 'resulted': 3533, 'rights': 3534, 'trained': 3535, 'psychologists': 3536, 'traped': 3537, 'diagnosing': 3538, 'relative': 3539, 'tends': 3540, 'unhealthy': 3541, 'deficit': 3542, 'sf': 3543, 'sport': 3544, 'product': 3545, 'sunscren': 3546, 'festivals': 3547, 'jef': 3548, 'cloudy': 3549, 'cousin': 3550, 'relatable': 3551, 'simultaneously': 3552, 'creativity': 3553, 'italy': 3554, 'joining': 3555, 'chick': 3556, 'smarter': 3557, 'tempted': 3558, 'replay': 3559, 'boredom': 3560, 'asignments': 3561, 'taekwondo': 3562, 'lve': 3563, 'despair': 3564, 'purchase': 3565, 'wrinkles': 3566, 'performance': 3567, 'spre': 3568, 'strokes': 3569, 'unpacking': 3570, 'pow': 3571, 'socks': 3572, 'punk': 3573, 'adrian': 3574, 'partying': 3575, 'lights': 3576, 'sundown': 3577, 'politics': 3578, 'lauren': 3579, 'freaking': 3580, 'endorphins': 3581, 'tril': 3582, 'repub': 3583, 'concentrating': 3584, 'yas': 3585, 'justice': 3586, 'degre': 3587, 'holistic': 3588, 'bang': 3589, 'jason': 3590, 'damage': 3591, 'alcoholism': 3592, 'language': 3593, 'campaign': 3594, 'mike': 3595, 'vent': 3596, 'policy': 3597, 'alay': 3598, 'asks': 3599, 'ruining': 3600, 'acompanied': 3601, 'inspirational': 3602, 'smiles': 3603, 'rub': 3604, 'cheated': 3605, 'conection': 3606, 'hapier': 3607, 'obsesed': 3608, 'favour': 3609, 'partner': 3610, 'shadows': 3611, 'injury': 3612, 'arnold': 3613, 'punch': 3614, 'microsoft': 3615, 'bing': 3616, 'structure': 3617, 'necesarily': 3618, 'drivers': 3619, 'highway': 3620, 'psa': 3621, 'shorts': 3622, 'opresion': 3623, 'beta': 3624, 'bugs': 3625, 'niga': 3626, 'blockheads': 3627, 'masage': 3628, 'promises': 3629, 'finland': 3630, 'brazil': 3631, 'wicked': 3632, 'edwon': 3633, 'stands': 3634, 'halucinations': 3635, 'romanticizing': 3636, 'michael': 3637, 'lazines': 3638, 'aswel': 3639, 'bruh': 3640, 'woah': 3641, 'indian': 3642, 'spasms': 3643, 'contraction': 3644, 'aresliding': 3645, 'warding': 3646, 'recognise': 3647, 'falen': 3648, 'dance': 3649, 'finale': 3650, 'guilt': 3651, 'eric': 3652, 'tragic': 3653, 'hip': 3654, 'rachel': 3655, 'defeated': 3656, 'michigan': 3657, 'previously': 3658, 'stable': 3659, 'ops': 3660, 'traumatic': 3661, 'everytime': 3662, 'lowest': 3663, 'consequences': 3664, 'neat': 3665, 'pork': 3666, 'potatoe': 3667, 'judge': 3668, 'literal': 3669, 'wrongly': 3670, 'shatered': 3671, 'disneyland': 3672, 'sip': 3673, 'entitled': 3674, 'uniform': 3675, 'mockery': 3676, 'unoticed': 3677, 'crepy': 3678, 'suplies': 3679, 'granted': 3680, 'devil': 3681, 'grace': 3682, 'mathew': 3683, 'knes': 3684, 'promo': 3685, 'chorizo': 3686, 'mexican': 3687, 'niece': 3688, 'visited': 3689, 'teresa': 3690, 'crep': 3691, 'files': 3692, 'style': 3693, 'presenting': 3694, 'indicates': 3695, 'priority': 3696, 'steal': 3697, 'pep': 3698, 'folk': 3699, 'ego': 3700, 'england': 3701, 'atitude': 3702, 'answering': 3703, 'incapable': 3704, 'shoulder': 3705, 'goten': 3706, 'showed': 3707, 'threatening': 3708, 'deposit': 3709, 'slower': 3710, 'uni': 3711, 'grandson': 3712, 'nyum': 3713, 'spelcheck': 3714, 'genes': 3715, 'md': 3716, 'ipod': 3717, 'nobel': 3718, 'photoshot': 3719, 'tw': 3720, 'breast': 3721, 'coked': 3722, 'vinegar': 3723, 'iritation': 3724, 'caring': 3725, 'parks': 3726, 'advisor': 3727, 'lo': 3728, 'forth': 3729, 'rule': 3730, 'sway': 3731, 'arive': 3732, 'symptom': 3733, 'workplace': 3734, 'central': 3735, 'hardest': 3736, 'beging': 3737, 'mek': 3738, 'sel': 3739, 'ke': 3740, 'screwing': 3741, 'james': 3742, 'sori': 3743, 'derg': 3744, 'vol': 3745, 'buying': 3746, 'secondary': 3747, 'jail': 3748, 'wired': 3749, 'rewire': 3750, 'managers': 3751, 'requires': 3752, 'rarely': 3753, 'farmers': 3754, 'fault': 3755, 'bare': 3756, 'silently': 3757, 'mins': 3758, 'suportive': 3759, 'background': 3760, 'supose': 3761, 'receptionist': 3762, 'pen': 3763, 'ignore': 3764, 'nature': 3765, 'tropical': 3766, 'britains': 3767, 'shine': 3768, 'advantage': 3769, 'crab': 3770, 'lyme': 3771, 'kindnes': 3772, 'rot': 3773, 'player': 3774, 'broken': 3775, 'opioid': 3776, 'whos': 3777, 'subredit': 3778, 'mistake': 3779, 'aish': 3780, 'threatened': 3781, 'recognize': 3782, 'atcha': 3783, 'gardening': 3784, 'bisexual': 3785, 'tricks': 3786, 'programe': 3787, 'bily': 3788, 'cutenes': 3789, 'neuron': 3790, 'male': 3791, 'mil': 3792, 'burning': 3793, 'avatar': 3794, 'lolz': 3795, 'wind': 3796, 'efing': 3797, 'scent': 3798, 'asaulted': 3799, 'thesis': 3800, 'useful': 3801, 'expresionles': 3802, 'grining': 3803, 'neil': 3804, 'values': 3805, 'receive': 3806, 'fancy': 3807, 'split': 3808, 'uplifts': 3809, 'ocured': 3810, 'elen': 3811, 'pimpin': 3812, 'beatles': 3813, 'spots': 3814, 'neverending': 3815, 'troloc': 3816, 'aims': 3817, 'caregivers': 3818, 'perinatal': 3819, 'frankie': 3820, 'homosexual': 3821, 'bars': 3822, 'okeydoke': 3823, 'okie': 3824, 'dokie': 3825, 'hokey': 3826, 'okey': 3827, 'okledockle': 3828, 'slang': 3829, 'oklahomans': 3830, 'indicating': 3831, 'springs': 3832, 'smidge': 3833, 'blizard': 3834, 'ocur': 3835, 'employed': 3836, 'utilized': 3837, 'grate': 3838, 'static': 3839, 'corecting': 3840, 'whoa': 3841, 'netizens': 3842, 'draging': 3843, 'nickchien': 3844, 'virginity': 3845, 'anxietythem': 3846, 'shits': 3847, 'wreak': 3848, 'privite': 3849, 'jet': 3850, 'hotlinemy': 3851, 'dms': 3852, 'thots': 3853, 'modeling': 3854, 'wizards': 3855, 'cavs': 3856, 'striper': 3857, 'chile': 3858, 'portobelo': 3859, 'nyse': 3860, 'ger': 3861, 'lagazine': 3862, 'mdiamarketing': 3863, 'ecrit': 3864, 'cete': 3865, 'semaine': 3866, 'sur': 3867, 'gomarketing': 3868, 'cartographie': 3869, 'navigation': 3870, 'cruise': 3871, 'eminem': 3872, 'samberg': 3873, 'mazing': 3874, 'evens': 3875, 'obvs': 3876, 'pathetic': 3877, 'yknow': 3878, 'quien': 3879, 'entiende': 3880, 'earthquake': 3881, 'balet': 3882, 'beck': 3883, 'smother': 3884, 'persian': 3885, 'rugs': 3886, 'cashmere': 3887, 'chromosomes': 3888, 'misha': 3889, 'asylum': 3890, 'fantales': 3891, 'nani': 3892, 'tati': 3893, 'tons': 3894, 'stagnancy': 3895, 'produced': 3896, 'bobjenz': 3897, 'susan': 3898, 'boyle': 3899, 'parody': 3900, 'va': 3901, 'hotest': 3902, 'ethiopia': 3903, 'danakil': 3904, 'environement': 3905, 'titan': 3906, 'sites': 3907, 'locked': 3908, 'keys': 3909, 'ford': 3910, 'comped': 3911, 'nourishing': 3912, 'duches': 3913, 'cambridge': 3914, 'umasmedical': 3915, 'bricks': 3916, 'oven': 3917, 'behavioral': 3918, 'mods': 3919, 'stumbled': 3920, 'nct': 3921, 'wonwo': 3922, 'aplebes': 3923, 'ceremony': 3924, 'tmro': 3925, 'blonde': 3926, 'bombshels': 3927, 'equaly': 3928, 'klingons': 3929, 'adam': 3930, 'eve': 3931, 'reversal': 3932, 'fakeout': 3933, 'latvia': 3934, 'beg': 3935, 'weiner': 3936, 'glanced': 3937, 'robery': 3938, 'robinson': 3939, 'delivering': 3940, 'comencement': 3941, 'genuine': 3942, 'animated': 3943, 'merlote': 3944, 'ci': 3945, 'wedge': 3946, 'travails': 3947, 'peopledepresion': 3948, 'slepdepresion': 3949, 'insidedepresion': 3950, 'goingdepresion': 3951, 'hater': 3952, 'morninq': 3953, 'flash': 3954, 'rebirth': 3955, 'watchin': 3956, 'southland': 3957, 'tomara': 3958, 'renewed': 3959, 'negativity': 3960, 'discouragement': 3961, 'nano': 3962, 'estdio': 3963, 'mochila': 3964, 'inclusive': 3965, 'teclado': 3966, 'controlador': 3967, 'nanostudio': 3968, 'backpack': 3969, 'controler': 3970, 'keyboard': 3971, 'clients': 3972, 'churning': 3973, 'inquiries': 3974, 'kakak': 3975, 'dgn': 3976, 'titik': 3977, 'peluh': 3978, 'sendiri': 3979, 'lah': 3980, 'nz': 3981, 'expat': 3982, 'comision': 3983, 'wsj': 3984, 'hypocritical': 3985, 'haras': 3986, 'whereas': 3987, 'designed': 3988, 'picnic': 3989, 'wire': 3990, 'trumpet': 3991, 'lves': 3992, 'april': 3993, 'measurement': 3994, 'lego': 3995, 'dialogs': 3996, 'humour': 3997, 'crowd': 3998, 'duet': 3999, 'mixture': 4000, 'retrospect': 4001, 'donie': 4002, 'sadens': 4003, 'hobies': 4004, 'subtweting': 4005, 'avocados': 4006, 'murals': 4007, 'comitment': 4008, 'holidays': 4009, 'anthey': 4010, 'spider': 4011, 'agynathavasi': 4012, 'core': 4013, 'daridram': 4014, 'geminis': 4015, 'ba': 4016, 'scorpio': 4017, 'subsiding': 4018, 'bojack': 4019, 'horseman': 4020, 'requirements': 4021, 'tiredmum': 4022, 'mocha': 4023, 'frap': 4024, 'kilo': 4025, 'batch': 4026, 'aver': 4027, 'navigate': 4028, 'pathway': 4029, 'torents': 4030, 'kniting': 4031, 'darling': 4032, 'truckers': 4033, 'author': 4034, 'moreabout': 4035, 'moma': 4036, 'pasty': 4037, 'irish': 4038, 'grounders': 4039, 'fluids': 4040, 'buwieser': 4041, 'freaked': 4042, 'blacked': 4043, 'enjoyment': 4044, 'cmts': 4045, 'shemah': 4046, 'refreshed': 4047, 'mount': 4048, 'erie': 4049, 'suit': 4050, 'joked': 4051, 'monsters': 4052, 'clout': 4053, 'jafa': 4054, 'imarture': 4055, 'elevator': 4056, 'awoken': 4057, 'fw': 4058, 'anak': 4059, 'shldnt': 4060, 'ito': 4061, 'moreton': 4062, 'generated': 4063, 'sim': 4064, 'cocktails': 4065, 'elvis': 4066, 'pros': 4067, 'chemistry': 4068, 'budgets': 4069, 'manicures': 4070, 'digital': 4071, 'networking': 4072, 'luc': 4073, 'exploiting': 4074, 'profit': 4075, 'dug': 4076, 'alochol': 4077, 'stating': 4078, 'zagreb': 4079, 'fwafa': 4080, 'buzin': 4081, 'mirada': 4082, 'cely': 4083, 'klansmen': 4084, 'supremacist': 4085, 'identified': 4086, 'democrats': 4087, 'recruiting': 4088, 'controls': 4089, 'patents': 4090, 'bambozle': 4091, 'ustream': 4092, 'workouts': 4093, 'bride': 4094, 'veil': 4095, 'morow': 4096, 'kotaku': 4097, 'ign': 4098, 'playstation': 4099, 'procesed': 4100, 'flatshare': 4101, 'theatre': 4102, 'regain': 4103, 'wilie': 4104, 'quotlease': 4105, 'cis': 4106, 'depth': 4107, 'telephone': 4108, 'liquor': 4109, 'mos': 4110, 'racing': 4111, 'idek': 4112, 'ik': 4113, 'hrs': 4114, 'lota': 4115, 'soundtrack': 4116, 'bandcamp': 4117, 'cops': 4118, 'knocking': 4119, 'implementing': 4120, 'comunal': 4121, 'implementation': 4122, 'funduarticles': 4123, 'trousers': 4124, 'organized': 4125, 'skincare': 4126, 'biked': 4127, 'granola': 4128, 'soy': 4129, 'grosera': 4130, 'flex': 4131, 'amateur': 4132, 'sunk': 4133, 'sink': 4134, 'snore': 4135, 'twitches': 4136, 'hypocrisy': 4137, 'bakit': 4138, 'dinadamay': 4139, 'yang': 4140, 'relation': 4141, 'niyong': 4142, 'dalawa': 4143, 'mals': 4144, 'mozy': 4145, 'cowboy': 4146, 'mrs': 4147, 'jarley': 4148, 'confrontation': 4149, 'sampler': 4150, 'signature': 4151, 'funclickearn': 4152, 'studyphysical': 4153, 'bukas': 4154, 'edwin': 4155, 'priest': 4156, 'sermons': 4157, 'seat': 4158, 'diving': 4159, 'drax': 4160, 'destroyer': 4161, 'sits': 4162, 'sobs': 4163, 'charge': 4164, 'shr': 4165, 'lipstains': 4166, 'switched': 4167, 'fletcher': 4168, 'skanky': 4169, 'screaming': 4170, 'tonyas': 4171, 'purse': 4172, 'jules': 4173, 'ministry': 4174, 'nicknames': 4175, 'travis': 4176, 'furniture': 4177, 'halaloya': 4178, 'lifespan': 4179, 'disociating': 4180, 'rapid': 4181, 'cycling': 4182, 'haiku': 4183, 'neighbor': 4184, 'flowering': 4185, 'plum': 4186, 'strained': 4187, 'fathers': 4188, 'shifters': 4189, 'daughtry': 4190, 'romance': 4191, 'omigawsh': 4192, 'gcses': 4193, 'garon': 4194, 'efexor': 4195, 'pal': 4196, 'fulfiled': 4197, 'gb': 4198, 'external': 4199, 'purge': 4200, 'performances': 4201, 'reaches': 4202, 'serviced': 4203, 'contacted': 4204, 'cert': 4205, 'thinkin': 4206, 'stinks': 4207, 'romie': 4208, 'amongst': 4209, 'zealand': 4210, 'chalenger': 4211, 'madaldal': 4212, 'yelow': 4213, 'mga': 4214, 'ganon': 4215, 'brighter': 4216, 'eya': 4217, 'tca': 4218, 'inquisition': 4219, 'johny': 4220, 'munching': 4221, 'enginer': 4222, 'frazled': 4223, 'pel': 4224, 'beauty': 4225, 'batleship': 4226, 'brb': 4227, 'skeptservative': 4228, 'verify': 4229, 'skeptic': 4230, 'description': 4231, 'rang': 4232, 'itphysicians': 4233, 'label': 4234, 'disordersprescribing': 4235, 'pharmaceuticals': 4236, 'coreyet': 4237, 'pasage': 4238, 'destiny': 4239, 'fiance': 4240, 'emailunlimited': 4241, 'chasm': 4242, 'priv': 4243, 'hairstyle': 4244, 'homicidal': 4245, 'legaly': 4246, 'rightly': 4247, 'elis': 4248, 'fails': 4249, 'herbo': 4250, 'hughesy': 4251, 'streamers': 4252, 'confeti': 4253, 'fray': 4254, 'yearsof': 4255, 'harasment': 4256, 'olive': 4257, 'manfriend': 4258, 'prep': 4259, 'tomorows': 4260, 'michele': 4261, 'stalker': 4262, 'quizes': 4263, 'cherleaders': 4264, 'berkley': 4265, 'reasoning': 4266, 'infants': 4267, 'colic': 4268, 'digestive': 4269, 'anxieties': 4270, 'separately': 4271, 'blot': 4272, 'howes': 4273, 'sung': 4274, 'boris': 4275, 'splayed': 4276, 'lat': 4277, 'gatsby': 4278, 'prequel': 4279, 'criple': 4280, 'slur': 4281, 'disabled': 4282, 'tricky': 4283, 'fort': 4284, 'jake': 4285, 'impresive': 4286, 'horay': 4287, 'gilded': 4288, 'wealth': 4289, 'democratic': 4290, 'socialism': 4291, 'unfetered': 4292, 'unregulated': 4293, 'capitalistic': 4294, 'dnc': 4295, 'enginered': 4296, 'yields': 4297, 'drasticaly': 4298, 'gluten': 4299, 'leavers': 4300, 'myriad': 4301, 'naping': 4302, 'expresion': 4303, 'shant': 4304, 'ubisoft': 4305, 'ordinary': 4306, 'sape': 4307, 'yg': 4308, 'penah': 4309, 'rasa': 4310, 'je': 4311, 'tahu': 4312, 'sakit': 4313, 'dia': 4314, 'cm': 4315, 'vm': 4316, 'nephews': 4317, 'wildwindart': 4318, 'cowgirloncofe': 4319, 'characteristics': 4320, 'homicides': 4321, 'influenced': 4322, 'priests': 4323, 'exploit': 4324, 'disciples': 4325, 'devotes': 4326, 'tortila': 4327, 'pb': 4328, 'olivia': 4329, 'agresion': 4330, 'ofence': 4331, 'stretching': 4332, 'walnut': 4333, 'locust': 4334, 'philadelphia': 4335, 'northbound': 4336, 'bonzo': 4337, 'parinese': 4338, 'sp': 4339, 'bark': 4340, 'fierce': 4341, 'pusycat': 4342, 'transitioning': 4343, 'corpse': 4344, 'beaten': 4345, 'mesplease': 4346, 'enlightened': 4347, 'genius': 4348, 'embryonic': 4349, 'blighted': 4350, 'milky': 4351, 'orders': 4352, 'brownie': 4353, 'pts': 4354, 'rush': 4355, 'nzyt': 4356, 'evn': 4357, 'spelig': 4358, 'richard': 4359, 'leakey': 4360, 'corectly': 4361, 'gtens': 4362, 'thai': 4363, 'meto': 4364, 'mindwon': 4365, 'stopworying': 4366, 'depresioncrept': 4367, 'disinterestedto': 4368, 'confusedand': 4369, 'tiredlike': 4370, 'restles': 4371, 'skythat': 4372, 'kepschanging': 4373, 'keith': 4374, 'land': 4375, 'acepted': 4376, 'qualityfrom': 4377, 'forecast': 4378, 'jtk': 4379, 'angyalfldre': 4380, 'hoz': 4381, 'poker': 4382, 'polish': 4383, 'astonishing': 4384, 'trendy': 4385, 'sunburn': 4386, 'sunblock': 4387, 'ray': 4388, 'scratch': 4389, 'marketed': 4390, 'tres': 4391, 'chronicles': 4392, 'fenwick': 4393, 'pers': 4394, 'climbed': 4395, 'coworker': 4396, 'arguement': 4397, 'timy': 4398, 'trufax': 4399, 'bowhunter': 4400, 'singapore': 4401, 'unreal': 4402, 'gesture': 4403, 'harpy': 4404, 'released': 4405, 'proverbs': 4406, 'farha': 4407, 'bonds': 4408, 'intensity': 4409, 'angry': 4410, 'brea': 4411, 'stubhub': 4412, 'charging': 4413, 'worker': 4414, 'salaries': 4415, 'spotify': 4416, 'felsie': 4417, 'piled': 4418, 'invalidate': 4419, 'perun': 4420, 'reductions': 4421, 'andperformed': 4422, 'andsignificantly': 4423, 'arkowitz': 4424, 'drives': 4425, 'weds': 4426, 'sank': 4427, 'specer': 4428, 'prat': 4429, 'dandruf': 4430, 'slick': 4431, 'dem': 4432, 'mindframe': 4433, 'overtired': 4434, 'cranky': 4435, 'tamra': 4436, 'warby': 4437, 'cote': 4438, 'yards': 4439, 'busaba': 4440, 'princi': 4441, 'girlies': 4442, 'nominations': 4443, 'larsensitis': 4444, 'spasm': 4445, 'frontal': 4446, 'lobe': 4447, 'transmisible': 4448, 'coughing': 4449, 'comorbid': 4450, 'muah': 4451, 'wopra': 4452, 'load': 4453, 'gigantic': 4454, 'owned': 4455, 'dolar': 4456, 'atleast': 4457, 'marked': 4458, 'rampage': 4459, 'infidelity': 4460, 'atentive': 4461, 'mudy': 4462, 'streaks': 4463, 'vibrant': 4464, 'deadline': 4465, 'indecently': 4466, 'oldies': 4467, 'quoteventen': 4468, 'metrostation': 4469, 'plaza': 4470, 'djs': 4471, 'glamorous': 4472, 'vetel': 4473, 'barbecue': 4474, 'schleibecks': 4475, 'nityanandam': 4476, 'shre': 4477, 'nigas': 4478, 'austerity': 4479, 'brexit': 4480, 'absorbed': 4481, 'wod': 4482, 'cash': 4483, 'bulcrap': 4484, 'spiraling': 4485, 'acused': 4486, 'rear': 4487, 'spark': 4488, 'tanked': 4489, 'plunged': 4490, 'depths': 4491, 'mygraduation': 4492, 'qualified': 4493, 'counselor': 4494, 'pregnant': 4495, 'elevated': 4496, 'del': 4497, 'transfering': 4498, 'xanax': 4499, 'built': 4500, 'repel': 4501, 'atackers': 4502, 'moats': 4503, 'archers': 4504, 'armies': 4505, 'atrition': 4506, 'silouhete': 4507, 'sunset': 4508, 'cigarete': 4509, 'compres': 4510, 'citymusic': 4511, 'korg': 4512, 'kp': 4513, 'monome': 4514, 'nvr': 4515, 'tenori': 4516, 'gainer': 4517, 'basis': 4518, 'placesin': 4519, 'lone': 4520, 'plague': 4521, 'canyon': 4522, 'cs': 4523, 'casts': 4524, 'javascript': 4525, 'wierd': 4526, 'upmc': 4527, 'basket': 4528, 'kitens': 4529, 'coco': 4530, 'pops': 4531, 'smite': 4532, 'tn': 4533, 'located': 4534, 'evil': 4535, 'establish': 4536, 'murders': 4537, 'suspected': 4538, 'tumor': 4539, 'yousned': 4540, 'outrageously': 4541, 'rs': 4542, 'filter': 4543, 'api': 4544, 'notw': 4545, 'cyberworld': 4546, 'autonomic': 4547, 'regulation': 4548, 'bereavement': 4549, 'nedwithin': 4550, 'batles': 4551, 'acidental': 4552, 'angels': 4553, 'chyeah': 4554, 'aptly': 4555, 'nety': 4556, 'halfway': 4557, 'specific': 4558, 'beast': 4559, 'psp': 4560, 'trophy': 4561, 'whoring': 4562, 'removing': 4563, 'restraint': 4564, 'inability': 4565, 'aged': 4566, 'tomuch': 4567, 'blank': 4568, 'anda': 4569, 'catharsis': 4570, 'flashbacks': 4571, 'procesing': 4572, 'refreshment': 4573, 'unli': 4574, 'recruit': 4575, 'dancers': 4576, 'asap': 4577, 'choreographer': 4578, 'mcintyre': 4579, 'windrush': 4580, 'homeles': 4581, 'warehouse': 4582, 'europe': 4583, 'papa': 4584, 'lemon': 4585, 'abe': 4586, 'tackle': 4587, 'lines': 4588, 'afecting': 4589, 'column': 4590, 'bex': 4591, 'bargain': 4592, 'bam': 4593, 'texted': 4594, 'swine': 4595, 'flu': 4596, 'shifted': 4597, 'constructive': 4598, 'webcam': 4599, 'calmest': 4600, 'jinxing': 4601, 'tulip': 4602, 'fleabag': 4603, 'selfish': 4604, 'crocwhen': 4605, 'shire': 4606, 'injures': 4607, 'slaughterhouse': 4608, 'farmer': 4609, 'rides': 4610, 'butknuckle': 4611, 'straightening': 4612, 'entertain': 4613, 'expresly': 4614, 'kely': 4615, 'clarkson': 4616, 'disgust': 4617, 'faces': 4618, 'plano': 4619, 'tx': 4620, 'prediction': 4621, 'disprove': 4622, 'placenta': 4623, 'capsules': 4624, 'tyl': 4625, 'twities': 4626, 'intelectualdevelopment': 4627, 'firefox': 4628, 'bokmarks': 4629, 'stems': 4630, 'oposed': 4631, 'balancing': 4632, 'forsure': 4633, 'rests': 4634, 'citizens': 4635, 'youths': 4636, 'persevere': 4637, 'curse': 4638, 'rocket': 4639, 'joel': 4640, 'vilanueva': 4641, 'rockfest': 4642, 'compilation': 4643, 'jonathan': 4644, 'lp': 4645, 'andrew': 4646, 'lf': 4647, 'prevents': 4648, 'incel': 4649, 'shynes': 4650, 'atracted': 4651, 'hapily': 4652, 'china': 4653, 'coal': 4654, 'hospitals': 4655, 'neighbours': 4656, 'zo': 4657, 'behold': 4658, 'twin': 4659, 'squaters': 4660, 'anhedonic': 4661, 'handful': 4662, 'promising': 4663, 'existing': 4664, 'shafa': 4665, 'bein': 4666, 'insensitive': 4667, 'nedn': 4668, 'shd': 4669, 'highlighted': 4670, 'bt': 4671, 'forum': 4672, 'spay': 4673, 'nueter': 4674, 'pack': 4675, 'breds': 4676, 'laura': 4677, 'jejeje': 4678, 'sandlot': 4679, 'intro': 4680, 'prints': 4681, 'bux': 4682, 'blair': 4683, 'copied': 4684, 'avoiding': 4685, 'shambles': 4686, 'aplied': 4687, 'subscirbe': 4688, 'telin': 4689, 'fou': 4690, 'presented': 4691, 'seminar': 4692, 'mushroms': 4693, 'vapor': 4694, 'confound': 4695, 'insecurities': 4696, 'distres': 4697, 'unknown': 4698, 'paradox': 4699, 'cafetaria': 4700, 'indonesian': 4701, 'profesionals': 4702, 'adjusting': 4703, 'remain': 4704, 'various': 4705, 'enemies': 4706, 'ghr': 4707, 'tumy': 4708, 'resembling': 4709, 'seas': 4710, 'shes': 4711, 'citybase': 4712, 'apartments': 4713, 'kirk': 4714, 'fanklin': 4715, 'sneak': 4716, 'homophobia': 4717, 'practical': 4718, 'hipkins': 4719, 'ration': 4720, 'mody': 4721, 'wretched': 4722, 'kazilion': 4723, 'twisted': 4724, 'camhs': 4725, 'gumawa': 4726, 'tula': 4727, 'brightly': 4728, 'boty': 4729, 'bfs': 4730, 'bonfire': 4731, 'lame': 4732, 'mothman': 4733, 'cudling': 4734, 'fmylife': 4735, 'adictive': 4736, 'trailers': 4737, 'pyjamas': 4738, 'heater': 4739, 'felin': 4740, 'toasty': 4741, 'brushed': 4742, 'twitered': 4743, 'switching': 4744, 'osum': 4745, 'belt': 4746, 'buckle': 4747, 'hairdo': 4748, 'asured': 4749, 'replacement': 4750, 'devoted': 4751, 'voluntarily': 4752, 'pity': 4753, 'fer': 4754, 'guac': 4755, 'worsens': 4756, 'bn': 4757, 'filing': 4758, 'tougher': 4759, 'tatos': 4760, 'soked': 4761, 'detachment': 4762, 'transgresions': 4763, 'oleole': 4764, 'upload': 4765, 'rafa': 4766, 'gretings': 4767, 'frezer': 4768, 'evan': 4769, 'homosexuality': 4770, 'ameture': 4771, 'leter': 4772, 'noun': 4773, 'scalop': 4774, 'dent': 4775, 'dimple': 4776, 'toth': 4777, 'batlement': 4778, 'grip': 4779, 'grandpa': 4780, 'infantry': 4781, 'gaza': 4782, 'marching': 4783, 'caried': 4784, 'shrapnel': 4785, 'nam': 4786, 'dads': 4787, 'anticipated': 4788, 'kevin': 4789, 'coca': 4790, 'suki': 4791, 'letin': 4792, 'proving': 4793, 'catastrophic': 4794, 'valdoxan': 4795, 'medicationreadmore': 4796, 'iapt': 4797, 'skinsuport': 4798, 'unspoilt': 4799, 'probs': 4800, 'maintain': 4801, 'senate': 4802, 'upcoming': 4803, 'speaker': 4804, 'mindsmith': 4805, 'philosophical': 4806, 'unwavering': 4807, 'kira': 4808, 'twitpic': 4809, 'dismis': 4810, 'aspects': 4811, 'cite': 4812, 'mercury': 4813, 'retrograde': 4814, 'sentence': 4815, 'santos': 4816, 'jamin': 4817, 'frigin': 4818, 'serial': 4819, 'distant': 4820, 'capacity': 4821, 'strengths': 4822, 'weakneses': 4823, 'ungrateful': 4824, 'boses': 4825, 'directors': 4826, 'bounced': 4827, 'usin': 4828, 'sisterhod': 4829, 'schmance': 4830, 'karen': 4831, 'sketchy': 4832, 'combinations': 4833, 'grt': 4834, 'manchester': 4835, 'claire': 4836, 'hgtv': 4837, 'sucked': 4838, 'warmer': 4839, 'trace': 4840, 'imprints': 4841, 'wreaking': 4842, 'bokmarked': 4843, 'scratching': 4844, 'slepn': 4845, 'meteorite': 4846, 'whichever': 4847, 'thot': 4848, 'fireworks': 4849, 'meri': 4850, 'hota': 4851, 'hai': 4852, 'becoz': 4853, 'quran': 4854, 'pak': 4855, 'ayat': 4856, 'hades': 4857, 'wantel': 4858, 'openu': 4859, 'muslimi': 4860, 'muslim': 4861, 'muslimin': 4862, 'sha': 4863, 'alah': 4864, 'plane': 4865, 'campfire': 4866, 'reminisce': 4867, 'perform': 4868, 'pending': 4869, 'payment': 4870, 'varies': 4871, 'pinelaspark': 4872, 'rightwing': 4873, 'extremism': 4874, 'korean': 4875, 'broadening': 4876, 'envrionments': 4877, 'objectively': 4878, 'activated': 4879, 'stink': 4880, 'headin': 4881, 'metings': 4882, 'unfolowed': 4883, 'kine': 4884, 'astros': 4885, 'adventures': 4886, 'gratz': 4887, 'paige': 4888, 'babo': 4889, 'secondly': 4890, 'ilk': 4891, 'moralist': 4892, 'boner': 4893, 'doin': 4894, 'fina': 4895, 'coneticut': 4896, 'simplifying': 4897, 'tweters': 4898, 'treadmil': 4899, 'anual': 4900, 'fixi': 4901, 'fog': 4902, 'irational': 4903, 'terors': 4904, 'tiping': 4905, 'paula': 4906, 'prank': 4907, 'pretend': 4908, 'contestant': 4909, 'nervousbut': 4910, 'pantomime': 4911, 'fearing': 4912, 'deny': 4913, 'lyrical': 4914, 'thon': 4915, 'clever': 4916, 'scientists': 4917, 'brains': 4918, 'underpinings': 4919, 'cels': 4920, 'mutation': 4921, 'kalm': 4922, 'dehumanization': 4923, 'tiring': 4924, 'encounter': 4925, 'gasp': 4926, 'weigh': 4927, 'ta': 4928, 'positively': 4929, 'twiting': 4930, 'weny': 4931, 'zigy': 4932, 'darn': 4933, 'nevermind': 4934, 'con': 4935, 'fascists': 4936, 'mildly': 4937, 'insuficient': 4938, 'hearby': 4939, 'task': 4940, 'beachbarcamp': 4941, 'proceds': 4942, 'dreambuilders': 4943, 'inovations': 4944, 'volunter': 4945, 'companion': 4946, 'donor': 4947, 'funded': 4948, 'volunters': 4949, 'admited': 4950, 'bmp': 4951, 'jpeg': 4952, 'depresiongod': 4953, 'partly': 4954, 'introvert': 4955, 'dash': 4956, 'extrovert': 4957, 'arena': 4958, 'emapth': 4959, 'enlightenment': 4960, 'guidance': 4961, 'clinicians': 4962, 'alter': 4963, 'sunies': 4964, 'tastes': 4965, 'ovama': 4966, 'miriam': 4967, 'acomplishments': 4968, 'disputed': 4969, 'honorable': 4970, 'representing': 4971, 'bloghud': 4972, 'wordpres': 4973, 'sunburnt': 4974, 'resubmit': 4975, 'ceruleanechoes': 4976, 'syrup': 4977, 'ingredients': 4978, 'saearch': 4979, 'siteurl': 4980, 'fcse': 4981, 'fhome': 4982, 'fcx': 4983, 'dpartner': 4984, 'avnwpswfe': 4985, 'tab': 4986, 'kerstin': 4987, 'burb': 4988, 'resilience': 4989, 'strewn': 4990, 'contraceptives': 4991, 'owe': 4992, 'coleagues': 4993, 'interaction': 4994, 'sour': 4995, 'sop': 4996, 'coupon': 4997, 'checkout': 4998, 'aditional': 4999, 'preview': 5000, 'primary': 5001, 'listened': 5002, 'isdepresion': 5003, 'maletjie': 5004, 'dogter': 5005, 'alysa': 5006, 'bs': 5007, 'president': 5008, 'brakes': 5009, 'adms': 5010, 'gwb': 5011, 'reps': 5012, 'demolish': 5013, 'tracks': 5014, 'thelovelybones': 5015, 'spy': 5016, 'lovato': 5017, 'premire': 5018, 'housemate': 5019, 'hangout': 5020, 'mrw': 5021, 'rosen': 5022, 'heima': 5023, 'sublime': 5024, 'defending': 5025, 'hengelo': 5026, 'jams': 5027, 'waved': 5028, 'frank': 5029, 'sinus': 5030, 'tapi': 5031, 'belum': 5032, 'sama': 5033, 'verge': 5034, 'persistence': 5035, 'wht': 5036, 'bubling': 5037, 'contentment': 5038, 'ambushes': 5039, 'sunken': 5040, 'grieving': 5041, 'dsm': 5042, 'vdb': 5043, 'douche': 5044, 'worn': 5045, 'helmet': 5046, 'genres': 5047, 'gofin': 5048, 'horors': 5049, 'sync': 5050, 'arange': 5051, 'visa': 5052, 'pasport': 5053, 'yepa': 5054, 'sawed': 5055, 'lovin': 5056, 'tasca': 5057, 'vegetarian': 5058, 'tapas': 5059, 'typical': 5060, 'magat': 5061, 'cheky': 5062, 'remark': 5063, 'cafeine': 5064, 'philosopher': 5065, 'transmutes': 5066, 'naraz': 5067, 'houn': 5068, 'khana': 5069, 'chor': 5070, 'phire': 5071, 'chli': 5072, 'jae': 5073, 'kr': 5074, 'infancy': 5075, 'conf': 5076, 'folows': 5077, 'cardiovascular': 5078, 'karma': 5079, 'fights': 5080, 'cageandringmagazine': 5081, 'caged': 5082, 'kniter': 5083, 'knit': 5084, 'nekid': 5085, 'frankincense': 5086, 'ranch': 5087, 'yelm': 5088, 'ncis': 5089, 'procedure': 5090, 'slaping': 5091, 'breakdowns': 5092, 'persistent': 5093, 'naging': 5094, 'goign': 5095, 'creases': 5096, 'wrists': 5097, 'membership': 5098, 'certificate': 5099, 'badge': 5100, 'apreciation': 5101, 'medal': 5102, 'fist': 5103, 'epiphanious': 5104, 'sharp': 5105, 'throbing': 5106, 'sucesfuly': 5107, 'mision': 5108, 'cheat': 5109, 'starcraft': 5110, 'asuming': 5111, 'hala': 5112, 'istening': 5113, 'nuty': 5114, 'jedi': 5115, 'michaels': 5116, 'storms': 5117, 'thunder': 5118, 'lightning': 5119, 'mushy': 5120, 'glomy': 5121, 'cheque': 5122, 'estes': 5123, 'agres': 5124, 'buys': 5125, 'sample': 5126, 'cap': 5127, 'decorate': 5128, 'interupt': 5129, 'chapter': 5130, 'whiny': 5131, 'gathering': 5132, 'jaque': 5133, 'veins': 5134, 'noele': 5135, 'daisies': 5136, 'scum': 5137, 'horific': 5138, 'detective': 5139, 'robert': 5140, 'henrieta': 5141, 'niki': 5142, 'aguire': 5143, 'launched': 5144, 'pedro': 5145, 'inlove': 5146, 'westwick': 5147, 'dozen': 5148, 'swaped': 5149, 'barbs': 5150, 'unexpected': 5151, 'suite': 5152, 'proper': 5153, 'lunchbreak': 5154, 'toasted': 5155, 'electronic': 5156, 'handmaids': 5157, 'departure': 5158, 'kidos': 5159, 'exclaimed': 5160, 'prevalence': 5161, 'ordinator': 5162, 'dreading': 5163, 'mistakes': 5164, 'anbe': 5165, 'ultralight': 5166, 'beam': 5167, 'wink': 5168, 'crows': 5169, 'rascaly': 5170, 'yus': 5171, 'bread': 5172, 'whot': 5173, 'alkermes': 5174, 'fda': 5175, 'misunderstanding': 5176, 'downplaying': 5177, 'fols': 5178, 'elan': 5179, 'magazine': 5180, 'nurses': 5181, 'mums': 5182, 'yorkshirepost': 5183, 'merch': 5184, 'barier': 5185, 'wifito': 5186, 'queue': 5187, 'ochi': 5188, 'amsterdam': 5189, 'violence': 5190, 'forgivable': 5191, 'neptunes': 5192, 'timberlake': 5193, 'timbaland': 5194, 'younger': 5195, 'binge': 5196, 'harmonica': 5197, 'struming': 5198, 'atempting': 5199, 'discernible': 5200, 'twetdek': 5201, 'godin': 5202, 'raju': 5203, 'raj': 5204, 'manifests': 5205, 'propensity': 5206, 'mit': 5207, 'chan': 5208, 'dreamwidth': 5209, 'gift': 5210, 'bk': 5211, 'shirts': 5212, 'unloading': 5213, 'thor': 5214, 'hilbilies': 5215, 'snaped': 5216, 'twerson': 5217, 'chk': 5218, 'feris': 5219, 'ted': 5220, 'downloading': 5221, 'pokemon': 5222, 'pwn': 5223, 'suceced': 5224, 'pamper': 5225, 'snaping': 5226, 'sokor': 5227, 'intelect': 5228, 'drugie': 5229, 'dalas': 5230, 'eror': 5231, 'limits': 5232, 'sting': 5233, 'nic': 5234, 'colabs': 5235, 'bono': 5236, 'controversial': 5237, 'mensutra': 5238, 'kapil': 5239, 'sharma': 5240, 'controversy': 5241, 'yepyep': 5242, 'kok': 5243, 'wlcm': 5244, 'hanover': 5245, 'bicycle': 5246, 'inline': 5247, 'skates': 5248, 'competition': 5249, 'atainable': 5250, 'antagonist': 5251, 'exists': 5252, 'alaska': 5253, 'fawked': 5254, 'mcans': 5255, 'phoneles': 5256, 'advocate': 5257, 'adoption': 5258, 'lgbqt': 5259, 'celebrity': 5260, 'header': 5261, 'drupal': 5262, 'seo': 5263, 'isomac': 5264, 'chiped': 5265, 'mazer': 5266, 'alexis': 5267, 'goselin': 5268, 'religion': 5269, 'scams': 5270, 'spiritualy': 5271, 'complain': 5272, 'glitery': 5273, 'wore': 5274, 'overdosing': 5275, 'aquinas': 5276, 'slepin': 5277, 'foursome': 5278, 'enliving': 5279, 'troubled': 5280, 'stigmatized': 5281, 'trishas': 5282, 'inputs': 5283, 'debates': 5284, 'replying': 5285, 'dormant': 5286, 'asertion': 5287, 'blatant': 5288, 'uploading': 5289, 'dinosaurs': 5290, 'covert': 5291, 'revolution': 5292, 'hyolyn': 5293, 'salsa': 5294, 'lizano': 5295, 'distances': 5296, 'acomplishment': 5297, 'avici': 5298, 'county': 5299, 'priestly': 5300, 'vocations': 5301, 'royal': 5302, 'roasted': 5303, 'restaurants': 5304, 'aiea': 5305, 'gourmet': 5306, 'stores': 5307, 'winingreal': 5308, 'bets': 5309, 'wh': 5310, 'corespondant': 5311, 'rocked': 5312, 'wanda': 5313, 'sykes': 5314, 'gaining': 5315, 'momentum': 5316, 'poling': 5317, 'vomit': 5318, 'sydney': 5319, 'holden': 5320, 'comodore': 5321, 'hc': 5322, 'frm': 5323, 'wrk': 5324, 'nw': 5325, 'med': 5326, 'urg': 5327, 'frusturated': 5328, 'sighs': 5329, 'vanesa': 5330, 'rising': 5331, 'hola': 5332, 'cohesive': 5333, 'aspirations': 5334, 'amplified': 5335, 'ruminate': 5336, 'relates': 5337, 'receptive': 5338, 'comunication': 5339, 'omelete': 5340, 'prix': 5341, 'bucks': 5342, 'aprentice': 5343, 'percypigs': 5344, 'horns': 5345, 'trancecast': 5346, 'tedium': 5347, 'skypetherapy': 5348, 'grensun': 5349, 'shininglowest': 5350, 'dropedepresion': 5351, 'parenting': 5352, 'technology': 5353, 'toronto': 5354, 'thus': 5355, 'nyela': 5356, 'frida': 5357, 'wagon': 5358, 'leters': 5359, 'arsed': 5360, 'hasle': 5361, 'views': 5362, 'devotion': 5363, 'pancit': 5364, 'nanay': 5365, 'desert': 5366, 'sels': 5367, 'participating': 5368, 'user': 5369, 'acrylic': 5370, 'charms': 5371, 'cafe': 5372, 'empathetic': 5373, 'misconstrued': 5374, 'responsible': 5375, 'uploaded': 5376, 'clubs': 5377, 'hd': 5378, 'mixing': 5379, 'showers': 5380, 'hiding': 5381, 'supres': 5382, 'hushing': 5383, 'moyai': 5384, 'wuah': 5385, 'seal': 5386, 'orb': 5387, 'infographic': 5388, 'airlie': 5389, 'whitsundays': 5390, 'acting': 5391, 'nonton': 5392, 'pery': 5393, 'benerin': 5394, 'bikin': 5395, 'friendfed': 5396, 'twisten': 5397, 'dl': 5398, 'tinchy': 5399, 'stryder': 5400, 'changeling': 5401, 'jocelyn': 5402, 'shifts': 5403, 'ensure': 5404, 'bingo': 5405, 'tent': 5406, 'courses': 5407, 'denting': 5408, 'nawh': 5409, 'coverage': 5410, 'baker': 5411, 'chester': 5412, 'warped': 5413, 'milionaires': 5414, 'jefre': 5415, 'scars': 5416, 'populatiom': 5417, 'lyin': 5418, 'cheating': 5419, 'bastards': 5420, 'edged': 5421, 'sword': 5422, 'dislike': 5423, 'beanie': 5424, 'reversible': 5425, 'shades': 5426, 'swetbay': 5427, 'kathryns': 5428, 'bp': 5429, 'waitors': 5430, 'serve': 5431, 'rangers': 5432, 'sarcastic': 5433, 'cracker': 5434, 'barel': 5435, 'shures': 5436, 'shure': 5437, 'kuku': 5438, 'gigs': 5439, 'recomed': 5440, 'lasers': 5441, 'hme': 5442, 'unlucky': 5443, 'fife': 5444, 'jab': 5445, 'bohat': 5446, 'ziada': 5447, 'honay': 5448, 'kay': 5449, 'liay': 5450, 'karna': 5451, 'chaiay': 5452, 'tpf': 5453, 'revising': 5454, 'ratio': 5455, 'vimto': 5456, 'blogthings': 5457, 'barney': 5458, 'simpsons': 5459, 'eva': 5460, 'sup': 5461, 'banjaxed': 5462, 'arm': 5463, 'sunlight': 5464, 'bene': 5465, 'wd': 5466, 'enep': 5467, 'acredita': 5468, 'mim': 5469, 'mamas': 5470, 'grit': 5471, 'romantic': 5472, 'napoleon': 5473, 'ditch': 5474, 'venezuela': 5475, 'invention': 5476, 'twentea': 5477, 'eyesight': 5478, 'thorpe': 5479, 'cbr': 5480, 'koltsovo': 5481, 'vment': 5482, 'swam': 5483, 'ze': 5484, 'mf': 5485, 'confes': 5486, 'srsly': 5487, 'taiwanese': 5488, 'menopause': 5489, 'turbulent': 5490, 'haunted': 5491, 'lamers': 5492, 'overcast': 5493, 'payday': 5494, 'tae': 5495, 'mystic': 5496, 'sings': 5497, 'provided': 5498, 'refuge': 5499, 'gosebumps': 5500, 'rio': 5501, 'explored': 5502, 'unprotected': 5503, 'canad': 5504, 'stigmatised': 5505, 'soared': 5506, 'demand': 5507, 'groceries': 5508, 'delivered': 5509, 'sg': 5510, 'gagan': 5511, 'modi': 5512, 'elections': 5513, 'draged': 5514, 'lung': 5515, 'unmatched': 5516, 'fluid': 5517, 'mosquito': 5518, 'bite': 5519, 'ireland': 5520, 'mondays': 5521, 'shoestring': 5522, 'unimpresed': 5523, 'ability': 5524, 'drungs': 5525, 'biscuitmfs': 5526, 'baner': 5527, 'cubs': 5528, 'league': 5529, 'heartache': 5530, 'breakup': 5531, 'corelation': 5532, 'versa': 5533, 'silenced': 5534, 'require': 5535, 'asia': 5536, 'earn': 5537, 'shareholder': 5538, 'earning': 5539, 'erikas': 5540, 'rightfuly': 5541, 'famil': 5542, 'periwinkle': 5543, 'periwinkleblo': 5544, 'hepi': 5545, 'erease': 5546, 'risky': 5547, 'rains': 5548, 'sober': 5549, 'incorporated': 5550, 'jahanam': 5551, 'fanwar': 5552, 'br': 5553, 'selfie': 5554, 'hardware': 5555, 'harold': 5556, 'waitin': 5557, 'jodice': 5558, 'depresionand': 5559, 'wrt': 5560, 'socialist': 5561, 'dust': 5562, 'slaughtered': 5563, 'filipinos': 5564, 'starvation': 5565, 'indians': 5566, 'gn': 5567, 'theme': 5568, 'bthequen': 5569, 'xyz': 5570, 'pads': 5571, 'questioned': 5572, 'whispers': 5573, 'comcast': 5574, 'mufins': 5575, 'enjoyin': 5576, 'disgusted': 5577, 'donieklang': 5578, 'fluoxetine': 5579, 'mandy': 5580, 'authored': 5581, 'brendon': 5582, 'stubs': 5583, 'geographical': 5584, 'rareinterview': 5585, 'legalizing': 5586, 'worlds': 5587, 'washington': 5588, 'kh': 5589, 'riku': 5590, 'comforted': 5591, 'indulgent': 5592, 'afloat': 5593, 'stave': 5594, 'sane': 5595, 'edward': 5596, 'ideology': 5597, 'mired': 5598, 'obstruct': 5599, 'administration': 5600, 'hectic': 5601, 'achive': 5602, 'unclear': 5603, 'fanstastic': 5604, 'humble': 5605, 'clicks': 5606, 'domestic': 5607, 'trefusis': 5608, 'venture': 5609, 'lived': 5610, 'unintentionaly': 5611, 'armchair': 5612, 'evals': 5613, 'fearne': 5614, 'yous': 5615, 'xoxoxo': 5616, 'cardio': 5617, 'flexed': 5618, 'biceps': 5619, 'october': 5620, 'doubted': 5621, 'belive': 5622, 'smith': 5623, 'amber': 5624, 'heritage': 5625, 'compote': 5626, 'brushing': 5627, 'crashin': 5628, 'brithday': 5629, 'distracted': 5630, 'retribution': 5631, 'profitable': 5632, 'promoted': 5633, 'heightens': 5634, 'vids': 5635, 'youself': 5636, 'asistance': 5637, 'whatch': 5638, 'om': 5639, 'ari': 5640, 'okies': 5641, 'recos': 5642, 'biology': 5643, 'trampoline': 5644, 'waiter': 5645, 'facebokprofile': 5646, 'alfie': 5647, 'releasing': 5648, 'groupie': 5649, 'hyderabad': 5650, 'indors': 5651, 'anticipating': 5652, 'grlz': 5653, 'gotcha': 5654, 'smthg': 5655, 'obese': 5656, 'prone': 5657, 'fleting': 5658, 'fraudulent': 5659, 'jik': 5660, 'ascent': 5661, 'akp': 5662, 'burak': 5663, 'grel': 5664, 'fla': 5665, 'antagonize': 5666, 'empathy': 5667, 'freagle': 5668, 'carbs': 5669, 'bugle': 5670, 'steadily': 5671, 'trumpalso': 5672, 'trumps': 5673, 'ousted': 5674, 'otherhe': 5675, 'mueler': 5676, 'nail': 5677, 'himcount': 5678, 'preaching': 5679, 'betcha': 5680, 'pdt': 5681, 'webinar': 5682, 'inland': 5683, 'empire': 5684, 'coalition': 5685, 'register': 5686, 'spurs': 5687, 'mavericks': 5688, 'carot': 5689, 'coloured': 5690, 'neustrelitz': 5691, 'coles': 5692, 'bild': 5693, 'lifes': 5694, 'rejoin': 5695, 'toys': 5696, 'vast': 5697, 'mere': 5698, 'ecentricity': 5699, 'unlikely': 5700, 'violently': 5701, 'danger': 5702, 'falin': 5703, 'meals': 5704, 'ftw': 5705, 'depresionlonelinesand': 5706, 'lows': 5707, 'highs': 5708, 'gibts': 5709, 'nur': 5710, 'eine': 5711, 'lsung': 5712, 'freund': 5713, 'loswerden': 5714, 'animators': 5715, 'thyroid': 5716, 'vit': 5717, 'tidy': 5718, 'bedrom': 5719, 'comp': 5720, 'limit': 5721, 'snatched': 5722, 'sprinkles': 5723, 'cameo': 5724, 'jigsaw': 5725, 'pupet': 5726, 'themes': 5727, 'revolved': 5728, 'tragedy': 5729, 'lithuanian': 5730, 'grogy': 5731, 'rabid': 5732, 'zombie': 5733, 'edit': 5734, 'cocaine': 5735, 'amphetamines': 5736, 'histories': 5737, 'sugestsit': 5738, 'shampo': 5739, 'angel': 5740, 'eradicated': 5741, 'squarely': 5742, 'agencies': 5743, 'resist': 5744, 'abroad': 5745, 'engage': 5746, 'worms': 5747, 'depresioni': 5748, 'amputate': 5749, 'spine': 5750, 'kin': 5751, 'trigering': 5752, 'defended': 5753, 'navids': 5754, 'staceys': 5755, 'besfriend': 5756, 'hateful': 5757, 'res': 5758, 'mog': 5759, 'decent': 5760, 'godamn': 5761, 'mefloquine': 5762, 'arhythmia': 5763, 'claimed': 5764, 'agresively': 5765, 'argumentative': 5766, 'entrance': 5767, 'screnshot': 5768, 'archive': 5769, 'sitl': 5770, 'counter': 5771, 'lightening': 5772, 'bug': 5773, 'easing': 5774, 'waterfal': 5775, 'sliding': 5776, 'slope': 5777, 'generalised': 5778, 'psychiatrists': 5779, 'origami': 5780, 'clinton': 5781, 'bosanova': 5782, 'polside': 5783, 'beit': 5784, 'bombay': 5785, 'boby': 5786, 'askes': 5787, 'cbf': 5788, 'lovexo': 5789, 'respondents': 5790, 'satisfaction': 5791, 'hacked': 5792, 'yugioh': 5793, 'mds': 5794, 'java': 5795, 'iceweasel': 5796, 'openjdk': 5797, 'percentage': 5798, 'rockets': 5799, 'drunknes': 5800, 'magaluf': 5801, 'pirate': 5802, 'returning': 5803, 'honesty': 5804, 'blackbery': 5805, 'eltek': 5806, 'valere': 5807, 'receives': 5808, 'frost': 5809, 'sulivan': 5810, 'proposed': 5811, 'psycho': 5812, 'hereditary': 5813, 'evolutionary': 5814, 'edgar': 5815, 'shout': 5816, 'cheap': 5817, 'upgrades': 5818, 'sidelined': 5819, 'depresants': 5820, 'grateful': 5821, 'disagre': 5822, 'solving': 5823, 'murderous': 5824, 'imo': 5825, 'directions': 5826, 'britain': 5827, 'map': 5828, 'confuze': 5829, 'purposes': 5830, 'timestwo': 5831, 'metevery': 5832, 'depresionfed': 5833, 'fiat': 5834, 'punto': 5835, 'dancetour': 5836, 'downloaded': 5837, 'dbz': 5838, 'fhrer': 5839, 'relations': 5840, 'rly': 5841, 'kitchens': 5842, 'churchil': 5843, 'afirming': 5844, 'mut': 5845, 'dotn': 5846, 'insult': 5847, 'heat': 5848, 'reveals': 5849, 'detection': 5850, 'oi': 5851, 'gatchenhas': 5852, 'amo': 5853, 'rightwards': 5854, 'nowplaying': 5855, 'biblical': 5856, 'pastor': 5857, 'marquez': 5858, 'members': 5859, 'ph': 5860, 'lh': 5861, 'drafted': 5862, 'gran': 5863, 'ebay': 5864, 'listing': 5865, 'praise': 5866, 'crashing': 5867, 'foreal': 5868, 'xoxox': 5869, 'chores': 5870, 'fab': 5871, 'fonder': 5872, 'headlining': 5873, 'overnight': 5874, 'debilitating': 5875, 'indig': 5876, 'oklahoma': 5877, 'aqua': 5878, 'lounge': 5879, 'beverly': 5880, 'hils': 5881, 'reception': 5882, 'folowhods': 5883, 'cecil': 5884, 'hofman': 5885, 'lamana': 5886, 'rlcsw': 5887, 'psychotherapist': 5888, 'rots': 5889, 'services': 5890, 'specialization': 5891, 'justified': 5892, 'renforced': 5893, 'worthy': 5894, 'stretanchor': 5895, 'os': 5896, 'afective': 5897, 'bloger': 5898, 'pete': 5899, 'delay': 5900, 'deteriorate': 5901, 'havign': 5902, 'picks': 5903, 'framed': 5904, 'bluebird': 5905, 'startup': 5906, 'envisions': 5907, 'truthfulnes': 5908, 'acountability': 5909, 'transparency': 5910, 'ships': 5911, 'childish': 5912, 'relieving': 5913, 'complicated': 5914, 'fades': 5915, 'wels': 5916, 'fansite': 5917, 'thxs': 5918, 'jersey': 5919, 'hail': 5920, 'syb': 5921, 'lgbtq': 5922, 'mayfair': 5923, 'lid': 5924, 'minimal': 5925, 'bumps': 5926, 'flow': 5927, 'poverty': 5928, 'vacum': 5929, 'iliteracy': 5930, 'lebowski': 5931, 'swept': 5932, 'endles': 5933, 'doubts': 5934, 'yearning': 5935, 'listed': 5936, 'numerous': 5937, 'stwabery': 5938, 'drip': 5939, 'alerts': 5940, 'twe': 5941, 'recving': 5942, 'starhub': 5943, 'rag': 5944, 'graban': 5945, 'sang': 5946, 'hon': 5947, 'plumbing': 5948, 'wks': 5949, 'derick': 5950, 'backs': 5951, 'finances': 5952, 'nutritionaly': 5953, 'faceted': 5954, 'thumbs': 5955, 'lane': 5956, 'homeland': 5957, 'wisconsin': 5958, 'lilacs': 5959, 'blom': 5960, 'inthe': 5961, 'slightest': 5962, 'costs': 5963, 'psychiatrist': 5964, 'renata': 5965, 'schoeman': 5966, 'lecturer': 5967, 'usb': 5968, 'mba': 5969, 'alumnus': 5970, 'recognizing': 5971, 'washed': 5972, 'revolves': 5973, 'rcb': 5974, 'rcbian': 5975, 'grek': 5976, 'incorect': 5977, 'gels': 5978, 'segar': 5979, 'holywod': 5980, 'writings': 5981, 'ilustration': 5982, 'girly': 5983, 'oasis': 5984, 'jumpsuit': 5985, 'festivalish': 5986, 'shizu': 5987, 'healer': 5988, 'heals': 5989, 'hek': 5990, 'tyme': 5991, 'tonite': 5992, 'socer': 5993, 'salvi': 5994, 'rotin': 5995, 'comic': 5996, 'strip': 5997, 'representations': 5998, 'floridians': 5999, 'gabi': 6000, 'animals': 6001, 'sucumbs': 6002, 'jock': 6003, 'unlimited': 6004, 'belinis': 6005, 'frequented': 6006, 'inbox': 6007, 'mysty': 6008, 'wena': 6009, 'remedy': 6010, 'burpes': 6011, 'desire': 6012, 'nordstrom': 6013, 'baltimore': 6014, 'maryland': 6015, 'hometown': 6016, 'dawg': 6017, 'selective': 6018, 'bharat': 6019, 'court': 6020, 'provoking': 6021, 'zimer': 6022, 'haters': 6023, 'lololol': 6024, 'privilege': 6025, 'consumes': 6026, 'pace': 6027, 'cart': 6028, 'bomb': 6029, 'talkative': 6030, 'aga': 6031, 'endurance': 6032, 'substitute': 6033, 'emptines': 6034, 'dive': 6035, 'meditate': 6036, 'photography': 6037, 'weling': 6038, 'terminating': 6039, 'quietly': 6040, 'lurking': 6041, 'southwold': 6042, 'bangles': 6043, 'afordable': 6044, 'walowing': 6045, 'lifeguarding': 6046, 'concerts': 6047, 'hob': 6048, 'quotes': 6049, 'oxox': 6050, 'academic': 6051, 'mermaid': 6052, 'sashimi': 6053, 'charcters': 6054, 'vilain': 6055, 'fites': 6056, 'solutions': 6057, 'crazypark': 6058, 'depresionpark': 6059, 'smilie': 6060, 'fence': 6061, 'groan': 6062, 'criteria': 6063, 'justughughughughugh': 6064, 'instaling': 6065, 'distinctly': 6066, 'reduced': 6067, 'lexi': 6068, 'banquet': 6069, 'prayed': 6070, 'mag': 6071, 'updatesoptimising': 6072, 'aiming': 6073, 'aiden': 6074, 'asmr': 6075, 'bra': 6076, 'badas': 6077, 'manifest': 6078, 'suspect': 6079, 'depeche': 6080, 'candlewick': 6081, 'candle': 6082, 'holder': 6083, 'imperial': 6084, 'cudle': 6085, 'intrustive': 6086, 'tie': 6087, 'afair': 6088, 'sums': 6089, 'sope': 6090, 'aumin': 6091, 'yongi': 6092, 'blind': 6093, 'jung': 6094, 'hoseok': 6095, 'nodles': 6096, 'brocoli': 6097, 'opining': 6098, 'staf': 6099, 'sleps': 6100, 'scotland': 6101, 'bruins': 6102, 'jeopardy': 6103, 'flyin': 6104, 'triple': 6105, 'threat': 6106, 'potent': 6107, 'aly': 6108, 'foxnews': 6109, 'thisf': 6110, 'fuckingwel': 6111, 'yels': 6112, 'dienobody': 6113, 'hopeshe': 6114, 'indefinitely': 6115, 'nauru': 6116, 'rox': 6117, 'gob': 6118, 'deadpol': 6119, 'angeles': 6120, 'bahaha': 6121, 'twatlight': 6122, 'charming': 6123, 'submited': 6124, 'autobiographical': 6125, 'wiliams': 6126, 'vaughn': 6127, 'cwb': 6128, 'authors': 6129, 'corny': 6130, 'maltese': 6131, 'newspaper': 6132, 'sundays': 6133, 'sht': 6134, 'lemons': 6135, 'ew': 6136, 'carpet': 6137, 'begun': 6138, 'host': 6139, 'quotemos': 6140, 'builder': 6141, 'lacks': 6142, 'paths': 6143, 'deceived': 6144, 'waits': 6145, 'dlc': 6146, 'mabel': 6147, 'minuits': 6148, 'origin': 6149, 'dv': 6150, 'babysiting': 6151, 'nyahahahahahaha': 6152, 'wala': 6153, 'cmon': 6154, 'wepy': 6155, 'abnormal': 6156, 'conectivity': 6157, 'ventral': 6158, 'anterior': 6159, 'insula': 6160, 'asthmatic': 6161, 'poc': 6162, 'landing': 6163, 'blk': 6164, 'voting': 6165, 'interests': 6166, 'sliped': 6167, 'depnes': 6168, 'quantities': 6169, 'oxide': 6170, 'greatly': 6171, 'lexapro': 6172, 'proplanolol': 6173, 'lengthy': 6174, 'journerys': 6175, 'driven': 6176, 'induces': 6177, 'stoner': 6178, 'tiernan': 6179, 'plastic': 6180, 'embark': 6181, 'quest': 6182, 'convincing': 6183, 'norah': 6184, 'infinate': 6185, 'briana': 6186, 'strongly': 6187, 'curve': 6188, 'ema': 6189, 'horny': 6190, 'exotic': 6191, 'gorging': 6192, 'kilford': 6193, 'audible': 6194, 'chuckle': 6195, 'vlog': 6196, 'tlc': 6197, 'documentaries': 6198, 'abnormaly': 6199, 'tre': 6200, 'talest': 6201, 'redistribute': 6202, 'technique': 6203, 'scotsdale': 6204, 'lyks': 6205, 'mcke': 6206, 'peper': 6207, 'shakers': 6208, 'delphite': 6209, 'aluminum': 6210, 'lids': 6211, 'limb': 6212, 'heroin': 6213, 'jurasic': 6214, 'trilogy': 6215, 'embarasing': 6216, 'nedle': 6217, 'piercings': 6218, 'dreamt': 6219, 'vastnes': 6220, 'obscuring': 6221, 'residual': 6222, 'camps': 6223, 'genesis': 6224, 'blindboy': 6225, 'alt': 6226, 'trols': 6227, 'cognitions': 6228, 'andepresion': 6229, 'omw': 6230, 'frowining': 6231, 'burnout': 6232, 'ocasional': 6233, 'preclude': 6234, 'ofdepresion': 6235, 'endemic': 6236, 'failures': 6237, 'expire': 6238, 'debie': 6239, 'mesaged': 6240, 'apologize': 6241, 'jbs': 6242, 'crapy': 6243, 'uplifters': 6244, 'picturedrome': 6245, 'holmfirth': 6246, 'owter': 6247, 'zeds': 6248, 'ska': 6249, 'execute': 6250, 'emsam': 6251, 'freie': 6252, 'pw': 6253, 'ds': 6254, 'intervention': 6255, 'discrete': 6256, 'fuel': 6257, 'stif': 6258, 'joints': 6259, 'apathy': 6260, 'hoter': 6261, 'tgif': 6262, 'eqao': 6263, 'grocery': 6264, 'publix': 6265, 'quotn': 6266, 'eckhart': 6267, 'tole': 6268, 'almighty': 6269, 'afliction': 6270, 'apologise': 6271, 'harsh': 6272, 'jack': 6273, 'icymi': 6274, 'citi': 6275, 'mets': 6276, 'swep': 6277, 'pirates': 6278, 'rave': 6279, 'torn': 6280, 'servings': 6281, 'buterscotch': 6282, 'efin': 6283, 'rep': 6284, 'sector': 6285, 'hover': 6286, 'chord': 6287, 'carel': 6288, 'gru': 6289, 'risen': 6290, 'lola': 6291, 'busting': 6292, 'mewho': 6293, 'salon': 6294, 'trim': 6295, 'debating': 6296, 'hol': 6297, 'mines': 6298, 'fyi': 6299, 'feb': 6300, 'reconect': 6301, 'destined': 6302, 'greatnes': 6303, 'uninteresting': 6304, 'tai': 6305, 'pockets': 6306, 'melbourne': 6307, 'flowing': 6308, 'motorsport': 6309, 'organise': 6310, 'karting': 6311, 'lag': 6312, 'comercialization': 6313, 'screngrab': 6314, 'wethu': 6315, 'sogqiba': 6316, 'azimele': 6317, 'nge': 6318, 'madly': 6319, 'interstate': 6320, 'abraham': 6321, 'horifying': 6322, 'childrens': 6323, 'realised': 6324, 'peole': 6325, 'themself': 6326, 'flaws': 6327, 'greatful': 6328, 'craziest': 6329, 'costco': 6330, 'statement': 6331, 'deadliest': 6332, 'vacumed': 6333, 'evolves': 6334, 'fxking': 6335, 'scrols': 6336, 'kopites': 6337, 'hash': 6338, 'evangelion': 6339, 'trix': 6340, 'interupting': 6341, 'ditching': 6342, 'cornered': 6343, 'halway': 6344, 'dated': 6345, 'quitb': 6346, 'itc': 6347, 'domincan': 6348, 'sum': 6349, 'restaurant': 6350, 'completly': 6351, 'asigned': 6352, 'net': 6353, 'blopers': 6354, 'sheding': 6355, 'trigers': 6356, 'rpdri': 6357, 'katya': 6358, 'fame': 6359, 'awfuli': 6360, 'bulimic': 6361, 'ribon': 6362, 'doley': 6363, 'tgp': 6364, 'marle': 6365, 'armadilo': 6366, 'excersise': 6367, 'kieth': 6368, 'captive': 6369, 'stronghold': 6370, 'mighty': 6371, 'cor': 6372, 'tenderloving': 6373, 'mercy': 6374, 'endures': 6375, 'kein': 6376, 'berlin': 6377, 'walhugers': 6378, 'mauerandmore': 6379, 'ofended': 6380, 'publicity': 6381, 'suposedly': 6382, 'religious': 6383, 'leaflet': 6384, 'supremely': 6385, 'gifted': 6386, 'precious': 6387, 'diamonds': 6388, 'writes': 6389, 'painters': 6390, 'balcony': 6391, 'gsce': 6392, 'worded': 6393, 'horibly': 6394, 'toper': 6395, 'sackles': 6396, 'doughy': 6397, 'kevy': 6398, 'ofline': 6399, 'apologized': 6400, 'douchey': 6401, 'sousa': 6402, 'australia': 6403, 'xo': 6404, 'hcsm': 6405, 'ers': 6406, 'pushes': 6407, 'wasted': 6408, 'yourn': 6409, 'luckjy': 6410, 'akazing': 6411, 'boyfrie': 6412, 'dnad': 6413, 'jealius': 6414, 'beause': 6415, 'reader': 6416, 'wakopa': 6417, 'debut': 6418, 'quotecial': 6419, 'plate': 6420, 'friendship': 6421, 'protects': 6422, 'onset': 6423, 'spock': 6424, 'vulcan': 6425, 'zachary': 6426, 'quinto': 6427, 'glued': 6428, 'adition': 6429, 'aleviated': 6430, 'intaking': 6431, 'dril': 6432, 'skuls': 6433, 'scientificaly': 6434, 'debunked': 6435, 'gilbert': 6436, 'inspiring': 6437, 'bcd': 6438, 'prozac': 6439, 'soundcloud': 6440, 'raper': 6441, 'nurse': 6442, 'triumph': 6443, 'heartened': 6444, 'righteous': 6445, 'sucumbing': 6446, 'victor': 6447, 'lori': 6448, 'fashion': 6449, 'sumed': 6450, 'lifelong': 6451, 'dilema': 6452, 'employment': 6453, 'kimberley': 6454, 'swift': 6455, 'dwayne': 6456, 'johnson': 6457, 'maga': 6458, 'soc': 6459, 'sec': 6460, 'savings': 6461, 'trickle': 6462, 'trilions': 6463, 'dumped': 6464, 'lyk': 6465, 'shrek': 6466, 'desired': 6467, 'js': 6468, 'stanley': 6469, 'splurge': 6470, 'doubled': 6471, 'morego': 6472, 'kidles': 6473, 'nosey': 6474, 'whilst': 6475, 'sunsets': 6476, 'netbal': 6477, 'alice': 6478, 'jols': 6479, 'thetford': 6480, 'charleston': 6481, 'ham': 6482, 'roadtrip': 6483, 'consideration': 6484, 'hershey': 6485, 'neurotoxins': 6486, 'neurotoxin': 6487, 'iq': 6488, 'explians': 6489, 'overcame': 6490, 'wanima': 6491, 'curmudgeonly': 6492, 'enhances': 6493, 'mutuals': 6494, 'muted': 6495, 'whoever': 6496, 'oldest': 6497, 'spoiled': 6498, 'diamond': 6499, 'braclet': 6500, 'necklace': 6501, 'diversity': 6502, 'dicks': 6503, 'acesory': 6504, 'nakita': 6505, 'ni': 6506, 'mong': 6507, 'sorymong': 6508, 'di': 6509, 'talaga': 6510, 'itim': 6511, 'dna': 6512, 'dots': 6513, 'inherited': 6514, 'brick': 6515, 'apropriate': 6516, 'rigour': 6517, 'beachin': 6518, 'renewing': 6519, 'hiv': 6520, 'checkup': 6521, 'refusing': 6522, 'virus': 6523, 'coaster': 6524, 'nici': 6525, 'theanine': 6526, 'granblue': 6527, 'acurately': 6528, 'crust': 6529, 'consume': 6530, 'protein': 6531, 'units': 6532, 'joyles': 6533, 'hardboiled': 6534, 'egs': 6535, 'amirite': 6536, 'volumes': 6537, 'vitality': 6538, 'nowi': 6539, 'adriftand': 6540, 'intensified': 6541, 'engaged': 6542, 'becareful': 6543, 'lions': 6544, 'badfels': 6545, 'dips': 6546, 'warned': 6547, 'conservatives': 6548, 'lib': 6549, 'agrement': 6550, 'pleaseit': 6551, 'someday': 6552, 'xoxobobli': 6553, 'flag': 6554, 'bangladesh': 6555, 'divs': 6556, 'bokstore': 6557, 'spin': 6558, 'jenings': 6559, 'table': 6560, 'monson': 6561, 'surely': 6562, 'abort': 6563, 'pomerian': 6564, 'umi': 6565, 'bate': 6566, 'smithsonian': 6567, 'stingray': 6568, 'buonanote': 6569, 'runs': 6570, 'curator': 6571, 'swedish': 6572, 'shelby': 6573, 'rusels': 6574, 'mat': 6575, 'holy': 6576, 'acourse': 6577, 'twater': 6578, 'gigles': 6579, 'hubie': 6580, 'layin': 6581, 'roaring': 6582, 'exceses': 6583, 'leisure': 6584, 'indulgence': 6585, 'contributors': 6586, 'horor': 6587, 'confidentional': 6588, 'timing': 6589, 'technicolour': 6590, 'glory': 6591, 'disapointing': 6592, 'consistently': 6593, 'refresh': 6594, 'resentment': 6595, 'bananacue': 6596, 'crocs': 6597, 'paying': 6598, 'tremendously': 6599, 'savouring': 6600, 'umbrela': 6601, 'clover': 6602, 'colective': 6603, 'believing': 6604, 'diferences': 6605, 'lysm': 6606, 'quenxlaray': 6607, 'ilysm': 6608, 'badie': 6609, 'regions': 6610, 'pmea': 6611, 'bandwagoning': 6612, 'gains': 6613, 'superb': 6614, 'comiting': 6615, 'hv': 6616, 'awkward': 6617, 'valey': 6618, 'preten': 6619, 'trent': 6620, 'gm': 6621, 'wrangle': 6622, 'codependency': 6623, 'hardly': 6624, 'msgs': 6625, 'jo': 6626, 'bros': 6627, 'sensitive': 6628, 'courage': 6629, 'legoland': 6630, 'christy': 6631, 'kali': 6632, 'tif': 6633, 'solace': 6634, 'paramount': 6635, 'myhemophiliateam': 6636, 'dominos': 6637, 'rel': 6638, 'zen': 6639, 'kgs': 6640, 'demon': 6641, 'punishes': 6642, 'timelines': 6643, 'discourages': 6644, 'interwebs': 6645, 'twerent': 6646, 'betrayal': 6647, 'sociopathism': 6648, 'globaly': 6649, 'stardom': 6650, 'beterment': 6651, 'acoustic': 6652, 'curtis': 6653, 'peoples': 6654, 'grenberg': 6655, 'colton': 6656, 'bucking': 6657, 'humus': 6658, 'tile': 6659, 'mp': 6660, 'practising': 6661, 'hokah': 6662, 'comeshere': 6663, 'depresionrev': 6664, 'velveta': 6665, 'whip': 6666, 'tasted': 6667, 'shade': 6668, 'unrelated': 6669, 'shoters': 6670, 'gx': 6671, 'whateverbut': 6672, 'slide': 6673, 'suh': 6674, 'covers': 6675, 'panicking': 6676, 'itsumer': 6677, 'civilian': 6678, 'deaths': 6679, 'kuwait': 6680, 'civilians': 6681, 'sacrificing': 6682, 'soldiers': 6683, 'israle': 6684, 'blinds': 6685, 'flos': 6686, 'tape': 6687, 'greg': 6688, 'pritchard': 6689, 'volume': 6690, 'livius': 6691, 'baskervile': 6692, 'bouncing': 6693, 'lasagna': 6694, 'icon': 6695, 'judgemental': 6696, 'bcuz': 6697, 'obsesive': 6698, 'regimens': 6699, 'capitalist': 6700, 'sunseting': 6701, 'cockle': 6702, 'marina': 6703, 'watchn': 6704, 'kardashians': 6705, 'amusing': 6706, 'outdors': 6707, 'planted': 6708, 'secluded': 6709, 'rumor': 6710, 'sickening': 6711, 'badger': 6712, 'remembered': 6713, 'sketch': 6714, 'sorbet': 6715, 'lurve': 6716, 'reference': 6717, 'acdc': 6718, 'helz': 6719, 'cudles': 6720, 'besitos': 6721, 'invokes': 6722, 'represed': 6723, 'momz': 6724, 'debilitated': 6725, 'inflamed': 6726, 'meningitis': 6727, 'clif': 6728, 'acute': 6729, 'gravure': 6730, 'membersback': 6731, 'adulation': 6732, 'mariages': 6733, 'fateful': 6734, 'tempestuous': 6735, 'dresing': 6736, 'preacher': 6737, 'wld': 6738, 'details': 6739, 'fmla': 6740, 'folx': 6741, 'masturbate': 6742, 'dizy': 6743, 'hehehehehe': 6744, 'contains': 6745, 'profanity': 6746, 'sales': 6747, 'asistant': 6748, 'kimi': 6749, 'preschol': 6750, 'vatfre': 6751, 'nl': 6752, 'telafriend': 6753, 'het': 6754, 'testen': 6755, 'gibson': 6756, 'thorough': 6757, 'slepover': 6758, 'cathrynmarie': 6759, 'rathbone': 6760, 'lengths': 6761, 'athlete': 6762, 'mismanaged': 6763, 'undertreated': 6764, 'lecture': 6765, 'novel': 6766, 'technologicaly': 6767, 'privileged': 6768, 'autonomy': 6769, 'value': 6770, 'polarization': 6771, 'fragmentation': 6772, 'comunities': 6773, 'handily': 6774, 'welington': 6775, 'waisted': 6776, 'skirts': 6777, 'tha': 6778, 'den': 6779, 'iqto': 6780, 'cdcp': 6781, 'loading': 6782, 'therapeutic': 6783, 'proceses': 6784, 'stayed': 6785, 'pose': 6786, 'aimz': 6787, 'hrv': 6788, 'diferentiate': 6789, 'yah': 6790, 'policeman': 6791, 'loan': 6792, 'denis': 6793, 'jaming': 6794, 'meyrueis': 6795, 'replenished': 6796, 'smoshy': 6797, 'contin': 6798, 'midst': 6799, 'emerges': 6800, 'asure': 6801, 'campin': 6802, 'slumber': 6803, 'csa': 6804, 'laws': 6805, 'marginalized': 6806, 'fringes': 6807, 'ideation': 6808, 'eastern': 6809, 'depriving': 6810, 'dip': 6811, 'gold': 6812, 'shaping': 6813, 'fater': 6814, 'enforced': 6815, 'tables': 6816, 'gungry': 6817, 'certified': 6818, 'subscribed': 6819, 'dayz': 6820, 'leadership': 6821, 'roles': 6822, 'isolated': 6823, 'defeating': 6824, 'ideations': 6825, 'intern': 6826, 'basketbal': 6827, 'discoveries': 6828, 'bias': 6829, 'perk': 6830, 'unatractive': 6831, 'feck': 6832, 'worldhad': 6833, 'ultra': 6834, 'circulation': 6835, 'infection': 6836, 'neglecting': 6837, 'er': 6838, 'cafeteria': 6839, 'housing': 6840, 'george': 6841, 'journaling': 6842, 'amadeus': 6843, 'shafer': 6844, 'kickin': 6845, 'mc': 6846, 'behaved': 6847, 'protagonists': 6848, 'malvern': 6849, 'thuli': 6850, 'madonsela': 6851, 'heartfelt': 6852, 'goldblum': 6853, 'opticians': 6854, 'birthdy': 6855, 'suze': 6856, 'inteligence': 6857, 'gen': 6858, 'weir': 6859, 'hbd': 6860, 'inapropriately': 6861, 'images': 6862, 'spoted': 6863, 'groto': 6864, 'alternative': 6865, 'sights': 6866, 'foyle': 6867, 'hospice': 6868, 'albany': 6869, 'resistence': 6870, 'futile': 6871, 'banging': 6872, 'pots': 6873, 'counselors': 6874, 'spoiling': 6875, 'roten': 6876, 'cruises': 6877, 'stairs': 6878, 'sksksksksk': 6879, 'kanskadkckxkdk': 6880, 'farewel': 6881, 'pumpin': 6882, 'speling': 6883, 'takeing': 6884, 'oatmeal': 6885, 'chetos': 6886, 'dat': 6887, 'shadow': 6888, 'shilo': 6889, 'beats': 6890, 'cubicle': 6891, 'improving': 6892, 'recolection': 6893, 'span': 6894, 'childcare': 6895, 'wandered': 6896, 'playgrd': 6897, 'frens': 6898, 'nigerians': 6899, 'subscribe': 6900, 'wah': 6901, 'hardcore': 6902, 'stsring': 6903, 'ceiling': 6904, 'visitors': 6905, 'shelter': 6906, 'opendemocracy': 6907, 'hosting': 6908, 'thur': 6909, 'ninth': 6910, 'gate': 6911, 'caitlin': 6912, 'hasnt': 6913, 'floride': 6914, 'domestication': 6915, 'agrements': 6916, 'colectively': 6917, 'wariors': 6918, 'premenstrual': 6919, 'syndromethe': 6920, 'asociate': 6921, 'pms': 6922, 'vary': 6923, 'fs': 6924, 'szn': 6925, 'apnea': 6926, 'hez': 6927, 'awesme': 6928, 'victoria': 6929, 'gorge': 6930, 'downhil': 6931, 'describes': 6932, 'wanker': 6933, 'chemicaly': 6934, 'philosophicaly': 6935, 'turnarounds': 6936, 'depending': 6937, 'kilers': 6938, 'gladly': 6939, 'tripcase': 6940, 'format': 6941, 'misogynistic': 6942, 'scred': 6943, 'funding': 6944, 'kompis': 6945, 'reminiscent': 6946, 'inspires': 6947, 'fils': 6948, 'spain': 6949, 'kayles': 6950, 'stalk': 6951, 'btv': 6952, 'km': 6953, 'unregistered': 6954, 'adidas': 6955, 'ghey': 6956, 'leaning': 6957, 'leftist': 6958, 'showin': 6959, 'itl': 6960, 'wekly': 6961, 'busing': 6962, 'photostickers': 6963, 'westminster': 6964, 'hed': 6965, 'viewing': 6966, 'rps': 6967, 'firs': 6968, 'sls': 6969, 'intriguing': 6970, 'probiotics': 6971, 'herbal': 6972, 'remedies': 6973, 'asesment': 6974, 'dane': 6975, 'soak': 6976, 'dubyas': 6977, 'budget': 6978, 'unfunded': 6979, 'mandates': 6980, 'decline': 6981, 'countercycle': 6982, 'sticky': 6983, 'uterus': 6984, 'doingymptoms': 6985, 'exhaustion': 6986, 'unmanageable': 6987, 'vitamins': 6988, 'alarm': 6989, 'twiga': 6990, 'devendra': 6991, 'fadnavis': 6992, 'abdula': 6993, 'shaikh': 6994, 'mumbai': 6995, 'hasham': 6996, 'qureshi': 6997, 'ilegaly': 6998, 'posesion': 6999, 'marg': 7000, 'fruits': 7001, 'discovering': 7002, 'dumbas': 7003, 'busbys': 7004, 'santa': 7005, 'monica': 7006, 'erics': 7007, 'bodily': 7008, 'fledged': 7009, 'rc': 7010, 'blakes': 7011, 'jr': 7012, 'saptamana': 7013, 'excelenta': 7014, 'vicky': 7015, 'cristina': 7016, 'mai': 7017, 'frumos': 7018, 'lucru': 7019, 'fost': 7020, 'penolope': 7021, 'cruz': 7022, 'scarlet': 7023, 'johanson': 7024, 'wsu': 7025, 'healthbeat': 7026, 'mraz': 7027, 'sucesion': 7028, 'audition': 7029, 'sucker': 7030, 'overdepresion': 7031, 'irony': 7032, 'sakes': 7033, 'charlize': 7034, 'theron': 7035, 'admits': 7036, 'potato': 7037, 'obtain': 7038, 'imediate': 7039, 'poisoning': 7040, 'nausea': 7041, 'backwards': 7042, 'meantime': 7043, 'ei': 7044, 'gudluck': 7045, 'elected': 7046, 'degrading': 7047, 'tis': 7048, 'hype': 7049, 'ebok': 7050, 'aceptancei': 7051, 'cement': 7052, 'pond': 7053, 'cigar': 7054, 'deluxe': 7055, 'rv': 7056, 'yaho': 7057, 'ady': 7058, 'reshape': 7059, 'emphasis': 7060, 'malaise': 7061, 'quartz': 7062, 'guesing': 7063, 'zandvort': 7064, 'nesdo': 7065, 'medics': 7066, 'mutual': 7067, 'hesitate': 7068, 'shitpost': 7069, 'jeanete': 7070, 'plater': 7071, 'escorts': 7072, 'fatforums': 7073, 'cam': 7074, 'eliminate': 7075, 'hobo': 7076, 'mikey': 7077, 'technical': 7078, 'difuculties': 7079, 'herd': 7080, 'jumped': 7081, 'harvard': 7082, 'females': 7083, 'minimum': 7084, 'cups': 7085, 'dowload': 7086, 'lawson': 7087, 'eaten': 7088, 'whack': 7089, 'excactly': 7090, 'demo': 7091, 'eyebrow': 7092, 'peak': 7093, 'abandoned': 7094, 'heartbroken': 7095, 'terified': 7096, 'survivebut': 7097, 'introduced': 7098, 'circle': 7099, 'shortlisting': 7100, 'nuisances': 7101, 'sarcasm': 7102, 'scepticism': 7103, 'sidekick': 7104, 'quotchol': 7105, 'exchange': 7106, 'godbye': 7107, 'kicked': 7108, 'windy': 7109, 'problemyou': 7110, 'uping': 7111, 'cont': 7112, 'dif': 7113, 'centers': 7114, 'negotiable': 7115, 'para': 7116, 'automatic': 7117, 'agad': 7118, 'bieber': 7119, 'snickers': 7120, 'brands': 7121, 'bangs': 7122, 'sike': 7123, 'confesions': 7124, 'shopaholic': 7125, 'hehehehe': 7126, 'hws': 7127, 'atb': 7128, 'autumn': 7129, 'entrepreneur': 7130, 'hayes': 7131, 'clair': 7132, 'kises': 7133, 'whels': 7134, 'slurp': 7135, 'lick': 7136, 'cokie': 7137, 'treats': 7138, 'unfair': 7139, 'sax': 7140, 'plexus': 7141, 'crescent': 7142, 'barbie': 7143, 'dol': 7144, 'menstrual': 7145, 'vaginal': 7146, 'asociating': 7147, 'nihilistic': 7148, 'inclinations': 7149, 'climbs': 7150, 'anc': 7151, 'patrick': 7152, 'dempsey': 7153, 'detect': 7154, 'daybut': 7155, 'dayone': 7156, 'console': 7157, 'disdainand': 7158, 'submerge': 7159, 'oceans': 7160, 'versus': 7161, 'crystal': 7162, 'relapse': 7163, 'regards': 7164, 'caribean': 7165, 'fusion': 7166, 'popin': 7167, 'wag': 7168, 'palipas': 7169, 'gutoms': 7170, 'countles': 7171, 'nowt': 7172, 'puking': 7173, 'chemist': 7174, 'ovguide': 7175, 'celbrities': 7176, 'tube': 7177, 'bulma': 7178, 'laker': 7179, 'athletes': 7180, 'martial': 7181, 'boxing': 7182, 'pugilistic': 7183, 'syndrome': 7184, 'melisa': 7185, 'pig': 7186, 'tramp': 7187, 'simethibg': 7188, 'mistaken': 7189, 'neuro': 7190, 'aerobics': 7191, 'strengthen': 7192, 'systemreverse': 7193, 'etcprevent': 7194, 'dramaticaly': 7195, 'progresion': 7196, 'alzheimers': 7197, 'neurological': 7198, 'expand': 7199, 'skiny': 7200, 'dirty': 7201, 'liters': 7202, 'daykeps': 7203, 'awayweh': 7204, 'sadened': 7205, 'bras': 7206, 'helper': 7207, 'winks': 7208, 'walked': 7209, 'trudester': 7210, 'dode': 7211, 'giants': 7212, 'isa': 7213, 'rae': 7214, 'presentsit': 7215, 'intimate': 7216, 'behavioural': 7217, 'activation': 7218, 'duvet': 7219, 'wonderfuly': 7220, 'restorative': 7221, 'compasionate': 7222, 'credibility': 7223, 'mitch': 7224, 'torturing': 7225, 'heroic': 7226, 'dickhead': 7227, 'unjustly': 7228, 'institution': 7229, 'minds': 7230, 'showering': 7231, 'vacuming': 7232, 'sheris': 7233, 'vedio': 7234, 'flower': 7235, 'pornstar': 7236, 'diliman': 7237, 'compromising': 7238, 'hopes': 7239, 'ratings': 7240, 'rosie': 7241, 'gigle': 7242, 'muster': 7243, 'bish': 7244, 'shaq': 7245, 'faceles': 7246, 'folower': 7247, 'stresin': 7248, 'revise': 7249, 'swap': 7250, 'vine': 7251, 'compilations': 7252, 'quotraying': 7253, 'diverse': 7254, 'transformations': 7255, 'political': 7256, 'borders': 7257, 'architecture': 7258, 'shapes': 7259, 'grimacing': 7260, 'parkers': 7261, 'barn': 7262, 'nh': 7263, 'someti': 7264, 'farely': 7265, 'paralyzing': 7266, 'required': 7267, 'pished': 7268, 'fart': 7269, 'todles': 7270, 'snugles': 7271, 'hawaian': 7272, 'sns': 7273, 'breathes': 7274, 'condamned': 7275, 'aqui': 7276, 'amor': 7277, 'resourcefulnes': 7278, 'magicianseven': 7279, 'pentaclesnine': 7280, 'swords': 7281, 'brad': 7282, 'weber': 7283, 'rubing': 7284, 'crankines': 7285, 'testers': 7286, 'reporting': 7287, 'hogster': 7288, 'kilzone': 7289, 'satisfying': 7290, 'quotlay': 7291, 'lolol': 7292, 'debora': 7293, 'neda': 7294, 'bet': 7295, 'invented': 7296, 'sweden': 7297, 'chug': 7298, 'lifter': 7299, 'spouse': 7300, 'houses': 7301, 'guarante': 7302, 'superman': 7303, 'usage': 7304, 'customers': 7305, 'subjective': 7306, 'pufing': 7307, 'hydration': 7308, 'tolerance': 7309, 'pado': 7310, 'arvo': 7311, 'majors': 7312, 'grindr': 7313, 'kuya': 7314, 'choir': 7315, 'kabatch': 7316, 'neck': 7317, 'hama': 7318, 'gime': 7319, 'beads': 7320, 'watermelon': 7321, 'echi': 7322, 'enemy': 7323, 'declare': 7324, 'samantha': 7325, 'diana': 7326, 'negotiator': 7327, 'conan': 7328, 'randomly': 7329, 'goat': 7330, 'alowing': 7331, 'walow': 7332, 'forcing': 7333, 'istg': 7334, 'jihyo': 7335, 'shaming': 7336, 'production': 7337, 'blah': 7338, 'confusing': 7339, 'empower': 7340, 'dalit': 7341, 'nepal': 7342, 'hajime': 7343, 'hinata': 7344, 'tl': 7345, 'oils': 7346, 'env': 7347, 'motorola': 7348, 'rival': 7349, 'thermometer': 7350, 'griting': 7351, 'protective': 7352, 'hominem': 7353, 'discredit': 7354, 'stance': 7355, 'realms': 7356, 'blowy': 7357, 'thingies': 7358, 'vulnerablenes': 7359, 'cared': 7360, 'delighted': 7361, 'swingset': 7362, 'samaritans': 7363, 'papyrus': 7364, 'kudos': 7365, 'phelps': 7366, 'costing': 7367, 'nhs': 7368, 'selves': 7369, 'haton': 7370, 'engagement': 7371, 'cody': 7372, 'prosperous': 7373, 'firework': 7374, 'forest': 7375, 'seperating': 7376, 'auburn': 7377, 'reservation': 7378, 'amy': 7379, 'stfu': 7380, 'witnesing': 7381, 'condemns': 7382, 'amanda': 7383, 'cofes': 7384, 'intended': 7385, 'celiac': 7386, 'gi': 7387, 'vacums': 7388, 'cliche': 7389, 'atackpeople': 7390, 'itme': 7391, 'thispeople': 7392, 'uit': 7393, 'jesy': 7394, 'bagel': 7395, 'receipe': 7396, 'clasy': 7397, 'chi': 7398, 'town': 7399, 'newbie': 7400, 'elevation': 7401, 'norepinehrine': 7402, 'receptors': 7403, 'sympathetic': 7404, 'decreased': 7405, 'uterine': 7406, 'labour': 7407, 'hunger': 7408, 'foling': 7409, 'gez': 7410, 'ashley': 7411, 'rudely': 7412, 'educating': 7413, 'skits': 7414, 'hulu': 7415, 'aura': 7416, 'botles': 7417, 'peanut': 7418, 'buter': 7419, 'ought': 7420, 'glomp': 7421, 'taler': 7422, 'sibling': 7423, 'sprinkle': 7424, 'latent': 7425, 'whel': 7426, 'poped': 7427, 'swetie': 7428, 'chelo': 7429, 'wth': 7430, 'chidester': 7431, 'aug': 7432, 'jordan': 7433, 'sparks': 7434, 'consist': 7435, 'shameles': 7436, 'excused': 7437, 'hal': 7438, 'squats': 7439, 'savanah': 7440, 'defined': 7441, 'wholely': 7442, 'longterm': 7443, 'hyping': 7444, 'moldy': 7445, 'ahoy': 7446, 'romanticising': 7447, 'underage': 7448, 'reklamo': 7449, 'pag': 7450, 'umuwi': 7451, 'ehehe': 7452, 'hypersensitive': 7453, 'shufle': 7454, 'wages': 7455, 'conciquences': 7456, 'furhermore': 7457, 'sucide': 7458, 'context': 7459, 'efect': 7460, 'antioxidants': 7461, 'facial': 7462, 'twited': 7463, 'auditioning': 7464, 'yikes': 7465, 'mcan': 7466, 'sevila': 7467, 'entry': 7468, 'kepin': 7469, 'nighty': 7470, 'selena': 7471, 'phoebe': 7472, 'bacn': 7473, 'shortener': 7474, 'outright': 7475, 'fascism': 7476, 'pam': 7477, 'hates': 7478, 'dentists': 7479, 'sistah': 7480, 'darned': 7481, 'disclaimer': 7482, 'skip': 7483, 'programing': 7484, 'imigrants': 7485, 'suced': 7486, 'viewers': 7487, 'soz': 7488, 'saythat': 7489, 'tasks': 7490, 'lists': 7491, 'electricity': 7492, 'ov': 7493, 'poping': 7494, 'depr': 7495, 'cinematography': 7496, 'bop': 7497, 'myb': 7498, 'bcs': 7499, 'headaches': 7500, 'shawn': 7501, 'sleve': 7502, 'countries': 7503, 'euthanasia': 7504, 'belgium': 7505, 'euthanizing': 7506, 'blackjacks': 7507, 'graves': 7508, 'virginia': 7509, 'brion': 7510, 'grile': 7511, 'spare': 7512, 'neurostar': 7513, 'airing': 7514, 'bites': 7515, 'umptenth': 7516, 'loughborough': 7517, 'lips': 7518, 'fics': 7519, 'facing': 7520, 'byler': 7521, 'nonsense': 7522, 'maternal': 7523, 'exposure': 7524, 'longitudinal': 7525, 'diedepresion': 7526, 'coleslaw': 7527, 'handmaid': 7528, 'cmilk': 7529, 'preach': 7530, 'consciousnes': 7531, 'absence': 7532, 'cedar': 7533, 'tnx': 7534, 'dope': 7535, 'limelight': 7536, 'stupidly': 7537, 'lifesaver': 7538, 'react': 7539, 'extraordinary': 7540, 'asumed': 7541, 'anew': 7542, 'onslaught': 7543, 'pt': 7544, 'presentation': 7545, 'carying': 7546, 'dunya': 7547, 'numbed': 7548, 'ignited': 7549, 'naive': 7550, 'heavily': 7551, 'rab': 7552, 'feather': 7553, 'hut': 7554, 'investigate': 7555, 'snowflakes': 7556, 'ata': 7557, 'tanking': 7558, 'historicaly': 7559, 'sapient': 7560, 'quotenes': 7561, 'disaster': 7562, 'antebelum': 7563, 'moan': 7564, 'report': 7565, 'luigi': 7566, 'volatile': 7567, 'bulish': 7568, 'bearish': 7569, 'boms': 7570, 'bubles': 7571, 'expansion': 7572, 'hawkish': 7573, 'dovish': 7574, 'habit': 7575, 'stereotype': 7576, 'warming': 7577, 'monopolar': 7578, 'gnarly': 7579, 'jamaica': 7580, 'singleton': 7581, 'construction': 7582, 'acomlicepres': 7583, 'antidepresant': 7584, 'yanke': 7585, 'chur': 7586, 'smug': 7587, 'fueled': 7588, 'rowling': 7589, 'magical': 7590, 'dome': 7591, 'knowfren': 7592, 'vampires': 7593, 'werewolves': 7594, 'dickblick': 7595, 'norman': 7596, 'omnipresent': 7597, 'permeates': 7598, 'filthy': 7599, 'subtle': 7600, 'inescapable': 7601, 'blor': 7602, 'politicians': 7603, 'australian': 7604, 'trops': 7605, 'conflict': 7606, 'vets': 7607, 'anzac': 7608, 'distractions': 7609, 'helish': 7610, 'salvation': 7611, 'wisely': 7612, 'folds': 7613, 'touched': 7614, 'sov': 7615, 'michaela': 7616, 'sjlund': 7617, 'jes': 7618, 'elderly': 7619, 'hen': 7620, 'hens': 7621, 'operate': 7622, 'aron': 7623, 'reclaim': 7624, 'imp': 7625, 'celebrities': 7626, 'que': 7627, 'tocat': 7628, 'entrades': 7629, 'dc': 7630, 'lowpas': 7631, 'pizicato': 7632, 'wip': 7633, 'grandmere': 7634, 'memere': 7635, 'tupelo': 7636, 'demos': 7637, 'rsd': 7638, 'vinyl': 7639, 'metalica': 7640, 'blastin': 7641, 'juan': 7642, 'dawson': 7643, 'celebrated': 7644, 'chanels': 7645, 'kiara': 7646, 'spon': 7647, 'preferably': 7648, 'chop': 7649, 'spurgeon': 7650, 'sorows': 7651, 'christianity': 7652, 'hopeles': 7653, 'unwanted': 7654, 'embarasment': 7655, 'tweted': 7656, 'leno': 7657, 'saly': 7658, 'epilating': 7659, 'log': 7660, 'hairles': 7661, 'legs': 7662, 'converting': 7663, 'unresolved': 7664, 'customer': 7665, 'oficer': 7666, 'sumit': 7667, 'sfo': 7668, 'isle': 7669, 'wight': 7670, 'partied': 7671, 'antsy': 7672, 'unmotivated': 7673, 'relieve': 7674, 'subliminal': 7675, 'legitimately': 7676, 'ig': 7677, 'raunchy': 7678, 'selfies': 7679, 'crave': 7680, 'abel': 7681, 'shushing': 7682, 'edition': 7683, 'invoice': 7684, 'superfan': 7685, 'popovic': 7686, 'bradie': 7687, 'watches': 7688, 'lethal': 7689, 'condemning': 7690, 'chemicals': 7691, 'bonding': 7692, 'naw': 7693, 'paranormal': 7694, 'investigation': 7695, 'quotkay': 7696, 'sag': 7697, 'insight': 7698, 'phat': 7699, 'swans': 7700, 'contract': 7701, 'workshop': 7702, 'wider': 7703, 'average': 7704, 'molestation': 7705, 'hardships': 7706, 'examination': 7707, 'localise': 7708, 'juniors': 7709, 'jaden': 7710, 'responsibility': 7711, 'belowhead': 7712, 'promoter': 7713, 'heginbotham': 7714, 'furies': 7715, 'yowza': 7716, 'wuz': 7717, 'twigas': 7718, 'technician': 7719, 'salespartner': 7720, 'truely': 7721, 'soulesi': 7722, 'humani': 7723, 'inhumani': 7724, 'uncontrolablyit': 7725, 'depresionas': 7726, 'sugestedbecause': 7727, 'youit': 7728, 'electric': 7729, 'bulb': 7730, 'moderate': 7731, 'sarsion': 7732, 'quif': 7733, 'coconuts': 7734, 'watz': 7735, 'gether': 7736, 'scalp': 7737, 'silhouete': 7738, 'jamed': 7739, 'oil': 7740, 'potential': 7741, 'homemade': 7742, 'kitsch': 7743, 'gambit': 7744, 'wolverine': 7745, 'belivie': 7746, 'shoting': 7747, 'daney': 7748, 'moaning': 7749, 'prisoner': 7750, 'jailer': 7751, 'military': 7752, 'idolizing': 7753, 'socials': 7754, 'sickest': 7755, 'containing': 7756, 'upfront': 7757, 'unicorn': 7758, 'crown': 7759, 'pyrocynical': 7760, 'focuses': 7761, 'obsesively': 7762, 'obvious': 7763, 'routed': 7764, 'mega': 7765, 'munch': 7766, 'curling': 7767, 'primeval': 7768, 'shoped': 7769, 'beutiful': 7770, 'germs': 7771, 'blunt': 7772, 'tokin': 7773, 'mic': 7774, 'blows': 7775, 'flap': 7776, 'nakie': 7777, 'thoroughly': 7778, 'kalena': 7779, 'tias': 7780, 'lasting': 7781, 'retired': 7782, 'perception': 7783, 'duncan': 7784, 'retirement': 7785, 'contracts': 7786, 'tremendous': 7787, 'nutritionist': 7788, 'rachamankha': 7789, 'invitation': 7790, 'flea': 7791, 'ahem': 7792, 'automaticaly': 7793, 'pupil': 7794, 'coursework': 7795, 'caregiver': 7796, 'eps': 7797, 'dairy': 7798, 'rita': 7799, 'moreno': 7800, 'dinint': 7801, 'gyms': 7802, 'savage': 7803, 'longtime': 7804, 'shortly': 7805, 'tolerate': 7806, 'heated': 7807, 'availability': 7808, 'empowering': 7809, 'iner': 7810, 'critique': 7811, 'musings': 7812, 'gary': 7813, 'scientist': 7814, 'ducks': 7815, 'colect': 7816, 'odities': 7817, 'replica': 7818, 'velociraptor': 7819, 'insists': 7820, 'velocipede': 7821, 'tries': 7822, 'lingers': 7823, 'shrug': 7824, 'ampuscribe': 7825, 'dalesy': 7826, 'tick': 7827, 'client': 7828, 'adventure': 7829, 'sucking': 7830, 'milie': 7831, 'asociations': 7832, 'mutated': 7833, 'ns': 7834, 'wha': 7835, 'ts': 7836, 'awsome': 7837, 'hising': 7838, 'haley': 7839, 'spof': 7840, 'hilarous': 7841, 'leotard': 7842, 'bufet': 7843, 'cheseburger': 7844, 'paradise': 7845, 'burger': 7846, 'redondo': 7847, 'ilona': 7848, 'monthly': 7849, 'vaca': 7850, 'punching': 7851, 'dobie': 7852, 'fandoms': 7853, 'awesomenes': 7854, 'doled': 7855, 'sweating': 7856, 'lasies': 7857, 'mv': 7858, 'tight': 7859, 'namjin': 7860, 'namjon': 7861, 'centric': 7862, 'recomending': 7863, 'actively': 7864, 'sharon': 7865, 'fc': 7866, 'newtrip': 7867, 'mastectomy': 7868, 'conserving': 7869, 'reconstruction': 7870, 'systematic': 7871, 'catalyst': 7872, 'rebuilding': 7873, 'polymath': 7874, 'voleybal': 7875, 'acounts': 7876, 'twetplys': 7877, 'bels': 7878, 'ketle': 7879, 'whale': 7880, 'adelaide': 7881, 'splashing': 7882, 'seclusion': 7883, 'fits': 7884, 'colorblind': 7885, 'colorful': 7886, 'twitland': 7887, 'blogs': 7888, 'suk': 7889, 'gawd': 7890, 'shozu': 7891, 'knife': 7892, 'aps': 7893, 'mobile': 7894, 'powerspace': 7895, 'minded': 7896, 'respond': 7897, 'demanding': 7898, 'justify': 7899, 'proclaiming': 7900, 'designated': 7901, 'disenfranchised': 7902, 'stupidities': 7903, 'hormonal': 7904, 'darnit': 7905, 'halsey': 7906, 'kehlani': 7907, 'scones': 7908, 'plants': 7909, 'closing': 7910, 'clone': 7911, 'eltons': 7912, 'chart': 7913, 'throb': 7914, 'virtual': 7915, 'improves': 7916, 'suceding': 7917, 'meaningles': 7918, 'sherwod': 7919, 'compensation': 7920, 'anorexia': 7921, 'meanwhile': 7922, 'teasing': 7923, 'miler': 7924, 'thriler': 7925, 'tiler': 7926, 'iler': 7927, 'piler': 7928, 'discriminate': 7929, 'oughtibridge': 7930, 'cnbc': 7931, 'cn': 7932, 'pixie': 7933, 'muligrubs': 7934, 'spirits': 7935, 'ske': 7936, 'cord': 7937, 'thanked': 7938, 'victorino': 7939, 'adams': 7940, 'sporadic': 7941, 'kilary': 7942, 'bronchodilation': 7943, 'palpitations': 7944, 'anosulfide': 7945, 'conjunction': 7946, 'bibioxyphosphoate': 7947, 'sterosron': 7948, 'freakin': 7949, 'stight': 7950, 'monetary': 7951, 'policycaused': 7952, 'reservechairman': 7953, 'bernanke': 7954, 'andthelate': 7955, 'economist': 7956, 'milton': 7957, 'friedman': 7958, 'blamethe': 7959, 'reserveforthe': 7960, 'forthewrong': 7961, 'jefrey': 7962, 'tgtwebcomics': 7963, 'restart': 7964, 'uncontrolably': 7965, 'lax': 7966, 'tryouts': 7967, 'charlie': 7968, 'corine': 7969, 'delays': 7970, 'xtentaction': 7971, 'tackles': 7972, 'heartbreak': 7973, 'worthwhile': 7974, 'foreign': 7975, 'resort': 7976, 'suburban': 7977, 'hostile': 7978, 'imigration': 7979, 'rents': 7980, 'amana': 7981, 'colonies': 7982, 'charged': 7983, 'manslaughter': 7984, 'encouraged': 7985, 'maya': 7986, 'murphy': 7987, 'pips': 7988, 'fearles': 7989, 'discarding': 7990, 'colected': 7991, 'strict': 7992, 'ambition': 7993, 'organize': 7994, 'tendepresion': 7995, 'thursdays': 7996, 'measure': 7997, 'tshirts': 7998, 'sweatpants': 7999, 'crawl': 8000, 'conquered': 8001, 'custard': 8002, 'croisant': 8003, 'sensational': 8004, 'malteasers': 8005, 'traitor': 8006, 'fenway': 8007, 'minus': 8008, 'twiterverse': 8009, 'delonge': 8010, 'kyle': 8011, 'charisa': 8012, 'psh': 8013, 'texas': 8014, 'duh': 8015, 'shimy': 8016, 'seperately': 8017, 'plans': 8018, 'script': 8019, 'irking': 8020, 'sugar': 8021, 'district': 8022, 'chats': 8023, 'ahold': 8024, 'transparent': 8025, 'spurts': 8026, 'oftentimes': 8027, 'conscious': 8028, 'convo': 8029, 'aliens': 8030, 'heartles': 8031, 'somethin': 8032, 'funky': 8033, 'elektriks': 8034, 'overanalyze': 8035, 'anywho': 8036, 'ses': 8037, 'gomitha': 8038, 'readi': 8039, 'mah': 8040, 'hyper': 8041, 'fixation': 8042, 'janele': 8043, 'mone': 8044, 'hashtag': 8045, 'tk': 8046, 'coments': 8047, 'dread': 8048, 'kayl': 8049, 'moreso': 8050, 'vibes': 8051, 'mangoes': 8052, 'ocurs': 8053, 'solve': 8054, 'coachela': 8055, 'idnt': 8056, 'vape': 8057, 'sativa': 8058, 'tempeh': 8059, 'pickled': 8060, 'onions': 8061, 'withdrawal': 8062, 'whateva': 8063, 'wherever': 8064, 'considerable': 8065, 'preventing': 8066, 'proportion': 8067, 'fckin': 8068, 'bich': 8069, 'comparison': 8070, 'guci': 8071, 'bowling': 8072, 'hoby': 8073, 'guests': 8074, 'personalities': 8075, 'breakdown': 8076, 'coaches': 8077, 'mentors': 8078, 'identifying': 8079, 'sweter': 8080, 'simle': 8081, 'kaine': 8082, 'lowenstark': 8083, 'lorimae': 8084, 'undercroft': 8085, 'peli': 8086, 'matlock': 8087, 'porter': 8088, 'stout': 8089, 'bionic': 8090, 'sige': 8091, 'welity': 8092, 'ima': 8093, 'sensibility': 8094, 'obviors': 8095, 'desayuno': 8096, 'oye': 8097, 'quedan': 8098, 'meses': 8099, 'shile': 8100, 'excites': 8101, 'baru': 8102, 'habis': 8103, 'usj': 8104, 'esk': 8105, 'seremban': 8106, 'plak': 8107, 'lantern': 8108, 'knight': 8109, 'wale': 8110, 'lr': 8111, 'humor': 8112, 'forthright': 8113, 'fedex': 8114, 'solitude': 8115, 'valuable': 8116, 'budies': 8117, 'nokie': 8118, 'shokie': 8119, 'shnokums': 8120, 'strawbery': 8121, 'shortcake': 8122, 'tiramisu': 8123, 'joly': 8124, 'dentist': 8125, 'suporters': 8126, 'poisoned': 8127, 'psyblog': 8128, 'discusions': 8129, 'isntnmy': 8130, 'franf': 8131, 'pandora': 8132, 'chime': 8133, 'wyd': 8134, 'shiznits': 8135, 'sped': 8136, 'reduction': 8137, 'stake': 8138, 'minimise': 8139, 'hypnotised': 8140, 'destruction': 8141, 'beny': 8142, 'precisely': 8143, 'jema': 8144, 'lipstick': 8145, 'pilow': 8146, 'loses': 8147, 'promised': 8148, 'inc': 8149, 'scheme': 8150, 'combines': 8151, 'comradeship': 8152, 'prolonged': 8153, 'homelesnes': 8154, 'resembles': 8155, 'autistic': 8156, 'homeopathy': 8157, 'hypertension': 8158, 'hqs': 8159, 'bec': 8160, 'moz': 8161, 'survivors': 8162, 'posiblities': 8163, 'imindi': 8164, 'competitivenes': 8165, 'pk': 8166, 'marker': 8167, 'contain': 8168, 'lithium': 8169, 'stabilize': 8170, 'tue': 8171, 'envy': 8172, 'bolster': 8173, 'crumple': 8174, 'misread': 8175, 'signals': 8176, 'teams': 8177, 'informative': 8178, 'contd': 8179, 'urged': 8180, 'reactions': 8181, 'worsened': 8182, 'sole': 8183, 'belitle': 8184, 'hotie': 8185, 'internship': 8186, 'sponsorship': 8187, 'necesary': 8188, 'wyut': 8189, 'income': 8190, 'fo': 8191, 'sho': 8192, 'comercial': 8193, 'munchkin': 8194, 'luna': 8195, 'cycles': 8196, 'keny': 8197, 'strabucks': 8198, 'ouh': 8199, 'threw': 8200, 'darkest': 8201, 'profoundly': 8202, 'impacted': 8203, 'producing': 8204, 'robust': 8205, 'comparable': 8206, 'icbt': 8207, 'donald': 8208, 'provigil': 8209, 'admiral': 8210, 'agitation': 8211, 'nervousnes': 8212, 'confusion': 8213, 'jinks': 8214, 'mtvma': 8215, 'awsomenes': 8216, 'deserved': 8217, 'yel': 8218, 'tbt': 8219, 'senorita': 8220, 'drowned': 8221, 'mesi': 8222, 'kms': 8223, 'wid': 8224, 'aftr': 8225, 'bulshit': 8226, 'xl': 8227, 'jhe': 8228, 'rejecting': 8229, 'spinal': 8230, 'rods': 8231, 'inserted': 8232, 'timeles': 8233, 'kising': 8234, 'minseokie': 8235, 'reread': 8236, 'casting': 8237, 'producers': 8238, 'sacrifices': 8239, 'concentration': 8240, 'depleting': 8241, 'heath': 8242, 'gun': 8243, 'universaly': 8244, 'ban': 8245, 'weapons': 8246, 'corespondent': 8247, 'network': 8248, 'poems': 8249, 'ocasionaly': 8250, 'brutal': 8251, 'ocde': 8252, 'march': 8253, 'trials': 8254, 'byepresion': 8255, 'registered': 8256, 'oc': 8257, 'hugles': 8258, 'craving': 8259, 'infamous': 8260, 'griled': 8261, 'tomato': 8262, 'suficing': 8263, 'como': 8264, 'pix': 8265, 'recal': 8266, 'television': 8267, 'mither': 8268, 'shreching': 8269, 'evaporated': 8270, 'depresionclases': 8271, 'dougie': 8272, 'writers': 8273, 'ciao': 8274, 'pinch': 8275, 'smothering': 8276, 'apologies': 8277, 'scaring': 8278, 'embrace': 8279, 'screwed': 8280, 'eaf': 8281, 'prepare': 8282, 'teambuilding': 8283, 'newt': 8284, 'thin': 8285, 'devon': 8286, 'iloveyousomuchdevon': 8287, 'sawet': 8288, 'mainstream': 8289, 'improvement': 8290, 'lifts': 8291, 'gang': 8292, 'synonomus': 8293, 'mikhaila': 8294, 'peterson': 8295, 'admire': 8296, 'genome': 8297, 'phenotypes': 8298, 'biobank': 8299, 'variants': 8300, 'excitatory': 8301, 'synaptic': 8302, 'pathways': 8303, 'fiction': 8304, 'soulmorals': 8305, 'tentative': 8306, 'mconaughey': 8307, 'curls': 8308, 'intensifies': 8309, 'crackbery': 8310, 'turbulence': 8311, 'aim': 8312, 'cmo': 8313, 'concrete': 8314, 'reducing': 8315, 'churbs': 8316, 'toasties': 8317, 'melt': 8318, 'garlic': 8319, 'fries': 8320, 'mps': 8321, 'shuting': 8322, 'scrumptious': 8323, 'thatal': 8324, 'practiced': 8325, 'tech': 8326, 'cyber': 8327, 'loyal': 8328, 'poetry': 8329, 'calming': 8330, 'chiling': 8331, 'depresant': 8332, 'fika': 8333, 'thes': 8334, 'tau': 8335, 'displaying': 8336, 'mas': 8337, 'heb': 8338, 'bible': 8339, 'beware': 8340, 'lest': 8341, 'springing': 8342, 'thereby': 8343, 'defiled': 8344, 'coruption': 8345, 'rayo': 8346, 'valecano': 8347, 'dayof': 8348, 'warframe': 8349, 'frostpunk': 8350, 'utc': 8351, 'gentle': 8352, 'exhibit': 8353, 'diaries': 8354, 'tsx': 8355, 'drew': 8356, 'yasmin': 8357, 'roaming': 8358, 'belmont': 8359, 'stakes': 8360, 'verified': 8361, 'bailey': 8362, 'savers': 8363, 'graze': 8364, 'frowned': 8365, 'definatly': 8366, 'baths': 8367, 'trashed': 8368, 'airhead': 8369, 'extremes': 8370, 'planting': 8371, 'garen': 8372, 'dedication': 8373, 'kris': 8374, 'alen': 8375, 'features': 8376, 'tote': 8377, 'abatement': 8378, 'havet': 8379, 'phenomenal': 8380, 'chimichanga': 8381, 'fatal': 8382, 'respiratory': 8383, 'particularly': 8384, 'analgesic': 8385, 'manufacturer': 8386, 'tolerant': 8387, 'courts': 8388, 'ventilator': 8389, 'nalin': 8390, 'hulsey': 8391, 'hosted': 8392, 'boudreau': 8393, 'onli': 8394, 'fictional': 8395, 'layer': 8396, 'opresive': 8397, 'landed': 8398, 'sadi': 8399, 'diewelcome': 8400, 'gredy': 8401, 'ilusion': 8402, 'ariel': 8403, 'implying': 8404, 'spambot': 8405, 'deregulation': 8406, 'predatory': 8407, 'lenders': 8408, 'republicans': 8409, 'trilion': 8410, 'suceds': 8411, 'purposely': 8412, 'uhm': 8413, 'twitazulina': 8414, 'unfoloweando': 8415, 'tiembla': 8416, 'quirky': 8417, 'gimeh': 8418, 'baked': 8419, 'gods': 8420, 'kevo': 8421, 'analyzed': 8422, 'prompted': 8423, 'users': 8424, 'hula': 8425, 'puzles': 8426, 'colouring': 8427, 'afirmations': 8428, 'criples': 8429, 'leo': 8430, 'seven': 8431, 'destroyed': 8432, 'identical': 8433, 'quebecity': 8434, 'cda': 8435, 'momentous': 8436, 'jamjams': 8437, 'spearheaded': 8438, 'initiative': 8439, 'erasing': 8440, 'achievements': 8441, 'duplicated': 8442, 'pc': 8443, 'heavens': 8444, 'deliverance': 8445, 'baptist': 8446, 'curopt': 8447, 'leaders': 8448, 'serves': 8449, 'parfait': 8450, 'puding': 8451, 'handling': 8452, 'measurable': 8453, 'utang': 8454, 'nang': 8455, 'lob': 8456, 'recognized': 8457, 'dorstep': 8458, 'budyfed': 8459, 'nationwide': 8460, 'qualifying': 8461, 'convenient': 8462, 'ashamed': 8463, 'corey': 8464, 'ayshiakiayana': 8465, 'enuf': 8466, 'wknd': 8467, 'mosman': 8468, 'sickie': 8469, 'captain': 8470, 'slump': 8471, 'paralyzed': 8472, 'revital': 8473, 'moisturising': 8474, 'kose': 8475, 'unapreciated': 8476, 'gershwin': 8477, 'rhapsody': 8478, 'horah': 8479, 'haunts': 8480, 'materialize': 8481, 'loser': 8482, 'foe': 8483, 'homie': 8484, 'orientation': 8485, 'heterosexual': 8486, 'counterparts': 8487, 'nog': 8488, 'insanely': 8489, 'catelyn': 8490, 'source': 8491, 'fermentation': 8492, 'biking': 8493, 'pin': 8494, 'sini': 8495, 'gue': 8496, 'grave': 8497, 'samuel': 8498, 'alan': 8499, 'tate': 8500, 'samael': 8501, 'imagination': 8502, 'gas': 8503, 'harbinger': 8504, 'coperated': 8505, 'thieves': 8506, 'eforts': 8507, 'phantom': 8508, 'blulululu': 8509, 'zara': 8510, 'cultivate': 8511, 'substance': 8512, 'paired': 8513, 'sequelae': 8514, 'focused': 8515, 'consequence': 8516, 'victimization': 8517, 'linda': 8518, 'stickam': 8519, 'mamu': 8520, 'liar': 8521, 'mcshane': 8522, 'mainstage': 8523, 'remix': 8524, 'ghost': 8525, 'dg': 8526, 'plug': 8527, 'rushing': 8528, 'gloming': 8529, 'pr': 8530, 'interviews': 8531, 'dare': 8532, 'heroes': 8533, 'brit': 8534, 'tastic': 8535, 'brogans': 8536, 'pairs': 8537, 'trades': 8538, 'fliped': 8539, 'mucho': 8540, 'walkers': 8541, 'celebrations': 8542, 'tamp': 8543, 'tenage': 8544, 'replaced': 8545, 'interconected': 8546, 'chloe': 8547, 'brotheridges': 8548, 'calmer': 8549, 'reposting': 8550, 'legacy': 8551, 'maid': 8552, 'penis': 8553, 'aderal': 8554, 'alas': 8555, 'ilegal': 8556, 'sk': 8557, 'unlike': 8558, 'humiliated': 8559, 'unable': 8560, 'abs': 8561, 'crawfish': 8562, 'copious': 8563, 'amounts': 8564, 'cajun': 8565, 'rename': 8566, 'scranton': 8567, 'wilkes': 8568, 'barons': 8569, 'yankes': 8570, 'explains': 8571, 'observance': 8572, 'melancholy': 8573, 'broding': 8574, 'deliberately': 8575, 'glom': 8576, 'benet': 8577, 'congratz': 8578, 'jeny': 8579, 'expeting': 8580, 'bub': 8581, 'samburg': 8582, 'maurice': 8583, 'singlet': 8584, 'totez': 8585, 'bitchin': 8586, 'protection': 8587, 'shanon': 8588, 'comin': 8589, 'reaching': 8590, 'universities': 8591, 'ipads': 8592, 'bananas': 8593, 'heaps': 8594, 'jfufnfwucnbqjic': 8595, 'jonghyun': 8596, 'astonished': 8597, 'ohk': 8598, 'souls': 8599, 'masking': 8600, 'judged': 8601, 'stolen': 8602, 'aticren': 8603, 'carol': 8604, 'documentary': 8605, 'lean': 8606, 'superior': 8607, 'reckon': 8608, 'guilts': 8609, 'solves': 8610, 'libertyvile': 8611, 'misa': 8612, 'suports': 8613, 'parent': 8614, 'intentionaly': 8615, 'devel': 8616, 'pathological': 8617, 'foreshadows': 8618, 'renewal': 8619, 'burst': 8620, 'pobrecito': 8621, 'robie': 8622, 'yhu': 8623, 'ngeke': 8624, 'navy': 8625, 'nikes': 8626, 'undoubtedly': 8627, 'presence': 8628, 'treacle': 8629, 'sponge': 8630, 'ritual': 8631, 'storyteling': 8632, 'practices': 8633, 'fading': 8634, 'lace': 8635, 'mesh': 8636, 'picking': 8637, 'envelope': 8638, 'mailing': 8639, 'rec': 8640, 'analogy': 8641, 'private': 8642, 'tato': 8643, 'legion': 8644, 'warior': 8645, 'maitreya': 8646, 'albino': 8647, 'status': 8648, 'penie': 8649, 'didy': 8650, 'spacewalking': 8651, 'snapchat': 8652, 'mansion': 8653, 'naped': 8654, 'checkmate': 8655, 'aha': 8656, 'wuznt': 8657, 'gud': 8658, 'sixten': 8659, 'invites': 8660, 'bleds': 8661, 'cries': 8662, 'conaly': 8663, 'grads': 8664, 'christine': 8665, 'behaving': 8666, 'waz': 8667, 'repres': 8668, 'apear': 8669, 'masculine': 8670, 'damaging': 8671, 'variation': 8672, 'inform': 8673, 'kpop': 8674, 'fcking': 8675, 'hypocrites': 8676, 'computers': 8677, 'charger': 8678, 'bedtime': 8679, 'downtown': 8680, 'halifax': 8681, 'elif': 8682, 'nsal': 8683, 'avdal': 8684, 'juniper': 8685, 'jojcs': 8686, 'myselfme': 8687, 'haphazardly': 8688, 'shoves': 8689, 'drawers': 8690, 'conchords': 8691, 'hopotamus': 8692, 'rhymenoceros': 8693, 'hbo': 8694, 'prescribe': 8695, 'hoped': 8696, 'abigail': 8697, 'ending': 8698, 'zav': 8699, 'razor': 8700, 'spagheti': 8701, 'bald': 8702, 'mend': 8703, 'platform': 8704, 'retweted': 8705, 'creditors': 8706, 'hospitalised': 8707, 'imax': 8708, 'cwunt': 8709, 'adversity': 8710, 'gust': 8711, 'crusties': 8712, 'lokout': 8713, 'retail': 8714, 'hunie': 8715, 'bu': 8716, 'tabiat': 8717, 'bizi': 8718, 'sevecek': 8719, 'redraw': 8720, 'klop': 8721, 'pangs': 8722, 'refered': 8723, 'motherly': 8724, 'duties': 8725, 'marital': 8726, 'aunts': 8727, 'wisdomous': 8728, 'alergic': 8729, 'sharpies': 8730, 'jokeplease': 8731, 'striker': 8732, 'voronin': 8733, 'reminiscing': 8734, 'kung': 8735, 'pano': 8736, 'nalabanan': 8737, 'vai': 8738, 'beber': 8739, 'drunkie': 8740, 'lenses': 8741, 'sexier': 8742, 'ruins': 8743, 'aspect': 8744, 'deteriorating': 8745, 'superpower': 8746, 'upstairs': 8747, 'brownies': 8748, 'freight': 8749, 'kenya': 8750, 'strestudy': 8751, 'sheds': 8752, 'psychoactive': 8753, 'compounds': 8754, 'proves': 8755, 'emosh': 8756, 'gpa': 8757, 'el': 8758, 'whenever': 8759, 'est': 8760, 'replaying': 8761, 'featured': 8762, 'fieldsocial': 8763, 'anxietytense': 8764, 'disposition': 8765, 'everlasting': 8766, 'depresionmajor': 8767, 'supervisor': 8768, 'whispering': 8769, 'ear': 8770, 'publish': 8771, 'designing': 8772, 'glance': 8773, 'fucker': 8774, 'tweterland': 8775, 'drags': 8776, 'electroconvulsive': 8777, 'somewherewewentwrongourloveislikeasongbutyouwontsingalong': 8778, 'ohyeah': 8779, 'sentences': 8780, 'alfdlfmhlkfm': 8781, 'iw': 8782, 'coconut': 8783, 'holds': 8784, 'sexualy': 8785, 'separation': 8786, 'concerned': 8787, 'boking': 8788, 'trips': 8789, 'paris': 8790, 'agian': 8791, 'quotan': 8792, 'labyrinth': 8793, 'sitcoms': 8794, 'mediocre': 8795, 'syo': 8796, 'kurusu': 8797, 'energetic': 8798, 'mkay': 8799, 'danke': 8800, 'schon': 8801, 'vexing': 8802, 'fela': 8803, 'evar': 8804, 'tease': 8805, 'plot': 8806, 'diy': 8807, 'spacerocket': 8808, 'omgshomgshomgsh': 8809, 'wat': 8810, 'po': 8811, 'fvck': 8812, 'preposition': 8813, 'myth': 8814, 'nikon': 8815, 'jamfest': 8816, 'barbara': 8817, 'ion': 8818, 'refused': 8819, 'recs': 8820, 'puter': 8821, 'suspects': 8822, 'newbies': 8823, 'ofc': 8824, 'undo': 8825, 'imense': 8826, 'spybot': 8827, 'straw': 8828, 'alberta': 8829, 'stelar': 8830, 'emorpheus': 8831, 'wiki': 8832, 'jen': 8833, 'ethical': 8834, 'players': 8835, 'flashes': 8836, 'iregular': 8837, 'juno': 8838, 'jolie': 8839, 'smae': 8840, 'colio': 8841, 'bl': 8842, 'iran': 8843, 'knickers': 8844, 'psyched': 8845, 'nodle': 8846, 'seafod': 8847, 'vegetable': 8848, 'sizler': 8849, 'pug': 8850, 'thanku': 8851, 'alister': 8852, 'savin': 8853, 'logan': 8854, 'petco': 8855, 'skm': 8856, 'kailey': 8857, 'fair': 8858, 'limiting': 8859, 'rof': 8860, 'terminal': 8861, 'comits': 8862, 'pathogenesis': 8863, 'peripheral': 8864, 'neuropathic': 8865, 'alzheimer': 8866, 'parkinsons': 8867, 'sclerosis': 8868, 'motor': 8869, 'ischemia': 8870, 'pmsl': 8871, 'ising': 8872, 'rofl': 8873, 'profesion': 8874, 'failing': 8875, 'honored': 8876, 'earings': 8877, 'sectioncurb': 8878, 'depresiongo': 8879, 'rehabacknowledge': 8880, 'oncoming': 8881, 'societal': 8882, 'apetite': 8883, 'bmi': 8884, 'refuses': 8885, 'overweight': 8886, 'strets': 8887, 'grandmas': 8888, 'krimpeling': 8889, 'quentin': 8890, 'tarantino': 8891, 'seiw': 8892, 'yoke': 8893, 'exposed': 8894, 'explained': 8895, 'unecesary': 8896, 'nuance': 8897, 'convey': 8898, 'gray': 8899, 'camping': 8900, 'okechobe': 8901, 'temporarily': 8902, 'compares': 8903, 'liek': 8904, 'grinding': 8905, 'bety': 8906, 'emergency': 8907, 'straus': 8908, 'tiger': 8909, 'conclusions': 8910, 'webcast': 8911, 'alpha': 8912, 'siera': 8913, 'leone': 8914, 'acb': 8915, 'aph': 8916, 'blo': 8917, 'cho': 8918, 'cmed': 8919, 'cron': 8920, 'emc': 8921, 'emh': 8922, 'gwph': 8923, 'hiku': 8924, 'mym': 8925, 'ogi': 8926, 'rqb': 8927, 'sn': 8928, 'ter': 8929, 'thcx': 8930, 'choices': 8931, 'extrinsic': 8932, 'western': 8933, 'produces': 8934, 'ingesting': 8935, 'abundance': 8936, 'alarming': 8937, 'flutering': 8938, 'harvest': 8939, 'microbes': 8940, 'dirt': 8941, 'gem': 8942, 'tyt': 8943, 'pd': 8944, 'phew': 8945, 'jynx': 8946, 'traditional': 8947, 'prizes': 8948, 'val': 8949, 'layout': 8950, 'wraping': 8951, 'editing': 8952, 'generalized': 8953, 'gosip': 8954, 'godnite': 8955, 'funiest': 8956, 'continuously': 8957, 'angst': 8958, 'cultivated': 8959, 'virgin': 8960, 'qi': 8961, 'ranks': 8962, 'comedians': 8963, 'fry': 8964, 'havimg': 8965, 'yuki': 8966, 'sadepres': 8967, 'enrich': 8968, 'noise': 8969, 'hyped': 8970, 'ahahah': 8971, 'bac': 8972, 'slp': 8973, 'mesin': 8974, 'failings': 8975, 'shortcomings': 8976, 'weaponized': 8977, 'racmaninof': 8978, 'tham': 8979, 'haycorns': 8980, 'piglet': 8981, 'poh': 8982, 'huny': 8983, 'eyore': 8984, 'thistles': 8985, 'hes': 8986, 'autotune': 8987, 'bulied': 8988, 'relentlesly': 8989, 'scholed': 8990, 'diagnoses': 8991, 'vivi': 8992, 'cinema': 8993, 'corection': 8994, 'admin': 8995, 'usa': 8996, 'boards': 8997, 'lindsay': 8998, 'podcasts': 8999, 'gifs': 9000, 'platypus': 9001, 'fores': 9002, 'obvi': 9003, 'expiriences': 9004, 'detail': 9005, 'cw': 9006, 'transphobic': 9007, 'marying': 9008, 'kardashian': 9009, 'rainouts': 9010, 'symbols': 9011, 'designs': 9012, 'printed': 9013, 'stephen': 9014, 'weightlos': 9015, 'tackling': 9016, 'flo': 9017, 'cresta': 9018, 'acronym': 9019, 'abreviation': 9020, 'safely': 9021, 'contribute': 9022, 'decreasing': 9023, 'bonus': 9024, 'instruction': 9025, 'islamist': 9026, 'garners': 9027, 'rural': 9028, 'welfare': 9029, 'subsidy': 9030, 'mentions': 9031, 'gag': 9032, 'harased': 9033, 'contributing': 9034, 'paint': 9035, 'neon': 9036, 'whatley': 9037, 'voicemail': 9038, 'hbp': 9039, 'asignment': 9040, 'esays': 9041, 'destructive': 9042, 'unhapines': 9043, 'pendemic': 9044, 'asaulti': 9045, 'murderi': 9046, 'daylight': 9047, 'indecisive': 9048, 'highlights': 9049, 'championship': 9050, 'ecstasy': 9051, 'utv': 9052, 'edits': 9053, 'readers': 9054, 'nodling': 9055, 'peg': 9056, 'strangers': 9057, 'pilgrims': 9058, 'agony': 9059, 'liverpol': 9060, 'yosi': 9061, 'waly': 9062, 'doh': 9063, 'harish': 9064, 'crek': 9065, 'ahja': 9066, 'liebe': 9067, 'friendz': 9068, 'wieder': 9069, 'chrisy': 9070, 'teigen': 9071, 'manhatan': 9072, 'serving': 9073, 'relish': 9074, 'handles': 9075, 'ribed': 9076, 'nsync': 9077, 'bahah': 9078, 'wishes': 9079, 'raises': 9080, 'toast': 9081, 'ani': 9082, 'proportions': 9083, 'kish': 9084, 'pac': 9085, 'farter': 9086, 'lache': 9087, 'bah': 9088, 'theses': 9089, 'misogynist': 9090, 'drols': 9091, 'adicts': 9092, 'erands': 9093, 'charlote': 9094, 'pied': 9095, 'piper': 9096, 'nons': 9097, 'catching': 9098}\n"
          ]
        }
      ]
    },
    {
      "cell_type": "code",
      "source": [
        "print('Found %s unique tokens.' % len(tk.word_index))"
      ],
      "metadata": {
        "colab": {
          "base_uri": "https://localhost:8080/"
        },
        "id": "9QVIIDJRRgdA",
        "outputId": "e046d020-bd36-4170-c0f5-46c8d0b16a80"
      },
      "id": "9QVIIDJRRgdA",
      "execution_count": 26,
      "outputs": [
        {
          "output_type": "stream",
          "name": "stdout",
          "text": [
            "Found 9098 unique tokens.\n"
          ]
        }
      ]
    },
    {
      "cell_type": "code",
      "source": [
        "sequences = tk.texts_to_sequences(X)"
      ],
      "metadata": {
        "id": "rrlip_WlR5KE"
      },
      "id": "rrlip_WlR5KE",
      "execution_count": 27,
      "outputs": []
    },
    {
      "cell_type": "code",
      "source": [
        "sequences[:5]"
      ],
      "metadata": {
        "colab": {
          "base_uri": "https://localhost:8080/"
        },
        "id": "jloQQBs9SDrK",
        "outputId": "c7938b7b-44fe-4280-81d0-d3f933fe737e"
      },
      "id": "jloQQBs9SDrK",
      "execution_count": 28,
      "outputs": [
        {
          "output_type": "execute_result",
          "data": {
            "text/plain": [
              "[[1323, 228, 1904, 280, 1, 374, 2578, 660],\n",
              " [176, 500, 132, 150, 331, 1905, 12, 64, 102],\n",
              " [983, 120, 1],\n",
              " [561, 171, 418, 1906, 4, 229, 2579],\n",
              " [319, 391, 3807, 41, 41]]"
            ]
          },
          "metadata": {},
          "execution_count": 28
        }
      ]
    },
    {
      "cell_type": "code",
      "source": [
        "#Identify max length\n",
        "max_length = 0\n",
        "for review_number in range(len(sequences)):\n",
        "  numberofwords = len(sequences[review_number])\n",
        "  if (numberofwords) > (max_length):\n",
        "    max_length = numberofwords\n",
        "print(max_length)"
      ],
      "metadata": {
        "colab": {
          "base_uri": "https://localhost:8080/"
        },
        "id": "q5eMPQ_wSSil",
        "outputId": "9b6ddc39-1f79-4bab-bd6a-eb945d65b937"
      },
      "id": "q5eMPQ_wSSil",
      "execution_count": 29,
      "outputs": [
        {
          "output_type": "stream",
          "name": "stdout",
          "text": [
            "59\n"
          ]
        }
      ]
    },
    {
      "cell_type": "code",
      "source": [
        ""
      ],
      "metadata": {
        "id": "aklg1R7xc5AA"
      },
      "id": "aklg1R7xc5AA",
      "execution_count": null,
      "outputs": []
    }
  ],
  "metadata": {
    "kernelspec": {
      "display_name": "Python 3 (ipykernel)",
      "language": "python",
      "name": "python3"
    },
    "language_info": {
      "codemirror_mode": {
        "name": "ipython",
        "version": 3
      },
      "file_extension": ".py",
      "mimetype": "text/x-python",
      "name": "python",
      "nbconvert_exporter": "python",
      "pygments_lexer": "ipython3",
      "version": "3.8.12"
    },
    "toc": {
      "base_numbering": 1,
      "nav_menu": {},
      "number_sections": true,
      "sideBar": true,
      "skip_h1_title": false,
      "title_cell": "Table of Contents",
      "title_sidebar": "Contents",
      "toc_cell": false,
      "toc_position": {},
      "toc_section_display": true,
      "toc_window_display": false
    },
    "colab": {
      "name": "w2v_daniel.ipynb",
      "provenance": []
    }
  },
  "nbformat": 4,
  "nbformat_minor": 5
}