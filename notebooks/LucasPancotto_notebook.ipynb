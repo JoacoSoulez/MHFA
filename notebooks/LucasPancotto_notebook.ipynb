{
 "cells": [
  {
   "cell_type": "code",
   "execution_count": 1,
   "id": "2d08bde5",
   "metadata": {},
   "outputs": [
    {
     "name": "stdout",
     "output_type": "stream",
     "text": [
      "la notebook de Lucas\n"
     ]
    }
   ],
   "source": [
    "print('la notebook de Lucas')"
   ]
  },
  {
   "cell_type": "code",
   "execution_count": 2,
   "id": "161850b0",
   "metadata": {},
   "outputs": [],
   "source": [
    "import pandas as pd\n",
    "import numpy as np"
   ]
  },
  {
   "cell_type": "code",
   "execution_count": 3,
   "id": "f6a40f46",
   "metadata": {},
   "outputs": [
    {
     "name": "stdout",
     "output_type": "stream",
     "text": [
      "/home/lucaspancotto/code/JoacoSoulez/mental_health_first_aid_evaluation/MHFA/notebooks\r\n"
     ]
    }
   ],
   "source": [
    "!pwd"
   ]
  },
  {
   "cell_type": "code",
   "execution_count": 4,
   "id": "c4f36490",
   "metadata": {},
   "outputs": [],
   "source": [
    "\n",
    "suicide_watch = pd.read_csv('../../data/reddit_depression_suicidewatch.csv')\n",
    "\n",
    "#emotion_analysis =pd.read_csv('../../data/training_processed_noemoticon.csv')"
   ]
  },
  {
   "cell_type": "markdown",
   "id": "90a08969",
   "metadata": {},
   "source": [
    "# depressive_tweets_df"
   ]
  },
  {
   "cell_type": "markdown",
   "id": "261cc1ea",
   "metadata": {},
   "source": [
    "## drop null values"
   ]
  },
  {
   "cell_type": "code",
   "execution_count": 6,
   "id": "57a3806d",
   "metadata": {},
   "outputs": [
    {
     "data": {
      "text/html": [
       "<div>\n",
       "<style scoped>\n",
       "    .dataframe tbody tr th:only-of-type {\n",
       "        vertical-align: middle;\n",
       "    }\n",
       "\n",
       "    .dataframe tbody tr th {\n",
       "        vertical-align: top;\n",
       "    }\n",
       "\n",
       "    .dataframe thead th {\n",
       "        text-align: right;\n",
       "    }\n",
       "</style>\n",
       "<table border=\"1\" class=\"dataframe\">\n",
       "  <thead>\n",
       "    <tr style=\"text-align: right;\">\n",
       "      <th></th>\n",
       "      <th>ids</th>\n",
       "      <th>Tweet</th>\n",
       "    </tr>\n",
       "  </thead>\n",
       "  <tbody>\n",
       "    <tr>\n",
       "      <th>0</th>\n",
       "      <td>989292962323615744</td>\n",
       "      <td>The lack of this understanding is a small but ...</td>\n",
       "    </tr>\n",
       "    <tr>\n",
       "      <th>1</th>\n",
       "      <td>989292959844663296</td>\n",
       "      <td>i just told my parents about my depression and...</td>\n",
       "    </tr>\n",
       "    <tr>\n",
       "      <th>2</th>\n",
       "      <td>989292951716155392</td>\n",
       "      <td>depression is something i don't speak about ev...</td>\n",
       "    </tr>\n",
       "    <tr>\n",
       "      <th>3</th>\n",
       "      <td>989292873664393218</td>\n",
       "      <td>Made myself a tortilla filled with pb&amp;j. My de...</td>\n",
       "    </tr>\n",
       "    <tr>\n",
       "      <th>4</th>\n",
       "      <td>989292856119472128</td>\n",
       "      <td>@WorldofOutlaws I am gonna need depression med...</td>\n",
       "    </tr>\n",
       "    <tr>\n",
       "      <th>...</th>\n",
       "      <td>...</td>\n",
       "      <td>...</td>\n",
       "    </tr>\n",
       "    <tr>\n",
       "      <th>2340</th>\n",
       "      <td>989036568781389830</td>\n",
       "      <td>Many sufferers of depression aren't sad; they ...</td>\n",
       "    </tr>\n",
       "    <tr>\n",
       "      <th>2341</th>\n",
       "      <td>989036542898397185</td>\n",
       "      <td>No Depression by G Herbo is my mood from now o...</td>\n",
       "    </tr>\n",
       "    <tr>\n",
       "      <th>2342</th>\n",
       "      <td>989036488162766848</td>\n",
       "      <td>What do you do when depression succumbs the br...</td>\n",
       "    </tr>\n",
       "    <tr>\n",
       "      <th>2343</th>\n",
       "      <td>989036488158572544</td>\n",
       "      <td>Ketamine Nasal Spray Shows Promise Against Dep...</td>\n",
       "    </tr>\n",
       "    <tr>\n",
       "      <th>2344</th>\n",
       "      <td>989036462271287297</td>\n",
       "      <td>dont mistake a bad day with depression! everyo...</td>\n",
       "    </tr>\n",
       "  </tbody>\n",
       "</table>\n",
       "<p>2345 rows × 2 columns</p>\n",
       "</div>"
      ],
      "text/plain": [
       "                     ids                                              Tweet\n",
       "0     989292962323615744  The lack of this understanding is a small but ...\n",
       "1     989292959844663296  i just told my parents about my depression and...\n",
       "2     989292951716155392  depression is something i don't speak about ev...\n",
       "3     989292873664393218  Made myself a tortilla filled with pb&j. My de...\n",
       "4     989292856119472128  @WorldofOutlaws I am gonna need depression med...\n",
       "...                  ...                                                ...\n",
       "2340  989036568781389830  Many sufferers of depression aren't sad; they ...\n",
       "2341  989036542898397185  No Depression by G Herbo is my mood from now o...\n",
       "2342  989036488162766848  What do you do when depression succumbs the br...\n",
       "2343  989036488158572544  Ketamine Nasal Spray Shows Promise Against Dep...\n",
       "2344  989036462271287297  dont mistake a bad day with depression! everyo...\n",
       "\n",
       "[2345 rows x 2 columns]"
      ]
     },
     "execution_count": 6,
     "metadata": {},
     "output_type": "execute_result"
    }
   ],
   "source": [
    "col_names = ['ids', 'Tweet']\n",
    "depressive_tweets_df = pd.read_csv(\"../../data/depressive_tweets_processed.csv\", sep = '|', header = None, usecols = [0,5], nrows = 3200, names=col_names)\n",
    "depressive_tweets_df\n"
   ]
  },
  {
   "cell_type": "code",
   "execution_count": 7,
   "id": "d7e80195",
   "metadata": {},
   "outputs": [
    {
     "data": {
      "text/plain": [
       "ids       0\n",
       "Tweet    32\n",
       "dtype: int64"
      ]
     },
     "execution_count": 7,
     "metadata": {},
     "output_type": "execute_result"
    }
   ],
   "source": [
    "depressive_tweets_df.isnull().sum()"
   ]
  },
  {
   "cell_type": "code",
   "execution_count": 10,
   "id": "b48fb5d3",
   "metadata": {
    "collapsed": true
   },
   "outputs": [
    {
     "data": {
      "text/html": [
       "<div>\n",
       "<style scoped>\n",
       "    .dataframe tbody tr th:only-of-type {\n",
       "        vertical-align: middle;\n",
       "    }\n",
       "\n",
       "    .dataframe tbody tr th {\n",
       "        vertical-align: top;\n",
       "    }\n",
       "\n",
       "    .dataframe thead th {\n",
       "        text-align: right;\n",
       "    }\n",
       "</style>\n",
       "<table border=\"1\" class=\"dataframe\">\n",
       "  <thead>\n",
       "    <tr style=\"text-align: right;\">\n",
       "      <th></th>\n",
       "      <th>ids</th>\n",
       "      <th>Tweet</th>\n",
       "    </tr>\n",
       "  </thead>\n",
       "  <tbody>\n",
       "    <tr>\n",
       "      <th>10</th>\n",
       "      <td>989290950563368960|2018-04-25|23:51:57|Eastern...</td>\n",
       "      <td>NaN</td>\n",
       "    </tr>\n",
       "    <tr>\n",
       "      <th>87</th>\n",
       "      <td>989288252711620613|2018-04-25|23:41:14|Eastern...</td>\n",
       "      <td>NaN</td>\n",
       "    </tr>\n",
       "    <tr>\n",
       "      <th>132</th>\n",
       "      <td>989285572924575744|2018-04-25|23:30:35|Eastern...</td>\n",
       "      <td>NaN</td>\n",
       "    </tr>\n",
       "    <tr>\n",
       "      <th>258</th>\n",
       "      <td>989254904408555520|2018-04-25|21:28:43|Eastern...</td>\n",
       "      <td>NaN</td>\n",
       "    </tr>\n",
       "    <tr>\n",
       "      <th>278</th>\n",
       "      <td>989254638766505984|2018-04-25|21:27:40|Eastern...</td>\n",
       "      <td>NaN</td>\n",
       "    </tr>\n",
       "    <tr>\n",
       "      <th>346</th>\n",
       "      <td>989250907605893120|2018-04-25|21:12:50|Eastern...</td>\n",
       "      <td>NaN</td>\n",
       "    </tr>\n",
       "    <tr>\n",
       "      <th>476</th>\n",
       "      <td>989238793592098816|2018-04-25|20:24:42|Eastern...</td>\n",
       "      <td>NaN</td>\n",
       "    </tr>\n",
       "    <tr>\n",
       "      <th>487</th>\n",
       "      <td>989238611571871751|2018-04-25|20:23:58|Eastern...</td>\n",
       "      <td>NaN</td>\n",
       "    </tr>\n",
       "    <tr>\n",
       "      <th>548</th>\n",
       "      <td>989222043458719744|2018-04-25|19:18:08|Eastern...</td>\n",
       "      <td>NaN</td>\n",
       "    </tr>\n",
       "    <tr>\n",
       "      <th>637</th>\n",
       "      <td>989217739347775489|2018-04-25|19:01:02|Eastern...</td>\n",
       "      <td>NaN</td>\n",
       "    </tr>\n",
       "    <tr>\n",
       "      <th>680</th>\n",
       "      <td>989217219178586112|2018-04-25|18:58:58|Eastern...</td>\n",
       "      <td>NaN</td>\n",
       "    </tr>\n",
       "    <tr>\n",
       "      <th>747</th>\n",
       "      <td>989215780943286272|2018-04-25|18:53:15|Eastern...</td>\n",
       "      <td>NaN</td>\n",
       "    </tr>\n",
       "    <tr>\n",
       "      <th>823</th>\n",
       "      <td>989213166709047297|2018-04-25|18:42:52|Eastern...</td>\n",
       "      <td>NaN</td>\n",
       "    </tr>\n",
       "    <tr>\n",
       "      <th>842</th>\n",
       "      <td>989212687685971968|2018-04-25|18:40:58|Eastern...</td>\n",
       "      <td>NaN</td>\n",
       "    </tr>\n",
       "    <tr>\n",
       "      <th>950</th>\n",
       "      <td>989205143294898176|2018-04-25|18:10:59|Eastern...</td>\n",
       "      <td>NaN</td>\n",
       "    </tr>\n",
       "    <tr>\n",
       "      <th>1036</th>\n",
       "      <td>989199943536693249|2018-04-25|17:50:19|Eastern...</td>\n",
       "      <td>NaN</td>\n",
       "    </tr>\n",
       "    <tr>\n",
       "      <th>1046</th>\n",
       "      <td>989199810207993856|2018-04-25|17:49:47|Eastern...</td>\n",
       "      <td>NaN</td>\n",
       "    </tr>\n",
       "    <tr>\n",
       "      <th>1058</th>\n",
       "      <td>989184157396996097|2018-04-25|16:47:35|Eastern...</td>\n",
       "      <td>NaN</td>\n",
       "    </tr>\n",
       "    <tr>\n",
       "      <th>1416</th>\n",
       "      <td>989158461974949889|2018-04-25|15:05:29|Eastern...</td>\n",
       "      <td>NaN</td>\n",
       "    </tr>\n",
       "    <tr>\n",
       "      <th>1488</th>\n",
       "      <td>989151493696753664|2018-04-25|14:37:48|Eastern...</td>\n",
       "      <td>NaN</td>\n",
       "    </tr>\n",
       "    <tr>\n",
       "      <th>1489</th>\n",
       "      <td>989151489053614080|2018-04-25|14:37:47|Eastern...</td>\n",
       "      <td>NaN</td>\n",
       "    </tr>\n",
       "    <tr>\n",
       "      <th>1492</th>\n",
       "      <td>989151423001657344|2018-04-25|14:37:31|Eastern...</td>\n",
       "      <td>NaN</td>\n",
       "    </tr>\n",
       "    <tr>\n",
       "      <th>1700</th>\n",
       "      <td>989126609251729408|2018-04-25|12:58:55|Eastern...</td>\n",
       "      <td>NaN</td>\n",
       "    </tr>\n",
       "    <tr>\n",
       "      <th>1762</th>\n",
       "      <td>989119248843837440|2018-04-25|12:29:40|Eastern...</td>\n",
       "      <td>NaN</td>\n",
       "    </tr>\n",
       "    <tr>\n",
       "      <th>1777</th>\n",
       "      <td>989117842573279233|2018-04-25|12:24:05|Eastern...</td>\n",
       "      <td>NaN</td>\n",
       "    </tr>\n",
       "    <tr>\n",
       "      <th>1883</th>\n",
       "      <td>989110991605653506|2018-04-25|11:56:51|Eastern...</td>\n",
       "      <td>NaN</td>\n",
       "    </tr>\n",
       "    <tr>\n",
       "      <th>1973</th>\n",
       "      <td>989098284198367232|2018-04-25|11:06:22|Eastern...</td>\n",
       "      <td>NaN</td>\n",
       "    </tr>\n",
       "    <tr>\n",
       "      <th>1990</th>\n",
       "      <td>989097834552217600|2018-04-25|11:04:34|Eastern...</td>\n",
       "      <td>NaN</td>\n",
       "    </tr>\n",
       "    <tr>\n",
       "      <th>2061</th>\n",
       "      <td>989087422146404355|2018-04-25|10:23:12|Eastern...</td>\n",
       "      <td>NaN</td>\n",
       "    </tr>\n",
       "    <tr>\n",
       "      <th>2182</th>\n",
       "      <td>989070428676198402|2018-04-25|09:15:40|Eastern...</td>\n",
       "      <td>NaN</td>\n",
       "    </tr>\n",
       "    <tr>\n",
       "      <th>2188</th>\n",
       "      <td>989070245007589377|2018-04-25|09:14:57|Eastern...</td>\n",
       "      <td>NaN</td>\n",
       "    </tr>\n",
       "    <tr>\n",
       "      <th>2265</th>\n",
       "      <td>989042941619572736|2018-04-25|07:26:27|Eastern...</td>\n",
       "      <td>NaN</td>\n",
       "    </tr>\n",
       "  </tbody>\n",
       "</table>\n",
       "</div>"
      ],
      "text/plain": [
       "                                                    ids Tweet\n",
       "10    989290950563368960|2018-04-25|23:51:57|Eastern...   NaN\n",
       "87    989288252711620613|2018-04-25|23:41:14|Eastern...   NaN\n",
       "132   989285572924575744|2018-04-25|23:30:35|Eastern...   NaN\n",
       "258   989254904408555520|2018-04-25|21:28:43|Eastern...   NaN\n",
       "278   989254638766505984|2018-04-25|21:27:40|Eastern...   NaN\n",
       "346   989250907605893120|2018-04-25|21:12:50|Eastern...   NaN\n",
       "476   989238793592098816|2018-04-25|20:24:42|Eastern...   NaN\n",
       "487   989238611571871751|2018-04-25|20:23:58|Eastern...   NaN\n",
       "548   989222043458719744|2018-04-25|19:18:08|Eastern...   NaN\n",
       "637   989217739347775489|2018-04-25|19:01:02|Eastern...   NaN\n",
       "680   989217219178586112|2018-04-25|18:58:58|Eastern...   NaN\n",
       "747   989215780943286272|2018-04-25|18:53:15|Eastern...   NaN\n",
       "823   989213166709047297|2018-04-25|18:42:52|Eastern...   NaN\n",
       "842   989212687685971968|2018-04-25|18:40:58|Eastern...   NaN\n",
       "950   989205143294898176|2018-04-25|18:10:59|Eastern...   NaN\n",
       "1036  989199943536693249|2018-04-25|17:50:19|Eastern...   NaN\n",
       "1046  989199810207993856|2018-04-25|17:49:47|Eastern...   NaN\n",
       "1058  989184157396996097|2018-04-25|16:47:35|Eastern...   NaN\n",
       "1416  989158461974949889|2018-04-25|15:05:29|Eastern...   NaN\n",
       "1488  989151493696753664|2018-04-25|14:37:48|Eastern...   NaN\n",
       "1489  989151489053614080|2018-04-25|14:37:47|Eastern...   NaN\n",
       "1492  989151423001657344|2018-04-25|14:37:31|Eastern...   NaN\n",
       "1700  989126609251729408|2018-04-25|12:58:55|Eastern...   NaN\n",
       "1762  989119248843837440|2018-04-25|12:29:40|Eastern...   NaN\n",
       "1777  989117842573279233|2018-04-25|12:24:05|Eastern...   NaN\n",
       "1883  989110991605653506|2018-04-25|11:56:51|Eastern...   NaN\n",
       "1973  989098284198367232|2018-04-25|11:06:22|Eastern...   NaN\n",
       "1990  989097834552217600|2018-04-25|11:04:34|Eastern...   NaN\n",
       "2061  989087422146404355|2018-04-25|10:23:12|Eastern...   NaN\n",
       "2182  989070428676198402|2018-04-25|09:15:40|Eastern...   NaN\n",
       "2188  989070245007589377|2018-04-25|09:14:57|Eastern...   NaN\n",
       "2265  989042941619572736|2018-04-25|07:26:27|Eastern...   NaN"
      ]
     },
     "execution_count": 10,
     "metadata": {},
     "output_type": "execute_result"
    }
   ],
   "source": [
    "depressive_tweets_df[depressive_tweets_df.Tweet.isnull()]"
   ]
  },
  {
   "cell_type": "code",
   "execution_count": 11,
   "id": "d099d268",
   "metadata": {},
   "outputs": [
    {
     "data": {
      "text/plain": [
       "ids      0\n",
       "Tweet    0\n",
       "dtype: int64"
      ]
     },
     "execution_count": 11,
     "metadata": {},
     "output_type": "execute_result"
    }
   ],
   "source": [
    "depressive_tweets_df.dropna(inplace=True)\n",
    "depressive_tweets_df.isnull().sum()"
   ]
  },
  {
   "cell_type": "code",
   "execution_count": 13,
   "id": "25ffad0c",
   "metadata": {},
   "outputs": [
    {
     "data": {
      "text/plain": [
       "ids      object\n",
       "Tweet    object\n",
       "dtype: object"
      ]
     },
     "execution_count": 13,
     "metadata": {},
     "output_type": "execute_result"
    }
   ],
   "source": [
    "depressive_tweets_df.dtypes"
   ]
  },
  {
   "cell_type": "markdown",
   "id": "d00307a4",
   "metadata": {},
   "source": [
    "## duplicate rows\n"
   ]
  },
  {
   "cell_type": "code",
   "execution_count": 24,
   "id": "354861b5",
   "metadata": {},
   "outputs": [
    {
     "data": {
      "text/plain": [
       "0"
      ]
     },
     "execution_count": 24,
     "metadata": {},
     "output_type": "execute_result"
    }
   ],
   "source": [
    "depressive_tweets_df.duplicated().sum()"
   ]
  },
  {
   "cell_type": "code",
   "execution_count": null,
   "id": "f1e35c71",
   "metadata": {},
   "outputs": [],
   "source": []
  },
  {
   "cell_type": "markdown",
   "id": "4559a1bd",
   "metadata": {},
   "source": [
    "## word preprocess"
   ]
  },
  {
   "cell_type": "code",
   "execution_count": 21,
   "id": "7a747fbc",
   "metadata": {},
   "outputs": [],
   "source": [
    "#filter digits\n",
    "\n",
    "def remove_digits(txt):\n",
    "    return ''.join(letter for letter in txt if not letter.isdigit())\n",
    "    \n",
    "def remove_undercolon(txt):\n",
    "    return ''.join(letter for letter in txt if not letter == '_')\n",
    "\n",
    "def lower_case(txt):\n",
    "    return txt.lower()"
   ]
  },
  {
   "cell_type": "code",
   "execution_count": 20,
   "id": "17ac21be",
   "metadata": {},
   "outputs": [],
   "source": [
    "depressive_tweets_df['Tweet'] = depressive_tweets_df['Tweet'].apply(remove_digits)"
   ]
  },
  {
   "cell_type": "code",
   "execution_count": 22,
   "id": "89edaa10",
   "metadata": {},
   "outputs": [],
   "source": [
    "depressive_tweets_df['Tweet'] = depressive_tweets_df['Tweet'].apply(lower_case)"
   ]
  },
  {
   "cell_type": "code",
   "execution_count": null,
   "id": "a3992ef6",
   "metadata": {},
   "outputs": [],
   "source": []
  }
 ],
 "metadata": {
  "kernelspec": {
   "display_name": "Python 3 (ipykernel)",
   "language": "python",
   "name": "python3"
  },
  "language_info": {
   "codemirror_mode": {
    "name": "ipython",
    "version": 3
   },
   "file_extension": ".py",
   "mimetype": "text/x-python",
   "name": "python",
   "nbconvert_exporter": "python",
   "pygments_lexer": "ipython3",
   "version": "3.8.12"
  },
  "toc": {
   "base_numbering": 1,
   "nav_menu": {},
   "number_sections": true,
   "sideBar": true,
   "skip_h1_title": false,
   "title_cell": "Table of Contents",
   "title_sidebar": "Contents",
   "toc_cell": false,
   "toc_position": {},
   "toc_section_display": true,
   "toc_window_display": false
  }
 },
 "nbformat": 4,
 "nbformat_minor": 5
}
