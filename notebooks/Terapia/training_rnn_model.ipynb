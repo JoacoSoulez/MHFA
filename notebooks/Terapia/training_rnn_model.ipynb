{
 "cells": [
  {
   "cell_type": "code",
   "execution_count": 1,
   "id": "b8727f66",
   "metadata": {},
   "outputs": [
    {
     "name": "stderr",
     "output_type": "stream",
     "text": [
      "[nltk_data] Downloading package wordnet to\n",
      "[nltk_data]     /home/lucaspancotto/nltk_data...\n",
      "[nltk_data]   Package wordnet is already up-to-date!\n",
      "[nltk_data] Downloading package stopwords to\n",
      "[nltk_data]     /home/lucaspancotto/nltk_data...\n",
      "[nltk_data]   Package stopwords is already up-to-date!\n",
      "[nltk_data] Downloading package punkt to\n",
      "[nltk_data]     /home/lucaspancotto/nltk_data...\n",
      "[nltk_data]   Package punkt is already up-to-date!\n"
     ]
    }
   ],
   "source": [
    "\n",
    "import numpy as np\n",
    "import pandas as pd\n",
    "from gensim.models.keyedvectors import KeyedVectors\n",
    "from nltk.corpus import stopwords\n",
    "from sklearn.ensemble import RandomForestClassifier\n",
    "import sklearn.metrics\n",
    "from sklearn.feature_extraction.text import TfidfVectorizer\n",
    "from sklearn.naive_bayes import MultinomialNB\n",
    "from sklearn.svm import SVC\n",
    "from nltk.tokenize import word_tokenize\n",
    "from gensim.models import Word2Vec\n",
    "from sklearn.metrics import classification_report\n",
    "import nltk\n",
    "nltk.download('wordnet')\n",
    "nltk.download('stopwords')\n",
    "nltk.download('punkt')\n",
    "import re\n",
    "\n",
    "import joblib"
   ]
  },
  {
   "cell_type": "code",
   "execution_count": 2,
   "id": "46f6bf95",
   "metadata": {},
   "outputs": [
    {
     "data": {
      "text/html": [
       "<div>\n",
       "<style scoped>\n",
       "    .dataframe tbody tr th:only-of-type {\n",
       "        vertical-align: middle;\n",
       "    }\n",
       "\n",
       "    .dataframe tbody tr th {\n",
       "        vertical-align: top;\n",
       "    }\n",
       "\n",
       "    .dataframe thead th {\n",
       "        text-align: right;\n",
       "    }\n",
       "</style>\n",
       "<table border=\"1\" class=\"dataframe\">\n",
       "  <thead>\n",
       "    <tr style=\"text-align: right;\">\n",
       "      <th></th>\n",
       "      <th>text</th>\n",
       "      <th>label</th>\n",
       "    </tr>\n",
       "  </thead>\n",
       "  <tbody>\n",
       "    <tr>\n",
       "      <th>0</th>\n",
       "      <td>breakup friend talk thing hurt lose feeling pa...</td>\n",
       "      <td>1</td>\n",
       "    </tr>\n",
       "    <tr>\n",
       "      <th>1</th>\n",
       "      <td>navigate feeling feeling stretch understand pl...</td>\n",
       "      <td>1</td>\n",
       "    </tr>\n",
       "    <tr>\n",
       "      <th>2</th>\n",
       "      <td>bf month told depressed week happened feel bot...</td>\n",
       "      <td>1</td>\n",
       "    </tr>\n",
       "    <tr>\n",
       "      <th>3</th>\n",
       "      <td>exhausted finally rest thing starting settle h...</td>\n",
       "      <td>0</td>\n",
       "    </tr>\n",
       "    <tr>\n",
       "      <th>4</th>\n",
       "      <td>severly bullied till depressed misanthrope mul...</td>\n",
       "      <td>1</td>\n",
       "    </tr>\n",
       "    <tr>\n",
       "      <th>...</th>\n",
       "      <td>...</td>\n",
       "      <td>...</td>\n",
       "    </tr>\n",
       "    <tr>\n",
       "      <th>20358</th>\n",
       "      <td>seroquel hour drank panicking ik sound joke se...</td>\n",
       "      <td>0</td>\n",
       "    </tr>\n",
       "    <tr>\n",
       "      <th>20359</th>\n",
       "      <td>happened week week depression insomnia sleep g...</td>\n",
       "      <td>1</td>\n",
       "    </tr>\n",
       "    <tr>\n",
       "      <th>20360</th>\n",
       "      <td>feel house people room loneliness suck</td>\n",
       "      <td>1</td>\n",
       "    </tr>\n",
       "    <tr>\n",
       "      <th>20361</th>\n",
       "      <td>politician neighbor corporation society cultur...</td>\n",
       "      <td>1</td>\n",
       "    </tr>\n",
       "    <tr>\n",
       "      <th>20362</th>\n",
       "      <td>feel existing depressed girlfriend year broken...</td>\n",
       "      <td>1</td>\n",
       "    </tr>\n",
       "  </tbody>\n",
       "</table>\n",
       "<p>20363 rows × 2 columns</p>\n",
       "</div>"
      ],
      "text/plain": [
       "                                                    text  label\n",
       "0      breakup friend talk thing hurt lose feeling pa...      1\n",
       "1      navigate feeling feeling stretch understand pl...      1\n",
       "2      bf month told depressed week happened feel bot...      1\n",
       "3      exhausted finally rest thing starting settle h...      0\n",
       "4      severly bullied till depressed misanthrope mul...      1\n",
       "...                                                  ...    ...\n",
       "20358  seroquel hour drank panicking ik sound joke se...      0\n",
       "20359  happened week week depression insomnia sleep g...      1\n",
       "20360             feel house people room loneliness suck      1\n",
       "20361  politician neighbor corporation society cultur...      1\n",
       "20362  feel existing depressed girlfriend year broken...      1\n",
       "\n",
       "[20363 rows x 2 columns]"
      ]
     },
     "execution_count": 2,
     "metadata": {},
     "output_type": "execute_result"
    }
   ],
   "source": [
    "def sui_dep(x):\n",
    "    if x=='depression':\n",
    "        return 1\n",
    "    return 0\n",
    "\n",
    "reddit  = pd.read_csv('../../../data/reddit_depression_suicidewatch_clean.csv').drop(columns=['Unnamed: 0'])\n",
    "reddit['label'] = reddit.label.apply(sui_dep)\n",
    "reddit"
   ]
  },
  {
   "cell_type": "code",
   "execution_count": 3,
   "id": "e2566b74",
   "metadata": {},
   "outputs": [
    {
     "data": {
      "text/plain": [
       "text     0\n",
       "label    0\n",
       "dtype: int64"
      ]
     },
     "execution_count": 3,
     "metadata": {},
     "output_type": "execute_result"
    }
   ],
   "source": [
    "reddit.dropna(inplace=True)\n",
    "reddit.isnull().sum()"
   ]
  },
  {
   "cell_type": "code",
   "execution_count": 4,
   "id": "c26dfc71",
   "metadata": {},
   "outputs": [
    {
     "data": {
      "text/plain": [
       "array([1, 1, 1, ..., 1, 1, 1])"
      ]
     },
     "execution_count": 4,
     "metadata": {},
     "output_type": "execute_result"
    }
   ],
   "source": [
    "y = reddit.label.values\n",
    "y"
   ]
  },
  {
   "cell_type": "code",
   "execution_count": 5,
   "id": "88d20a5d",
   "metadata": {},
   "outputs": [
    {
     "data": {
      "text/plain": [
       "0        breakup friend talk thing hurt lose feeling pa...\n",
       "1        navigate feeling feeling stretch understand pl...\n",
       "2        bf month told depressed week happened feel bot...\n",
       "3        exhausted finally rest thing starting settle h...\n",
       "4        severly bullied till depressed misanthrope mul...\n",
       "                               ...                        \n",
       "20358    seroquel hour drank panicking ik sound joke se...\n",
       "20359    happened week week depression insomnia sleep g...\n",
       "20360               feel house people room loneliness suck\n",
       "20361    politician neighbor corporation society cultur...\n",
       "20362    feel existing depressed girlfriend year broken...\n",
       "Name: text, Length: 20340, dtype: object"
      ]
     },
     "execution_count": 5,
     "metadata": {},
     "output_type": "execute_result"
    }
   ],
   "source": [
    "X = reddit.text\n",
    "X = X.astype(str)\n",
    "X"
   ]
  },
  {
   "cell_type": "code",
   "execution_count": 6,
   "id": "79483ecc",
   "metadata": {},
   "outputs": [
    {
     "name": "stderr",
     "output_type": "stream",
     "text": [
      "2022-03-17 13:30:57.788981: W tensorflow/stream_executor/platform/default/dso_loader.cc:64] Could not load dynamic library 'libcudart.so.11.0'; dlerror: libcudart.so.11.0: cannot open shared object file: No such file or directory\n",
      "2022-03-17 13:30:57.789026: I tensorflow/stream_executor/cuda/cudart_stub.cc:29] Ignore above cudart dlerror if you do not have a GPU set up on your machine.\n"
     ]
    },
    {
     "name": "stdout",
     "output_type": "stream",
     "text": [
      "Total words 30428\n"
     ]
    }
   ],
   "source": [
    "from keras.preprocessing.text import Tokenizer\n",
    "from tensorflow.keras.preprocessing.sequence import pad_sequences\n",
    "\n",
    "tokenizer = Tokenizer(num_words=500, split=' ') \n",
    "tokenizer.fit_on_texts(X)\n",
    "\n",
    "X = tokenizer.texts_to_sequences(X)\n",
    "\n",
    "X = pad_sequences(X, value=-1000, maxlen = 1348 , dtype='float64')\n",
    "\n",
    "vocab_size = len(tokenizer.word_index) + 1\n",
    "print(\"Total words\", vocab_size)"
   ]
  },
  {
   "cell_type": "code",
   "execution_count": 7,
   "id": "2a0a8b9a",
   "metadata": {},
   "outputs": [
    {
     "data": {
      "text/plain": [
       "(20340, 1, 1348)"
      ]
     },
     "execution_count": 7,
     "metadata": {},
     "output_type": "execute_result"
    }
   ],
   "source": [
    "X = np.reshape(X, (X.shape[0], 1, X.shape[1]))\n",
    "X.shape\n",
    "\n",
    "#X.reshape(( 1, 1348))"
   ]
  },
  {
   "cell_type": "code",
   "execution_count": 8,
   "id": "47e8c4ea",
   "metadata": {},
   "outputs": [
    {
     "name": "stderr",
     "output_type": "stream",
     "text": [
      "2022-03-17 13:31:01.104228: W tensorflow/stream_executor/platform/default/dso_loader.cc:64] Could not load dynamic library 'libcuda.so.1'; dlerror: libcuda.so.1: cannot open shared object file: No such file or directory\n",
      "2022-03-17 13:31:01.104277: W tensorflow/stream_executor/cuda/cuda_driver.cc:269] failed call to cuInit: UNKNOWN ERROR (303)\n",
      "2022-03-17 13:31:01.104297: I tensorflow/stream_executor/cuda/cuda_diagnostics.cc:156] kernel driver does not appear to be running on this host (DESKTOP-QMHRL2V): /proc/driver/nvidia/version does not exist\n",
      "2022-03-17 13:31:01.104533: I tensorflow/core/platform/cpu_feature_guard.cc:151] This TensorFlow binary is optimized with oneAPI Deep Neural Network Library (oneDNN) to use the following CPU instructions in performance-critical operations:  AVX2 FMA\n",
      "To enable them in other operations, rebuild TensorFlow with the appropriate compiler flags.\n",
      "2022-03-17 13:31:04.829573: W tensorflow/core/common_runtime/graph_constructor.cc:803] Node 'cond/while' has 13 outputs but the _output_shapes attribute specifies shapes for 46 outputs. Output shapes may be inaccurate.\n",
      "2022-03-17 13:31:04.849546: W tensorflow/core/common_runtime/graph_constructor.cc:803] Node 'cond' has 4 outputs but the _output_shapes attribute specifies shapes for 46 outputs. Output shapes may be inaccurate.\n",
      "2022-03-17 13:31:04.953392: W tensorflow/core/common_runtime/graph_constructor.cc:803] Node 'cond/while' has 13 outputs but the _output_shapes attribute specifies shapes for 46 outputs. Output shapes may be inaccurate.\n",
      "2022-03-17 13:31:05.447360: W tensorflow/core/common_runtime/graph_constructor.cc:803] Node 'cond/while' has 13 outputs but the _output_shapes attribute specifies shapes for 46 outputs. Output shapes may be inaccurate.\n",
      "2022-03-17 13:31:05.466849: W tensorflow/core/common_runtime/graph_constructor.cc:803] Node 'cond' has 4 outputs but the _output_shapes attribute specifies shapes for 46 outputs. Output shapes may be inaccurate.\n",
      "2022-03-17 13:31:06.153944: W tensorflow/core/common_runtime/graph_constructor.cc:803] Node 'cond/while' has 13 outputs but the _output_shapes attribute specifies shapes for 46 outputs. Output shapes may be inaccurate.\n",
      "2022-03-17 13:31:06.605374: W tensorflow/core/common_runtime/graph_constructor.cc:803] Node 'cond/while' has 13 outputs but the _output_shapes attribute specifies shapes for 46 outputs. Output shapes may be inaccurate.\n",
      "2022-03-17 13:31:07.268394: W tensorflow/core/common_runtime/graph_constructor.cc:803] Node 'cond/while' has 13 outputs but the _output_shapes attribute specifies shapes for 46 outputs. Output shapes may be inaccurate.\n",
      "2022-03-17 13:31:07.284480: W tensorflow/core/common_runtime/graph_constructor.cc:803] Node 'cond' has 4 outputs but the _output_shapes attribute specifies shapes for 46 outputs. Output shapes may be inaccurate.\n",
      "2022-03-17 13:31:07.416590: W tensorflow/core/common_runtime/graph_constructor.cc:803] Node 'cond/while' has 13 outputs but the _output_shapes attribute specifies shapes for 46 outputs. Output shapes may be inaccurate.\n",
      "2022-03-17 13:31:07.449490: W tensorflow/core/common_runtime/graph_constructor.cc:803] Node 'cond/while' has 13 outputs but the _output_shapes attribute specifies shapes for 46 outputs. Output shapes may be inaccurate.\n",
      "2022-03-17 13:31:07.467985: W tensorflow/core/common_runtime/graph_constructor.cc:803] Node 'cond' has 4 outputs but the _output_shapes attribute specifies shapes for 46 outputs. Output shapes may be inaccurate.\n",
      "2022-03-17 13:31:07.876846: W tensorflow/core/common_runtime/graph_constructor.cc:803] Node 'cond/while' has 13 outputs but the _output_shapes attribute specifies shapes for 46 outputs. Output shapes may be inaccurate.\n",
      "2022-03-17 13:31:07.894591: W tensorflow/core/common_runtime/graph_constructor.cc:803] Node 'cond' has 4 outputs but the _output_shapes attribute specifies shapes for 46 outputs. Output shapes may be inaccurate.\n",
      "2022-03-17 13:31:07.925018: W tensorflow/core/common_runtime/graph_constructor.cc:803] Node 'cond' has 4 outputs but the _output_shapes attribute specifies shapes for 46 outputs. Output shapes may be inaccurate.\n",
      "2022-03-17 13:31:08.055373: W tensorflow/core/common_runtime/graph_constructor.cc:803] Node 'cond' has 4 outputs but the _output_shapes attribute specifies shapes for 46 outputs. Output shapes may be inaccurate.\n",
      "2022-03-17 13:31:08.468451: W tensorflow/core/common_runtime/graph_constructor.cc:803] Node 'cond' has 4 outputs but the _output_shapes attribute specifies shapes for 46 outputs. Output shapes may be inaccurate.\n",
      "2022-03-17 13:31:10.046302: W tensorflow/core/common_runtime/graph_constructor.cc:803] Node 'cond/while' has 13 outputs but the _output_shapes attribute specifies shapes for 46 outputs. Output shapes may be inaccurate.\n",
      "2022-03-17 13:31:10.063991: W tensorflow/core/common_runtime/graph_constructor.cc:803] Node 'cond' has 4 outputs but the _output_shapes attribute specifies shapes for 46 outputs. Output shapes may be inaccurate.\n",
      "2022-03-17 13:31:10.340210: W tensorflow/core/common_runtime/graph_constructor.cc:803] Node 'cond/while' has 13 outputs but the _output_shapes attribute specifies shapes for 46 outputs. Output shapes may be inaccurate.\n",
      "2022-03-17 13:31:10.357008: W tensorflow/core/common_runtime/graph_constructor.cc:803] Node 'cond' has 4 outputs but the _output_shapes attribute specifies shapes for 46 outputs. Output shapes may be inaccurate.\n",
      "2022-03-17 13:31:11.468218: W tensorflow/core/common_runtime/graph_constructor.cc:803] Node 'cond' has 4 outputs but the _output_shapes attribute specifies shapes for 46 outputs. Output shapes may be inaccurate.\n",
      "2022-03-17 13:31:11.997656: W tensorflow/core/common_runtime/graph_constructor.cc:803] Node 'cond/while' has 13 outputs but the _output_shapes attribute specifies shapes for 46 outputs. Output shapes may be inaccurate.\n",
      "2022-03-17 13:31:12.017901: W tensorflow/core/common_runtime/graph_constructor.cc:803] Node 'cond' has 4 outputs but the _output_shapes attribute specifies shapes for 46 outputs. Output shapes may be inaccurate.\n",
      "2022-03-17 13:31:12.077938: W tensorflow/core/common_runtime/graph_constructor.cc:803] Node 'cond/while' has 13 outputs but the _output_shapes attribute specifies shapes for 46 outputs. Output shapes may be inaccurate.\n",
      "2022-03-17 13:31:12.097352: W tensorflow/core/common_runtime/graph_constructor.cc:803] Node 'cond' has 4 outputs but the _output_shapes attribute specifies shapes for 46 outputs. Output shapes may be inaccurate.\n",
      "2022-03-17 13:31:12.255939: W tensorflow/core/common_runtime/graph_constructor.cc:803] Node 'cond/while' has 13 outputs but the _output_shapes attribute specifies shapes for 46 outputs. Output shapes may be inaccurate.\n",
      "2022-03-17 13:31:12.280527: W tensorflow/core/common_runtime/graph_constructor.cc:803] Node 'cond' has 4 outputs but the _output_shapes attribute specifies shapes for 46 outputs. Output shapes may be inaccurate.\n",
      "2022-03-17 13:31:12.339026: W tensorflow/core/common_runtime/graph_constructor.cc:803] Node 'cond/while' has 13 outputs but the _output_shapes attribute specifies shapes for 46 outputs. Output shapes may be inaccurate.\n",
      "2022-03-17 13:31:12.359319: W tensorflow/core/common_runtime/graph_constructor.cc:803] Node 'cond' has 4 outputs but the _output_shapes attribute specifies shapes for 46 outputs. Output shapes may be inaccurate.\n",
      "2022-03-17 13:31:12.426044: W tensorflow/core/common_runtime/graph_constructor.cc:803] Node 'cond/while' has 13 outputs but the _output_shapes attribute specifies shapes for 46 outputs. Output shapes may be inaccurate.\n",
      "2022-03-17 13:31:12.444127: W tensorflow/core/common_runtime/graph_constructor.cc:803] Node 'cond' has 4 outputs but the _output_shapes attribute specifies shapes for 46 outputs. Output shapes may be inaccurate.\n",
      "2022-03-17 13:31:13.260017: W tensorflow/core/common_runtime/graph_constructor.cc:803] Node 'cond/while' has 13 outputs but the _output_shapes attribute specifies shapes for 46 outputs. Output shapes may be inaccurate.\n",
      "2022-03-17 13:31:13.278231: W tensorflow/core/common_runtime/graph_constructor.cc:803] Node 'cond' has 4 outputs but the _output_shapes attribute specifies shapes for 46 outputs. Output shapes may be inaccurate.\n"
     ]
    },
    {
     "name": "stderr",
     "output_type": "stream",
     "text": [
      "2022-03-17 13:31:14.057491: W tensorflow/core/common_runtime/graph_constructor.cc:803] Node 'cond/while' has 13 outputs but the _output_shapes attribute specifies shapes for 46 outputs. Output shapes may be inaccurate.\n",
      "2022-03-17 13:31:14.074507: W tensorflow/core/common_runtime/graph_constructor.cc:803] Node 'cond' has 4 outputs but the _output_shapes attribute specifies shapes for 46 outputs. Output shapes may be inaccurate.\n",
      "2022-03-17 13:31:15.751034: W tensorflow/core/common_runtime/graph_constructor.cc:803] Node 'cond/while' has 13 outputs but the _output_shapes attribute specifies shapes for 46 outputs. Output shapes may be inaccurate.\n",
      "2022-03-17 13:31:15.768318: W tensorflow/core/common_runtime/graph_constructor.cc:803] Node 'cond' has 4 outputs but the _output_shapes attribute specifies shapes for 46 outputs. Output shapes may be inaccurate.\n",
      "2022-03-17 13:31:15.790632: W tensorflow/core/common_runtime/graph_constructor.cc:803] Node 'cond/while' has 13 outputs but the _output_shapes attribute specifies shapes for 46 outputs. Output shapes may be inaccurate.\n",
      "2022-03-17 13:31:15.808241: W tensorflow/core/common_runtime/graph_constructor.cc:803] Node 'cond' has 4 outputs but the _output_shapes attribute specifies shapes for 46 outputs. Output shapes may be inaccurate.\n",
      "2022-03-17 13:31:16.558351: W tensorflow/core/common_runtime/graph_constructor.cc:803] Node 'cond/while' has 13 outputs but the _output_shapes attribute specifies shapes for 46 outputs. Output shapes may be inaccurate.\n",
      "2022-03-17 13:31:16.577294: W tensorflow/core/common_runtime/graph_constructor.cc:803] Node 'cond' has 4 outputs but the _output_shapes attribute specifies shapes for 46 outputs. Output shapes may be inaccurate.\n"
     ]
    },
    {
     "data": {
      "text/plain": [
       "'def init_model_2():\\n  model = Sequential()\\n  #input = Input(shape=(142, 1353))\\n  initial_learning_rate = 0.001\\n  lr_schedule = ExponentialDecay(initial_learning_rate, decay_steps=2000, decay_rate=0.5)\\n  adam = Adam(learning_rate=lr_schedule)\\n  model.add(layers.Masking(mask_value=-1000))\\n  #model.add(layers.Embedding(500, 7059, input_length = X.shape[1]))\\n  model.add(layers.GRU(512, return_sequences=True, activation=\\'tanh\\')) #input_shape = [1, 1353]))\\n  model.add(layers.GRU(256, return_sequences=True, activation=\\'tanh\\'))\\n  model.add(layers.GRU(128, return_sequences=True, activation=\\'tanh\\'))\\n  model.add(layers.GRU(256, return_sequences=True, activation=\\'tanh\\'))\\n  model.add(layers.GRU(128, return_sequences=True, activation=\\'tanh\\'))\\n  model.add(layers.GRU(64, return_sequences=True, activation=\\'tanh\\'))\\n  model.add(layers.GRU(32, return_sequences=True, activation=\\'tanh\\',dropout=0.01))\\n  model.add(layers.Flatten())\\n  model.add(Dense(16, activation = \\'tanh\\'))\\n  model.add(Dense(1, activation = \\'sigmoid\\'))\\n  \\n  model.compile(\\n      optimizer=adam,\\n      loss=\"binary_crossentropy\",\\n      metrics=[\\'accuracy\\', \\'AUC\\',\\'Precision\\',\\'Recall\\'])\\n  return model\\n\\nmodel = init_model_2()\\n\\n\\nfrom tensorflow.keras.callbacks import EarlyStopping\\n\\nes = EarlyStopping(patience=10, restore_best_weights=True)\\nhistory_fit = model.fit(X, y, \\n          batch_size = 32,\\n          epochs=100,\\n          validation_data = (X_val, Y_val),\\n          #callbacks=[es],\\n          verbose = 1\\n         )'"
      ]
     },
     "execution_count": 8,
     "metadata": {},
     "output_type": "execute_result"
    }
   ],
   "source": [
    "from tensorflow.keras import Sequential\n",
    "from tensorflow.keras import layers\n",
    "from tensorflow.keras.optimizers.schedules import ExponentialDecay\n",
    "from tensorflow.keras.optimizers import Adam\n",
    "from keras.layers import Activation, Dense\n",
    "from keras.layers import Input\n",
    "\n",
    "model = joblib.load('../../../transcripciones_finalizado_model.joblib')\n",
    "\n",
    "'''def init_model_2():\n",
    "  model = Sequential()\n",
    "  #input = Input(shape=(142, 1353))\n",
    "  initial_learning_rate = 0.001\n",
    "  lr_schedule = ExponentialDecay(initial_learning_rate, decay_steps=2000, decay_rate=0.5)\n",
    "  adam = Adam(learning_rate=lr_schedule)\n",
    "  model.add(layers.Masking(mask_value=-1000))\n",
    "  #model.add(layers.Embedding(500, 7059, input_length = X.shape[1]))\n",
    "  model.add(layers.GRU(512, return_sequences=True, activation='tanh')) #input_shape = [1, 1353]))\n",
    "  model.add(layers.GRU(256, return_sequences=True, activation='tanh'))\n",
    "  model.add(layers.GRU(128, return_sequences=True, activation='tanh'))\n",
    "  model.add(layers.GRU(256, return_sequences=True, activation='tanh'))\n",
    "  model.add(layers.GRU(128, return_sequences=True, activation='tanh'))\n",
    "  model.add(layers.GRU(64, return_sequences=True, activation='tanh'))\n",
    "  model.add(layers.GRU(32, return_sequences=True, activation='tanh',dropout=0.01))\n",
    "  model.add(layers.Flatten())\n",
    "  model.add(Dense(16, activation = 'tanh'))\n",
    "  model.add(Dense(1, activation = 'sigmoid'))\n",
    "  \n",
    "  model.compile(\n",
    "      optimizer=adam,\n",
    "      loss=\"binary_crossentropy\",\n",
    "      metrics=['accuracy', 'AUC','Precision','Recall'])\n",
    "  return model\n",
    "\n",
    "model = init_model_2()\n",
    "\n",
    "\n",
    "from tensorflow.keras.callbacks import EarlyStopping\n",
    "\n",
    "es = EarlyStopping(patience=10, restore_best_weights=True)\n",
    "history_fit = model.fit(X, y, \n",
    "          batch_size = 32,\n",
    "          epochs=100,\n",
    "          validation_data = (X_val, Y_val),\n",
    "          #callbacks=[es],\n",
    "          verbose = 1\n",
    "         )'''"
   ]
  },
  {
   "cell_type": "code",
   "execution_count": 9,
   "id": "b64234d4",
   "metadata": {},
   "outputs": [
    {
     "data": {
      "text/plain": [
       "<keras.engine.sequential.Sequential at 0x7f49ca79c430>"
      ]
     },
     "execution_count": 9,
     "metadata": {},
     "output_type": "execute_result"
    }
   ],
   "source": [
    "len(y)==len(X)\n",
    "model"
   ]
  },
  {
   "cell_type": "code",
   "execution_count": 10,
   "id": "5634dc4b",
   "metadata": {},
   "outputs": [
    {
     "name": "stdout",
     "output_type": "stream",
     "text": [
      "Epoch 1/100\n",
      "509/509 [==============================] - 57s 66ms/step - loss: 0.7021 - accuracy: 0.5103 - auc: 0.5078 - precision: 0.5146 - recall: 0.7451 - val_loss: 0.6945 - val_accuracy: 0.5029 - val_auc: 0.5003 - val_precision: 0.5028 - val_recall: 0.9956\n",
      "Epoch 2/100\n",
      "509/509 [==============================] - 24s 48ms/step - loss: 0.6931 - accuracy: 0.5053 - auc: 0.5028 - precision: 0.5109 - recall: 0.7677 - val_loss: 0.6964 - val_accuracy: 0.5027 - val_auc: 0.5003 - val_precision: 0.5027 - val_recall: 1.0000\n",
      "Epoch 3/100\n",
      "509/509 [==============================] - 23s 45ms/step - loss: 0.6932 - accuracy: 0.5119 - auc: 0.4924 - precision: 0.5117 - recall: 0.9934 - val_loss: 0.6932 - val_accuracy: 0.5029 - val_auc: 0.5003 - val_precision: 0.5028 - val_recall: 0.9956\n",
      "Epoch 4/100\n",
      "509/509 [==============================] - 25s 48ms/step - loss: 0.6930 - accuracy: 0.5110 - auc: 0.4967 - precision: 0.5113 - recall: 0.9897 - val_loss: 0.6933 - val_accuracy: 0.5029 - val_auc: 0.5003 - val_precision: 0.5028 - val_recall: 0.9956\n",
      "Epoch 5/100\n",
      "509/509 [==============================] - 23s 45ms/step - loss: 0.6931 - accuracy: 0.5071 - auc: 0.4968 - precision: 0.5099 - recall: 0.9304 - val_loss: 0.6931 - val_accuracy: 0.5029 - val_auc: 0.5003 - val_precision: 0.5028 - val_recall: 0.9956\n",
      "Epoch 6/100\n",
      "509/509 [==============================] - 23s 45ms/step - loss: 0.6930 - accuracy: 0.5105 - auc: 0.5001 - precision: 0.5123 - recall: 0.8897 - val_loss: 0.6933 - val_accuracy: 0.5029 - val_auc: 0.5003 - val_precision: 0.5028 - val_recall: 0.9956\n",
      "Epoch 7/100\n",
      "509/509 [==============================] - 21s 42ms/step - loss: 0.6930 - accuracy: 0.5130 - auc: 0.4938 - precision: 0.5122 - recall: 0.9980 - val_loss: 0.6934 - val_accuracy: 0.5029 - val_auc: 0.5003 - val_precision: 0.5028 - val_recall: 0.9956\n",
      "Epoch 8/100\n",
      "509/509 [==============================] - 21s 41ms/step - loss: 0.6930 - accuracy: 0.5128 - auc: 0.4904 - precision: 0.5121 - recall: 0.9970 - val_loss: 0.6933 - val_accuracy: 0.5029 - val_auc: 0.5003 - val_precision: 0.5028 - val_recall: 0.9956\n",
      "Epoch 9/100\n",
      "509/509 [==============================] - 21s 41ms/step - loss: 0.6929 - accuracy: 0.5126 - auc: 0.4996 - precision: 0.5120 - recall: 0.9976 - val_loss: 0.6932 - val_accuracy: 0.5029 - val_auc: 0.5003 - val_precision: 0.5028 - val_recall: 0.9956\n",
      "Epoch 10/100\n",
      "509/509 [==============================] - 21s 41ms/step - loss: 0.6930 - accuracy: 0.5128 - auc: 0.4948 - precision: 0.5121 - recall: 0.9970 - val_loss: 0.6932 - val_accuracy: 0.5029 - val_auc: 0.5003 - val_precision: 0.5028 - val_recall: 0.9956\n",
      "Epoch 11/100\n",
      "509/509 [==============================] - 21s 42ms/step - loss: 0.6929 - accuracy: 0.5128 - auc: 0.4982 - precision: 0.5121 - recall: 0.9970 - val_loss: 0.6932 - val_accuracy: 0.5029 - val_auc: 0.5003 - val_precision: 0.5028 - val_recall: 0.9956\n",
      "Epoch 12/100\n",
      "509/509 [==============================] - 21s 41ms/step - loss: 0.6929 - accuracy: 0.5128 - auc: 0.4997 - precision: 0.5121 - recall: 0.9970 - val_loss: 0.6932 - val_accuracy: 0.5029 - val_auc: 0.5003 - val_precision: 0.5028 - val_recall: 0.9956\n",
      "Epoch 13/100\n",
      "509/509 [==============================] - 21s 41ms/step - loss: 0.6929 - accuracy: 0.5128 - auc: 0.4973 - precision: 0.5121 - recall: 0.9970 - val_loss: 0.6933 - val_accuracy: 0.5029 - val_auc: 0.5003 - val_precision: 0.5028 - val_recall: 0.9956\n",
      "Epoch 14/100\n",
      "509/509 [==============================] - 21s 41ms/step - loss: 0.6929 - accuracy: 0.5128 - auc: 0.4973 - precision: 0.5121 - recall: 0.9970 - val_loss: 0.6933 - val_accuracy: 0.5029 - val_auc: 0.5003 - val_precision: 0.5028 - val_recall: 0.9956\n",
      "Epoch 15/100\n",
      "509/509 [==============================] - 21s 41ms/step - loss: 0.6929 - accuracy: 0.5128 - auc: 0.5009 - precision: 0.5121 - recall: 0.9970 - val_loss: 0.6934 - val_accuracy: 0.5029 - val_auc: 0.5003 - val_precision: 0.5028 - val_recall: 0.9956\n"
     ]
    }
   ],
   "source": [
    "from tensorflow.keras.callbacks import EarlyStopping\n",
    "\n",
    "es = EarlyStopping(patience=10, restore_best_weights=True)\n",
    "\n",
    "history_fit = model.fit(x=X,\n",
    "    y=y,\n",
    "    batch_size=32,\n",
    "    epochs=100,\n",
    "    verbose=1,\n",
    "    callbacks=es,\n",
    "    validation_split=0.2,\n",
    "    \n",
    ")"
   ]
  }
 ],
 "metadata": {
  "kernelspec": {
   "display_name": "Python 3 (ipykernel)",
   "language": "python",
   "name": "python3"
  },
  "language_info": {
   "codemirror_mode": {
    "name": "ipython",
    "version": 3
   },
   "file_extension": ".py",
   "mimetype": "text/x-python",
   "name": "python",
   "nbconvert_exporter": "python",
   "pygments_lexer": "ipython3",
   "version": "3.8.12"
  },
  "toc": {
   "base_numbering": 1,
   "nav_menu": {},
   "number_sections": true,
   "sideBar": true,
   "skip_h1_title": false,
   "title_cell": "Table of Contents",
   "title_sidebar": "Contents",
   "toc_cell": false,
   "toc_position": {},
   "toc_section_display": true,
   "toc_window_display": false
  }
 },
 "nbformat": 4,
 "nbformat_minor": 5
}
