{
 "cells": [
  {
   "cell_type": "markdown",
   "id": "50c1e290",
   "metadata": {},
   "source": [
    "# traer data"
   ]
  },
  {
   "cell_type": "code",
   "execution_count": 1,
   "id": "8d3d5620",
   "metadata": {},
   "outputs": [
    {
     "name": "stderr",
     "output_type": "stream",
     "text": [
      "2022-03-09 12:44:06.413954: W tensorflow/stream_executor/platform/default/dso_loader.cc:64] Could not load dynamic library 'libcudart.so.11.0'; dlerror: libcudart.so.11.0: cannot open shared object file: No such file or directory\n",
      "2022-03-09 12:44:06.414001: I tensorflow/stream_executor/cuda/cudart_stub.cc:29] Ignore above cudart dlerror if you do not have a GPU set up on your machine.\n"
     ]
    }
   ],
   "source": [
    "import pandas as pd\n",
    "import numpy as np\n",
    "import matplotlib.pyplot as plt\n",
    "import seaborn as sns\n",
    "from sklearn.feature_extraction.text import TfidfVectorizer\n",
    "from sklearn.model_selection import train_test_split\n",
    "\n",
    "import numpy as np\n",
    "from tensorflow.keras.preprocessing.sequence import pad_sequences"
   ]
  },
  {
   "cell_type": "code",
   "execution_count": 2,
   "id": "e5ad1a39",
   "metadata": {},
   "outputs": [
    {
     "data": {
      "text/html": [
       "<div>\n",
       "<style scoped>\n",
       "    .dataframe tbody tr th:only-of-type {\n",
       "        vertical-align: middle;\n",
       "    }\n",
       "\n",
       "    .dataframe tbody tr th {\n",
       "        vertical-align: top;\n",
       "    }\n",
       "\n",
       "    .dataframe thead th {\n",
       "        text-align: right;\n",
       "    }\n",
       "</style>\n",
       "<table border=\"1\" class=\"dataframe\">\n",
       "  <thead>\n",
       "    <tr style=\"text-align: right;\">\n",
       "      <th></th>\n",
       "      <th>clean_text</th>\n",
       "      <th>label</th>\n",
       "    </tr>\n",
       "  </thead>\n",
       "  <tbody>\n",
       "    <tr>\n",
       "      <th>0</th>\n",
       "      <td>lay bed hour point back pain get work minut cl...</td>\n",
       "      <td>1</td>\n",
       "    </tr>\n",
       "    <tr>\n",
       "      <th>1</th>\n",
       "      <td>dlitedaili dont play wouldnt want anyth world</td>\n",
       "      <td>0</td>\n",
       "    </tr>\n",
       "    <tr>\n",
       "      <th>2</th>\n",
       "      <td>rewebcoach hey handsom time get day go</td>\n",
       "      <td>0</td>\n",
       "    </tr>\n",
       "    <tr>\n",
       "      <th>3</th>\n",
       "      <td>get readi tenni maryyi</td>\n",
       "      <td>0</td>\n",
       "    </tr>\n",
       "    <tr>\n",
       "      <th>4</th>\n",
       "      <td>hear song band almost never play favourit radi...</td>\n",
       "      <td>0</td>\n",
       "    </tr>\n",
       "  </tbody>\n",
       "</table>\n",
       "</div>"
      ],
      "text/plain": [
       "                                          clean_text  label\n",
       "0  lay bed hour point back pain get work minut cl...      1\n",
       "1      dlitedaili dont play wouldnt want anyth world      0\n",
       "2             rewebcoach hey handsom time get day go      0\n",
       "3                             get readi tenni maryyi      0\n",
       "4  hear song band almost never play favourit radi...      0"
      ]
     },
     "execution_count": 2,
     "metadata": {},
     "output_type": "execute_result"
    }
   ],
   "source": [
    "#bring your data!\n",
    "path = '/home/lucaspancotto/code/JoacoSoulez/mental_health_first_aid_evaluation/data/twitter_reddit_text.csv'\n",
    "data = pd.read_csv(f'{path}')\n",
    "data.drop(columns=['Unnamed: 0'], inplace=True)\n",
    "data.dropna(inplace=True)\n",
    "data.head()"
   ]
  },
  {
   "cell_type": "code",
   "execution_count": 3,
   "id": "de922b91",
   "metadata": {},
   "outputs": [
    {
     "name": "stdout",
     "output_type": "stream",
     "text": [
      "null values:\n",
      " \n",
      " clean_text    0\n",
      "label         0\n",
      "dtype: int64\n"
     ]
    }
   ],
   "source": [
    "print('null values:\\n \\n',data.isnull().sum())\n"
   ]
  },
  {
   "cell_type": "code",
   "execution_count": null,
   "id": "47600a3b",
   "metadata": {},
   "outputs": [],
   "source": []
  },
  {
   "cell_type": "code",
   "execution_count": null,
   "id": "5dc7aff8",
   "metadata": {},
   "outputs": [],
   "source": []
  },
  {
   "cell_type": "code",
   "execution_count": null,
   "id": "c9cfdf9e",
   "metadata": {},
   "outputs": [],
   "source": []
  },
  {
   "cell_type": "markdown",
   "id": "ebc86b4d",
   "metadata": {},
   "source": [
    "## train test split\n"
   ]
  },
  {
   "cell_type": "code",
   "execution_count": 4,
   "id": "7954f8d3",
   "metadata": {},
   "outputs": [],
   "source": [
    "X = data.clean_text\n",
    "y = data.label\n",
    "\n",
    "X_train, X_test, y_train, y_test = train_test_split(X , y ,test_size = 0.3 )\n"
   ]
  },
  {
   "cell_type": "code",
   "execution_count": 5,
   "id": "64326438",
   "metadata": {},
   "outputs": [
    {
     "name": "stdout",
     "output_type": "stream",
     "text": [
      "length of X_train 17750 length of X_test 7608 length of y_train 17750 length of y_test 7608\n"
     ]
    }
   ],
   "source": [
    "print('length of X_train',len(X_train), 'length of X_test',len(X_test), 'length of y_train',len(y_train), 'length of y_test',len(y_test))"
   ]
  },
  {
   "cell_type": "code",
   "execution_count": 6,
   "id": "86f8fc3c",
   "metadata": {},
   "outputs": [
    {
     "data": {
      "text/plain": [
       "21738    rea long period self esteem lowest thought cur...\n",
       "2756     almost half adult autism struggl depress s tac...\n",
       "3264                              isacullen yay thanku hug\n",
       "19529    oh can not wait courteney cox new show cougar ...\n",
       "13948                                 excit rob thoma back\n",
       "                               ...                        \n",
       "15848    sa worker suffer depress s www health medic de...\n",
       "6319                                        np veckatimest\n",
       "4573     nathali alon home eat cereal watch videoclip t...\n",
       "9470     everi night go sleep exact dream happen year a...\n",
       "10514                               go bed good night folk\n",
       "Name: clean_text, Length: 17750, dtype: object"
      ]
     },
     "execution_count": 6,
     "metadata": {},
     "output_type": "execute_result"
    }
   ],
   "source": [
    "X_train"
   ]
  },
  {
   "cell_type": "markdown",
   "id": "57c10001",
   "metadata": {},
   "source": [
    "## word tokenize and word 2 vec"
   ]
  },
  {
   "cell_type": "code",
   "execution_count": 7,
   "id": "20b2dad7",
   "metadata": {},
   "outputs": [],
   "source": [
    "from nltk.tokenize import word_tokenize\n",
    "from gensim.models import Word2Vec"
   ]
  },
  {
   "cell_type": "code",
   "execution_count": 8,
   "id": "adc36e55",
   "metadata": {},
   "outputs": [],
   "source": [
    "\n",
    "\n",
    "X_train = [word_tokenize(str(_)) for _ in X_train]\n",
    "X_test = [word_tokenize(str(_)) for _ in X_test]\n",
    "\n"
   ]
  },
  {
   "cell_type": "code",
   "execution_count": 9,
   "id": "fe15b950",
   "metadata": {},
   "outputs": [],
   "source": [
    "\n",
    "\n",
    "# This line trains an entire embedding for the words in your train set\n",
    "word2vec = Word2Vec(sentences=X_train, vector_size=100, window=5, min_count=5)"
   ]
  },
  {
   "cell_type": "code",
   "execution_count": 10,
   "id": "8369ffc8",
   "metadata": {},
   "outputs": [
    {
     "data": {
      "text/plain": [
       "array([[ 0.6185211 , -0.4980403 ,  0.51593506, -0.13329145,  1.4337642 ,\n",
       "        -0.8515912 ,  0.20383611,  0.46031266, -1.5011706 ,  0.73388094,\n",
       "        -0.20479155,  0.10925493, -1.2244749 ,  0.4905955 ,  0.32720193,\n",
       "        -0.29199234, -0.6557665 ,  0.10763621,  0.72440755, -1.1992548 ,\n",
       "        -0.20178477,  0.3801499 , -0.5322313 ,  0.43024614, -0.52608156,\n",
       "        -0.08701524,  0.3671475 ,  0.73599225, -1.0381328 ,  0.8788391 ,\n",
       "         1.5920372 , -0.3095948 ,  0.04465646, -1.0292262 ,  0.5261519 ,\n",
       "         0.8185995 , -0.89924926,  0.54090774,  0.37362787, -1.0940822 ,\n",
       "        -0.3484779 , -0.28874752, -0.28175887,  0.8529528 ,  0.733508  ,\n",
       "         0.7996774 , -0.991818  ,  1.0086513 ,  0.44767347,  0.02065887,\n",
       "        -0.5490725 ,  1.2252142 ,  0.33787432, -1.0847461 , -0.30515093,\n",
       "         0.04646997, -0.4265852 , -1.3548826 ,  0.89414966, -0.46764937,\n",
       "        -0.28307727, -0.13190533, -0.0401476 ,  0.1502104 , -0.44518957,\n",
       "        -0.24143933,  1.4508879 ,  0.9057299 , -0.5126748 ,  1.347958  ,\n",
       "        -0.717939  , -0.03840396, -0.05109683,  0.62688315,  0.6001696 ,\n",
       "         0.51590586, -0.2021712 ,  0.5694001 ,  0.92457414, -1.0889454 ,\n",
       "        -0.9099663 , -0.18244128,  0.6250185 , -0.03061759, -0.31953263,\n",
       "        -0.34884503, -0.3140654 ,  0.8995722 , -0.24977145, -1.0272119 ,\n",
       "         0.9210198 ,  0.97741103,  1.237366  , -0.45665273, -0.21787058,\n",
       "        -0.8061414 , -0.4935548 ,  0.35748246, -0.04801381,  0.928999  ],\n",
       "       [-0.39693236,  0.39122236, -0.06756793,  0.14457487, -0.01730138,\n",
       "        -0.31260207,  0.46386474,  0.6843894 , -0.3163761 ,  0.13263969,\n",
       "         0.07475037, -0.4706116 ,  0.49056846,  0.24645285,  0.01124105,\n",
       "        -0.13872571, -0.44701713, -0.36018354,  0.20472541,  0.26693437,\n",
       "         0.25133628, -0.14851095, -0.23894222, -0.12151482, -0.21809076,\n",
       "        -0.37439728, -0.15269957, -0.527573  , -0.24048144, -0.0297421 ,\n",
       "         0.4415771 ,  0.02121098,  0.25856388, -0.3084006 ,  0.21352507,\n",
       "         0.9063294 , -0.05106604, -0.2503238 , -0.04696827, -0.42315438,\n",
       "        -0.17028128, -0.1656327 , -0.0028398 ,  0.17985386,  0.04249477,\n",
       "        -0.10400648, -0.29222503,  0.32312858,  0.15378007,  0.57836246,\n",
       "         0.14395523, -0.18849786,  0.00566206, -0.22327165,  0.06096109,\n",
       "         0.23019207,  0.4579203 ,  0.09552506, -0.16727777, -0.07167137,\n",
       "         0.06635283,  0.35418305, -0.04209193, -0.23073371, -0.56397337,\n",
       "        -0.11749309,  0.4524395 ,  0.28256088, -0.24935247,  0.6517717 ,\n",
       "         0.1731464 , -0.09258272,  0.5863587 ,  0.49950856,  0.3539432 ,\n",
       "         0.36361387, -0.21922085, -0.29453072, -0.25943416,  0.3990912 ,\n",
       "        -0.38548326, -0.03573065,  0.02372598,  0.5415713 , -0.35513306,\n",
       "         0.00759751, -0.00279785,  0.32679746,  0.27845755,  0.07348172,\n",
       "         0.51479673,  0.44750953,  0.11538497,  0.16586909,  0.42128795,\n",
       "         0.5437026 ,  0.01544529, -0.03916147,  0.33377787, -0.09730687]],\n",
       "      dtype=float32)"
      ]
     },
     "execution_count": 10,
     "metadata": {},
     "output_type": "execute_result"
    }
   ],
   "source": [
    "word2vec.wv['depress' , 'hello']"
   ]
  },
  {
   "cell_type": "markdown",
   "id": "2e443b32",
   "metadata": {},
   "source": [
    "# data embedding"
   ]
  },
  {
   "cell_type": "markdown",
   "id": "e848af05",
   "metadata": {},
   "source": [
    "## embed data"
   ]
  },
  {
   "cell_type": "code",
   "execution_count": 11,
   "id": "ac2928cb",
   "metadata": {},
   "outputs": [],
   "source": [
    "def embed_sentence(word2vec, sentence):\n",
    "    # $CHALLENGIFY_BEGIN\n",
    "    embedded_sentence = []\n",
    "    for word in sentence:\n",
    "        if word in word2vec.wv:\n",
    "            embedded_sentence.append(word2vec.wv[word])\n",
    "        \n",
    "    return np.array(embedded_sentence)"
   ]
  },
  {
   "cell_type": "code",
   "execution_count": 12,
   "id": "8e6d47c0",
   "metadata": {},
   "outputs": [],
   "source": [
    "def embedding(word2vec, sentences):\n",
    "    # $CHALLENGIFY_BEGIN\n",
    "    embed = []\n",
    "    \n",
    "    for sentence in sentences:\n",
    "        embedded_sentence = embed_sentence(word2vec, sentence)\n",
    "        embed.append(embedded_sentence)\n",
    "        \n",
    "    return embed\n",
    "    # $CHALLENGIFY_END\n",
    "    \n",
    "X_train = embedding(word2vec, X_train)\n",
    "X_test = embedding(word2vec, X_test)"
   ]
  },
  {
   "cell_type": "markdown",
   "id": "ca40f4e5",
   "metadata": {},
   "source": [
    "## pad data"
   ]
  },
  {
   "cell_type": "code",
   "execution_count": 13,
   "id": "c1e6fcc2",
   "metadata": {},
   "outputs": [
    {
     "data": {
      "text/plain": [
       "\"X_train_pad = pad_sequences(X_train, dtype='float', padding='post')\\nX_test_pad = pad_sequences(X_test, dtype='float', padding='post')\""
      ]
     },
     "execution_count": 13,
     "metadata": {},
     "output_type": "execute_result"
    }
   ],
   "source": [
    "'''X_train_pad = pad_sequences(X_train, dtype='float', padding='post')\n",
    "X_test_pad = pad_sequences(X_test, dtype='float', padding='post')'''"
   ]
  },
  {
   "cell_type": "code",
   "execution_count": 14,
   "id": "825d7dba",
   "metadata": {},
   "outputs": [
    {
     "name": "stdout",
     "output_type": "stream",
     "text": [
      "number of train texts:  17750\n"
     ]
    },
    {
     "data": {
      "text/plain": [
       "10"
      ]
     },
     "execution_count": 14,
     "metadata": {},
     "output_type": "execute_result"
    }
   ],
   "source": [
    "print('number of train texts: ' ,len(X_train))\n",
    "X_train[3].shape[0]"
   ]
  },
  {
   "cell_type": "code",
   "execution_count": 15,
   "id": "88a62ac1",
   "metadata": {},
   "outputs": [],
   "source": [
    "text_word_lengths = [X_train[i].shape[0] for i in np.arange(len(X_train))]\n",
    "text_word_lengths_test = [X_test[i].shape[0] for i in np.arange(len(X_test))]"
   ]
  },
  {
   "cell_type": "code",
   "execution_count": 16,
   "id": "7977dc15",
   "metadata": {},
   "outputs": [
    {
     "data": {
      "text/plain": [
       "<AxesSubplot:title={'center':'test data lengths'}, ylabel='Count'>"
      ]
     },
     "execution_count": 16,
     "metadata": {},
     "output_type": "execute_result"
    },
    {
     "data": {
      "image/png": "[encoded data removed]",
      "text/plain": [
       "<Figure size 432x288 with 2 Axes>"
      ]
     },
     "metadata": {
      "needs_background": "light"
     },
     "output_type": "display_data"
    }
   ],
   "source": [
    "plt.figure()\n",
    "plt.subplot(1,2,1)\n",
    "plt.title('train data lengths')\n",
    "sns.histplot(text_word_lengths)\n",
    "plt.subplot(1,2,2)\n",
    "plt.title('test data lengths')\n",
    "sns.histplot(text_word_lengths_test)"
   ]
  },
  {
   "cell_type": "code",
   "execution_count": 17,
   "id": "2f529512",
   "metadata": {},
   "outputs": [],
   "source": [
    "text_word_lengths = np.array(text_word_lengths) "
   ]
  },
  {
   "cell_type": "code",
   "execution_count": 18,
   "id": "d9215f3c",
   "metadata": {},
   "outputs": [],
   "source": [
    "text_word_lengths_df =pd.Series(text_word_lengths).sort_values()"
   ]
  },
  {
   "cell_type": "code",
   "execution_count": 19,
   "id": "faee492b",
   "metadata": {},
   "outputs": [
    {
     "data": {
      "text/plain": [
       "14968    6240\n",
       "12690    1192\n",
       "87       1124\n",
       "11930    1086\n",
       "17145    1045\n",
       "10873    1010\n",
       "7483      985\n",
       "15817     915\n",
       "11206     824\n",
       "13638     808\n",
       "12426     801\n",
       "13674     786\n",
       "6478      724\n",
       "9431      715\n",
       "14407     675\n",
       "12410     660\n",
       "4831      650\n",
       "11340     645\n",
       "12541     631\n",
       "3064      613\n",
       "1263      612\n",
       "12838     598\n",
       "3235      586\n",
       "15526     580\n",
       "5700      576\n",
       "7507      570\n",
       "11580     566\n",
       "15091     561\n",
       "9183      550\n",
       "10343     547\n",
       "dtype: int64"
      ]
     },
     "execution_count": 19,
     "metadata": {},
     "output_type": "execute_result"
    }
   ],
   "source": [
    "text_word_lengths_df.sort_values(ascending=False).head(30)"
   ]
  },
  {
   "cell_type": "code",
   "execution_count": 20,
   "id": "4d49c90e",
   "metadata": {},
   "outputs": [],
   "source": [
    "#cortamos en 400 words\n",
    "\n",
    "X_train_pad = pad_sequences(X_train, dtype='float', padding='post', maxlen= 400,truncating= 'post')\n",
    "X_test_pad = pad_sequences(X_test, dtype='float', padding='post', maxlen = 400 , truncating = 'post')\n"
   ]
  },
  {
   "cell_type": "markdown",
   "id": "9f965c20",
   "metadata": {},
   "source": [
    "# the model"
   ]
  },
  {
   "cell_type": "markdown",
   "id": "4aa35f0c",
   "metadata": {},
   "source": [
    "## baseline score"
   ]
  },
  {
   "cell_type": "code",
   "execution_count": 21,
   "id": "28df5db1",
   "metadata": {},
   "outputs": [
    {
     "name": "stdout",
     "output_type": "stream",
     "text": [
      "Number of labels in train set {0: 8888, 1: 8862}\n",
      "Baseline accuracy:  0.4982912723449001\n"
     ]
    }
   ],
   "source": [
    "from sklearn.metrics import accuracy_score\n",
    "\n",
    "unique, counts = np.unique(y_train, return_counts=True)\n",
    "counts = dict(zip(unique, counts))\n",
    "print('Number of labels in train set', counts)\n",
    "\n",
    "y_pred = 0 if counts[0] > counts[1] else 1\n",
    "\n",
    "print('Baseline accuracy: ', accuracy_score(y_test, [y_pred]*len(y_test)))"
   ]
  },
  {
   "cell_type": "markdown",
   "id": "7523ff85",
   "metadata": {},
   "source": [
    "## first neural network"
   ]
  },
  {
   "cell_type": "code",
   "execution_count": 22,
   "id": "67c3a352",
   "metadata": {},
   "outputs": [
    {
     "name": "stderr",
     "output_type": "stream",
     "text": [
      "2022-03-09 12:44:23.437730: W tensorflow/stream_executor/platform/default/dso_loader.cc:64] Could not load dynamic library 'libcuda.so.1'; dlerror: libcuda.so.1: cannot open shared object file: No such file or directory\n",
      "2022-03-09 12:44:23.437781: W tensorflow/stream_executor/cuda/cuda_driver.cc:269] failed call to cuInit: UNKNOWN ERROR (303)\n",
      "2022-03-09 12:44:23.437798: I tensorflow/stream_executor/cuda/cuda_diagnostics.cc:156] kernel driver does not appear to be running on this host (DESKTOP-QMHRL2V): /proc/driver/nvidia/version does not exist\n",
      "2022-03-09 12:44:23.437999: I tensorflow/core/platform/cpu_feature_guard.cc:151] This TensorFlow binary is optimized with oneAPI Deep Neural Network Library (oneDNN) to use the following CPU instructions in performance-critical operations:  AVX2 FMA\n",
      "To enable them in other operations, rebuild TensorFlow with the appropriate compiler flags.\n"
     ]
    }
   ],
   "source": [
    "from tensorflow.keras import Sequential\n",
    "from tensorflow.keras import layers\n",
    "\n",
    "def init_model():\n",
    "    model = Sequential()\n",
    "    model.add(layers.Masking())\n",
    "    model.add(layers.LSTM(20, activation='tanh'))\n",
    "    model.add(layers.Dense(15, activation='relu'))\n",
    "    model.add(layers.Dense(1, activation='sigmoid'))\n",
    "\n",
    "    model.compile(loss='binary_crossentropy',\n",
    "                  optimizer='rmsprop',\n",
    "                  metrics=['accuracy', 'AUC','Precision','Recall'])\n",
    "    \n",
    "    return model\n",
    "\n",
    "model = init_model()"
   ]
  },
  {
   "cell_type": "code",
   "execution_count": null,
   "id": "406763ac",
   "metadata": {},
   "outputs": [
    {
     "name": "stderr",
     "output_type": "stream",
     "text": [
      "2022-03-09 12:46:32.619482: W tensorflow/core/framework/cpu_allocator_impl.cc:82] Allocation of 1988000000 exceeds 10% of free system memory.\n"
     ]
    },
    {
     "name": "stdout",
     "output_type": "stream",
     "text": [
      "Epoch 1/100\n",
      "389/389 [==============================] - ETA: 0s - loss: 0.1129 - accuracy: 0.9703 - auc: 0.9920 - precision: 0.9770 - recall: 0.9630"
     ]
    },
    {
     "name": "stderr",
     "output_type": "stream",
     "text": [
      "2022-03-09 12:51:47.766035: W tensorflow/core/framework/cpu_allocator_impl.cc:82] Allocation of 852000000 exceeds 10% of free system memory.\n"
     ]
    },
    {
     "name": "stdout",
     "output_type": "stream",
     "text": [
      "389/389 [==============================] - 353s 878ms/step - loss: 0.1129 - accuracy: 0.9703 - auc: 0.9920 - precision: 0.9770 - recall: 0.9630 - val_loss: 0.0729 - val_accuracy: 0.9773 - val_auc: 0.9948 - val_precision: 0.9815 - val_recall: 0.9731\n",
      "Epoch 2/100\n",
      "389/389 [==============================] - 105s 270ms/step - loss: 0.0563 - accuracy: 0.9818 - auc: 0.9968 - precision: 0.9872 - recall: 0.9761 - val_loss: 0.0835 - val_accuracy: 0.9762 - val_auc: 0.9947 - val_precision: 0.9969 - val_recall: 0.9555\n",
      "Epoch 3/100\n",
      "389/389 [==============================] - ETA: 0s - loss: 0.0511 - accuracy: 0.9837 - auc: 0.9972 - precision: 0.9889 - recall: 0.9782"
     ]
    }
   ],
   "source": [
    "from tensorflow.keras.callbacks import EarlyStopping\n",
    "\n",
    "es = EarlyStopping(patience=3, restore_best_weights=True)\n",
    "\n",
    "history = model.fit(X_train_pad, y_train, \n",
    "          batch_size = 32,\n",
    "          epochs=100,\n",
    "          validation_split=0.3,\n",
    "          callbacks=[es],\n",
    "          verbose = 1\n",
    "         )"
   ]
  },
  {
   "cell_type": "code",
   "execution_count": null,
   "id": "2595f238",
   "metadata": {},
   "outputs": [],
   "source": [
    "res = model.evaluate(X_test_pad, y_test, verbose=0)\n",
    "\n",
    "'''print(f'The accuracy evaluated on the test set is of {res[1]*100:.3f}%')'''"
   ]
  },
  {
   "cell_type": "code",
   "execution_count": null,
   "id": "1ebf7817",
   "metadata": {},
   "outputs": [],
   "source": [
    "\n",
    "\n",
    "\n",
    "\n"
   ]
  }
 ],
 "metadata": {
  "kernelspec": {
   "display_name": "Python 3 (ipykernel)",
   "language": "python",
   "name": "python3"
  },
  "language_info": {
   "codemirror_mode": {
    "name": "ipython",
    "version": 3
   },
   "file_extension": ".py",
   "mimetype": "text/x-python",
   "name": "python",
   "nbconvert_exporter": "python",
   "pygments_lexer": "ipython3",
   "version": "3.8.12"
  },
  "toc": {
   "base_numbering": 1,
   "nav_menu": {},
   "number_sections": true,
   "sideBar": true,
   "skip_h1_title": false,
   "title_cell": "Table of Contents",
   "title_sidebar": "Contents",
   "toc_cell": false,
   "toc_position": {},
   "toc_section_display": true,
   "toc_window_display": false
  }
 },
 "nbformat": 4,
 "nbformat_minor": 5
}
