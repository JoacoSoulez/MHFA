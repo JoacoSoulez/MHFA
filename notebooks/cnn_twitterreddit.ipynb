{
 "cells": [
  {
   "cell_type": "code",
   "execution_count": 1,
   "id": "ea441679",
   "metadata": {},
   "outputs": [],
   "source": [
    "import pandas as pd\n",
    "import numpy as np\n",
    "import matplotlib.pyplot as plt\n",
    "import seaborn as sns\n",
    "from sklearn.model_selection import train_test_split\n",
    "from nltk.tokenize import word_tokenize\n",
    "from gensim.models import Word2Vec"
   ]
  },
  {
   "cell_type": "code",
   "execution_count": 2,
   "id": "0c34f725",
   "metadata": {},
   "outputs": [],
   "source": [
    "path = '/home/lucaspancotto/code/JoacoSoulez/mental_health_first_aid_evaluation/data/twitter_reddit_text.csv'\n",
    "core_path = '/home/lucaspancotto/code/JoacoSoulez/mental_health_first_aid_evaluation/data/sorted_coefs_naivebayes_twitterreddit.csv'\n",
    "data= pd.read_csv(f'{path}')\n",
    "core_data = pd.read_csv(f'{core_path}')\n",
    "\n",
    "\n"
   ]
  },
  {
   "cell_type": "code",
   "execution_count": 3,
   "id": "e4aa54a1",
   "metadata": {},
   "outputs": [
    {
     "data": {
      "text/html": [
       "<div>\n",
       "<style scoped>\n",
       "    .dataframe tbody tr th:only-of-type {\n",
       "        vertical-align: middle;\n",
       "    }\n",
       "\n",
       "    .dataframe tbody tr th {\n",
       "        vertical-align: top;\n",
       "    }\n",
       "\n",
       "    .dataframe thead th {\n",
       "        text-align: right;\n",
       "    }\n",
       "</style>\n",
       "<table border=\"1\" class=\"dataframe\">\n",
       "  <thead>\n",
       "    <tr style=\"text-align: right;\">\n",
       "      <th></th>\n",
       "      <th>Unnamed: 0</th>\n",
       "      <th>0</th>\n",
       "    </tr>\n",
       "  </thead>\n",
       "  <tbody>\n",
       "    <tr>\n",
       "      <th>0</th>\n",
       "      <td>feel</td>\n",
       "      <td>-4.990164</td>\n",
       "    </tr>\n",
       "    <tr>\n",
       "      <th>1</th>\n",
       "      <td>depress</td>\n",
       "      <td>-5.006754</td>\n",
       "    </tr>\n",
       "    <tr>\n",
       "      <th>2</th>\n",
       "      <td>like</td>\n",
       "      <td>-5.237492</td>\n",
       "    </tr>\n",
       "    <tr>\n",
       "      <th>3</th>\n",
       "      <td>want</td>\n",
       "      <td>-5.350858</td>\n",
       "    </tr>\n",
       "    <tr>\n",
       "      <th>4</th>\n",
       "      <td>get</td>\n",
       "      <td>-5.560917</td>\n",
       "    </tr>\n",
       "  </tbody>\n",
       "</table>\n",
       "</div>"
      ],
      "text/plain": [
       "  Unnamed: 0         0\n",
       "0       feel -4.990164\n",
       "1    depress -5.006754\n",
       "2       like -5.237492\n",
       "3       want -5.350858\n",
       "4        get -5.560917"
      ]
     },
     "execution_count": 3,
     "metadata": {},
     "output_type": "execute_result"
    }
   ],
   "source": [
    "core_data.head()"
   ]
  },
  {
   "cell_type": "code",
   "execution_count": 4,
   "id": "d55f699c",
   "metadata": {},
   "outputs": [
    {
     "data": {
      "text/plain": [
       "5000"
      ]
     },
     "execution_count": 4,
     "metadata": {},
     "output_type": "execute_result"
    }
   ],
   "source": [
    "core_words = core_data['Unnamed: 0'].to_list()[:5000]\n",
    "len(core_words)"
   ]
  },
  {
   "cell_type": "code",
   "execution_count": 5,
   "id": "cd747ed4",
   "metadata": {},
   "outputs": [
    {
     "data": {
      "text/html": [
       "<div>\n",
       "<style scoped>\n",
       "    .dataframe tbody tr th:only-of-type {\n",
       "        vertical-align: middle;\n",
       "    }\n",
       "\n",
       "    .dataframe tbody tr th {\n",
       "        vertical-align: top;\n",
       "    }\n",
       "\n",
       "    .dataframe thead th {\n",
       "        text-align: right;\n",
       "    }\n",
       "</style>\n",
       "<table border=\"1\" class=\"dataframe\">\n",
       "  <thead>\n",
       "    <tr style=\"text-align: right;\">\n",
       "      <th></th>\n",
       "      <th>Unnamed: 0</th>\n",
       "      <th>clean_text</th>\n",
       "      <th>label</th>\n",
       "    </tr>\n",
       "  </thead>\n",
       "  <tbody>\n",
       "    <tr>\n",
       "      <th>0</th>\n",
       "      <td>0</td>\n",
       "      <td>lay bed hour point back pain get work minut cl...</td>\n",
       "      <td>1</td>\n",
       "    </tr>\n",
       "    <tr>\n",
       "      <th>1</th>\n",
       "      <td>1</td>\n",
       "      <td>dlitedaili dont play wouldnt want anyth world</td>\n",
       "      <td>0</td>\n",
       "    </tr>\n",
       "    <tr>\n",
       "      <th>2</th>\n",
       "      <td>2</td>\n",
       "      <td>rewebcoach hey handsom time get day go</td>\n",
       "      <td>0</td>\n",
       "    </tr>\n",
       "    <tr>\n",
       "      <th>3</th>\n",
       "      <td>3</td>\n",
       "      <td>get readi tenni maryyi</td>\n",
       "      <td>0</td>\n",
       "    </tr>\n",
       "    <tr>\n",
       "      <th>4</th>\n",
       "      <td>4</td>\n",
       "      <td>hear song band almost never play favourit radi...</td>\n",
       "      <td>0</td>\n",
       "    </tr>\n",
       "  </tbody>\n",
       "</table>\n",
       "</div>"
      ],
      "text/plain": [
       "   Unnamed: 0                                         clean_text  label\n",
       "0           0  lay bed hour point back pain get work minut cl...      1\n",
       "1           1      dlitedaili dont play wouldnt want anyth world      0\n",
       "2           2             rewebcoach hey handsom time get day go      0\n",
       "3           3                             get readi tenni maryyi      0\n",
       "4           4  hear song band almost never play favourit radi...      0"
      ]
     },
     "execution_count": 5,
     "metadata": {},
     "output_type": "execute_result"
    }
   ],
   "source": [
    "data.head()"
   ]
  },
  {
   "cell_type": "markdown",
   "id": "7ab3d597",
   "metadata": {},
   "source": [
    "# sacarle al dataset core words"
   ]
  },
  {
   "cell_type": "code",
   "execution_count": 6,
   "id": "6faf53a0",
   "metadata": {},
   "outputs": [],
   "source": [
    "def stop_core_words(txt):\n",
    "    txt = word_tokenize(str(txt))\n",
    "    txt = ' '.join(word for word in txt if not word in core_words)\n",
    "    return txt"
   ]
  },
  {
   "cell_type": "code",
   "execution_count": 7,
   "id": "1691aec2",
   "metadata": {},
   "outputs": [],
   "source": [
    "data_stopped = data.clean_text.apply(stop_core_words)"
   ]
  },
  {
   "cell_type": "markdown",
   "id": "44485eb5",
   "metadata": {},
   "source": [
    "# split, embed, and pad"
   ]
  },
  {
   "cell_type": "code",
   "execution_count": 11,
   "id": "2683d4d2",
   "metadata": {},
   "outputs": [
    {
     "name": "stdout",
     "output_type": "stream",
     "text": [
      "length of X_train 17757 length of X_test 7611 length of y_train 17757 length of y_test 7611\n"
     ]
    }
   ],
   "source": [
    "X = data.clean_text #data_stopped si se quiere sacar corewords\n",
    "y = data.label\n",
    "\n",
    "X_train, X_test, y_train, y_test = train_test_split(X , y ,test_size = 0.3 )\n",
    "print('length of X_train',len(X_train), 'length of X_test',len(X_test), 'length of y_train',len(y_train), 'length of y_test',len(y_test))\n",
    "\n",
    "X_train = [word_tokenize(str(_)) for _ in X_train]\n",
    "X_test = [word_tokenize(str(_)) for _ in X_test]\n"
   ]
  },
  {
   "cell_type": "code",
   "execution_count": 12,
   "id": "9d8c07ce",
   "metadata": {},
   "outputs": [],
   "source": [
    "# This line trains an entire embedding for the words in your train set\n",
    "word2vec = Word2Vec(sentences=X_train, vector_size=100, window=5, min_count=5)\n",
    "\n",
    "def embed_sentence(word2vec, sentence):\n",
    "    # $CHALLENGIFY_BEGIN\n",
    "    embedded_sentence = []\n",
    "    for word in sentence:\n",
    "        if word in word2vec.wv:\n",
    "            embedded_sentence.append(word2vec.wv[word])\n",
    "        \n",
    "    return np.array(embedded_sentence)\n",
    "def embedding(word2vec, sentences):\n",
    "    # $CHALLENGIFY_BEGIN\n",
    "    embed = []\n",
    "    \n",
    "    for sentence in sentences:\n",
    "        embedded_sentence = embed_sentence(word2vec, sentence)\n",
    "        embed.append(embedded_sentence)\n",
    "        \n",
    "    return embed\n",
    "    # $CHALLENGIFY_END\n",
    "    \n",
    "X_train = embedding(word2vec, X_train)\n",
    "X_test = embedding(word2vec, X_test)\n"
   ]
  },
  {
   "cell_type": "code",
   "execution_count": 13,
   "id": "c545214f",
   "metadata": {},
   "outputs": [
    {
     "name": "stderr",
     "output_type": "stream",
     "text": [
      "2022-03-09 18:56:59.182796: W tensorflow/stream_executor/platform/default/dso_loader.cc:64] Could not load dynamic library 'libcudart.so.11.0'; dlerror: libcudart.so.11.0: cannot open shared object file: No such file or directory\n",
      "2022-03-09 18:56:59.182835: I tensorflow/stream_executor/cuda/cudart_stub.cc:29] Ignore above cudart dlerror if you do not have a GPU set up on your machine.\n"
     ]
    }
   ],
   "source": [
    "#cortamos en 400 words\n",
    "from tensorflow.keras.preprocessing.sequence import pad_sequences\n",
    "X_train_pad = pad_sequences(X_train, dtype='float', padding='post', maxlen= 400,truncating= 'post')\n",
    "X_test_pad = pad_sequences(X_test, dtype='float', padding='post', maxlen = 400 , truncating = 'post')\n"
   ]
  },
  {
   "cell_type": "code",
   "execution_count": null,
   "id": "dfea486e",
   "metadata": {},
   "outputs": [],
   "source": []
  },
  {
   "cell_type": "code",
   "execution_count": null,
   "id": "691fa1d6",
   "metadata": {},
   "outputs": [],
   "source": []
  },
  {
   "cell_type": "markdown",
   "id": "ec75e338",
   "metadata": {},
   "source": [
    "# cnn model"
   ]
  },
  {
   "cell_type": "code",
   "execution_count": 14,
   "id": "665bffc9",
   "metadata": {},
   "outputs": [
    {
     "name": "stderr",
     "output_type": "stream",
     "text": [
      "2022-03-09 18:57:06.182286: W tensorflow/stream_executor/platform/default/dso_loader.cc:64] Could not load dynamic library 'libcuda.so.1'; dlerror: libcuda.so.1: cannot open shared object file: No such file or directory\n",
      "2022-03-09 18:57:06.182332: W tensorflow/stream_executor/cuda/cuda_driver.cc:269] failed call to cuInit: UNKNOWN ERROR (303)\n",
      "2022-03-09 18:57:06.182351: I tensorflow/stream_executor/cuda/cuda_diagnostics.cc:156] kernel driver does not appear to be running on this host (DESKTOP-QMHRL2V): /proc/driver/nvidia/version does not exist\n",
      "2022-03-09 18:57:06.182679: I tensorflow/core/platform/cpu_feature_guard.cc:151] This TensorFlow binary is optimized with oneAPI Deep Neural Network Library (oneDNN) to use the following CPU instructions in performance-critical operations:  AVX2 FMA\n",
      "To enable them in other operations, rebuild TensorFlow with the appropriate compiler flags.\n"
     ]
    }
   ],
   "source": [
    "# Conv1D\n",
    "from tensorflow.keras import Sequential\n",
    "from tensorflow.keras import layers\n",
    "\n",
    "def init_model():\n",
    "    model = Sequential()\n",
    "    model.add(layers.Masking())\n",
    "    \n",
    "    model.add(layers.Conv1D(20, kernel_size=3))\n",
    "    model.add(layers.Flatten())\n",
    "    model.add(layers.Dense(1, activation=\"sigmoid\"))\n",
    "    \n",
    "    \n",
    "    model.compile(loss='binary_crossentropy',\n",
    "                  optimizer='adam',\n",
    "                  metrics=['accuracy', 'AUC','Precision','Recall'])\n",
    "    \n",
    "    return model\n",
    "\n",
    "model = init_model()\n"
   ]
  },
  {
   "cell_type": "code",
   "execution_count": 15,
   "id": "3b33621f",
   "metadata": {},
   "outputs": [
    {
     "name": "stderr",
     "output_type": "stream",
     "text": [
      "2022-03-09 18:57:10.928210: W tensorflow/core/framework/cpu_allocator_impl.cc:82] Allocation of 1988640000 exceeds 10% of free system memory.\n"
     ]
    },
    {
     "name": "stdout",
     "output_type": "stream",
     "text": [
      "Epoch 1/100\n",
      "386/389 [============================>.] - ETA: 0s - loss: 0.1193 - accuracy: 0.9568 - auc: 0.9901 - precision: 0.9738 - recall: 0.9383"
     ]
    },
    {
     "name": "stderr",
     "output_type": "stream",
     "text": [
      "2022-03-09 18:57:34.447786: W tensorflow/core/framework/cpu_allocator_impl.cc:82] Allocation of 852480000 exceeds 10% of free system memory.\n"
     ]
    },
    {
     "name": "stdout",
     "output_type": "stream",
     "text": [
      "389/389 [==============================] - 13s 22ms/step - loss: 0.1189 - accuracy: 0.9569 - auc: 0.9902 - precision: 0.9740 - recall: 0.9384 - val_loss: 0.0879 - val_accuracy: 0.9690 - val_auc: 0.9936 - val_precision: 0.9929 - val_recall: 0.9449\n",
      "Epoch 2/100\n",
      "389/389 [==============================] - 7s 19ms/step - loss: 0.0645 - accuracy: 0.9778 - auc: 0.9961 - precision: 0.9851 - recall: 0.9701 - val_loss: 0.0688 - val_accuracy: 0.9771 - val_auc: 0.9952 - val_precision: 0.9930 - val_recall: 0.9610\n",
      "Epoch 3/100\n",
      "389/389 [==============================] - 7s 18ms/step - loss: 0.0560 - accuracy: 0.9814 - auc: 0.9964 - precision: 0.9875 - recall: 0.9749 - val_loss: 0.0631 - val_accuracy: 0.9801 - val_auc: 0.9957 - val_precision: 0.9845 - val_recall: 0.9756\n",
      "Epoch 4/100\n",
      "389/389 [==============================] - 7s 17ms/step - loss: 0.0539 - accuracy: 0.9828 - auc: 0.9971 - precision: 0.9889 - recall: 0.9764 - val_loss: 0.0634 - val_accuracy: 0.9792 - val_auc: 0.9954 - val_precision: 0.9900 - val_recall: 0.9681\n",
      "Epoch 5/100\n",
      "389/389 [==============================] - 7s 19ms/step - loss: 0.0515 - accuracy: 0.9842 - auc: 0.9969 - precision: 0.9908 - recall: 0.9774 - val_loss: 0.0632 - val_accuracy: 0.9790 - val_auc: 0.9959 - val_precision: 0.9912 - val_recall: 0.9666\n",
      "Epoch 6/100\n",
      "389/389 [==============================] - 12s 30ms/step - loss: 0.0480 - accuracy: 0.9837 - auc: 0.9972 - precision: 0.9898 - recall: 0.9774 - val_loss: 0.0623 - val_accuracy: 0.9792 - val_auc: 0.9956 - val_precision: 0.9882 - val_recall: 0.9700\n",
      "Epoch 7/100\n",
      "389/389 [==============================] - 7s 18ms/step - loss: 0.0456 - accuracy: 0.9848 - auc: 0.9976 - precision: 0.9907 - recall: 0.9787 - val_loss: 0.0679 - val_accuracy: 0.9775 - val_auc: 0.9957 - val_precision: 0.9761 - val_recall: 0.9790\n",
      "Epoch 8/100\n",
      "389/389 [==============================] - 8s 20ms/step - loss: 0.0443 - accuracy: 0.9858 - auc: 0.9977 - precision: 0.9907 - recall: 0.9806 - val_loss: 0.0702 - val_accuracy: 0.9784 - val_auc: 0.9947 - val_precision: 0.9934 - val_recall: 0.9633\n",
      "Epoch 9/100\n",
      "389/389 [==============================] - 7s 19ms/step - loss: 0.0446 - accuracy: 0.9860 - auc: 0.9977 - precision: 0.9918 - recall: 0.9799 - val_loss: 0.0670 - val_accuracy: 0.9792 - val_auc: 0.9951 - val_precision: 0.9841 - val_recall: 0.9741\n",
      "Epoch 10/100\n",
      "389/389 [==============================] - 7s 17ms/step - loss: 0.0431 - accuracy: 0.9863 - auc: 0.9978 - precision: 0.9913 - recall: 0.9811 - val_loss: 0.0724 - val_accuracy: 0.9779 - val_auc: 0.9943 - val_precision: 0.9893 - val_recall: 0.9663\n",
      "Epoch 11/100\n",
      "389/389 [==============================] - 7s 18ms/step - loss: 0.0416 - accuracy: 0.9860 - auc: 0.9979 - precision: 0.9915 - recall: 0.9803 - val_loss: 0.0686 - val_accuracy: 0.9780 - val_auc: 0.9945 - val_precision: 0.9826 - val_recall: 0.9734\n"
     ]
    }
   ],
   "source": [
    "from tensorflow.keras.callbacks import EarlyStopping\n",
    "\n",
    "es = EarlyStopping(patience=5, restore_best_weights=True)\n",
    "\n",
    "history_fit = model.fit(X_train_pad, y_train, \n",
    "          batch_size = 32,\n",
    "          epochs=100,\n",
    "          validation_split=0.3,\n",
    "          callbacks=[es],\n",
    "          verbose = 1\n",
    "         )"
   ]
  },
  {
   "cell_type": "code",
   "execution_count": 16,
   "id": "ff618f5d",
   "metadata": {},
   "outputs": [
    {
     "data": {
      "image/png": "[encoded data removed]",
      "text/plain": [
       "<Figure size 936x288 with 2 Axes>"
      ]
     },
     "metadata": {
      "needs_background": "light"
     },
     "output_type": "display_data"
    }
   ],
   "source": [
    "def plot_loss(history):\n",
    "    fig, (ax1, ax2) = plt.subplots(1,2, figsize=(13,4))\n",
    "    ax1.plot(history.history['loss'])\n",
    "    ax1.plot(history.history['val_loss'])\n",
    "    ax1.set_title('Model loss')\n",
    "    ax1.set_ylabel('Loss')\n",
    "    ax1.set_xlabel('Epoch')\n",
    "    #ax1.set_ylim(ymin=0, ymax=200)\n",
    "    ax1.legend(['Train', 'Validation'], loc='best')\n",
    "    ax1.grid(axis=\"x\",linewidth=0.5)\n",
    "    ax1.grid(axis=\"y\",linewidth=0.5)    \n",
    "    \n",
    "    ax2.plot(history.history['accuracy'])\n",
    "    ax2.plot(history.history['val_accuracy'])\n",
    "    ax2.set_title('accuracy')\n",
    "    ax2.set_ylabel('accuracy')\n",
    "    ax2.set_xlabel('Epoch')\n",
    "    #ax2.set_ylim(ymin=0, ymax=20)\n",
    "    ax2.legend(['Train', 'Validation'], loc='best')\n",
    "    ax2.grid(axis=\"x\",linewidth=0.5)\n",
    "    ax2.grid(axis=\"y\",linewidth=0.5)    \n",
    "\n",
    "    plt.show()\n",
    "\n",
    "plot_loss(history_fit)"
   ]
  },
  {
   "cell_type": "code",
   "execution_count": 17,
   "id": "6d0dcb6c",
   "metadata": {},
   "outputs": [
    {
     "name": "stderr",
     "output_type": "stream",
     "text": [
      "2022-03-09 18:58:55.374019: W tensorflow/core/framework/cpu_allocator_impl.cc:82] Allocation of 1217760000 exceeds 10% of free system memory.\n"
     ]
    },
    {
     "name": "stdout",
     "output_type": "stream",
     "text": [
      "238/238 [==============================] - 2s 7ms/step - loss: 0.0648 - accuracy: 0.9781 - auc: 0.9959 - precision: 0.9880 - recall: 0.9682\n"
     ]
    },
    {
     "data": {
      "text/plain": [
       "{'loss': 0.0647510215640068,\n",
       " 'accuracy': 0.9780580997467041,\n",
       " 'auc': 0.9959272146224976,\n",
       " 'precision': 0.9880223870277405,\n",
       " 'recall': 0.96817946434021}"
      ]
     },
     "execution_count": 17,
     "metadata": {},
     "output_type": "execute_result"
    }
   ],
   "source": [
    "res = model.evaluate(X_test_pad, y_test, verbose = 1, return_dict=True)\n",
    "res"
   ]
  },
  {
   "cell_type": "code",
   "execution_count": null,
   "id": "5eaa4f3c",
   "metadata": {},
   "outputs": [],
   "source": []
  }
 ],
 "metadata": {
  "kernelspec": {
   "display_name": "Python 3 (ipykernel)",
   "language": "python",
   "name": "python3"
  },
  "language_info": {
   "codemirror_mode": {
    "name": "ipython",
    "version": 3
   },
   "file_extension": ".py",
   "mimetype": "text/x-python",
   "name": "python",
   "nbconvert_exporter": "python",
   "pygments_lexer": "ipython3",
   "version": "3.8.12"
  },
  "toc": {
   "base_numbering": 1,
   "nav_menu": {},
   "number_sections": true,
   "sideBar": true,
   "skip_h1_title": false,
   "title_cell": "Table of Contents",
   "title_sidebar": "Contents",
   "toc_cell": false,
   "toc_position": {},
   "toc_section_display": true,
   "toc_window_display": false
  }
 },
 "nbformat": 4,
 "nbformat_minor": 5
}
