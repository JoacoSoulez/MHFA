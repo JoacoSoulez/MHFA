{
 "cells": [
  {
   "cell_type": "code",
   "execution_count": 1,
   "id": "9f8fc47d",
   "metadata": {
    "scrolled": true
   },
   "outputs": [
    {
     "name": "stderr",
     "output_type": "stream",
     "text": [
      "/Users/joacosoulez/.pyenv/versions/3.8.12/envs/lewagon/lib/python3.8/site-packages/IPython/core/interactiveshell.py:3457: DtypeWarning: Columns (0) have mixed types.Specify dtype option on import or set low_memory=False.\n",
      "  exec(code_obj, self.user_global_ns, self.user_ns)\n"
     ]
    },
    {
     "data": {
      "text/html": [
       "<div>\n",
       "<style scoped>\n",
       "    .dataframe tbody tr th:only-of-type {\n",
       "        vertical-align: middle;\n",
       "    }\n",
       "\n",
       "    .dataframe tbody tr th {\n",
       "        vertical-align: top;\n",
       "    }\n",
       "\n",
       "    .dataframe thead th {\n",
       "        text-align: right;\n",
       "    }\n",
       "</style>\n",
       "<table border=\"1\" class=\"dataframe\">\n",
       "  <thead>\n",
       "    <tr style=\"text-align: right;\">\n",
       "      <th></th>\n",
       "      <th>ids</th>\n",
       "      <th>Tweet</th>\n",
       "      <th>label</th>\n",
       "    </tr>\n",
       "  </thead>\n",
       "  <tbody>\n",
       "    <tr>\n",
       "      <th>0</th>\n",
       "      <td>1467822272</td>\n",
       "      <td>love u guys r best</td>\n",
       "      <td>0</td>\n",
       "    </tr>\n",
       "    <tr>\n",
       "      <th>1</th>\n",
       "      <td>1467822273</td>\n",
       "      <td>im meting one besties tonight cant wait girl talk</td>\n",
       "      <td>0</td>\n",
       "    </tr>\n",
       "    <tr>\n",
       "      <th>2</th>\n",
       "      <td>1467822283</td>\n",
       "      <td>thanks twiter ad sunisa got met hin show dc ar...</td>\n",
       "      <td>0</td>\n",
       "    </tr>\n",
       "    <tr>\n",
       "      <th>3</th>\n",
       "      <td>1467822287</td>\n",
       "      <td>sick realy cheap hurts much eat real fod plus ...</td>\n",
       "      <td>0</td>\n",
       "    </tr>\n",
       "    <tr>\n",
       "      <th>4</th>\n",
       "      <td>1467822293</td>\n",
       "      <td>efect everyone</td>\n",
       "      <td>0</td>\n",
       "    </tr>\n",
       "  </tbody>\n",
       "</table>\n",
       "</div>"
      ],
      "text/plain": [
       "          ids                                              Tweet  label\n",
       "0  1467822272                                 love u guys r best      0\n",
       "1  1467822273  im meting one besties tonight cant wait girl talk      0\n",
       "2  1467822283  thanks twiter ad sunisa got met hin show dc ar...      0\n",
       "3  1467822287  sick realy cheap hurts much eat real fod plus ...      0\n",
       "4  1467822293                                     efect everyone      0"
      ]
     },
     "execution_count": 1,
     "metadata": {},
     "output_type": "execute_result"
    }
   ],
   "source": [
    "import pandas as pd\n",
    "prueba3 = pd.read_csv('../raw_data/df_limpio_con_df_lunes_limpio.csv')\n",
    "prueba3.head()"
   ]
  },
  {
   "cell_type": "code",
   "execution_count": 2,
   "id": "2fc8afcb",
   "metadata": {},
   "outputs": [
    {
     "data": {
      "text/plain": [
       "(826492, 3)"
      ]
     },
     "execution_count": 2,
     "metadata": {},
     "output_type": "execute_result"
    }
   ],
   "source": [
    "prueba3.shape"
   ]
  },
  {
   "cell_type": "code",
   "execution_count": 3,
   "id": "814a9e09",
   "metadata": {},
   "outputs": [],
   "source": [
    "prueba3 = prueba3.dropna()"
   ]
  },
  {
   "cell_type": "code",
   "execution_count": 4,
   "id": "5cf87dc9",
   "metadata": {},
   "outputs": [],
   "source": [
    "Deprimidos = prueba3[prueba3['label'] == 1]\n",
    "NoDeprimidos = prueba3[prueba3['label'] == 0]"
   ]
  },
  {
   "cell_type": "code",
   "execution_count": 5,
   "id": "7b2ec120",
   "metadata": {},
   "outputs": [],
   "source": [
    "X = Deprimidos['Tweet']\n",
    "y = NoDeprimidos['Tweet']"
   ]
  },
  {
   "cell_type": "code",
   "execution_count": 6,
   "id": "8e28500f",
   "metadata": {},
   "outputs": [
    {
     "data": {
      "text/plain": [
       "800000    lack understanding smal significant part cause...\n",
       "800001    told parents depresion hard get gen x people u...\n",
       "800002    depresion something speak even going also doub...\n",
       "800003    made tortila filed pb j depresion cured olivia...\n",
       "800004    gona ned depresion meds son rainouts spining e...\n",
       "                                ...                        \n",
       "826487                                   got baned server f\n",
       "826488                              literaly cried exam cam\n",
       "826489    one hapy guy like days everyone gets angry lea...\n",
       "826490                                    arived house home\n",
       "826491    spoken rn remembering fired coworker got best ...\n",
       "Name: Tweet, Length: 26423, dtype: object"
      ]
     },
     "execution_count": 6,
     "metadata": {},
     "output_type": "execute_result"
    }
   ],
   "source": [
    "X"
   ]
  },
  {
   "cell_type": "code",
   "execution_count": 7,
   "id": "218c32d8",
   "metadata": {},
   "outputs": [],
   "source": [
    "from sklearn.model_selection import train_test_split\n",
    "x_train, x_test, y_train, y_test = train_test_split(prueba3['Tweet'], prueba3['label'], test_size=0.3)"
   ]
  },
  {
   "cell_type": "code",
   "execution_count": null,
   "id": "eefb4fbb",
   "metadata": {},
   "outputs": [],
   "source": [
    "from sklearn.svm import SVC\n",
    "from sklearn.feature_extraction.text import TfidfVectorizer\n",
    "from sklearn.linear_model import SGDClassifier\n",
    "from sklearn.pipeline import Pipeline\n",
    "from sklearn.feature_extraction.text import TfidfTransformer\n",
    "from tensorflow.keras import callbacks\n",
    "es = callbacks.EarlyStopping(patience=50, restore_best_weights=True)\n",
    "\n",
    "pipe = Pipeline([('vect', TfidfVectorizer()),\n",
    "                ('tfidf',TfidfTransformer()),\n",
    "                ('SVC', SVC(callback=[es]))\n",
    "                 ])\n",
    "pipe.fit(x_train,y_train)"
   ]
  },
  {
   "cell_type": "code",
   "execution_count": null,
   "id": "a5488f67",
   "metadata": {},
   "outputs": [],
   "source": [
    "predictions = pipe.predict(x_test)"
   ]
  },
  {
   "cell_type": "code",
   "execution_count": null,
   "id": "c45491b1",
   "metadata": {},
   "outputs": [],
   "source": [
    "predictions"
   ]
  },
  {
   "cell_type": "code",
   "execution_count": null,
   "id": "2645cacc",
   "metadata": {},
   "outputs": [],
   "source": [
    "accuracy_score(y_test, predictions)"
   ]
  },
  {
   "cell_type": "code",
   "execution_count": null,
   "id": "9f76570a",
   "metadata": {},
   "outputs": [],
   "source": [
    "print(classification_report(y_test, predictions, digits=5))"
   ]
  },
  {
   "cell_type": "code",
   "execution_count": null,
   "id": "cd74c4fa",
   "metadata": {},
   "outputs": [],
   "source": [
    "# from sklearn.linear_model import SGDClassifier\n",
    "# tfidf = TfidfVectorizer() \n",
    "# tdidf_tensor = tfidf.fit_transform(X)\n",
    "# svc_bis = SGDClassifier(loss='hinge', penalty='l2', alpha=1/10)\n"
   ]
  }
 ],
 "metadata": {
  "kernelspec": {
   "display_name": "Python 3 (ipykernel)",
   "language": "python",
   "name": "python3"
  },
  "language_info": {
   "codemirror_mode": {
    "name": "ipython",
    "version": 3
   },
   "file_extension": ".py",
   "mimetype": "text/x-python",
   "name": "python",
   "nbconvert_exporter": "python",
   "pygments_lexer": "ipython3",
   "version": "3.8.12"
  },
  "toc": {
   "base_numbering": 1,
   "nav_menu": {},
   "number_sections": true,
   "sideBar": true,
   "skip_h1_title": false,
   "title_cell": "Table of Contents",
   "title_sidebar": "Contents",
   "toc_cell": false,
   "toc_position": {},
   "toc_section_display": true,
   "toc_window_display": false
  }
 },
 "nbformat": 4,
 "nbformat_minor": 5
}
