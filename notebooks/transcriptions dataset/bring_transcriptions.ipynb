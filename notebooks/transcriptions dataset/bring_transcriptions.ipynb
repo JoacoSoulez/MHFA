{
 "cells": [
  {
   "cell_type": "code",
   "execution_count": 1,
   "id": "e90b01c1",
   "metadata": {},
   "outputs": [
    {
     "name": "stdout",
     "output_type": "stream",
     "text": [
      "/home/lucaspancotto/code/JoacoSoulez/mental_health_first_aid_evaluation/MHFA/notebooks/transcriptions dataset\r\n"
     ]
    }
   ],
   "source": [
    "!pwd\n"
   ]
  },
  {
   "cell_type": "code",
   "execution_count": 28,
   "id": "a4cfbaaa",
   "metadata": {},
   "outputs": [],
   "source": [
    "import pandas as pd\n",
    "import numpy as np"
   ]
  },
  {
   "cell_type": "markdown",
   "id": "91d5214a",
   "metadata": {},
   "source": [
    "# transcriptions dataframe"
   ]
  },
  {
   "cell_type": "code",
   "execution_count": 54,
   "id": "8e832dff",
   "metadata": {},
   "outputs": [],
   "source": [
    "transcriptions = pd.DataFrame()\n"
   ]
  },
  {
   "cell_type": "code",
   "execution_count": 60,
   "id": "3fa54d23",
   "metadata": {},
   "outputs": [],
   "source": [
    "\n",
    "for n in np.arange(461 , 493):\n",
    "    \n",
    "    \n",
    "    data = pd.read_csv(f'../../../transcriptions/{n}_TRANSCRIPT.csv' , sep = '\\t')\n",
    "    data.dropna(inplace =True)\n",
    "    \n",
    "    joint = ' . '.join(data[data.speaker == 'Participant'].value.values)\n",
    "    transcriptions.loc[n,'text'] = joint\n",
    "\n",
    "        "
   ]
  },
  {
   "cell_type": "code",
   "execution_count": 62,
   "id": "8e6adb55",
   "metadata": {},
   "outputs": [],
   "source": [
    "transcriptions.to_csv('../../../transcriptions/transcriptions.csv')"
   ]
  },
  {
   "cell_type": "code",
   "execution_count": 104,
   "id": "bb99f110",
   "metadata": {},
   "outputs": [
    {
     "data": {
      "text/html": [
       "<div>\n",
       "<style scoped>\n",
       "    .dataframe tbody tr th:only-of-type {\n",
       "        vertical-align: middle;\n",
       "    }\n",
       "\n",
       "    .dataframe tbody tr th {\n",
       "        vertical-align: top;\n",
       "    }\n",
       "\n",
       "    .dataframe thead th {\n",
       "        text-align: right;\n",
       "    }\n",
       "</style>\n",
       "<table border=\"1\" class=\"dataframe\">\n",
       "  <thead>\n",
       "    <tr style=\"text-align: right;\">\n",
       "      <th></th>\n",
       "      <th>text</th>\n",
       "    </tr>\n",
       "  </thead>\n",
       "  <tbody>\n",
       "    <tr>\n",
       "      <th>300</th>\n",
       "      <td>good . atlanta georgia . um my parents are fro...</td>\n",
       "    </tr>\n",
       "    <tr>\n",
       "      <th>301</th>\n",
       "      <td>thank you . mmm k . i'm doing good thank you ....</td>\n",
       "    </tr>\n",
       "    <tr>\n",
       "      <th>302</th>\n",
       "      <td>i'm fine how about yourself  . i'm from los an...</td>\n",
       "    </tr>\n",
       "    <tr>\n",
       "      <th>303</th>\n",
       "      <td>okay how 'bout yourself . here in california ....</td>\n",
       "    </tr>\n",
       "    <tr>\n",
       "      <th>304</th>\n",
       "      <td>i'm doing good um . from los angeles californi...</td>\n",
       "    </tr>\n",
       "  </tbody>\n",
       "</table>\n",
       "</div>"
      ],
      "text/plain": [
       "                                                  text\n",
       "300  good . atlanta georgia . um my parents are fro...\n",
       "301  thank you . mmm k . i'm doing good thank you ....\n",
       "302  i'm fine how about yourself  . i'm from los an...\n",
       "303  okay how 'bout yourself . here in california ....\n",
       "304  i'm doing good um . from los angeles californi..."
      ]
     },
     "execution_count": 104,
     "metadata": {},
     "output_type": "execute_result"
    }
   ],
   "source": [
    "transcriptions.head()"
   ]
  },
  {
   "cell_type": "markdown",
   "id": "e7b9121e",
   "metadata": {},
   "source": [
    "# binary target\n",
    "\n"
   ]
  },
  {
   "cell_type": "code",
   "execution_count": 63,
   "id": "24c39b2b",
   "metadata": {},
   "outputs": [],
   "source": [
    "files = ['dev_split_Depression_AVEC2017','full_test_split','test_split_Depression_AVEC2017','train_split_Depression_AVEC2017']"
   ]
  },
  {
   "cell_type": "code",
   "execution_count": null,
   "id": "146133f4",
   "metadata": {},
   "outputs": [],
   "source": []
  },
  {
   "cell_type": "code",
   "execution_count": 71,
   "id": "0f73d545",
   "metadata": {},
   "outputs": [],
   "source": [
    "target = pd.DataFrame()\n",
    "for file in files:\n",
    "    \n",
    "    target = pd.concat([target , pd.read_csv(f'../../../transcriptions/targets/{file}.csv')])"
   ]
  },
  {
   "cell_type": "code",
   "execution_count": 95,
   "id": "418ec279",
   "metadata": {},
   "outputs": [
    {
     "data": {
      "text/html": [
       "<div>\n",
       "<style scoped>\n",
       "    .dataframe tbody tr th:only-of-type {\n",
       "        vertical-align: middle;\n",
       "    }\n",
       "\n",
       "    .dataframe tbody tr th {\n",
       "        vertical-align: top;\n",
       "    }\n",
       "\n",
       "    .dataframe thead th {\n",
       "        text-align: right;\n",
       "    }\n",
       "</style>\n",
       "<table border=\"1\" class=\"dataframe\">\n",
       "  <thead>\n",
       "    <tr style=\"text-align: right;\">\n",
       "      <th></th>\n",
       "      <th>Participant_ID</th>\n",
       "      <th>PHQ8_Binary</th>\n",
       "      <th>PHQ8_Score</th>\n",
       "      <th>Gender</th>\n",
       "      <th>PHQ8_NoInterest</th>\n",
       "      <th>PHQ8_Depressed</th>\n",
       "      <th>PHQ8_Sleep</th>\n",
       "      <th>PHQ8_Tired</th>\n",
       "      <th>PHQ8_Appetite</th>\n",
       "      <th>PHQ8_Failure</th>\n",
       "      <th>PHQ8_Concentrating</th>\n",
       "      <th>PHQ8_Moving</th>\n",
       "      <th>PHQ_Binary</th>\n",
       "      <th>PHQ_Score</th>\n",
       "      <th>participant_ID</th>\n",
       "    </tr>\n",
       "  </thead>\n",
       "  <tbody>\n",
       "    <tr>\n",
       "      <th>0</th>\n",
       "      <td>302.0</td>\n",
       "      <td>0.0</td>\n",
       "      <td>4.0</td>\n",
       "      <td>1</td>\n",
       "      <td>1.0</td>\n",
       "      <td>1.0</td>\n",
       "      <td>0.0</td>\n",
       "      <td>1.0</td>\n",
       "      <td>0.0</td>\n",
       "      <td>1.0</td>\n",
       "      <td>0.0</td>\n",
       "      <td>0.0</td>\n",
       "      <td>NaN</td>\n",
       "      <td>NaN</td>\n",
       "      <td>NaN</td>\n",
       "    </tr>\n",
       "    <tr>\n",
       "      <th>1</th>\n",
       "      <td>307.0</td>\n",
       "      <td>0.0</td>\n",
       "      <td>4.0</td>\n",
       "      <td>0</td>\n",
       "      <td>0.0</td>\n",
       "      <td>1.0</td>\n",
       "      <td>0.0</td>\n",
       "      <td>1.0</td>\n",
       "      <td>0.0</td>\n",
       "      <td>2.0</td>\n",
       "      <td>0.0</td>\n",
       "      <td>0.0</td>\n",
       "      <td>NaN</td>\n",
       "      <td>NaN</td>\n",
       "      <td>NaN</td>\n",
       "    </tr>\n",
       "    <tr>\n",
       "      <th>2</th>\n",
       "      <td>331.0</td>\n",
       "      <td>0.0</td>\n",
       "      <td>8.0</td>\n",
       "      <td>1</td>\n",
       "      <td>1.0</td>\n",
       "      <td>1.0</td>\n",
       "      <td>1.0</td>\n",
       "      <td>1.0</td>\n",
       "      <td>1.0</td>\n",
       "      <td>1.0</td>\n",
       "      <td>1.0</td>\n",
       "      <td>1.0</td>\n",
       "      <td>NaN</td>\n",
       "      <td>NaN</td>\n",
       "      <td>NaN</td>\n",
       "    </tr>\n",
       "    <tr>\n",
       "      <th>3</th>\n",
       "      <td>335.0</td>\n",
       "      <td>1.0</td>\n",
       "      <td>12.0</td>\n",
       "      <td>0</td>\n",
       "      <td>1.0</td>\n",
       "      <td>1.0</td>\n",
       "      <td>3.0</td>\n",
       "      <td>2.0</td>\n",
       "      <td>3.0</td>\n",
       "      <td>1.0</td>\n",
       "      <td>1.0</td>\n",
       "      <td>0.0</td>\n",
       "      <td>NaN</td>\n",
       "      <td>NaN</td>\n",
       "      <td>NaN</td>\n",
       "    </tr>\n",
       "    <tr>\n",
       "      <th>4</th>\n",
       "      <td>346.0</td>\n",
       "      <td>1.0</td>\n",
       "      <td>23.0</td>\n",
       "      <td>0</td>\n",
       "      <td>2.0</td>\n",
       "      <td>3.0</td>\n",
       "      <td>3.0</td>\n",
       "      <td>3.0</td>\n",
       "      <td>3.0</td>\n",
       "      <td>3.0</td>\n",
       "      <td>3.0</td>\n",
       "      <td>3.0</td>\n",
       "      <td>NaN</td>\n",
       "      <td>NaN</td>\n",
       "      <td>NaN</td>\n",
       "    </tr>\n",
       "  </tbody>\n",
       "</table>\n",
       "</div>"
      ],
      "text/plain": [
       "   Participant_ID  PHQ8_Binary  PHQ8_Score  Gender  PHQ8_NoInterest  \\\n",
       "0           302.0          0.0         4.0       1              1.0   \n",
       "1           307.0          0.0         4.0       0              0.0   \n",
       "2           331.0          0.0         8.0       1              1.0   \n",
       "3           335.0          1.0        12.0       0              1.0   \n",
       "4           346.0          1.0        23.0       0              2.0   \n",
       "\n",
       "   PHQ8_Depressed  PHQ8_Sleep  PHQ8_Tired  PHQ8_Appetite  PHQ8_Failure  \\\n",
       "0             1.0         0.0         1.0            0.0           1.0   \n",
       "1             1.0         0.0         1.0            0.0           2.0   \n",
       "2             1.0         1.0         1.0            1.0           1.0   \n",
       "3             1.0         3.0         2.0            3.0           1.0   \n",
       "4             3.0         3.0         3.0            3.0           3.0   \n",
       "\n",
       "   PHQ8_Concentrating  PHQ8_Moving  PHQ_Binary  PHQ_Score  participant_ID  \n",
       "0                 0.0          0.0         NaN        NaN             NaN  \n",
       "1                 0.0          0.0         NaN        NaN             NaN  \n",
       "2                 1.0          1.0         NaN        NaN             NaN  \n",
       "3                 1.0          0.0         NaN        NaN             NaN  \n",
       "4                 3.0          3.0         NaN        NaN             NaN  "
      ]
     },
     "execution_count": 95,
     "metadata": {},
     "output_type": "execute_result"
    }
   ],
   "source": [
    "target.head()"
   ]
  },
  {
   "cell_type": "code",
   "execution_count": 94,
   "id": "3325bf38",
   "metadata": {},
   "outputs": [],
   "source": [
    "\n",
    "target.drop_duplicates(inplace = True)"
   ]
  },
  {
   "cell_type": "code",
   "execution_count": 101,
   "id": "2c1cab86",
   "metadata": {},
   "outputs": [],
   "source": [
    "target_binary = target[['Participant_ID' , 'PHQ8_Binary']].dropna()"
   ]
  },
  {
   "cell_type": "code",
   "execution_count": 106,
   "id": "760344a6",
   "metadata": {},
   "outputs": [],
   "source": [
    "target_binary.set_index('Participant_ID' , inplace=True)"
   ]
  },
  {
   "cell_type": "code",
   "execution_count": 109,
   "id": "9cce50e3",
   "metadata": {},
   "outputs": [],
   "source": [
    "transcriptions_targets = target_binary.merge(transcriptions, left_index=True, right_index=True)"
   ]
  },
  {
   "cell_type": "code",
   "execution_count": 110,
   "id": "d7a200b2",
   "metadata": {},
   "outputs": [],
   "source": [
    "transcriptions_targets.to_csv('../../../transcriptions/targets/transcriptions_targets.csv')"
   ]
  },
  {
   "cell_type": "code",
   "execution_count": null,
   "id": "7ab37d4b",
   "metadata": {},
   "outputs": [],
   "source": []
  },
  {
   "cell_type": "code",
   "execution_count": null,
   "id": "6e8caf26",
   "metadata": {},
   "outputs": [],
   "source": []
  },
  {
   "cell_type": "code",
   "execution_count": null,
   "id": "edb6d560",
   "metadata": {},
   "outputs": [],
   "source": []
  }
 ],
 "metadata": {
  "kernelspec": {
   "display_name": "Python 3 (ipykernel)",
   "language": "python",
   "name": "python3"
  },
  "language_info": {
   "codemirror_mode": {
    "name": "ipython",
    "version": 3
   },
   "file_extension": ".py",
   "mimetype": "text/x-python",
   "name": "python",
   "nbconvert_exporter": "python",
   "pygments_lexer": "ipython3",
   "version": "3.8.12"
  },
  "toc": {
   "base_numbering": 1,
   "nav_menu": {},
   "number_sections": true,
   "sideBar": true,
   "skip_h1_title": false,
   "title_cell": "Table of Contents",
   "title_sidebar": "Contents",
   "toc_cell": false,
   "toc_position": {},
   "toc_section_display": true,
   "toc_window_display": false
  }
 },
 "nbformat": 4,
 "nbformat_minor": 5
}
