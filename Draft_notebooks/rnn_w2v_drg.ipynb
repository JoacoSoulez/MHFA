{
 "cells": [
  {
   "cell_type": "code",
   "execution_count": 27,
   "id": "ac1a0626",
   "metadata": {},
   "outputs": [],
   "source": [
    "import pandas as pd\n",
    "import numpy as np\n",
    "import matplotlib.pyplot as plt\n",
    "import seaborn as sns\n",
    "from sklearn.model_selection import train_test_split\n",
    "from sklearn.feature_extraction.text import TfidfVectorizer\n",
    "from tensorflow.keras.preprocessing.sequence import pad_sequences\n",
    "from nltk.tokenize import word_tokenize\n",
    "from gensim.models import Word2Vec\n",
    "from tensorflow.keras import Sequential\n",
    "from tensorflow.keras.layers import Masking, LSTM, Dense"
   ]
  },
  {
   "cell_type": "markdown",
   "id": "00526c42",
   "metadata": {},
   "source": [
    "# Get Data"
   ]
  },
  {
   "cell_type": "code",
   "execution_count": 4,
   "id": "fa68a598",
   "metadata": {},
   "outputs": [
    {
     "data": {
      "text/html": [
       "<div>\n",
       "<style scoped>\n",
       "    .dataframe tbody tr th:only-of-type {\n",
       "        vertical-align: middle;\n",
       "    }\n",
       "\n",
       "    .dataframe tbody tr th {\n",
       "        vertical-align: top;\n",
       "    }\n",
       "\n",
       "    .dataframe thead th {\n",
       "        text-align: right;\n",
       "    }\n",
       "</style>\n",
       "<table border=\"1\" class=\"dataframe\">\n",
       "  <thead>\n",
       "    <tr style=\"text-align: right;\">\n",
       "      <th></th>\n",
       "      <th>text</th>\n",
       "      <th>label</th>\n",
       "    </tr>\n",
       "  </thead>\n",
       "  <tbody>\n",
       "    <tr>\n",
       "      <th>0</th>\n",
       "      <td>god morning stil excited schol people</td>\n",
       "      <td>0</td>\n",
       "    </tr>\n",
       "    <tr>\n",
       "      <th>1</th>\n",
       "      <td>never felt low life wish easy way kil like fal...</td>\n",
       "      <td>1</td>\n",
       "    </tr>\n",
       "    <tr>\n",
       "      <th>2</th>\n",
       "      <td>haha love hate relationship yelow great doesnt...</td>\n",
       "      <td>0</td>\n",
       "    </tr>\n",
       "    <tr>\n",
       "      <th>3</th>\n",
       "      <td>day legendary season finale quot met mother quot</td>\n",
       "      <td>0</td>\n",
       "    </tr>\n",
       "    <tr>\n",
       "      <th>4</th>\n",
       "      <td>completely oposite girl say swet stuf thought ...</td>\n",
       "      <td>1</td>\n",
       "    </tr>\n",
       "  </tbody>\n",
       "</table>\n",
       "</div>"
      ],
      "text/plain": [
       "                                                text  label\n",
       "0              god morning stil excited schol people      0\n",
       "1  never felt low life wish easy way kil like fal...      1\n",
       "2  haha love hate relationship yelow great doesnt...      0\n",
       "3   day legendary season finale quot met mother quot      0\n",
       "4  completely oposite girl say swet stuf thought ...      1"
      ]
     },
     "execution_count": 4,
     "metadata": {},
     "output_type": "execute_result"
    }
   ],
   "source": [
    "path = '/Users/danielriojas/Downloads/twitter_reddit_clean.csv'\n",
    "data = pd.read_csv(f'{path}')\n",
    "data.drop(columns=['Unnamed: 0'], inplace=True)\n",
    "data.dropna(inplace=True)\n",
    "data.head()"
   ]
  },
  {
   "cell_type": "code",
   "execution_count": 5,
   "id": "ba45f45b",
   "metadata": {},
   "outputs": [],
   "source": [
    "X = data.text\n",
    "y = data.label"
   ]
  },
  {
   "cell_type": "code",
   "execution_count": 6,
   "id": "6d88a444",
   "metadata": {},
   "outputs": [],
   "source": [
    "X_train, X_test, y_train, y_test = train_test_split(X , y ,test_size = 0.3 )"
   ]
  },
  {
   "cell_type": "code",
   "execution_count": 7,
   "id": "2f2007c5",
   "metadata": {},
   "outputs": [
    {
     "data": {
      "text/plain": [
       "((17698,), (7586,), (17698,), (7586,))"
      ]
     },
     "execution_count": 7,
     "metadata": {},
     "output_type": "execute_result"
    }
   ],
   "source": [
    "X_train.shape, X_test.shape, y_train.shape, y_test.shape"
   ]
  },
  {
   "cell_type": "code",
   "execution_count": 8,
   "id": "1a3e0ef0",
   "metadata": {},
   "outputs": [
    {
     "data": {
      "text/plain": [
       "9401     ugh two smal plane row fun hour half il beach ...\n",
       "1889     fel like runing time carer family wish solutio...\n",
       "21883    im gon na touch zack brandon inapropriatly lat...\n",
       "18323                            time go home later wekend\n",
       "13110      whats name nice u met yal talk about wat ah tel\n",
       "Name: text, dtype: object"
      ]
     },
     "execution_count": 8,
     "metadata": {},
     "output_type": "execute_result"
    }
   ],
   "source": [
    "X_train.head()"
   ]
  },
  {
   "cell_type": "markdown",
   "id": "5f5ae89a",
   "metadata": {},
   "source": [
    "# Tokenize and Word2Vec"
   ]
  },
  {
   "cell_type": "code",
   "execution_count": 11,
   "id": "0e0686b5",
   "metadata": {},
   "outputs": [],
   "source": [
    "X_train = [word_tokenize(str(_)) for _ in X_train]\n",
    "X_test = [word_tokenize(str(_)) for _ in X_test]"
   ]
  },
  {
   "cell_type": "code",
   "execution_count": 12,
   "id": "30f21c55",
   "metadata": {},
   "outputs": [],
   "source": [
    "#Embedding\n",
    "\n",
    "word2vec = Word2Vec(sentences=X_train, vector_size=50, window=5, min_count=5)"
   ]
  },
  {
   "cell_type": "code",
   "execution_count": 22,
   "id": "9a91fe46",
   "metadata": {},
   "outputs": [
    {
     "data": {
      "text/plain": [
       "array([-0.24887732,  0.6983474 ,  0.671202  ,  0.7075017 ,  0.35201764,\n",
       "       -0.55881214,  0.03826573, -0.15018763, -1.5827969 , -1.0676862 ,\n",
       "       -0.39285755, -1.6639117 , -0.0412511 ,  0.45399556,  0.83822614,\n",
       "       -0.17862618, -0.58707106, -0.928176  ,  0.2478188 ,  0.4874533 ,\n",
       "       -0.87781435,  0.10514634,  0.29012215, -0.21728112, -0.5296157 ,\n",
       "       -0.10905806, -0.95561606,  0.8808429 ,  0.30353117,  1.9301002 ,\n",
       "        0.13734794, -0.27614504,  0.09580864, -0.22290432, -2.1173937 ,\n",
       "        0.27816367,  0.742856  ,  0.1366753 ,  0.24063776, -1.7782966 ,\n",
       "        1.173781  , -0.11440533,  0.08607572, -0.66691196,  0.3845871 ,\n",
       "       -0.45914698, -0.23632964, -1.5191913 , -0.23470284,  0.29659158],\n",
       "      dtype=float32)"
      ]
     },
     "execution_count": 22,
     "metadata": {},
     "output_type": "execute_result"
    }
   ],
   "source": [
    "word2vec.wv['suicide']"
   ]
  },
  {
   "cell_type": "code",
   "execution_count": 23,
   "id": "a0188d63",
   "metadata": {},
   "outputs": [],
   "source": [
    "def embed_sentence(word2vec, sentence):\n",
    "    embedded_sentence = []\n",
    "    for word in sentence:\n",
    "        if word in word2vec.wv:\n",
    "            embedded_sentence.append(word2vec.wv[word])\n",
    "        \n",
    "    return np.array(embedded_sentence)\n",
    "\n",
    "def embedding(word2vec, sentences):\n",
    "    embed = []\n",
    "    \n",
    "    for sentence in sentences:\n",
    "        embedded_sentence = embed_sentence(word2vec, sentence)\n",
    "        embed.append(embedded_sentence)\n",
    "        \n",
    "    return embed\n",
    "    \n",
    "X_train = embedding(word2vec, X_train)\n",
    "X_test = embedding(word2vec, X_test)"
   ]
  },
  {
   "cell_type": "markdown",
   "id": "0b19a44a",
   "metadata": {},
   "source": [
    "# Padding"
   ]
  },
  {
   "cell_type": "code",
   "execution_count": 24,
   "id": "7c401e8f",
   "metadata": {},
   "outputs": [],
   "source": [
    "#dejamos en 400 maxlen\n",
    "\n",
    "X_train_pad = pad_sequences(X_train, dtype='float', padding='post', maxlen= 400)\n",
    "X_test_pad = pad_sequences(X_test, dtype='float', padding='post', maxlen = 400)"
   ]
  },
  {
   "cell_type": "markdown",
   "id": "d64f7e10",
   "metadata": {},
   "source": [
    "# RNN"
   ]
  },
  {
   "cell_type": "code",
   "execution_count": 30,
   "id": "4d250e7b",
   "metadata": {},
   "outputs": [],
   "source": [
    "def init_model():\n",
    "    model = Sequential()\n",
    "    model.add(Masking())\n",
    "    model.add(LSTM(20, activation='tanh'))\n",
    "    model.add(Dense(10, activation='tanh'))\n",
    "    model.add(Dense(1, activation='sigmoid'))\n",
    "\n",
    "    model.compile(loss='binary_crossentropy',\n",
    "                  optimizer='rmsprop',\n",
    "                  metrics='accuracy')\n",
    "    \n",
    "    return model\n",
    "\n",
    "model = init_model()"
   ]
  },
  {
   "cell_type": "code",
   "execution_count": 31,
   "id": "9eb67375",
   "metadata": {},
   "outputs": [
    {
     "name": "stdout",
     "output_type": "stream",
     "text": [
      "Epoch 1/100\n",
      "388/388 [==============================] - 88s 211ms/step - loss: 0.1508 - accuracy: 0.9533 - val_loss: 0.0834 - val_accuracy: 0.9733\n",
      "Epoch 2/100\n",
      "388/388 [==============================] - 73s 189ms/step - loss: 0.0740 - accuracy: 0.9756 - val_loss: 0.0913 - val_accuracy: 0.9714\n",
      "Epoch 3/100\n",
      "388/388 [==============================] - 72s 185ms/step - loss: 0.0676 - accuracy: 0.9781 - val_loss: 0.0704 - val_accuracy: 0.9765\n",
      "Epoch 4/100\n",
      "388/388 [==============================] - 76s 197ms/step - loss: 0.0620 - accuracy: 0.9810 - val_loss: 0.1045 - val_accuracy: 0.9638\n",
      "Epoch 5/100\n",
      "388/388 [==============================] - 75s 193ms/step - loss: 0.0599 - accuracy: 0.9801 - val_loss: 0.0701 - val_accuracy: 0.9776\n",
      "Epoch 6/100\n",
      "388/388 [==============================] - 76s 196ms/step - loss: 0.0566 - accuracy: 0.9817 - val_loss: 0.0793 - val_accuracy: 0.9740\n",
      "Epoch 7/100\n",
      "388/388 [==============================] - 79s 204ms/step - loss: 0.0547 - accuracy: 0.9824 - val_loss: 0.0725 - val_accuracy: 0.9751\n",
      "Epoch 8/100\n",
      "388/388 [==============================] - 79s 204ms/step - loss: 0.0521 - accuracy: 0.9825 - val_loss: 0.0744 - val_accuracy: 0.9748\n",
      "Epoch 9/100\n",
      "388/388 [==============================] - 77s 199ms/step - loss: 0.0503 - accuracy: 0.9836 - val_loss: 0.0765 - val_accuracy: 0.9740\n",
      "Epoch 10/100\n",
      "388/388 [==============================] - 97s 251ms/step - loss: 0.0484 - accuracy: 0.9843 - val_loss: 0.0772 - val_accuracy: 0.9755\n"
     ]
    }
   ],
   "source": [
    "from tensorflow.keras.callbacks import EarlyStopping\n",
    "\n",
    "es = EarlyStopping(patience=5, restore_best_weights=True)\n",
    "\n",
    "history_fit = model.fit(X_train_pad, y_train, \n",
    "          batch_size = 32,\n",
    "          epochs=100,\n",
    "          validation_split=0.3,\n",
    "          callbacks=[es],\n",
    "          verbose = 1\n",
    "         )"
   ]
  },
  {
   "cell_type": "code",
   "execution_count": 34,
   "id": "0dd77a87",
   "metadata": {},
   "outputs": [
    {
     "ename": "TypeError",
     "evalue": "'History' object is not subscriptable",
     "output_type": "error",
     "traceback": [
      "\u001b[0;31m---------------------------------------------------------------------------\u001b[0m",
      "\u001b[0;31mTypeError\u001b[0m                                 Traceback (most recent call last)",
      "\u001b[0;32m/var/folders/qt/429xyfsn0gb9bdmc6vhhrh_h0000gn/T/ipykernel_50049/1827536752.py\u001b[0m in \u001b[0;36m<module>\u001b[0;34m\u001b[0m\n\u001b[0;32m----> 1\u001b[0;31m \u001b[0mhistory_fit\u001b[0m\u001b[0;34m[\u001b[0m\u001b[0;36m0\u001b[0m\u001b[0;34m]\u001b[0m\u001b[0;34m\u001b[0m\u001b[0;34m\u001b[0m\u001b[0m\n\u001b[0m",
      "\u001b[0;31mTypeError\u001b[0m: 'History' object is not subscriptable"
     ]
    }
   ],
   "source": []
  },
  {
   "cell_type": "code",
   "execution_count": null,
   "id": "d3e8309f",
   "metadata": {},
   "outputs": [],
   "source": []
  }
 ],
 "metadata": {
  "kernelspec": {
   "display_name": "Python 3 (ipykernel)",
   "language": "python",
   "name": "python3"
  },
  "language_info": {
   "codemirror_mode": {
    "name": "ipython",
    "version": 3
   },
   "file_extension": ".py",
   "mimetype": "text/x-python",
   "name": "python",
   "nbconvert_exporter": "python",
   "pygments_lexer": "ipython3",
   "version": "3.8.12"
  },
  "toc": {
   "base_numbering": 1,
   "nav_menu": {},
   "number_sections": true,
   "sideBar": true,
   "skip_h1_title": false,
   "title_cell": "Table of Contents",
   "title_sidebar": "Contents",
   "toc_cell": false,
   "toc_position": {},
   "toc_section_display": true,
   "toc_window_display": false
  }
 },
 "nbformat": 4,
 "nbformat_minor": 5
}
