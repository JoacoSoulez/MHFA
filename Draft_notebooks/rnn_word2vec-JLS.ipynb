{
 "cells": [
  {
   "cell_type": "markdown",
   "id": "179e4121",
   "metadata": {},
   "source": [
    "# traer data"
   ]
  },
  {
   "cell_type": "code",
   "execution_count": null,
   "id": "8d3d5620",
   "metadata": {},
   "outputs": [],
   "source": [
    "import pandas as pd\n",
    "import numpy as np\n",
    "import matplotlib.pyplot as plt\n",
    "import seaborn as sns\n",
    "from sklearn.feature_extraction.text import TfidfVectorizer\n",
    "from sklearn.model_selection import train_test_split\n",
    "\n",
    "import numpy as np\n",
    "from tensorflow.keras.preprocessing.sequence import pad_sequences"
   ]
  },
  {
   "cell_type": "code",
   "execution_count": 1,
   "id": "e5ad1a39",
   "metadata": {},
   "outputs": [
    {
     "ename": "NameError",
     "evalue": "name 'pd' is not defined",
     "output_type": "error",
     "traceback": [
      "\u001b[0;31m---------------------------------------------------------------------------\u001b[0m",
      "\u001b[0;31mNameError\u001b[0m                                 Traceback (most recent call last)",
      "\u001b[0;32m/var/folders/bj/ndgdqzgj6qgd9y613qph_m180000gn/T/ipykernel_67238/1520112191.py\u001b[0m in \u001b[0;36m<module>\u001b[0;34m\u001b[0m\n\u001b[1;32m      1\u001b[0m \u001b[0;31m#bring your data!\u001b[0m\u001b[0;34m\u001b[0m\u001b[0;34m\u001b[0m\u001b[0;34m\u001b[0m\u001b[0m\n\u001b[1;32m      2\u001b[0m \u001b[0mpath\u001b[0m \u001b[0;34m=\u001b[0m \u001b[0;34m'../raw_data/twitter_reddit_text.csv'\u001b[0m\u001b[0;34m\u001b[0m\u001b[0;34m\u001b[0m\u001b[0m\n\u001b[0;32m----> 3\u001b[0;31m \u001b[0mdata\u001b[0m \u001b[0;34m=\u001b[0m \u001b[0mpd\u001b[0m\u001b[0;34m.\u001b[0m\u001b[0mread_csv\u001b[0m\u001b[0;34m(\u001b[0m\u001b[0;34mf'{path}'\u001b[0m\u001b[0;34m)\u001b[0m\u001b[0;34m\u001b[0m\u001b[0;34m\u001b[0m\u001b[0m\n\u001b[0m\u001b[1;32m      4\u001b[0m \u001b[0mdata\u001b[0m\u001b[0;34m.\u001b[0m\u001b[0mdrop\u001b[0m\u001b[0;34m(\u001b[0m\u001b[0mcolumns\u001b[0m\u001b[0;34m=\u001b[0m\u001b[0;34m[\u001b[0m\u001b[0;34m'Unnamed: 0'\u001b[0m\u001b[0;34m]\u001b[0m\u001b[0;34m,\u001b[0m \u001b[0minplace\u001b[0m\u001b[0;34m=\u001b[0m\u001b[0;32mTrue\u001b[0m\u001b[0;34m)\u001b[0m\u001b[0;34m\u001b[0m\u001b[0;34m\u001b[0m\u001b[0m\n\u001b[1;32m      5\u001b[0m \u001b[0mdata\u001b[0m\u001b[0;34m.\u001b[0m\u001b[0mdropna\u001b[0m\u001b[0;34m(\u001b[0m\u001b[0minplace\u001b[0m\u001b[0;34m=\u001b[0m\u001b[0;32mTrue\u001b[0m\u001b[0;34m)\u001b[0m\u001b[0;34m\u001b[0m\u001b[0;34m\u001b[0m\u001b[0m\n",
      "\u001b[0;31mNameError\u001b[0m: name 'pd' is not defined"
     ]
    }
   ],
   "source": [
    "#bring your data!\n",
    "path = '../raw_data/twitter_reddit_text.csv'\n",
    "data = pd.read_csv(f'{path}')\n",
    "data.drop(columns=['Unnamed: 0'], inplace=True)\n",
    "data.dropna(inplace=True)\n",
    "data.head()"
   ]
  },
  {
   "cell_type": "code",
   "execution_count": 3,
   "id": "9dd61e0f",
   "metadata": {},
   "outputs": [
    {
     "name": "stdout",
     "output_type": "stream",
     "text": [
      "null values:\n",
      " \n",
      " clean_text    0\n",
      "label         0\n",
      "dtype: int64\n"
     ]
    }
   ],
   "source": [
    "print('null values:\\n \\n',data.isnull().sum())\n"
   ]
  },
  {
   "cell_type": "markdown",
   "id": "06fe7341",
   "metadata": {},
   "source": [
    "## train test split\n"
   ]
  },
  {
   "cell_type": "code",
   "execution_count": 4,
   "id": "7954f8d3",
   "metadata": {},
   "outputs": [],
   "source": [
    "X = data.clean_text\n",
    "y = data.label\n",
    "\n",
    "X_train, X_test, y_train, y_test = train_test_split(X , y ,test_size = 0.3 )\n"
   ]
  },
  {
   "cell_type": "code",
   "execution_count": 5,
   "id": "64326438",
   "metadata": {},
   "outputs": [
    {
     "name": "stdout",
     "output_type": "stream",
     "text": [
      "length of X_train 17750 length of X_test 7608 length of y_train 17750 length of y_test 7608\n"
     ]
    }
   ],
   "source": [
    "print('length of X_train',len(X_train), 'length of X_test',len(X_test), 'length of y_train',len(y_train), 'length of y_test',len(y_test))"
   ]
  },
  {
   "cell_type": "code",
   "execution_count": 6,
   "id": "86f8fc3c",
   "metadata": {},
   "outputs": [
    {
     "data": {
      "text/plain": [
       "6162     debat make post today told need share hope hel...\n",
       "20866    snapesflow hey vote tomfelton current rd place...\n",
       "10622    want wake even want sleep noth good ing alon d...\n",
       "1658     canadiancollect thank greatli appreci must for...\n",
       "14030    love shower super good food shame want e beyon...\n",
       "                               ...                        \n",
       "8780                                 jodi also uncool love\n",
       "9121     sad weak even type word use social medium nobo...\n",
       "6675     lost cat milo ago linger effect loss intens li...\n",
       "3664                         new diet give way much energi\n",
       "24742               jessicabowman alexvolk bing guy search\n",
       "Name: clean_text, Length: 17750, dtype: object"
      ]
     },
     "execution_count": 6,
     "metadata": {},
     "output_type": "execute_result"
    }
   ],
   "source": [
    "X_train"
   ]
  },
  {
   "cell_type": "markdown",
   "id": "d25011c9",
   "metadata": {},
   "source": [
    "## word tokenize and word 2 vec"
   ]
  },
  {
   "cell_type": "code",
   "execution_count": 7,
   "id": "20b2dad7",
   "metadata": {},
   "outputs": [],
   "source": [
    "from nltk.tokenize import word_tokenize\n",
    "from gensim.models import Word2Vec"
   ]
  },
  {
   "cell_type": "code",
   "execution_count": 8,
   "id": "adc36e55",
   "metadata": {},
   "outputs": [],
   "source": [
    "\n",
    "\n",
    "X_train = [word_tokenize(str(_)) for _ in X_train]\n",
    "X_test = [word_tokenize(str(_)) for _ in X_test]\n",
    "\n"
   ]
  },
  {
   "cell_type": "code",
   "execution_count": 9,
   "id": "fe15b950",
   "metadata": {},
   "outputs": [],
   "source": [
    "\n",
    "\n",
    "# This line trains an entire embedding for the words in your train set\n",
    "word2vec = Word2Vec(sentences=X_train, vector_size=100, window=5, min_count=5)"
   ]
  },
  {
   "cell_type": "code",
   "execution_count": 10,
   "id": "8369ffc8",
   "metadata": {},
   "outputs": [
    {
     "data": {
      "text/plain": [
       "array([[-4.59850699e-01,  3.89713347e-01, -9.68490660e-01,\n",
       "        -6.41987145e-01,  1.28261054e+00, -3.60262811e-01,\n",
       "         9.83860552e-01,  1.01043236e+00, -2.77427614e-01,\n",
       "         2.73515165e-01, -5.55068374e-01,  4.58507180e-01,\n",
       "        -3.65594000e-01,  4.59521055e-01, -1.92613062e-02,\n",
       "         7.04116672e-02,  8.15786645e-02,  6.47999883e-01,\n",
       "         3.38834584e-01, -1.10254371e+00, -5.79744220e-01,\n",
       "        -5.69661319e-01, -5.46255149e-02, -9.06901434e-02,\n",
       "         4.24108356e-01, -4.55573767e-01,  2.40556095e-02,\n",
       "         8.96067739e-01, -1.17223954e+00, -5.08016646e-01,\n",
       "         7.11943030e-01,  3.70064139e-01,  6.30528688e-01,\n",
       "        -1.24334025e+00,  9.94315743e-01, -5.36373615e-01,\n",
       "         9.89882171e-01,  3.80771011e-01,  1.24880242e+00,\n",
       "        -3.13426703e-01, -3.81974429e-01, -1.15600550e+00,\n",
       "        -1.05382955e+00,  1.24725831e+00,  1.94187522e+00,\n",
       "        -8.03649902e-01,  8.60523582e-01,  5.41347265e-01,\n",
       "         5.97540736e-01, -1.40702695e-01,  1.19528675e+00,\n",
       "        -2.23619953e-01, -3.05578083e-01, -1.03756338e-01,\n",
       "        -6.40871942e-01, -2.53106028e-01, -1.81038409e-01,\n",
       "        -1.25468385e+00, -1.02194294e-01,  5.50663583e-02,\n",
       "         1.07736327e-01, -2.65734702e-01,  1.06078160e+00,\n",
       "        -3.85088414e-01, -7.49988794e-01,  8.78766537e-01,\n",
       "         7.48696506e-01,  1.26334834e+00, -6.30914867e-01,\n",
       "         6.23278677e-01, -5.70298254e-01, -1.65455550e-01,\n",
       "        -3.21201593e-01,  2.26783395e-01,  6.99655354e-01,\n",
       "         4.15338546e-01, -5.67012370e-01,  6.03408098e-01,\n",
       "        -6.19597912e-01, -1.59621060e+00, -6.58914387e-01,\n",
       "        -2.77257174e-01,  4.50101465e-01,  9.27988648e-01,\n",
       "         2.64411092e-01,  3.02715927e-01,  5.25974989e-01,\n",
       "         7.05456376e-01, -4.62722570e-01, -5.94952703e-01,\n",
       "         7.68738747e-01,  1.79616347e-01, -6.42404854e-02,\n",
       "        -2.22487107e-01,  1.49345493e+00, -2.45582297e-01,\n",
       "         5.52150071e-01,  6.15269184e-01, -1.03998996e-01,\n",
       "         8.51512104e-02],\n",
       "       [-5.29448390e-01,  3.43139768e-01,  2.70501584e-01,\n",
       "         1.42439827e-01,  1.08548939e-01, -4.80003029e-01,\n",
       "         9.57874805e-02,  3.07260275e-01, -6.45291924e-01,\n",
       "        -1.75005600e-01, -2.60379046e-01, -7.72547007e-01,\n",
       "        -1.27121003e-03,  2.52408415e-01,  1.61484003e-01,\n",
       "        -7.11454630e-01, -3.60270083e-01, -6.93318248e-01,\n",
       "        -1.20393023e-01, -1.50572374e-01,  6.72055244e-01,\n",
       "         6.69703633e-02,  1.55933022e-01, -1.35378689e-01,\n",
       "         2.85358340e-01, -9.87588689e-02,  1.19705148e-01,\n",
       "        -5.58162153e-01, -1.20816864e-01, -9.13204700e-02,\n",
       "         4.85848069e-01, -4.05405641e-01,  2.23378465e-02,\n",
       "        -2.77172238e-01,  3.55575740e-01,  5.06093323e-01,\n",
       "         6.21070385e-01,  3.78498524e-01,  7.32478276e-02,\n",
       "        -5.36897421e-01, -6.96395576e-01, -3.13107371e-01,\n",
       "        -5.35286963e-01, -1.15175202e-01, -2.45698094e-01,\n",
       "        -4.74785060e-01, -1.98207200e-01,  1.02064542e-01,\n",
       "         1.42007813e-01,  3.27998221e-01,  3.81055415e-01,\n",
       "        -5.15966602e-02, -1.62973121e-01,  3.36569935e-01,\n",
       "        -2.58662641e-01,  3.22626442e-01, -6.64919317e-02,\n",
       "         9.81046930e-02, -6.66144013e-01,  2.95853794e-01,\n",
       "         2.03833394e-02,  8.28560442e-02, -1.62011266e-01,\n",
       "        -4.56817955e-01, -3.46551478e-01, -3.37933123e-01,\n",
       "         2.25328058e-01, -5.00975251e-02, -9.34791714e-02,\n",
       "         7.13118911e-01, -4.37683702e-01,  1.37752205e-01,\n",
       "         2.55123794e-01, -3.11634213e-01,  3.78249139e-01,\n",
       "         1.21060789e-01, -2.22100645e-01, -1.01103172e-01,\n",
       "        -7.64284655e-02,  3.14393222e-01, -9.14079621e-02,\n",
       "        -2.05196410e-01, -7.89787397e-02,  4.61015344e-01,\n",
       "        -8.49050432e-02,  7.61487931e-02, -1.16964988e-01,\n",
       "         8.13450515e-01,  6.34552240e-02, -2.34584995e-02,\n",
       "        -3.96876521e-02,  4.79265898e-01,  4.29506868e-01,\n",
       "         5.59393875e-02,  3.03223401e-01,  2.84374624e-01,\n",
       "         3.51665430e-02,  1.95953578e-01,  1.58793211e-01,\n",
       "         1.09580748e-01]], dtype=float32)"
      ]
     },
     "execution_count": 10,
     "metadata": {},
     "output_type": "execute_result"
    }
   ],
   "source": [
    "word2vec.wv['depress' , 'hello']"
   ]
  },
  {
   "cell_type": "markdown",
   "id": "437a048b",
   "metadata": {},
   "source": [
    "# data embedding"
   ]
  },
  {
   "cell_type": "markdown",
   "id": "82b435c1",
   "metadata": {},
   "source": [
    "## embed data"
   ]
  },
  {
   "cell_type": "code",
   "execution_count": 11,
   "id": "ac2928cb",
   "metadata": {},
   "outputs": [],
   "source": [
    "def embed_sentence(word2vec, sentence):\n",
    "    # $CHALLENGIFY_BEGIN\n",
    "    embedded_sentence = []\n",
    "    for word in sentence:\n",
    "        if word in word2vec.wv:\n",
    "            embedded_sentence.append(word2vec.wv[word])\n",
    "        \n",
    "    return np.array(embedded_sentence)"
   ]
  },
  {
   "cell_type": "code",
   "execution_count": 12,
   "id": "8e6d47c0",
   "metadata": {},
   "outputs": [],
   "source": [
    "def embedding(word2vec, sentences):\n",
    "    # $CHALLENGIFY_BEGIN\n",
    "    embed = []\n",
    "    \n",
    "    for sentence in sentences:\n",
    "        embedded_sentence = embed_sentence(word2vec, sentence)\n",
    "        embed.append(embedded_sentence)\n",
    "        \n",
    "    return embed\n",
    "    # $CHALLENGIFY_END\n",
    "    \n",
    "X_train = embedding(word2vec, X_train)\n",
    "X_test = embedding(word2vec, X_test)"
   ]
  },
  {
   "cell_type": "markdown",
   "id": "d2d387b3",
   "metadata": {},
   "source": [
    "## pad data"
   ]
  },
  {
   "cell_type": "code",
   "execution_count": 13,
   "id": "c1e6fcc2",
   "metadata": {},
   "outputs": [
    {
     "data": {
      "text/plain": [
       "\"X_train_pad = pad_sequences(X_train, dtype='float', padding='post')\\nX_test_pad = pad_sequences(X_test, dtype='float', padding='post')\""
      ]
     },
     "execution_count": 13,
     "metadata": {},
     "output_type": "execute_result"
    }
   ],
   "source": [
    "'''X_train_pad = pad_sequences(X_train, dtype='float', padding='post')\n",
    "X_test_pad = pad_sequences(X_test, dtype='float', padding='post')'''"
   ]
  },
  {
   "cell_type": "code",
   "execution_count": 14,
   "id": "825d7dba",
   "metadata": {},
   "outputs": [
    {
     "name": "stdout",
     "output_type": "stream",
     "text": [
      "number of train texts:  17750\n"
     ]
    },
    {
     "data": {
      "text/plain": [
       "8"
      ]
     },
     "execution_count": 14,
     "metadata": {},
     "output_type": "execute_result"
    }
   ],
   "source": [
    "print('number of train texts: ' ,len(X_train))\n",
    "X_train[3].shape[0]"
   ]
  },
  {
   "cell_type": "code",
   "execution_count": 15,
   "id": "8f4d019f",
   "metadata": {},
   "outputs": [],
   "source": [
    "text_word_lengths = [X_train[i].shape[0] for i in np.arange(len(X_train))]\n",
    "text_word_lengths_test = [X_test[i].shape[0] for i in np.arange(len(X_test))]"
   ]
  },
  {
   "cell_type": "code",
   "execution_count": 16,
   "id": "c3d9443a",
   "metadata": {},
   "outputs": [
    {
     "data": {
      "text/plain": [
       "<AxesSubplot:title={'center':'test data lengths'}, ylabel='Count'>"
      ]
     },
     "execution_count": 16,
     "metadata": {},
     "output_type": "execute_result"
    },
    {
     "data": {
      "image/png": "[encoded data removed]",
      "text/plain": [
       "<Figure size 432x288 with 2 Axes>"
      ]
     },
     "metadata": {
      "needs_background": "light"
     },
     "output_type": "display_data"
    }
   ],
   "source": [
    "plt.figure()\n",
    "plt.subplot(1,2,1)\n",
    "plt.title('train data lengths')\n",
    "sns.histplot(text_word_lengths)\n",
    "plt.subplot(1,2,2)\n",
    "plt.title('test data lengths')\n",
    "sns.histplot(text_word_lengths_test)"
   ]
  },
  {
   "cell_type": "code",
   "execution_count": 17,
   "id": "25a9b121",
   "metadata": {},
   "outputs": [],
   "source": [
    "text_word_lengths = np.array(text_word_lengths) "
   ]
  },
  {
   "cell_type": "code",
   "execution_count": 18,
   "id": "8e92bb43",
   "metadata": {},
   "outputs": [],
   "source": [
    "text_word_lengths_df =pd.Series(text_word_lengths).sort_values()"
   ]
  },
  {
   "cell_type": "code",
   "execution_count": 19,
   "id": "841c0cfd",
   "metadata": {},
   "outputs": [
    {
     "data": {
      "text/plain": [
       "10887    6240\n",
       "3863     1193\n",
       "15453    1044\n",
       "11151    1012\n",
       "12723     986\n",
       "3977      844\n",
       "774       825\n",
       "17429     807\n",
       "13596     803\n",
       "7523      783\n",
       "13270     725\n",
       "12422     675\n",
       "5617      658\n",
       "16934     642\n",
       "967       612\n",
       "10079     612\n",
       "13159     609\n",
       "3159      606\n",
       "14694     598\n",
       "500       591\n",
       "16311     590\n",
       "14742     567\n",
       "6869      565\n",
       "8808      562\n",
       "11374     548\n",
       "15219     532\n",
       "1042      529\n",
       "14299     528\n",
       "7787      512\n",
       "2793      509\n",
       "dtype: int64"
      ]
     },
     "execution_count": 19,
     "metadata": {},
     "output_type": "execute_result"
    }
   ],
   "source": [
    "text_word_lengths_df.sort_values(ascending=False).head(30)"
   ]
  },
  {
   "cell_type": "code",
   "execution_count": 20,
   "id": "cb7954a6",
   "metadata": {},
   "outputs": [],
   "source": [
    "#cortamos en 400 words\n",
    "\n",
    "X_train_pad = pad_sequences(X_train, dtype='float', padding='post', maxlen= 400,truncating= 'post')\n",
    "X_test_pad = pad_sequences(X_test, dtype='float', padding='post', maxlen = 400 , truncating = 'post')\n"
   ]
  },
  {
   "cell_type": "markdown",
   "id": "d0ece19a",
   "metadata": {},
   "source": [
    "# the model"
   ]
  },
  {
   "cell_type": "markdown",
   "id": "9df38eba",
   "metadata": {},
   "source": [
    "## baseline score"
   ]
  },
  {
   "cell_type": "code",
   "execution_count": 21,
   "id": "6ab8b75d",
   "metadata": {},
   "outputs": [
    {
     "name": "stdout",
     "output_type": "stream",
     "text": [
      "Number of labels in train set {0: 8886, 1: 8864}\n",
      "Baseline accuracy:  0.4985541535226078\n"
     ]
    }
   ],
   "source": [
    "from sklearn.metrics import accuracy_score\n",
    "\n",
    "unique, counts = np.unique(y_train, return_counts=True)\n",
    "counts = dict(zip(unique, counts))\n",
    "print('Number of labels in train set', counts)\n",
    "\n",
    "y_pred = 0 if counts[0] > counts[1] else 1\n",
    "\n",
    "print('Baseline accuracy: ', accuracy_score(y_test, [y_pred]*len(y_test)))"
   ]
  },
  {
   "cell_type": "markdown",
   "id": "9c6b8d4e",
   "metadata": {},
   "source": [
    "## first neural network"
   ]
  },
  {
   "cell_type": "code",
   "execution_count": 22,
   "id": "e7c1b929",
   "metadata": {},
   "outputs": [
    {
     "name": "stderr",
     "output_type": "stream",
     "text": [
      "2022-03-09 13:36:05.400599: W tensorflow/stream_executor/platform/default/dso_loader.cc:64] Could not load dynamic library 'libcuda.so.1'; dlerror: libcuda.so.1: cannot open shared object file: No such file or directory\n",
      "2022-03-09 13:36:05.400646: W tensorflow/stream_executor/cuda/cuda_driver.cc:269] failed call to cuInit: UNKNOWN ERROR (303)\n",
      "2022-03-09 13:36:05.400667: I tensorflow/stream_executor/cuda/cuda_diagnostics.cc:156] kernel driver does not appear to be running on this host (DESKTOP-QMHRL2V): /proc/driver/nvidia/version does not exist\n",
      "2022-03-09 13:36:05.400899: I tensorflow/core/platform/cpu_feature_guard.cc:151] This TensorFlow binary is optimized with oneAPI Deep Neural Network Library (oneDNN) to use the following CPU instructions in performance-critical operations:  AVX2 FMA\n",
      "To enable them in other operations, rebuild TensorFlow with the appropriate compiler flags.\n"
     ]
    }
   ],
   "source": [
    "from tensorflow.keras import Sequential\n",
    "from tensorflow.keras import layers\n",
    "\n",
    "def init_model():\n",
    "    model = Sequential()\n",
    "    model.add(layers.Masking())\n",
    "    model.add(layers.LSTM(20, activation='tanh'))\n",
    "    model.add(layers.Dense(15, activation='relu'))\n",
    "    model.add(layers.Dense(1, activation='sigmoid'))\n",
    "\n",
    "    model.compile(loss='binary_crossentropy',\n",
    "                  optimizer='rmsprop',\n",
    "                  metrics=['accuracy', 'AUC','Precision','Recall'])\n",
    "    \n",
    "    return model\n",
    "\n",
    "model = init_model()"
   ]
  },
  {
   "cell_type": "code",
   "execution_count": 23,
   "id": "52abb431",
   "metadata": {},
   "outputs": [
    {
     "name": "stderr",
     "output_type": "stream",
     "text": [
      "2022-03-09 13:37:06.938669: W tensorflow/core/framework/cpu_allocator_impl.cc:82] Allocation of 1988000000 exceeds 10% of free system memory.\n"
     ]
    },
    {
     "name": "stdout",
     "output_type": "stream",
     "text": [
      "Epoch 1/100\n",
      "389/389 [==============================] - ETA: 0s - loss: 0.1328 - accuracy: 0.9614 - auc: 0.9900 - precision: 0.9623 - recall: 0.9603"
     ]
    },
    {
     "name": "stderr",
     "output_type": "stream",
     "text": [
      "2022-03-09 13:39:06.032107: W tensorflow/core/framework/cpu_allocator_impl.cc:82] Allocation of 852000000 exceeds 10% of free system memory.\n"
     ]
    },
    {
     "name": "stdout",
     "output_type": "stream",
     "text": [
      "389/389 [==============================] - 117s 261ms/step - loss: 0.1328 - accuracy: 0.9614 - auc: 0.9900 - precision: 0.9623 - recall: 0.9603 - val_loss: 0.0694 - val_accuracy: 0.9777 - val_auc: 0.9966 - val_precision: 0.9711 - val_recall: 0.9846\n",
      "Epoch 2/100\n",
      "389/389 [==============================] - 97s 250ms/step - loss: 0.0591 - accuracy: 0.9803 - auc: 0.9961 - precision: 0.9861 - recall: 0.9742 - val_loss: 0.0639 - val_accuracy: 0.9795 - val_auc: 0.9960 - val_precision: 0.9946 - val_recall: 0.9644\n",
      "Epoch 3/100\n",
      "389/389 [==============================] - 96s 246ms/step - loss: 0.0533 - accuracy: 0.9833 - auc: 0.9969 - precision: 0.9879 - recall: 0.9784 - val_loss: 0.0547 - val_accuracy: 0.9816 - val_auc: 0.9968 - val_precision: 0.9920 - val_recall: 0.9711\n",
      "Epoch 4/100\n",
      "389/389 [==============================] - 98s 253ms/step - loss: 0.0498 - accuracy: 0.9839 - auc: 0.9974 - precision: 0.9888 - recall: 0.9789 - val_loss: 0.0504 - val_accuracy: 0.9825 - val_auc: 0.9972 - val_precision: 0.9890 - val_recall: 0.9760\n",
      "Epoch 5/100\n",
      "389/389 [==============================] - 92s 236ms/step - loss: 0.0473 - accuracy: 0.9849 - auc: 0.9974 - precision: 0.9902 - recall: 0.9793 - val_loss: 0.0517 - val_accuracy: 0.9827 - val_auc: 0.9970 - val_precision: 0.9835 - val_recall: 0.9820\n",
      "Epoch 6/100\n",
      "389/389 [==============================] - 91s 235ms/step - loss: 0.0440 - accuracy: 0.9861 - auc: 0.9979 - precision: 0.9910 - recall: 0.9810 - val_loss: 0.0524 - val_accuracy: 0.9827 - val_auc: 0.9970 - val_precision: 0.9842 - val_recall: 0.9812\n",
      "Epoch 7/100\n",
      "389/389 [==============================] - 92s 237ms/step - loss: 0.0403 - accuracy: 0.9858 - auc: 0.9980 - precision: 0.9907 - recall: 0.9808 - val_loss: 0.0574 - val_accuracy: 0.9808 - val_auc: 0.9970 - val_precision: 0.9752 - val_recall: 0.9869\n"
     ]
    }
   ],
   "source": [
    "from tensorflow.keras.callbacks import EarlyStopping\n",
    "\n",
    "es = EarlyStopping(patience=3, restore_best_weights=True)\n",
    "\n",
    "history_fit = model.fit(X_train_pad, y_train, \n",
    "          batch_size = 32,\n",
    "          epochs=100,\n",
    "          validation_split=0.3,\n",
    "          callbacks=[es],\n",
    "          verbose = 1\n",
    "         )"
   ]
  },
  {
   "cell_type": "code",
   "execution_count": 24,
   "id": "8218918e",
   "metadata": {},
   "outputs": [],
   "source": [
    "import joblib\n"
   ]
  },
  {
   "cell_type": "code",
   "execution_count": 26,
   "id": "a828d589",
   "metadata": {},
   "outputs": [
    {
     "name": "stderr",
     "output_type": "stream",
     "text": [
      "WARNING:absl:Found untraced functions such as lstm_cell_layer_call_fn, lstm_cell_layer_call_and_return_conditional_losses, lstm_cell_layer_call_fn, lstm_cell_layer_call_and_return_conditional_losses, lstm_cell_layer_call_and_return_conditional_losses while saving (showing 5 of 5). These functions will not be directly callable after loading.\n"
     ]
    },
    {
     "name": "stdout",
     "output_type": "stream",
     "text": [
      "INFO:tensorflow:Assets written to: ram://ca28a103-bce4-4988-8111-304896cb8bc2/assets\n"
     ]
    },
    {
     "name": "stderr",
     "output_type": "stream",
     "text": [
      "INFO:tensorflow:Assets written to: ram://ca28a103-bce4-4988-8111-304896cb8bc2/assets\n",
      "WARNING:absl:<keras.layers.recurrent.LSTMCell object at 0x7f3b73ca8100> has the same name 'LSTMCell' as a built-in Keras object. Consider renaming <class 'keras.layers.recurrent.LSTMCell'> to avoid naming conflicts when loading with `tf.keras.models.load_model`. If renaming is not possible, pass the object in the `custom_objects` parameter of the load function.\n"
     ]
    },
    {
     "data": {
      "text/plain": [
       "['rnn_twitterreddit_2.sav']"
      ]
     },
     "execution_count": 26,
     "metadata": {},
     "output_type": "execute_result"
    }
   ],
   "source": [
    "joblib.dump(model, 'rnn_twitterreddit_2.sav')"
   ]
  },
  {
   "cell_type": "code",
   "execution_count": 30,
   "id": "1ebf7817",
   "metadata": {},
   "outputs": [
    {
     "ename": "TypeError",
     "evalue": "'History' object is not callable",
     "output_type": "error",
     "traceback": [
      "\u001b[0;31m---------------------------------------------------------------------------\u001b[0m",
      "\u001b[0;31mTypeError\u001b[0m                                 Traceback (most recent call last)",
      "\u001b[0;32m/tmp/ipykernel_7554/1172760720.py\u001b[0m in \u001b[0;36m<module>\u001b[0;34m\u001b[0m\n\u001b[0;32m----> 1\u001b[0;31m \u001b[0mhistory_fit\u001b[0m\u001b[0;34m(\u001b[0m\u001b[0;34m)\u001b[0m\u001b[0;34m\u001b[0m\u001b[0;34m\u001b[0m\u001b[0m\n\u001b[0m\u001b[1;32m      2\u001b[0m \u001b[0;34m\u001b[0m\u001b[0m\n",
      "\u001b[0;31mTypeError\u001b[0m: 'History' object is not callable"
     ]
    }
   ],
   "source": [
    "\n",
    "\n"
   ]
  },
  {
   "cell_type": "code",
   "execution_count": null,
   "id": "4d85f92c",
   "metadata": {},
   "outputs": [],
   "source": []
  }
 ],
 "metadata": {
  "kernelspec": {
   "display_name": "Python 3 (ipykernel)",
   "language": "python",
   "name": "python3"
  },
  "language_info": {
   "codemirror_mode": {
    "name": "ipython",
    "version": 3
   },
   "file_extension": ".py",
   "mimetype": "text/x-python",
   "name": "python",
   "nbconvert_exporter": "python",
   "pygments_lexer": "ipython3",
   "version": "3.8.12"
  },
  "toc": {
   "base_numbering": 1,
   "nav_menu": {},
   "number_sections": true,
   "sideBar": true,
   "skip_h1_title": false,
   "title_cell": "Table of Contents",
   "title_sidebar": "Contents",
   "toc_cell": false,
   "toc_position": {},
   "toc_section_display": true,
   "toc_window_display": false
  }
 },
 "nbformat": 4,
 "nbformat_minor": 5
}
