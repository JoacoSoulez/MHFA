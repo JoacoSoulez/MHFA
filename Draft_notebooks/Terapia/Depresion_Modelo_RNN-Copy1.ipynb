{
 "cells": [
  {
   "cell_type": "code",
   "execution_count": 1,
   "metadata": {
    "colab": {
     "base_uri": "https://localhost:8080/"
    },
    "id": "p8H2QUYgRpCH",
    "outputId": "893b25ef-84a1-4f56-d13e-9ceef70e5fac"
   },
   "outputs": [
    {
     "name": "stderr",
     "output_type": "stream",
     "text": [
      "[nltk_data] Downloading package wordnet to /home/leoasad/nltk_data...\n",
      "[nltk_data]   Package wordnet is already up-to-date!\n",
      "[nltk_data] Downloading package stopwords to\n",
      "[nltk_data]     /home/leoasad/nltk_data...\n",
      "[nltk_data]   Package stopwords is already up-to-date!\n",
      "[nltk_data] Downloading package punkt to /home/leoasad/nltk_data...\n",
      "[nltk_data]   Package punkt is already up-to-date!\n"
     ]
    }
   ],
   "source": [
    "import numpy as np\n",
    "import pandas as pd\n",
    "from gensim.models.keyedvectors import KeyedVectors\n",
    "from nltk.corpus import stopwords\n",
    "from sklearn.ensemble import RandomForestClassifier\n",
    "import sklearn.metrics\n",
    "from sklearn.feature_extraction.text import TfidfVectorizer\n",
    "from sklearn.naive_bayes import MultinomialNB\n",
    "from sklearn.svm import SVC\n",
    "from nltk.tokenize import word_tokenize\n",
    "from gensim.models import Word2Vec\n",
    "from sklearn.metrics import classification_report\n",
    "import nltk\n",
    "nltk.download('wordnet')\n",
    "nltk.download('stopwords')\n",
    "nltk.download('punkt')\n",
    "import re\n"
   ]
  },
  {
   "cell_type": "markdown",
   "metadata": {},
   "source": [
    "# Cargar datos"
   ]
  },
  {
   "cell_type": "code",
   "execution_count": 2,
   "metadata": {
    "colab": {
     "base_uri": "https://localhost:8080/"
    },
    "id": "gzC6QIG0pTS_",
    "outputId": "21fd1e7b-548e-412e-8173-6b891c40c667"
   },
   "outputs": [
    {
     "data": {
      "text/plain": [
       "(107, 12)"
      ]
     },
     "execution_count": 2,
     "metadata": {},
     "output_type": "execute_result"
    }
   ],
   "source": [
    "df = pd.read_csv('../../raw_data/train_split_Depression_AVEC2017.csv',delimiter=',',encoding='utf-8')\n",
    "df.shape"
   ]
  },
  {
   "cell_type": "code",
   "execution_count": 8,
   "metadata": {
    "colab": {
     "base_uri": "https://localhost:8080/"
    },
    "id": "Yc9LEqPyqQYl",
    "outputId": "5f85d5bb-4cc4-4093-d150-56a76e408b0b"
   },
   "outputs": [
    {
     "data": {
      "text/plain": [
       "(35, 12)"
      ]
     },
     "execution_count": 8,
     "metadata": {},
     "output_type": "execute_result"
    }
   ],
   "source": [
    "df3 = pd.read_csv('../../raw_data/dev_split_Depression_AVEC2017.csv',delimiter=',',encoding='utf-8')\n",
    "df3.shape"
   ]
  },
  {
   "cell_type": "code",
   "execution_count": 9,
   "metadata": {
    "colab": {
     "base_uri": "https://localhost:8080/"
    },
    "id": "fM3BUGKD8DhG",
    "outputId": "e3699382-eab7-4532-887f-d51b4bb3d4fd"
   },
   "outputs": [
    {
     "data": {
      "text/plain": [
       "(47, 4)"
      ]
     },
     "execution_count": 9,
     "metadata": {},
     "output_type": "execute_result"
    }
   ],
   "source": [
    "df3 = pd.read_csv('../../raw_data/full_test_split.csv',delimiter=',',encoding='utf-8')\n",
    "df3.shape"
   ]
  },
  {
   "cell_type": "code",
   "execution_count": 10,
   "metadata": {
    "id": "B0twETvVR25Y"
   },
   "outputs": [],
   "source": [
    "dataset1 = np.array(pd.read_csv('../../raw_data/dev_split_Depression_AVEC2017.csv',delimiter=',',encoding='utf-8'))[:, 0:2]\n",
    "dataset2 = np.array(pd.read_csv('../../raw_data/full_test_split.csv',delimiter=',',encoding='utf-8'))[:, 0:2]\n",
    "dataset3 = np.array(pd.read_csv('../../raw_data/train_split_Depression_AVEC2017.csv',delimiter=',',encoding='utf-8'))[:, 0:2]"
   ]
  },
  {
   "cell_type": "code",
   "execution_count": 11,
   "metadata": {
    "colab": {
     "base_uri": "https://localhost:8080/"
    },
    "id": "L2CGisgCsv8H",
    "outputId": "147f2c75-0f3d-4842-c9af-ab395b2a58de"
   },
   "outputs": [
    {
     "data": {
      "text/plain": [
       "(47, 2)"
      ]
     },
     "execution_count": 11,
     "metadata": {},
     "output_type": "execute_result"
    }
   ],
   "source": [
    "dataset2.shape"
   ]
  },
  {
   "cell_type": "code",
   "execution_count": 12,
   "metadata": {
    "id": "AXGRjaYFSdbc"
   },
   "outputs": [],
   "source": [
    "dataset = np.concatenate((dataset1, np.concatenate((dataset2, dataset3))))\n"
   ]
  },
  {
   "cell_type": "code",
   "execution_count": 15,
   "metadata": {
    "id": "vZQsOEuzTP30"
   },
   "outputs": [],
   "source": [
    "pos = []\n",
    "neg = []"
   ]
  },
  {
   "cell_type": "code",
   "execution_count": 16,
   "metadata": {
    "id": "NrKSeu9aTQJA"
   },
   "outputs": [],
   "source": [
    "def checkPosNeg(dataset, index):\n",
    "    for i in range(0, len(dataset)):\n",
    "        if(dataset[i][0] == index):\n",
    "            return dataset[i][1]\n",
    "    return 0"
   ]
  },
  {
   "cell_type": "code",
   "execution_count": 17,
   "metadata": {
    "id": "HXArzf0QTXib"
   },
   "outputs": [],
   "source": [
    "for i in range(len(dataset)):\n",
    "        if(dataset[i][1] == 1):\n",
    "            neg.append(dataset[i][0])\n",
    "        else:\n",
    "            pos.append(dataset[i][0])\n",
    "            \n",
    "pos = np.array(pos)\n",
    "neg = np.array(neg)"
   ]
  },
  {
   "cell_type": "code",
   "execution_count": 18,
   "metadata": {
    "colab": {
     "base_uri": "https://localhost:8080/"
    },
    "id": "xO5ptzo-8JDS",
    "outputId": "b4786871-baa5-4fd5-d6a3-215678d0eb38"
   },
   "outputs": [
    {
     "data": {
      "text/plain": [
       "((133,), (56,))"
      ]
     },
     "execution_count": 18,
     "metadata": {},
     "output_type": "execute_result"
    }
   ],
   "source": [
    "pos.shape, neg.shape"
   ]
  },
  {
   "cell_type": "code",
   "execution_count": 19,
   "metadata": {
    "colab": {
     "base_uri": "https://localhost:8080/",
     "height": 206
    },
    "id": "1Ams4oCFwTQS",
    "outputId": "bab18ef6-3b1c-4e16-cc6f-01f53a3cdac7"
   },
   "outputs": [
    {
     "data": {
      "text/html": [
       "<div>\n",
       "<style scoped>\n",
       "    .dataframe tbody tr th:only-of-type {\n",
       "        vertical-align: middle;\n",
       "    }\n",
       "\n",
       "    .dataframe tbody tr th {\n",
       "        vertical-align: top;\n",
       "    }\n",
       "\n",
       "    .dataframe thead th {\n",
       "        text-align: right;\n",
       "    }\n",
       "</style>\n",
       "<table border=\"1\" class=\"dataframe\">\n",
       "  <thead>\n",
       "    <tr style=\"text-align: right;\">\n",
       "      <th></th>\n",
       "      <th>start_time</th>\n",
       "      <th>stop_time</th>\n",
       "      <th>speaker</th>\n",
       "      <th>value</th>\n",
       "    </tr>\n",
       "  </thead>\n",
       "  <tbody>\n",
       "    <tr>\n",
       "      <th>0</th>\n",
       "      <td>36.588</td>\n",
       "      <td>39.668</td>\n",
       "      <td>Ellie</td>\n",
       "      <td>hi i'm ellie thanks for coming in today</td>\n",
       "    </tr>\n",
       "    <tr>\n",
       "      <th>1</th>\n",
       "      <td>39.888</td>\n",
       "      <td>43.378</td>\n",
       "      <td>Ellie</td>\n",
       "      <td>i was created to talk to people in a safe and ...</td>\n",
       "    </tr>\n",
       "    <tr>\n",
       "      <th>2</th>\n",
       "      <td>43.728</td>\n",
       "      <td>48.498</td>\n",
       "      <td>Ellie</td>\n",
       "      <td>think of me as a friend i don't judge i can't ...</td>\n",
       "    </tr>\n",
       "    <tr>\n",
       "      <th>3</th>\n",
       "      <td>49.188</td>\n",
       "      <td>52.388</td>\n",
       "      <td>Ellie</td>\n",
       "      <td>i'm here to learn about people and would love ...</td>\n",
       "    </tr>\n",
       "    <tr>\n",
       "      <th>4</th>\n",
       "      <td>52.658</td>\n",
       "      <td>58.958</td>\n",
       "      <td>Ellie</td>\n",
       "      <td>i'll ask a few questions to get us started and...</td>\n",
       "    </tr>\n",
       "  </tbody>\n",
       "</table>\n",
       "</div>"
      ],
      "text/plain": [
       "   start_time  stop_time speaker  \\\n",
       "0      36.588     39.668   Ellie   \n",
       "1      39.888     43.378   Ellie   \n",
       "2      43.728     48.498   Ellie   \n",
       "3      49.188     52.388   Ellie   \n",
       "4      52.658     58.958   Ellie   \n",
       "\n",
       "                                               value  \n",
       "0            hi i'm ellie thanks for coming in today  \n",
       "1  i was created to talk to people in a safe and ...  \n",
       "2  think of me as a friend i don't judge i can't ...  \n",
       "3  i'm here to learn about people and would love ...  \n",
       "4  i'll ask a few questions to get us started and...  "
      ]
     },
     "execution_count": 19,
     "metadata": {},
     "output_type": "execute_result"
    }
   ],
   "source": [
    "df = pd.read_csv(\"../../raw_data/transcripts/300_TRANSCRIPT.csv\",delimiter='\\t',encoding='utf-8')\n",
    "df.head()"
   ]
  },
  {
   "cell_type": "code",
   "execution_count": 20,
   "metadata": {
    "id": "7pcOJtgpTjo6"
   },
   "outputs": [],
   "source": [
    "Data = []\n",
    "Y = []\n",
    "Data_test = []\n",
    "Y_test = []\n",
    "index = -1\n",
    "for i in range(0, len(dataset3)):\n",
    "    val = checkPosNeg(dataset, dataset3[i][0])\n",
    "    Y.append(val)\n",
    "    fileName = '../../raw_data/transcripts/' + str(int(dataset3[i][0])) + \"_TRANSCRIPT.csv\"\n",
    "    \n",
    "    #print(fileName)\n",
    "    Data.append(np.array(pd.read_csv(fileName,delimiter='\\t',encoding='utf-8'))[:, 2:4])\n",
    "\n",
    "Y_val = []\n",
    "Data_val = []\n",
    "for i in range(0, len(dataset1)):\n",
    "    val = checkPosNeg(dataset, dataset1[i][0])\n",
    "    Y_val.append(val)\n",
    "    fileName = '../../raw_data/transcripts/' + str(int(dataset1[i][0])) + \"_TRANSCRIPT.csv\"\n",
    "    Data_val.append(np.array(pd.read_csv(fileName,delimiter='\\t',encoding='utf-8'))[:, 2:4])"
   ]
  },
  {
   "cell_type": "code",
   "execution_count": 21,
   "metadata": {
    "id": "Hi-FU5upzW3V"
   },
   "outputs": [],
   "source": [
    "for i in range(0, len(dataset2)):\n",
    "    Y_test.append(checkPosNeg(dataset, dataset2[i][0]))\n",
    "    fileName = '../../raw_data/transcripts/' + str(int(dataset2[i][0])) + \"_TRANSCRIPT.csv\"\n",
    "    Data_test.append(np.array(pd.read_csv(fileName,delimiter='\\t',encoding='utf-8'))[:, 2:4])\n"
   ]
  },
  {
   "cell_type": "code",
   "execution_count": 22,
   "metadata": {
    "id": "l7RuaP_mUBHp"
   },
   "outputs": [],
   "source": [
    "Y = np.array(Y)\n",
    "Data2 = []\n",
    "Data2_val = []\n",
    "Data2_test = []\n",
    "Y_test = np.array(Y_test)\n",
    "Y_val = np.array(Y_val)"
   ]
  },
  {
   "cell_type": "code",
   "execution_count": 23,
   "metadata": {
    "colab": {
     "base_uri": "https://localhost:8080/"
    },
    "id": "Sj8BgSgU0UZw",
    "outputId": "a9292a4c-c49d-4b00-a8ed-76207c1cdecc"
   },
   "outputs": [
    {
     "data": {
      "text/plain": [
       "((array([0., 1.]), array([33, 14])),\n",
       " (array([0., 1.]), array([77, 30])),\n",
       " (array([0., 1.]), array([23, 12])))"
      ]
     },
     "execution_count": 23,
     "metadata": {},
     "output_type": "execute_result"
    }
   ],
   "source": [
    "np.unique(Y_test, return_counts = True), np.unique(Y, return_counts = True), np.unique(Y_val, return_counts = True)"
   ]
  },
  {
   "cell_type": "code",
   "execution_count": 24,
   "metadata": {},
   "outputs": [
    {
     "data": {
      "text/plain": [
       "((array([0., 1.]), array([33, 14])),\n",
       " (array([0., 1.]), array([77, 30])),\n",
       " (array([0., 1.]), array([23, 12])))"
      ]
     },
     "execution_count": 24,
     "metadata": {},
     "output_type": "execute_result"
    }
   ],
   "source": [
    "np.unique(Y_test, return_counts = True), np.unique(Y, return_counts = True), np.unique(Y_val, return_counts = True)"
   ]
  },
  {
   "cell_type": "code",
   "execution_count": 25,
   "metadata": {
    "colab": {
     "base_uri": "https://localhost:8080/"
    },
    "id": "QKKKiqJPUDyu",
    "outputId": "cb791700-6aa9-4d36-9712-963ec6f5094d"
   },
   "outputs": [],
   "source": [
    "for i in range(0, len(Data)):\n",
    "    script = []\n",
    "    for k in range(1, len(Data[i])):\n",
    "        if(Data[i][k][0] == \"Participant\"):\n",
    "            script.append(Data[i][k][1])\n",
    "    Data2.append(script)\n",
    "    \n",
    "for i in range(0, len(Data_test)):\n",
    "    script = []\n",
    "    for k in range(1, len(Data_test[i])):\n",
    "        if(Data_test[i][k][0] == \"Participant\"):\n",
    "            script.append(Data_test[i][k][1])\n",
    "    Data2_test.append(script)\n",
    "\n",
    "for i in range(0, len(Data_val)):\n",
    "    script = []\n",
    "    for k in range(1, len(Data_val[i])):\n",
    "        if(Data_val[i][k][0] == \"Participant\"):\n",
    "            script.append(Data_val[i][k][1])\n",
    "    Data2_val.append(script)\n",
    "        \n",
    "Data2 = np.array(Data2)\n",
    "Data2_test = np.array(Data2_test)\n",
    "Data2_val = np.array(Data2_val)"
   ]
  },
  {
   "cell_type": "markdown",
   "metadata": {},
   "source": [
    "# Limpieza de Datos"
   ]
  },
  {
   "cell_type": "code",
   "execution_count": 72,
   "metadata": {
    "id": "SMsUJGBE5K8M"
   },
   "outputs": [],
   "source": [
    "# %run preprocessing.ipynb\n"
   ]
  },
  {
   "cell_type": "code",
   "execution_count": 26,
   "metadata": {
    "id": "Wh_X18PCMFk8"
   },
   "outputs": [],
   "source": [
    "def stop_words_and_lemmatizer(text):\n",
    "    \"\"\" Remove Stop words from text \"\"\"\n",
    "    stopwords = nltk.corpus.stopwords.words('english')\n",
    "    # stopwords.append('https')\n",
    "    # stopwords.append('com')\n",
    "    # stopwords.append('http')\n",
    "    # stopwords.append('twitter')\n",
    "    stopwords.append('m')\n",
    "    stopwords.append('yes')\n",
    "    stopwords.append('uh')\n",
    "    stopwords.append('eh')\n",
    "    \n",
    "    stop_words = set(stopwords)\n",
    "    \n",
    "    word_tokens = nltk.word_tokenize(text) \n",
    "    \n",
    "    without_stopwords = [w for w in word_tokens if not w in stop_words]\n",
    "    \n",
    "    lemmatizer = WordNetLemmatizer()\n",
    "    \n",
    "    lemmatized = [lemmatizer.lemmatize(word) for word in without_stopwords]\n",
    "    \n",
    "    return ' '.join(lemmatized)"
   ]
  },
  {
   "cell_type": "code",
   "execution_count": 30,
   "metadata": {
    "id": "tSvaqPw9MPh2"
   },
   "outputs": [],
   "source": [
    "def to_lower(text):\n",
    "    return text.lower()"
   ]
  },
  {
   "cell_type": "code",
   "execution_count": 31,
   "metadata": {
    "id": "uoK9jOc1NEFV"
   },
   "outputs": [],
   "source": [
    "def remove_context_symbol(text):\n",
    "    import re\n",
    "    return re.sub('<[^>]+>', '', text)"
   ]
  },
  {
   "cell_type": "code",
   "execution_count": 32,
   "metadata": {
    "id": "EYJj9LoxMQc8"
   },
   "outputs": [],
   "source": [
    "def remove_bad_symbols(text):\n",
    "    \"\"\"Remove unwanted symbols from text\"\"\"\n",
    "    bad_symbols = re.compile('[^0-9a-z #+_]')\n",
    "    return bad_symbols.sub(' ', text)"
   ]
  },
  {
   "cell_type": "code",
   "execution_count": 33,
   "metadata": {
    "id": "eOfqvjuVMUtH"
   },
   "outputs": [],
   "source": [
    "def remove_punctuation(text):\n",
    "    for punctuation in string.punctuation:\n",
    "        text = text.replace(punctuation, '')  \n",
    "    return text"
   ]
  },
  {
   "cell_type": "code",
   "execution_count": 29,
   "metadata": {
    "id": "FzP2S7gcMY1q"
   },
   "outputs": [],
   "source": [
    "def expand_contractions(text):\n",
    "    \"\"\" Replace contractions in the english language by the complete phrase\"\"\"\n",
    "    # Contraction list\n",
    "    contractions = {\n",
    "      \"ain't\": \"am not\",\n",
    "      \"aren't\": \"are not\",\n",
    "      \"can't\": \"cannot\",\n",
    "      \"can't've\": \"cannot have\",\n",
    "      \"'cause\": \"because\",\n",
    "      \"could've\": \"could have\",\n",
    "      \"couldn't\": \"could not\",\n",
    "      \"couldn't've\": \"could not have\",\n",
    "      \"didn't\": \"did not\",\n",
    "      \"doesn't\": \"does not\",\n",
    "      \"don't\": \"do not\",\n",
    "      \"hadn't\": \"had not\",\n",
    "      \"hadn't've\": \"had not have\",\n",
    "      \"hasn't\": \"has not\",\n",
    "      \"haven't\": \"have not\",\n",
    "      \"he'd\": \"he would\",\n",
    "      \"he'd've\": \"he would have\",\n",
    "      \"he'll\": \"he will\",\n",
    "      \"he'll've\": \"he will have\",\n",
    "      \"he's\": \"he is\",\n",
    "      \"how'd\": \"how did\",\n",
    "      \"how'd'y\": \"how do you\",\n",
    "      \"how'll\": \"how will\",\n",
    "      \"how's\": \"how is\",\n",
    "      \"I'd\": \"I would\",\n",
    "      \"I'd've\": \"I would have\",\n",
    "      \"I'll\": \"I will\",\n",
    "      \"I'll've\": \"I will have\",\n",
    "      \"I'm\": \"I am\",\n",
    "      \"I've\": \"I have\",\n",
    "      \"isn't\": \"is not\",\n",
    "      \"it'd\": \"it had\",\n",
    "      \"it'd've\": \"it would have\",\n",
    "      \"it'll\": \"it will\",\n",
    "      \"it'll've\": \"it will have\",\n",
    "      \"it's\": \"it is\",\n",
    "      \"let's\": \"let us\",\n",
    "      \"ma'am\": \"madam\",\n",
    "      \"mayn't\": \"may not\",\n",
    "      \"might've\": \"might have\",\n",
    "      \"mightn't\": \"might not\",\n",
    "      \"mightn't've\": \"might not have\",\n",
    "      \"must've\": \"must have\",\n",
    "      \"mustn't\": \"must not\",\n",
    "      \"mustn't've\": \"must not have\",\n",
    "      \"needn't\": \"need not\",\n",
    "      \"needn't've\": \"need not have\",\n",
    "      \"o'clock\": \"of the clock\",\n",
    "      \"oughtn't\": \"ought not\",\n",
    "      \"oughtn't've\": \"ought not have\",\n",
    "      \"shan't\": \"shall not\",\n",
    "      \"sha'n't\": \"shall not\",\n",
    "      \"shan't've\": \"shall not have\",\n",
    "      \"she'd\": \"she would\",\n",
    "      \"she'd've\": \"she would have\",\n",
    "      \"she'll\": \"she will\",\n",
    "      \"she'll've\": \"she will have\",\n",
    "      \"she's\": \"she is\",\n",
    "      \"should've\": \"should have\",\n",
    "      \"shouldn't\": \"should not\",\n",
    "      \"shouldn't've\": \"should not have\",\n",
    "      \"so've\": \"so have\",\n",
    "      \"so's\": \"so is\",\n",
    "      \"that'd\": \"that would\",\n",
    "      \"that'd've\": \"that would have\",\n",
    "      \"that's\": \"that is\",\n",
    "      \"there'd\": \"there had\",\n",
    "      \"there'd've\": \"there would have\",\n",
    "      \"there's\": \"there is\",\n",
    "      \"they'd\": \"they would\",\n",
    "      \"they'd've\": \"they would have\",\n",
    "      \"they'll\": \"they will\",\n",
    "      \"they'll've\": \"they will have\",\n",
    "      \"they're\": \"they are\",\n",
    "      \"they've\": \"they have\",\n",
    "      \"to've\": \"to have\",\n",
    "      \"wasn't\": \"was not\",\n",
    "      \"we'd\": \"we had\",\n",
    "      \"we'd've\": \"we would have\",\n",
    "      \"we'll\": \"we will\",\n",
    "      \"we'll've\": \"we will have\",\n",
    "      \"we're\": \"we are\",\n",
    "      \"we've\": \"we have\",\n",
    "      \"weren't\": \"were not\",\n",
    "      \"what'll\": \"what will\",\n",
    "      \"what'll've\": \"what will have\",\n",
    "      \"what're\": \"what are\",\n",
    "      \"what's\": \"what is\",\n",
    "      \"what've\": \"what have\",\n",
    "      \"when's\": \"when is\",\n",
    "      \"when've\": \"when have\",\n",
    "      \"where'd\": \"where did\",\n",
    "      \"where's\": \"where is\",\n",
    "      \"where've\": \"where have\",\n",
    "      \"who'll\": \"who will\",\n",
    "      \"who'll've\": \"who will have\",\n",
    "      \"who's\": \"who is\",\n",
    "      \"who've\": \"who have\",\n",
    "      \"why's\": \"why is\",\n",
    "      \"why've\": \"why have\",\n",
    "      \"will've\": \"will have\",\n",
    "      \"won't\": \"will not\",\n",
    "      \"won't've\": \"will not have\",\n",
    "      \"would've\": \"would have\",\n",
    "      \"wouldn't\": \"would not\",\n",
    "      \"wouldn't've\": \"would not have\",\n",
    "      \"y'all\": \"you all\",\n",
    "      \"y'alls\": \"you alls\",\n",
    "      \"y'all'd\": \"you all would\",\n",
    "      \"y'all'd've\": \"you all would have\",\n",
    "      \"y'all're\": \"you all are\",\n",
    "      \"y'all've\": \"you all have\",\n",
    "      \"you'd\": \"you had\",\n",
    "      \"you'd've\": \"you would have\",\n",
    "      \"you'll\": \"you will\",\n",
    "      \"you'll've\": \"you will have\",\n",
    "      \"you're\": \"you are\",\n",
    "      \"you've\": \"you have\"}\n",
    "    \n",
    "    contractions = dict((k.lower(), v.lower()) for k,v in contractions.items())\n",
    "\n",
    "    c_re = re.compile('(%s)' % '|'.join(contractions.keys()))\n",
    "    \n",
    "    def replace(match):\n",
    "        return contractions[match.group(0)]\n",
    "    return c_re.sub(replace, text)"
   ]
  },
  {
   "cell_type": "code",
   "execution_count": 34,
   "metadata": {
    "id": "Q7jI6FJA3usq"
   },
   "outputs": [],
   "source": [
    "import string \n",
    "from nltk.stem import WordNetLemmatizer\n",
    "\n",
    "for n in range(len(Data2)):\n",
    "  Data2[n] = to_lower(str(Data2[n]))\n",
    "  Data2[n] = expand_contractions(str(Data2[n]))\n",
    "  Data2[n] = remove_context_symbol(str(Data2[n]))\n",
    "  Data2[n] = remove_bad_symbols(str(Data2[n]))\n",
    "  Data2[n] = remove_punctuation(str(Data2[n]))\n",
    "  Data2[n] = stop_words_and_lemmatizer(str(Data2[n]))"
   ]
  },
  {
   "cell_type": "code",
   "execution_count": 35,
   "metadata": {
    "id": "3cLnxmneGPmM"
   },
   "outputs": [],
   "source": [
    "for n in range(len(Data2_test)):\n",
    "  Data2_test[n] = to_lower(str(Data2_test[n]))\n",
    "  Data2_test[n] = expand_contractions(str(Data2_test[n]))\n",
    "  Data2_test[n] = remove_context_symbol(str(Data2_test[n]))\n",
    "  Data2_test[n] = remove_bad_symbols(str(Data2_test[n]))\n",
    "  Data2_test[n] = remove_punctuation(str(Data2_test[n]))\n",
    "  Data2_test[n] = stop_words_and_lemmatizer(str(Data2_test[n]))"
   ]
  },
  {
   "cell_type": "code",
   "execution_count": 36,
   "metadata": {
    "id": "DmkORujo_6mo"
   },
   "outputs": [],
   "source": [
    "for n in range(len(Data2_val)):\n",
    "  Data2_val[n] = to_lower(str(Data2_val[n]))\n",
    "  Data2_val[n] = expand_contractions(str(Data2_val[n]))\n",
    "  Data2_val[n] = remove_context_symbol(str(Data2_val[n]))\n",
    "  Data2_val[n] = remove_bad_symbols(str(Data2_val[n]))\n",
    "  Data2_val[n] = remove_punctuation(str(Data2_val[n]))\n",
    "  Data2_val[n] = stop_words_and_lemmatizer(str(Data2_val[n]))"
   ]
  },
  {
   "cell_type": "code",
   "execution_count": 59,
   "metadata": {
    "id": "mYHo3vTxR9rq"
   },
   "outputs": [],
   "source": [
    "X_train = Data2\n",
    "X_val = Data2_val\n",
    "X_test = Data2_test"
   ]
  },
  {
   "cell_type": "code",
   "execution_count": 40,
   "metadata": {},
   "outputs": [
    {
     "name": "stdout",
     "output_type": "stream",
     "text": [
      "107 35 47\n"
     ]
    }
   ],
   "source": [
    "print(len(X_train), len(X_val), len(X_test))"
   ]
  },
  {
   "cell_type": "markdown",
   "metadata": {
    "id": "SVyZzLFMNxJq"
   },
   "source": [
    "# Tokenizar"
   ]
  },
  {
   "cell_type": "code",
   "execution_count": 63,
   "metadata": {},
   "outputs": [
    {
     "data": {
      "image/png": "[encoded data removed]",
      "text/plain": [
       "<Figure size 432x288 with 1 Axes>"
      ]
     },
     "metadata": {
      "needs_background": "light"
     },
     "output_type": "display_data"
    }
   ],
   "source": [
    "import matplotlib.pyplot as plt\n",
    "\n",
    "plt.hist([len(interview) for interview in X_train_tokenized]);"
   ]
  },
  {
   "cell_type": "code",
   "execution_count": 73,
   "metadata": {
    "id": "omZdrZyo7eoN"
   },
   "outputs": [],
   "source": [
    "from sklearn.preprocessing import LabelEncoder\n",
    "\n",
    "lb=LabelEncoder()\n",
    "y_train = lb.fit_transform(Y)\n",
    "y_val = lb.fit_transform(Y_val)\n",
    "y_test = lb.fit_transform(Y_test)"
   ]
  },
  {
   "cell_type": "code",
   "execution_count": 74,
   "metadata": {
    "colab": {
     "base_uri": "https://localhost:8080/"
    },
    "id": "RVkQgatAcygC",
    "outputId": "4f2c14f0-9f84-40d2-d541-c8f0fa2b806f"
   },
   "outputs": [],
   "source": [
    "y_train = y_train.astype(int)\n",
    "y_val = y_val.astype(int)\n",
    "y_test = y_test.astype(int)"
   ]
  },
  {
   "cell_type": "code",
   "execution_count": 64,
   "metadata": {
    "id": "i5LFgqNK7yLt"
   },
   "outputs": [],
   "source": [
    "from keras.preprocessing.text import Tokenizer\n",
    "from tensorflow.keras.preprocessing.sequence import pad_sequences\n",
    "\n",
    "tokenizer = Tokenizer(num_words=500, split=' ') \n",
    "tokenizer.fit_on_texts(X_train)\n",
    "\n",
    "#Train\n",
    "X_train_tokenized = tokenizer.texts_to_sequences(X_train)\n",
    "X_train_pad = pad_sequences(X_train_tokenized, value=-1000, dtype='float64')\n",
    "\n",
    "#Test\n",
    "#tokenizer.fit_on_texts(X_test)\n",
    "X_test_tokenized = tokenizer.texts_to_sequences(X_test)\n",
    "X_test_pad = pad_sequences(X_test_tokenized, maxlen = X_train_pad.shape[1], value=-1000, dtype='float64')\n",
    "\n",
    "#Validation\n",
    "#tokenizer.fit_on_texts(X_val)\n",
    "X_val_tokenized = tokenizer.texts_to_sequences(X_val)\n",
    "X_val_pad = pad_sequences(X_val_tokenized, maxlen = X_train_pad.shape[1], value=-1000, dtype='float64')"
   ]
  },
  {
   "cell_type": "code",
   "execution_count": 69,
   "metadata": {
    "scrolled": true
   },
   "outputs": [
    {
     "name": "stdout",
     "output_type": "stream",
     "text": [
      "(107, 1348) (35, 1348) (47, 1348)\n"
     ]
    }
   ],
   "source": [
    "print(X_train_pad.shape, X_val_pad.shape, X_test_pad.shape)"
   ]
  },
  {
   "cell_type": "markdown",
   "metadata": {},
   "source": [
    "# Se agreaga una dimensión mas para que funcione el modelo"
   ]
  },
  {
   "cell_type": "code",
   "execution_count": 70,
   "metadata": {
    "id": "tDUpvL0Mdx7A"
   },
   "outputs": [],
   "source": [
    "X_train_reshaped = np.reshape(X_train_pad, (X_train_pad.shape[0], 1, X_train_pad.shape[1]))\n",
    "X_val_reshaped = np.reshape(X_val_pad, (X_val_pad.shape[0], 1, X_val_pad.shape[1]))\n",
    "X_test_reshaped = np.reshape(X_test_pad, (X_test_pad.shape[0], 1, X_test_pad.shape[1]))"
   ]
  },
  {
   "cell_type": "code",
   "execution_count": 71,
   "metadata": {},
   "outputs": [
    {
     "name": "stdout",
     "output_type": "stream",
     "text": [
      "(107, 1, 1348) (35, 1, 1348) (47, 1, 1348)\n"
     ]
    }
   ],
   "source": [
    "print(X_train_reshaped.shape, X_val_reshaped.shape, X_test_reshaped.shape)"
   ]
  },
  {
   "cell_type": "code",
   "execution_count": 72,
   "metadata": {
    "colab": {
     "base_uri": "https://localhost:8080/"
    },
    "id": "_isIyLdTyicL",
    "outputId": "9df84b7d-0d0c-49bb-aa7b-677170bcfc07"
   },
   "outputs": [
    {
     "name": "stdout",
     "output_type": "stream",
     "text": [
      "Total words 5175\n"
     ]
    }
   ],
   "source": [
    "vocab_size = len(tokenizer.word_index) + 1\n",
    "print(\"Total words\", vocab_size)"
   ]
  },
  {
   "cell_type": "markdown",
   "metadata": {},
   "source": [
    "# Modelado"
   ]
  },
  {
   "cell_type": "code",
   "execution_count": 83,
   "metadata": {
    "colab": {
     "base_uri": "https://localhost:8080/"
    },
    "id": "Yjp3TeJx43dk",
    "outputId": "9faf9652-e094-430d-9c94-24626dd1d2ef"
   },
   "outputs": [],
   "source": [
    "from tensorflow.keras import Sequential\n",
    "from tensorflow.keras import layers\n",
    "from tensorflow.keras.optimizers.schedules import ExponentialDecay\n",
    "from tensorflow.keras.optimizers import Adam\n",
    "from keras.layers import Activation, Dense, Dropout\n",
    "from keras.layers import Input\n",
    "\n",
    "def init_model_2():\n",
    "  model = Sequential()\n",
    "  #input = Input(shape=(142, 1353))\n",
    "  initial_learning_rate = 0.001\n",
    "  lr_schedule = ExponentialDecay(initial_learning_rate, decay_steps=2000, decay_rate=0.5)\n",
    "  adam = Adam(learning_rate=lr_schedule)\n",
    "  model.add(layers.Masking(mask_value=-1000))\n",
    "  #model.add(layers.Embedding(500, 7059, input_length = X.shape[1]))\n",
    "  model.add(layers.GRU(512, return_sequences=True, activation='tanh')) #input_shape = [1, 1353]))\n",
    "  model.add(layers.GRU(256, return_sequences=True, activation='tanh'))\n",
    "  model.add(layers.GRU(128, return_sequences=True, activation='tanh'))\n",
    "  model.add(layers.GRU(256, return_sequences=True, activation='tanh'))\n",
    "  model.add(layers.GRU(128, return_sequences=True, activation='tanh', dropout=0.03))\n",
    "  model.add(layers.GRU(64, return_sequences=True, activation='tanh', dropout=0.02))\n",
    "  model.add(layers.GRU(32, return_sequences=True, activation='tanh',dropout=0.01))\n",
    "  model.add(layers.Flatten())\n",
    "  model.add(Dense(16, activation = 'tanh'))\n",
    "  model.add(Dense(1, activation = 'sigmoid'))\n",
    "  \n",
    "  model.compile(\n",
    "      optimizer=adam,\n",
    "      loss=\"binary_crossentropy\",\n",
    "      metrics=['accuracy', 'AUC','Precision','Recall'])\n",
    "\n",
    "  return model"
   ]
  },
  {
   "cell_type": "code",
   "execution_count": 84,
   "metadata": {
    "scrolled": false
   },
   "outputs": [
    {
     "name": "stdout",
     "output_type": "stream",
     "text": [
      "Epoch 1/100\n",
      "4/4 [==============================] - 37s 3s/step - loss: 0.6806 - accuracy: 0.5794 - auc: 0.5561 - precision: 0.2581 - recall: 0.2667 - val_loss: 0.6529 - val_accuracy: 0.6571 - val_auc: 0.8025 - val_precision: 0.0000e+00 - val_recall: 0.0000e+00\n",
      "Epoch 2/100\n",
      "4/4 [==============================] - 0s 67ms/step - loss: 0.6171 - accuracy: 0.7290 - auc: 0.4996 - precision: 1.0000 - recall: 0.0333 - val_loss: 0.6728 - val_accuracy: 0.6571 - val_auc: 0.7862 - val_precision: 0.0000e+00 - val_recall: 0.0000e+00\n",
      "Epoch 3/100\n",
      "4/4 [==============================] - 0s 57ms/step - loss: 0.5991 - accuracy: 0.7290 - auc: 0.3615 - precision: 1.0000 - recall: 0.0333 - val_loss: 0.6730 - val_accuracy: 0.6571 - val_auc: 0.7228 - val_precision: 0.0000e+00 - val_recall: 0.0000e+00\n",
      "Epoch 4/100\n",
      "4/4 [==============================] - 1s 392ms/step - loss: 0.5929 - accuracy: 0.7290 - auc: 0.4703 - precision: 1.0000 - recall: 0.0333 - val_loss: 0.6649 - val_accuracy: 0.6571 - val_auc: 0.5000 - val_precision: 0.0000e+00 - val_recall: 0.0000e+00\n",
      "Epoch 5/100\n",
      "4/4 [==============================] - 2s 751ms/step - loss: 0.5878 - accuracy: 0.7290 - auc: 0.4918 - precision: 1.0000 - recall: 0.0333 - val_loss: 0.6595 - val_accuracy: 0.6571 - val_auc: 0.5580 - val_precision: 0.0000e+00 - val_recall: 0.0000e+00\n",
      "Epoch 6/100\n",
      "4/4 [==============================] - 0s 60ms/step - loss: 0.5851 - accuracy: 0.7290 - auc: 0.5494 - precision: 1.0000 - recall: 0.0333 - val_loss: 0.6502 - val_accuracy: 0.6571 - val_auc: 0.6341 - val_precision: 0.0000e+00 - val_recall: 0.0000e+00\n",
      "Epoch 7/100\n",
      "4/4 [==============================] - 0s 63ms/step - loss: 0.5869 - accuracy: 0.7290 - auc: 0.5359 - precision: 1.0000 - recall: 0.0333 - val_loss: 0.6470 - val_accuracy: 0.6571 - val_auc: 0.3297 - val_precision: 0.0000e+00 - val_recall: 0.0000e+00\n",
      "Epoch 8/100\n",
      "4/4 [==============================] - 0s 70ms/step - loss: 0.5857 - accuracy: 0.7290 - auc: 0.5323 - precision: 1.0000 - recall: 0.0333 - val_loss: 0.6562 - val_accuracy: 0.6571 - val_auc: 0.3822 - val_precision: 0.0000e+00 - val_recall: 0.0000e+00\n",
      "Epoch 9/100\n",
      "4/4 [==============================] - 0s 60ms/step - loss: 0.5836 - accuracy: 0.7290 - auc: 0.5301 - precision: 1.0000 - recall: 0.0333 - val_loss: 0.6636 - val_accuracy: 0.6571 - val_auc: 0.4620 - val_precision: 0.0000e+00 - val_recall: 0.0000e+00\n",
      "Epoch 10/100\n",
      "4/4 [==============================] - 0s 61ms/step - loss: 0.5805 - accuracy: 0.7290 - auc: 0.6649 - precision: 1.0000 - recall: 0.0333 - val_loss: 0.6572 - val_accuracy: 0.6571 - val_auc: 0.4293 - val_precision: 0.0000e+00 - val_recall: 0.0000e+00\n",
      "Epoch 11/100\n",
      "4/4 [==============================] - 0s 77ms/step - loss: 0.5706 - accuracy: 0.7290 - auc: 0.7093 - precision: 1.0000 - recall: 0.0333 - val_loss: 0.6644 - val_accuracy: 0.6571 - val_auc: 0.4203 - val_precision: 0.0000e+00 - val_recall: 0.0000e+00\n",
      "Epoch 12/100\n",
      "4/4 [==============================] - 0s 83ms/step - loss: 0.5804 - accuracy: 0.7290 - auc: 0.6643 - precision: 1.0000 - recall: 0.0333 - val_loss: 0.6635 - val_accuracy: 0.6571 - val_auc: 0.4203 - val_precision: 0.0000e+00 - val_recall: 0.0000e+00\n",
      "Epoch 13/100\n",
      "4/4 [==============================] - 0s 100ms/step - loss: 0.5603 - accuracy: 0.7290 - auc: 0.7032 - precision: 1.0000 - recall: 0.0333 - val_loss: 0.6677 - val_accuracy: 0.6571 - val_auc: 0.4384 - val_precision: 0.0000e+00 - val_recall: 0.0000e+00\n",
      "Epoch 14/100\n",
      "4/4 [==============================] - 0s 67ms/step - loss: 0.5364 - accuracy: 0.7383 - auc: 0.7468 - precision: 1.0000 - recall: 0.0667 - val_loss: 0.6806 - val_accuracy: 0.6571 - val_auc: 0.4203 - val_precision: 0.0000e+00 - val_recall: 0.0000e+00\n",
      "Epoch 15/100\n",
      "4/4 [==============================] - 0s 61ms/step - loss: 0.5551 - accuracy: 0.7290 - auc: 0.7186 - precision: 1.0000 - recall: 0.0333 - val_loss: 0.6792 - val_accuracy: 0.6571 - val_auc: 0.4330 - val_precision: 0.0000e+00 - val_recall: 0.0000e+00\n",
      "Epoch 16/100\n",
      "4/4 [==============================] - 0s 59ms/step - loss: 0.4935 - accuracy: 0.7664 - auc: 0.7885 - precision: 0.7273 - recall: 0.2667 - val_loss: 0.8358 - val_accuracy: 0.3143 - val_auc: 0.4312 - val_precision: 0.2273 - val_recall: 0.4167\n",
      "Epoch 17/100\n",
      "4/4 [==============================] - 0s 63ms/step - loss: 0.5691 - accuracy: 0.7009 - auc: 0.7366 - precision: 0.4750 - recall: 0.6333 - val_loss: 0.6753 - val_accuracy: 0.6571 - val_auc: 0.4112 - val_precision: 0.0000e+00 - val_recall: 0.0000e+00\n",
      "Epoch 18/100\n",
      "4/4 [==============================] - 0s 63ms/step - loss: 0.5234 - accuracy: 0.7477 - auc: 0.8175 - precision: 1.0000 - recall: 0.1000 - val_loss: 0.6819 - val_accuracy: 0.6571 - val_auc: 0.4040 - val_precision: 0.0000e+00 - val_recall: 0.0000e+00\n",
      "Epoch 19/100\n",
      "4/4 [==============================] - 0s 59ms/step - loss: 0.5234 - accuracy: 0.7290 - auc: 0.7989 - precision: 1.0000 - recall: 0.0333 - val_loss: 0.6889 - val_accuracy: 0.6571 - val_auc: 0.4022 - val_precision: 0.0000e+00 - val_recall: 0.0000e+00\n",
      "Epoch 20/100\n",
      "4/4 [==============================] - 0s 58ms/step - loss: 0.5096 - accuracy: 0.7850 - auc: 0.8188 - precision: 1.0000 - recall: 0.2333 - val_loss: 0.7135 - val_accuracy: 0.7429 - val_auc: 0.3986 - val_precision: 1.0000 - val_recall: 0.2500\n",
      "Epoch 21/100\n",
      "4/4 [==============================] - 0s 66ms/step - loss: 0.4783 - accuracy: 0.7757 - auc: 0.8266 - precision: 0.8000 - recall: 0.2667 - val_loss: 0.7322 - val_accuracy: 0.7429 - val_auc: 0.3967 - val_precision: 1.0000 - val_recall: 0.2500\n",
      "Epoch 22/100\n",
      "4/4 [==============================] - 0s 58ms/step - loss: 0.4810 - accuracy: 0.7850 - auc: 0.8032 - precision: 0.8889 - recall: 0.2667 - val_loss: 0.8571 - val_accuracy: 0.6286 - val_auc: 0.3931 - val_precision: 0.4444 - val_recall: 0.3333\n",
      "Epoch 23/100\n",
      "4/4 [==============================] - 0s 73ms/step - loss: 0.4687 - accuracy: 0.7944 - auc: 0.7976 - precision: 0.7000 - recall: 0.4667 - val_loss: 0.8658 - val_accuracy: 0.6571 - val_auc: 0.3967 - val_precision: 0.5000 - val_recall: 0.3333\n",
      "Epoch 24/100\n",
      "4/4 [==============================] - 0s 61ms/step - loss: 0.4842 - accuracy: 0.7383 - auc: 0.8227 - precision: 0.5263 - recall: 0.6667 - val_loss: 0.8135 - val_accuracy: 0.7429 - val_auc: 0.3804 - val_precision: 1.0000 - val_recall: 0.2500\n",
      "Epoch 25/100\n",
      "4/4 [==============================] - 0s 57ms/step - loss: 0.5254 - accuracy: 0.7664 - auc: 0.8450 - precision: 0.8571 - recall: 0.2000 - val_loss: 0.8195 - val_accuracy: 0.7143 - val_auc: 0.3859 - val_precision: 0.7500 - val_recall: 0.2500\n",
      "Epoch 26/100\n",
      "4/4 [==============================] - 0s 62ms/step - loss: 0.4151 - accuracy: 0.8411 - auc: 0.8667 - precision: 0.7241 - recall: 0.7000 - val_loss: 0.9525 - val_accuracy: 0.4000 - val_auc: 0.3986 - val_precision: 0.2353 - val_recall: 0.3333\n",
      "Epoch 27/100\n",
      "4/4 [==============================] - 0s 69ms/step - loss: 0.4627 - accuracy: 0.7850 - auc: 0.8346 - precision: 0.6207 - recall: 0.6000 - val_loss: 0.7851 - val_accuracy: 0.6571 - val_auc: 0.3986 - val_precision: 0.0000e+00 - val_recall: 0.0000e+00\n",
      "Epoch 28/100\n",
      "4/4 [==============================] - 0s 69ms/step - loss: 0.4791 - accuracy: 0.7944 - auc: 0.8433 - precision: 1.0000 - recall: 0.2667 - val_loss: 0.7840 - val_accuracy: 0.7143 - val_auc: 0.4022 - val_precision: 1.0000 - val_recall: 0.1667\n",
      "Epoch 29/100\n",
      "4/4 [==============================] - 0s 78ms/step - loss: 0.4356 - accuracy: 0.7944 - auc: 0.8422 - precision: 0.7500 - recall: 0.4000 - val_loss: 0.9272 - val_accuracy: 0.4857 - val_auc: 0.3913 - val_precision: 0.2857 - val_recall: 0.3333\n",
      "Epoch 30/100\n",
      "4/4 [==============================] - 0s 84ms/step - loss: 0.4323 - accuracy: 0.8131 - auc: 0.8682 - precision: 0.6562 - recall: 0.7000 - val_loss: 0.8582 - val_accuracy: 0.6571 - val_auc: 0.3659 - val_precision: 0.0000e+00 - val_recall: 0.0000e+00\n",
      "Epoch 31/100\n",
      "4/4 [==============================] - 0s 108ms/step - loss: 0.4359 - accuracy: 0.7944 - auc: 0.8610 - precision: 0.9000 - recall: 0.3000 - val_loss: 0.9718 - val_accuracy: 0.6000 - val_auc: 0.3587 - val_precision: 0.3750 - val_recall: 0.2500\n",
      "Epoch 32/100\n"
     ]
    },
    {
     "name": "stdout",
     "output_type": "stream",
     "text": [
      "4/4 [==============================] - 0s 83ms/step - loss: 0.3992 - accuracy: 0.8411 - auc: 0.8669 - precision: 0.7241 - recall: 0.7000 - val_loss: 0.9725 - val_accuracy: 0.5714 - val_auc: 0.3333 - val_precision: 0.0000e+00 - val_recall: 0.0000e+00\n",
      "Epoch 33/100\n",
      "4/4 [==============================] - 0s 77ms/step - loss: 0.4132 - accuracy: 0.8224 - auc: 0.8498 - precision: 0.7200 - recall: 0.6000 - val_loss: 1.0612 - val_accuracy: 0.6571 - val_auc: 0.3152 - val_precision: 0.0000e+00 - val_recall: 0.0000e+00\n",
      "Epoch 34/100\n",
      "4/4 [==============================] - 0s 81ms/step - loss: 0.5479 - accuracy: 0.7570 - auc: 0.9039 - precision: 1.0000 - recall: 0.1333 - val_loss: 0.9328 - val_accuracy: 0.6286 - val_auc: 0.3370 - val_precision: 0.0000e+00 - val_recall: 0.0000e+00\n",
      "Epoch 35/100\n",
      "4/4 [==============================] - 0s 85ms/step - loss: 0.4893 - accuracy: 0.7757 - auc: 0.8039 - precision: 0.5833 - recall: 0.7000 - val_loss: 0.8586 - val_accuracy: 0.5429 - val_auc: 0.3913 - val_precision: 0.3000 - val_recall: 0.2500\n",
      "Epoch 36/100\n",
      "4/4 [==============================] - 0s 71ms/step - loss: 0.4387 - accuracy: 0.8318 - auc: 0.8569 - precision: 0.8333 - recall: 0.5000 - val_loss: 0.7621 - val_accuracy: 0.6571 - val_auc: 0.3913 - val_precision: 0.0000e+00 - val_recall: 0.0000e+00\n",
      "Epoch 37/100\n",
      "4/4 [==============================] - 0s 67ms/step - loss: 0.4964 - accuracy: 0.7570 - auc: 0.8647 - precision: 1.0000 - recall: 0.1333 - val_loss: 0.7842 - val_accuracy: 0.6571 - val_auc: 0.3768 - val_precision: 0.0000e+00 - val_recall: 0.0000e+00\n",
      "Epoch 38/100\n",
      "4/4 [==============================] - 0s 69ms/step - loss: 0.5114 - accuracy: 0.7383 - auc: 0.9032 - precision: 1.0000 - recall: 0.0667 - val_loss: 0.7735 - val_accuracy: 0.6571 - val_auc: 0.3822 - val_precision: 0.0000e+00 - val_recall: 0.0000e+00\n",
      "Epoch 39/100\n",
      "4/4 [==============================] - 0s 67ms/step - loss: 0.4928 - accuracy: 0.7477 - auc: 0.8816 - precision: 1.0000 - recall: 0.1000 - val_loss: 0.7741 - val_accuracy: 0.6571 - val_auc: 0.4058 - val_precision: 0.0000e+00 - val_recall: 0.0000e+00\n",
      "Epoch 40/100\n",
      "4/4 [==============================] - 0s 69ms/step - loss: 0.4731 - accuracy: 0.7570 - auc: 0.8909 - precision: 1.0000 - recall: 0.1333 - val_loss: 0.8091 - val_accuracy: 0.6571 - val_auc: 0.4058 - val_precision: 0.0000e+00 - val_recall: 0.0000e+00\n",
      "Epoch 41/100\n",
      "4/4 [==============================] - 0s 67ms/step - loss: 0.4508 - accuracy: 0.7944 - auc: 0.8593 - precision: 1.0000 - recall: 0.2667 - val_loss: 0.8761 - val_accuracy: 0.7429 - val_auc: 0.3986 - val_precision: 1.0000 - val_recall: 0.2500\n",
      "Epoch 42/100\n",
      "4/4 [==============================] - 0s 67ms/step - loss: 0.4119 - accuracy: 0.7850 - auc: 0.8768 - precision: 0.8182 - recall: 0.3000 - val_loss: 0.9485 - val_accuracy: 0.6571 - val_auc: 0.3967 - val_precision: 0.5000 - val_recall: 0.2500\n",
      "Epoch 43/100\n",
      "4/4 [==============================] - 0s 68ms/step - loss: 0.4022 - accuracy: 0.8224 - auc: 0.8714 - precision: 0.8235 - recall: 0.4667 - val_loss: 0.9947 - val_accuracy: 0.6571 - val_auc: 0.3931 - val_precision: 0.5000 - val_recall: 0.2500\n",
      "Epoch 44/100\n",
      "4/4 [==============================] - 0s 70ms/step - loss: 0.4113 - accuracy: 0.8131 - auc: 0.8814 - precision: 0.8571 - recall: 0.4000 - val_loss: 1.0470 - val_accuracy: 0.6000 - val_auc: 0.3822 - val_precision: 0.3750 - val_recall: 0.2500\n",
      "Epoch 45/100\n",
      "4/4 [==============================] - 0s 70ms/step - loss: 0.3498 - accuracy: 0.8411 - auc: 0.8978 - precision: 0.7600 - recall: 0.6333 - val_loss: 1.1184 - val_accuracy: 0.6000 - val_auc: 0.3370 - val_precision: 0.3750 - val_recall: 0.2500\n",
      "Epoch 46/100\n",
      "4/4 [==============================] - 0s 67ms/step - loss: 0.3325 - accuracy: 0.8598 - auc: 0.9126 - precision: 0.8000 - recall: 0.6667 - val_loss: 1.2201 - val_accuracy: 0.6000 - val_auc: 0.3062 - val_precision: 0.0000e+00 - val_recall: 0.0000e+00\n",
      "Epoch 47/100\n",
      "4/4 [==============================] - 0s 69ms/step - loss: 0.3811 - accuracy: 0.8411 - auc: 0.8998 - precision: 0.8095 - recall: 0.5667 - val_loss: 1.4178 - val_accuracy: 0.4857 - val_auc: 0.3351 - val_precision: 0.2857 - val_recall: 0.3333\n",
      "Epoch 48/100\n",
      "4/4 [==============================] - 1s 410ms/step - loss: 0.3808 - accuracy: 0.8318 - auc: 0.9043 - precision: 0.6667 - recall: 0.8000 - val_loss: 1.1514 - val_accuracy: 0.6571 - val_auc: 0.3478 - val_precision: 0.0000e+00 - val_recall: 0.0000e+00\n",
      "Epoch 49/100\n",
      "4/4 [==============================] - 0s 67ms/step - loss: 0.5192 - accuracy: 0.8037 - auc: 0.8652 - precision: 0.9091 - recall: 0.3333 - val_loss: 1.1463 - val_accuracy: 0.5714 - val_auc: 0.3841 - val_precision: 0.3636 - val_recall: 0.3333\n",
      "Epoch 50/100\n",
      "4/4 [==============================] - 0s 75ms/step - loss: 0.3854 - accuracy: 0.8505 - auc: 0.8900 - precision: 0.7188 - recall: 0.7667 - val_loss: 0.9680 - val_accuracy: 0.6286 - val_auc: 0.3659 - val_precision: 0.4000 - val_recall: 0.1667\n",
      "Epoch 51/100\n",
      "4/4 [==============================] - 0s 72ms/step - loss: 0.3686 - accuracy: 0.8318 - auc: 0.9043 - precision: 1.0000 - recall: 0.4000 - val_loss: 0.9668 - val_accuracy: 0.6286 - val_auc: 0.3225 - val_precision: 0.3333 - val_recall: 0.0833\n",
      "Epoch 52/100\n",
      "4/4 [==============================] - 0s 73ms/step - loss: 0.3553 - accuracy: 0.8598 - auc: 0.9141 - precision: 0.9412 - recall: 0.5333 - val_loss: 1.0171 - val_accuracy: 0.6000 - val_auc: 0.3080 - val_precision: 0.3750 - val_recall: 0.2500\n",
      "Epoch 53/100\n",
      "4/4 [==============================] - 0s 72ms/step - loss: 0.3376 - accuracy: 0.8598 - auc: 0.9229 - precision: 0.8947 - recall: 0.5667 - val_loss: 1.0650 - val_accuracy: 0.6000 - val_auc: 0.3007 - val_precision: 0.3333 - val_recall: 0.1667\n",
      "Epoch 54/100\n",
      "4/4 [==============================] - 0s 69ms/step - loss: 0.3270 - accuracy: 0.8318 - auc: 0.9117 - precision: 0.7500 - recall: 0.6000 - val_loss: 1.2008 - val_accuracy: 0.5714 - val_auc: 0.3007 - val_precision: 0.3333 - val_recall: 0.2500\n",
      "Epoch 55/100\n",
      "4/4 [==============================] - 0s 71ms/step - loss: 0.3089 - accuracy: 0.8692 - auc: 0.9061 - precision: 0.8636 - recall: 0.6333 - val_loss: 1.4033 - val_accuracy: 0.5429 - val_auc: 0.2899 - val_precision: 0.3000 - val_recall: 0.2500\n",
      "Epoch 56/100\n",
      "4/4 [==============================] - 0s 74ms/step - loss: 0.3387 - accuracy: 0.8411 - auc: 0.9091 - precision: 0.7241 - recall: 0.7000 - val_loss: 1.3705 - val_accuracy: 0.5714 - val_auc: 0.2699 - val_precision: 0.2857 - val_recall: 0.1667\n",
      "Epoch 57/100\n",
      "4/4 [==============================] - 0s 70ms/step - loss: 0.3606 - accuracy: 0.8692 - auc: 0.9054 - precision: 0.8636 - recall: 0.6333 - val_loss: 1.5551 - val_accuracy: 0.4571 - val_auc: 0.2717 - val_precision: 0.2308 - val_recall: 0.2500\n",
      "Epoch 58/100\n",
      "4/4 [==============================] - 0s 62ms/step - loss: 0.3893 - accuracy: 0.8131 - auc: 0.8991 - precision: 0.6389 - recall: 0.7667 - val_loss: 1.1963 - val_accuracy: 0.5714 - val_auc: 0.2536 - val_precision: 0.0000e+00 - val_recall: 0.0000e+00\n",
      "Epoch 59/100\n",
      "4/4 [==============================] - 0s 63ms/step - loss: 0.3206 - accuracy: 0.8598 - auc: 0.9238 - precision: 0.9412 - recall: 0.5333 - val_loss: 1.3012 - val_accuracy: 0.5714 - val_auc: 0.3098 - val_precision: 0.3636 - val_recall: 0.3333\n",
      "Epoch 60/100\n",
      "4/4 [==============================] - 0s 63ms/step - loss: 0.3159 - accuracy: 0.8505 - auc: 0.9234 - precision: 0.7188 - recall: 0.7667 - val_loss: 1.1186 - val_accuracy: 0.6286 - val_auc: 0.3025 - val_precision: 0.0000e+00 - val_recall: 0.0000e+00\n",
      "Epoch 61/100\n",
      "4/4 [==============================] - 0s 65ms/step - loss: 0.3700 - accuracy: 0.8318 - auc: 0.9333 - precision: 1.0000 - recall: 0.4000 - val_loss: 1.2151 - val_accuracy: 0.5429 - val_auc: 0.3225 - val_precision: 0.2500 - val_recall: 0.1667\n",
      "Epoch 62/100\n",
      "4/4 [==============================] - 0s 63ms/step - loss: 0.3368 - accuracy: 0.8411 - auc: 0.9180 - precision: 0.6970 - recall: 0.7667 - val_loss: 1.1774 - val_accuracy: 0.5143 - val_auc: 0.3025 - val_precision: 0.1429 - val_recall: 0.0833\n",
      "Epoch 63/100\n",
      "4/4 [==============================] - 0s 66ms/step - loss: 0.2988 - accuracy: 0.8598 - auc: 0.9411 - precision: 1.0000 - recall: 0.5000 - val_loss: 1.2198 - val_accuracy: 0.5429 - val_auc: 0.2500 - val_precision: 0.0000e+00 - val_recall: 0.0000e+00\n"
     ]
    },
    {
     "name": "stdout",
     "output_type": "stream",
     "text": [
      "Epoch 64/100\n",
      "4/4 [==============================] - 0s 66ms/step - loss: 0.2771 - accuracy: 0.8879 - auc: 0.9426 - precision: 0.9091 - recall: 0.6667 - val_loss: 1.4493 - val_accuracy: 0.5429 - val_auc: 0.2645 - val_precision: 0.3000 - val_recall: 0.2500\n",
      "Epoch 65/100\n",
      "4/4 [==============================] - 0s 62ms/step - loss: 0.2689 - accuracy: 0.8879 - auc: 0.9353 - precision: 0.8214 - recall: 0.7667 - val_loss: 1.3950 - val_accuracy: 0.5429 - val_auc: 0.2790 - val_precision: 0.1667 - val_recall: 0.0833\n",
      "Epoch 66/100\n",
      "4/4 [==============================] - 0s 59ms/step - loss: 0.2658 - accuracy: 0.8879 - auc: 0.9320 - precision: 0.8750 - recall: 0.7000 - val_loss: 1.5410 - val_accuracy: 0.5429 - val_auc: 0.2554 - val_precision: 0.2500 - val_recall: 0.1667\n",
      "Epoch 67/100\n",
      "4/4 [==============================] - 0s 65ms/step - loss: 0.2664 - accuracy: 0.8692 - auc: 0.9318 - precision: 0.8077 - recall: 0.7000 - val_loss: 1.5653 - val_accuracy: 0.5714 - val_auc: 0.2428 - val_precision: 0.2857 - val_recall: 0.1667\n",
      "Epoch 68/100\n",
      "4/4 [==============================] - 0s 68ms/step - loss: 0.2707 - accuracy: 0.8972 - auc: 0.9463 - precision: 0.8065 - recall: 0.8333 - val_loss: 1.4305 - val_accuracy: 0.5714 - val_auc: 0.2826 - val_precision: 0.0000e+00 - val_recall: 0.0000e+00\n",
      "Epoch 69/100\n",
      "4/4 [==============================] - 0s 66ms/step - loss: 0.3699 - accuracy: 0.8505 - auc: 0.9136 - precision: 0.7692 - recall: 0.6667 - val_loss: 1.5127 - val_accuracy: 0.5714 - val_auc: 0.2554 - val_precision: 0.3333 - val_recall: 0.2500\n",
      "Epoch 70/100\n",
      "4/4 [==============================] - 0s 65ms/step - loss: 0.2574 - accuracy: 0.8972 - auc: 0.9491 - precision: 1.0000 - recall: 0.6333 - val_loss: 1.3778 - val_accuracy: 0.5714 - val_auc: 0.2120 - val_precision: 0.2000 - val_recall: 0.0833\n",
      "Epoch 71/100\n",
      "4/4 [==============================] - 0s 62ms/step - loss: 0.3063 - accuracy: 0.8785 - auc: 0.9121 - precision: 0.8148 - recall: 0.7333 - val_loss: 1.3530 - val_accuracy: 0.5714 - val_auc: 0.2554 - val_precision: 0.3333 - val_recall: 0.2500\n",
      "Epoch 72/100\n",
      "4/4 [==============================] - 0s 72ms/step - loss: 0.2873 - accuracy: 0.8879 - auc: 0.9184 - precision: 0.9500 - recall: 0.6333 - val_loss: 1.2355 - val_accuracy: 0.6286 - val_auc: 0.2935 - val_precision: 0.3333 - val_recall: 0.0833\n",
      "Epoch 73/100\n",
      "4/4 [==============================] - 0s 70ms/step - loss: 0.3079 - accuracy: 0.8505 - auc: 0.9251 - precision: 0.9375 - recall: 0.5000 - val_loss: 1.4520 - val_accuracy: 0.5429 - val_auc: 0.3207 - val_precision: 0.3000 - val_recall: 0.2500\n",
      "Epoch 74/100\n",
      "4/4 [==============================] - 0s 67ms/step - loss: 0.2881 - accuracy: 0.9159 - auc: 0.9448 - precision: 0.9200 - recall: 0.7667 - val_loss: 1.2931 - val_accuracy: 0.5429 - val_auc: 0.2645 - val_precision: 0.1667 - val_recall: 0.0833\n",
      "Epoch 75/100\n",
      "4/4 [==============================] - 0s 60ms/step - loss: 0.2712 - accuracy: 0.8785 - auc: 0.9543 - precision: 1.0000 - recall: 0.5667 - val_loss: 1.3990 - val_accuracy: 0.5714 - val_auc: 0.2464 - val_precision: 0.2857 - val_recall: 0.1667\n",
      "Epoch 76/100\n",
      "4/4 [==============================] - 0s 61ms/step - loss: 0.2859 - accuracy: 0.9065 - auc: 0.9383 - precision: 0.8125 - recall: 0.8667 - val_loss: 1.4613 - val_accuracy: 0.5429 - val_auc: 0.2464 - val_precision: 0.1667 - val_recall: 0.0833\n",
      "Epoch 77/100\n",
      "4/4 [==============================] - 0s 57ms/step - loss: 0.2493 - accuracy: 0.9065 - auc: 0.9452 - precision: 0.9545 - recall: 0.7000 - val_loss: 1.5135 - val_accuracy: 0.5429 - val_auc: 0.2464 - val_precision: 0.1667 - val_recall: 0.0833\n",
      "Epoch 78/100\n",
      "4/4 [==============================] - 0s 59ms/step - loss: 0.2781 - accuracy: 0.8879 - auc: 0.9320 - precision: 1.0000 - recall: 0.6000 - val_loss: 1.5821 - val_accuracy: 0.5714 - val_auc: 0.2464 - val_precision: 0.2857 - val_recall: 0.1667\n",
      "Epoch 79/100\n",
      "4/4 [==============================] - 0s 59ms/step - loss: 0.2406 - accuracy: 0.9065 - auc: 0.9489 - precision: 0.8333 - recall: 0.8333 - val_loss: 1.4605 - val_accuracy: 0.5714 - val_auc: 0.2790 - val_precision: 0.0000e+00 - val_recall: 0.0000e+00\n",
      "Epoch 80/100\n",
      "4/4 [==============================] - 0s 57ms/step - loss: 0.3029 - accuracy: 0.8879 - auc: 0.9483 - precision: 1.0000 - recall: 0.6000 - val_loss: 1.8270 - val_accuracy: 0.4857 - val_auc: 0.2935 - val_precision: 0.2500 - val_recall: 0.2500\n",
      "Epoch 81/100\n",
      "4/4 [==============================] - 0s 58ms/step - loss: 0.3751 - accuracy: 0.8505 - auc: 0.9093 - precision: 0.7188 - recall: 0.7667 - val_loss: 1.3094 - val_accuracy: 0.6286 - val_auc: 0.2609 - val_precision: 0.0000e+00 - val_recall: 0.0000e+00\n",
      "Epoch 82/100\n",
      "4/4 [==============================] - 0s 64ms/step - loss: 0.3453 - accuracy: 0.8318 - auc: 0.9223 - precision: 0.9286 - recall: 0.4333 - val_loss: 1.5353 - val_accuracy: 0.5429 - val_auc: 0.3333 - val_precision: 0.3000 - val_recall: 0.2500\n",
      "Epoch 83/100\n",
      "4/4 [==============================] - 0s 64ms/step - loss: 0.3067 - accuracy: 0.8785 - auc: 0.9327 - precision: 0.7576 - recall: 0.8333 - val_loss: 1.1622 - val_accuracy: 0.5714 - val_auc: 0.3098 - val_precision: 0.2857 - val_recall: 0.1667\n",
      "Epoch 84/100\n",
      "4/4 [==============================] - 0s 57ms/step - loss: 0.3200 - accuracy: 0.8505 - auc: 0.9439 - precision: 1.0000 - recall: 0.4667 - val_loss: 1.1302 - val_accuracy: 0.6000 - val_auc: 0.3098 - val_precision: 0.2500 - val_recall: 0.0833\n",
      "Epoch 85/100\n",
      "4/4 [==============================] - 0s 68ms/step - loss: 0.2804 - accuracy: 0.8879 - auc: 0.9348 - precision: 0.9500 - recall: 0.6333 - val_loss: 1.4431 - val_accuracy: 0.5714 - val_auc: 0.3188 - val_precision: 0.3636 - val_recall: 0.3333\n",
      "Epoch 86/100\n",
      "4/4 [==============================] - 0s 57ms/step - loss: 0.3118 - accuracy: 0.8692 - auc: 0.9301 - precision: 0.7500 - recall: 0.8000 - val_loss: 1.1942 - val_accuracy: 0.5429 - val_auc: 0.3007 - val_precision: 0.1667 - val_recall: 0.0833\n",
      "Epoch 87/100\n",
      "4/4 [==============================] - 0s 61ms/step - loss: 0.2977 - accuracy: 0.8692 - auc: 0.9474 - precision: 1.0000 - recall: 0.5333 - val_loss: 1.2580 - val_accuracy: 0.5714 - val_auc: 0.2663 - val_precision: 0.2000 - val_recall: 0.0833\n",
      "Epoch 88/100\n",
      "4/4 [==============================] - 0s 63ms/step - loss: 0.2487 - accuracy: 0.9065 - auc: 0.9455 - precision: 1.0000 - recall: 0.6667 - val_loss: 1.5574 - val_accuracy: 0.5714 - val_auc: 0.2572 - val_precision: 0.3333 - val_recall: 0.2500\n",
      "Epoch 89/100\n",
      "4/4 [==============================] - 0s 59ms/step - loss: 0.2819 - accuracy: 0.8879 - auc: 0.9532 - precision: 0.7500 - recall: 0.9000 - val_loss: 1.3719 - val_accuracy: 0.5714 - val_auc: 0.2609 - val_precision: 0.0000e+00 - val_recall: 0.0000e+00\n",
      "Epoch 90/100\n",
      "4/4 [==============================] - 0s 57ms/step - loss: 0.2809 - accuracy: 0.8785 - auc: 0.9498 - precision: 1.0000 - recall: 0.5667 - val_loss: 1.4875 - val_accuracy: 0.5714 - val_auc: 0.2772 - val_precision: 0.2857 - val_recall: 0.1667\n",
      "Epoch 91/100\n",
      "4/4 [==============================] - 0s 57ms/step - loss: 0.3015 - accuracy: 0.8505 - auc: 0.9335 - precision: 0.7188 - recall: 0.7667 - val_loss: 1.4312 - val_accuracy: 0.6000 - val_auc: 0.2699 - val_precision: 0.3333 - val_recall: 0.1667\n",
      "Epoch 92/100\n",
      "4/4 [==============================] - 0s 85ms/step - loss: 0.2590 - accuracy: 0.8785 - auc: 0.9526 - precision: 1.0000 - recall: 0.5667 - val_loss: 1.4510 - val_accuracy: 0.6000 - val_auc: 0.2699 - val_precision: 0.3333 - val_recall: 0.1667\n",
      "Epoch 93/100\n",
      "4/4 [==============================] - 0s 61ms/step - loss: 0.2077 - accuracy: 0.9439 - auc: 0.9634 - precision: 1.0000 - recall: 0.8000 - val_loss: 1.7364 - val_accuracy: 0.5429 - val_auc: 0.2826 - val_precision: 0.3000 - val_recall: 0.2500\n",
      "Epoch 94/100\n",
      "4/4 [==============================] - 0s 87ms/step - loss: 0.2692 - accuracy: 0.8879 - auc: 0.9307 - precision: 0.8462 - recall: 0.7333 - val_loss: 1.5404 - val_accuracy: 0.5429 - val_auc: 0.2627 - val_precision: 0.2500 - val_recall: 0.1667\n",
      "Epoch 95/100\n",
      "4/4 [==============================] - 0s 66ms/step - loss: 0.2475 - accuracy: 0.9159 - auc: 0.9472 - precision: 0.8387 - recall: 0.8667 - val_loss: 1.6740 - val_accuracy: 0.5714 - val_auc: 0.2681 - val_precision: 0.3333 - val_recall: 0.2500\n",
      "Epoch 96/100\n"
     ]
    },
    {
     "name": "stdout",
     "output_type": "stream",
     "text": [
      "4/4 [==============================] - 0s 68ms/step - loss: 0.2121 - accuracy: 0.9065 - auc: 0.9634 - precision: 0.9545 - recall: 0.7000 - val_loss: 1.7924 - val_accuracy: 0.5714 - val_auc: 0.2518 - val_precision: 0.3333 - val_recall: 0.2500\n",
      "Epoch 97/100\n",
      "4/4 [==============================] - 0s 86ms/step - loss: 0.2347 - accuracy: 0.9065 - auc: 0.9602 - precision: 0.7941 - recall: 0.9000 - val_loss: 1.5350 - val_accuracy: 0.5714 - val_auc: 0.3152 - val_precision: 0.0000e+00 - val_recall: 0.0000e+00\n",
      "Epoch 98/100\n",
      "4/4 [==============================] - 0s 79ms/step - loss: 0.4394 - accuracy: 0.8318 - auc: 0.9500 - precision: 1.0000 - recall: 0.4000 - val_loss: 1.6336 - val_accuracy: 0.5714 - val_auc: 0.3080 - val_precision: 0.3333 - val_recall: 0.2500\n",
      "Epoch 99/100\n",
      "4/4 [==============================] - 0s 70ms/step - loss: 0.3989 - accuracy: 0.8318 - auc: 0.9299 - precision: 0.6429 - recall: 0.9000 - val_loss: 1.2480 - val_accuracy: 0.6000 - val_auc: 0.2754 - val_precision: 0.2500 - val_recall: 0.0833\n",
      "Epoch 100/100\n",
      "4/4 [==============================] - 0s 70ms/step - loss: 0.3429 - accuracy: 0.8224 - auc: 0.9416 - precision: 1.0000 - recall: 0.3667 - val_loss: 1.2269 - val_accuracy: 0.6571 - val_auc: 0.2591 - val_precision: 0.0000e+00 - val_recall: 0.0000e+00\n"
     ]
    }
   ],
   "source": [
    "model = init_model_2()\n",
    "\n",
    "from tensorflow.keras.callbacks import EarlyStopping\n",
    "\n",
    "es = EarlyStopping(patience=3, restore_best_weights=True)\n",
    "\n",
    "history_fit = model.fit(X_train_reshaped, y_train, \n",
    "          batch_size = 32,\n",
    "          epochs=100,\n",
    "          validation_data = (X_val_reshaped, Y_val),\n",
    "          #callbacks=[es],\n",
    "          verbose = 1)"
   ]
  },
  {
   "cell_type": "code",
   "execution_count": null,
   "metadata": {},
   "outputs": [],
   "source": []
  },
  {
   "cell_type": "code",
   "execution_count": 96,
   "metadata": {
    "colab": {
     "base_uri": "https://localhost:8080/"
    },
    "id": "pW2GwLe2NPZM",
    "outputId": "a6116937-9928-43d1-ce22-477c584a740d"
   },
   "outputs": [
    {
     "name": "stdout",
     "output_type": "stream",
     "text": [
      "Model: \"sequential_1\"\n",
      "_________________________________________________________________\n",
      " Layer (type)                Output Shape              Param #   \n",
      "=================================================================\n",
      " masking_1 (Masking)         (None, 1, 1348)           0         \n",
      "                                                                 \n",
      " gru_7 (GRU)                 (None, 1, 512)            2860032   \n",
      "                                                                 \n",
      " gru_8 (GRU)                 (None, 1, 256)            591360    \n",
      "                                                                 \n",
      " gru_9 (GRU)                 (None, 1, 128)            148224    \n",
      "                                                                 \n",
      " gru_10 (GRU)                (None, 1, 256)            296448    \n",
      "                                                                 \n",
      " gru_11 (GRU)                (None, 1, 128)            148224    \n",
      "                                                                 \n",
      " gru_12 (GRU)                (None, 1, 64)             37248     \n",
      "                                                                 \n",
      " gru_13 (GRU)                (None, 1, 32)             9408      \n",
      "                                                                 \n",
      " flatten_1 (Flatten)         (None, 32)                0         \n",
      "                                                                 \n",
      " dense_2 (Dense)             (None, 16)                528       \n",
      "                                                                 \n",
      " dense_3 (Dense)             (None, 1)                 17        \n",
      "                                                                 \n",
      "=================================================================\n",
      "Total params: 4,091,489\n",
      "Trainable params: 4,091,489\n",
      "Non-trainable params: 0\n",
      "_________________________________________________________________\n"
     ]
    }
   ],
   "source": [
    "model.summary() #loss: 0.2482 - accuracy: 0.8972 - auc: 0.9550 - precision: 0.8800 - recall: 0.7333 - val_loss: 1.5062 - val_accuracy: 0.6000 - val_auc: 0.3098 - val_precision: 0.2500 - val_recall: 0.0833\n"
   ]
  },
  {
   "cell_type": "code",
   "execution_count": 183,
   "metadata": {
    "id": "JDu33lH7TzWp"
   },
   "outputs": [],
   "source": [
    "Y_pred = model.predict(X_test)"
   ]
  },
  {
   "cell_type": "code",
   "execution_count": 184,
   "metadata": {
    "id": "kjB0nzvmeQRu"
   },
   "outputs": [],
   "source": [
    "y_pred = [1 if value[0] >= 0.5 else 0 for value in Y_pred]"
   ]
  },
  {
   "cell_type": "code",
   "execution_count": 106,
   "metadata": {
    "colab": {
     "base_uri": "https://localhost:8080/",
     "height": 545
    },
    "id": "UXAJdh86sSZi",
    "outputId": "f0f9525b-dbdc-466d-b685-9cb556449c82"
   },
   "outputs": [
    {
     "data": {
      "image/png": "[encoded data removed]",
      "text/plain": [
       "<Figure size 432x288 with 1 Axes>"
      ]
     },
     "metadata": {
      "needs_background": "light"
     },
     "output_type": "display_data"
    },
    {
     "data": {
      "image/png": "[encoded data removed]",
      "text/plain": [
       "<Figure size 432x288 with 1 Axes>"
      ]
     },
     "metadata": {
      "needs_background": "light"
     },
     "output_type": "display_data"
    }
   ],
   "source": [
    "import matplotlib.pyplot as plt\n",
    "#ploteo con early stop y sin validation, y con Y como int\n",
    "\n",
    "val_acc = history_fit.history['val_accuracy']\n",
    "loss = history_fit.history['loss']\n",
    "val_loss = history_fit.history['val_loss']\n",
    "acc = history_fit.history['accuracy'] \n",
    "epochs = range(len(acc))\n",
    " \n",
    "plt.plot(epochs, acc, 'b', label='Training acc')\n",
    "plt.plot(epochs, val_acc, 'r', label='Validation acc')\n",
    "plt.title('Training and validation accuracy')\n",
    "plt.legend()\n",
    " \n",
    "plt.figure()\n",
    " \n",
    "plt.plot(epochs, loss, 'b', label='Training loss')\n",
    "plt.plot(epochs, val_loss, 'r', label='Validation loss')\n",
    "plt.title('Training and validation loss')\n",
    "plt.legend()\n",
    " \n",
    "plt.show()"
   ]
  }
 ],
 "metadata": {
  "accelerator": "GPU",
  "colab": {
   "collapsed_sections": [],
   "name": "Depresion - Modelo RNN.ipynb",
   "provenance": []
  },
  "kernelspec": {
   "display_name": "Python 3 (ipykernel)",
   "language": "python",
   "name": "python3"
  },
  "language_info": {
   "codemirror_mode": {
    "name": "ipython",
    "version": 3
   },
   "file_extension": ".py",
   "mimetype": "text/x-python",
   "name": "python",
   "nbconvert_exporter": "python",
   "pygments_lexer": "ipython3",
   "version": "3.8.12"
  },
  "toc": {
   "base_numbering": 1,
   "nav_menu": {},
   "number_sections": true,
   "sideBar": true,
   "skip_h1_title": false,
   "title_cell": "Table of Contents",
   "title_sidebar": "Contents",
   "toc_cell": false,
   "toc_position": {},
   "toc_section_display": true,
   "toc_window_display": false
  }
 },
 "nbformat": 4,
 "nbformat_minor": 1
}
