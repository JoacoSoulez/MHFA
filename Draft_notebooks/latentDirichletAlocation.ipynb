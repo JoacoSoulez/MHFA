{
 "cells": [
  {
   "cell_type": "code",
   "execution_count": 6,
   "id": "23676d25",
   "metadata": {},
   "outputs": [],
   "source": [
    "import pandas as pd\n",
    "import numpy as np\n",
    "import matplotlib.pyplot as plt\n",
    "import seaborn as sns\n",
    "from sklearn.feature_extraction.text import TfidfVectorizer"
   ]
  },
  {
   "cell_type": "code",
   "execution_count": 7,
   "id": "0ecb24a6",
   "metadata": {},
   "outputs": [
    {
     "data": {
      "text/html": [
       "<div>\n",
       "<style scoped>\n",
       "    .dataframe tbody tr th:only-of-type {\n",
       "        vertical-align: middle;\n",
       "    }\n",
       "\n",
       "    .dataframe tbody tr th {\n",
       "        vertical-align: top;\n",
       "    }\n",
       "\n",
       "    .dataframe thead th {\n",
       "        text-align: right;\n",
       "    }\n",
       "</style>\n",
       "<table border=\"1\" class=\"dataframe\">\n",
       "  <thead>\n",
       "    <tr style=\"text-align: right;\">\n",
       "      <th></th>\n",
       "      <th>Unnamed: 0</th>\n",
       "      <th>clean_tweets</th>\n",
       "      <th>label</th>\n",
       "    </tr>\n",
       "  </thead>\n",
       "  <tbody>\n",
       "    <tr>\n",
       "      <th>0</th>\n",
       "      <td>0</td>\n",
       "      <td>name kati diagnos chronic depress panic disord...</td>\n",
       "      <td>1</td>\n",
       "    </tr>\n",
       "    <tr>\n",
       "      <th>1</th>\n",
       "      <td>1</td>\n",
       "      <td>tommcfli finger cross mexico hope well tour am...</td>\n",
       "      <td>0</td>\n",
       "    </tr>\n",
       "    <tr>\n",
       "      <th>2</th>\n",
       "      <td>2</td>\n",
       "      <td>kyzonxin damn mine differ realli involv money ...</td>\n",
       "      <td>1</td>\n",
       "    </tr>\n",
       "    <tr>\n",
       "      <th>3</th>\n",
       "      <td>3</td>\n",
       "      <td>learn okay talk depress</td>\n",
       "      <td>1</td>\n",
       "    </tr>\n",
       "    <tr>\n",
       "      <th>4</th>\n",
       "      <td>4</td>\n",
       "      <td>vp ya well hope gettin feel bfh close play</td>\n",
       "      <td>0</td>\n",
       "    </tr>\n",
       "  </tbody>\n",
       "</table>\n",
       "</div>"
      ],
      "text/plain": [
       "   Unnamed: 0                                       clean_tweets  label\n",
       "0           0  name kati diagnos chronic depress panic disord...      1\n",
       "1           1  tommcfli finger cross mexico hope well tour am...      0\n",
       "2           2  kyzonxin damn mine differ realli involv money ...      1\n",
       "3           3                            learn okay talk depress      1\n",
       "4           4         vp ya well hope gettin feel bfh close play      0"
      ]
     },
     "execution_count": 7,
     "metadata": {},
     "output_type": "execute_result"
    }
   ],
   "source": [
    "path = '/home/lucaspancotto/code/JoacoSoulez/mental_health_first_aid_evaluation/data/tweets_cleaned.csv'\n",
    "data = pd.read_csv(f'{path}')\n",
    "data.head()"
   ]
  },
  {
   "cell_type": "code",
   "execution_count": 15,
   "id": "9facb68d",
   "metadata": {},
   "outputs": [],
   "source": [
    "data.dropna(inplace=True)"
   ]
  },
  {
   "cell_type": "code",
   "execution_count": 8,
   "id": "e370b324",
   "metadata": {},
   "outputs": [],
   "source": [
    "from sklearn.decomposition import LatentDirichletAllocation\n"
   ]
  },
  {
   "cell_type": "code",
   "execution_count": 17,
   "id": "130e07e5",
   "metadata": {},
   "outputs": [
    {
     "name": "stdout",
     "output_type": "stream",
     "text": [
      "Topic 0:\n",
      "[('depress', 43.0206617244012), ('emoji', 24.039775383428225), ('face', 21.87998042838647), ('day', 20.403887130821783), ('love', 19.67983040787592), ('like', 16.93839684355897), ('feel', 16.251748174237587), ('com', 15.33308372915152), ('twitter', 15.07633662804454), ('go', 13.766893409305101)]\n",
      "Topic 1:\n",
      "[('depress', 17.858632686473566), ('com', 11.583531199135946), ('good', 9.26221069829274), ('twitter', 9.158998981387409), ('http', 8.87460775636176), ('anxieti', 7.35952843494496), ('go', 7.2255744529702755), ('get', 6.232738290104847), ('im', 6.136631813421622), ('www', 6.115239009326286)]\n",
      "Topic 2:\n",
      "[('depress', 19.18113376693501), ('twitter', 8.585529796160671), ('com', 8.524709996695572), ('http', 8.409085007496422), ('anxieti', 7.971664048316965), ('cannabi', 7.902465064865142), ('eas', 7.450104943383827), ('one', 7.316546871999168), ('today', 7.042778252987594), ('look', 6.065364047311764)]\n",
      "Topic 3:\n",
      "[('depress', 13.254655748151789), ('suck', 10.345103528801095), ('thank', 6.025476681583959), ('hit', 3.322163734709118), ('know', 3.2338545380717245), ('wait', 3.205676572253817), ('anxieti', 3.0978965155582032), ('like', 3.087949604120852), ('cute', 3.0174381184646286), ('love', 2.904548512956255)]\n",
      "Topic 4:\n",
      "[('depress', 13.467069488471965), ('thing', 7.138009579244105), ('go', 6.134310944130731), ('like', 5.817179475070669), ('eat', 5.163474446906065), ('summer', 4.82605656058696), ('thank', 4.342882922179162), ('anxieti', 4.228981668422078), ('joke', 4.144571361996282), ('emoji', 4.097055575332135)]\n",
      "Topic 5:\n",
      "[('depress', 13.472834298210548), ('real', 7.1752914120321805), ('like', 6.827050520019599), ('go', 5.479122580817277), ('thank', 5.203531551958399), ('time', 4.720643780737286), ('com', 4.51051172493241), ('happi', 4.485222585519696), ('day', 4.293014931898144), ('everyon', 4.070075785117196)]\n",
      "Topic 6:\n",
      "[('depress', 22.931950274658035), ('twitter', 14.517136434616173), ('com', 14.24756317447829), ('http', 9.596964768131889), ('statu', 7.449286768885982), ('back', 7.235924393072006), ('get', 6.8615693799169515), ('pic', 6.652284455575639), ('go', 6.193495963720958), ('one', 5.795265110961954)]\n",
      "Topic 7:\n",
      "[('depress', 27.584021627909422), ('com', 11.27296728151392), ('get', 10.45385392491049), ('twitter', 9.781757510048214), ('good', 8.867619480156947), ('realli', 8.412075473325379), ('life', 8.320089939542322), ('night', 7.749327505229175), ('lol', 7.222847382319248), ('go', 6.770810353898476)]\n",
      "Topic 8:\n",
      "[('depress', 18.301028500190363), ('emoji', 11.09818325561443), ('face', 10.273068141199989), ('work', 7.970363775761818), ('go', 7.83713429751899), ('like', 7.14168179151716), ('morn', 6.967077817719773), ('love', 6.677972301020858), ('feel', 6.399851061912757), ('anxieti', 6.372586627480151)]\n",
      "Topic 9:\n",
      "[('depress', 24.104489807299498), ('http', 14.000671917051335), ('develop', 13.69730398576776), ('tt', 12.115851430984467), ('ift', 12.115851430984465), ('kid', 11.777596117060847), ('com', 11.763961953410949), ('intellectu', 11.123102963754734), ('tie', 10.823680573208744), ('emot', 10.523087234542015)]\n"
     ]
    }
   ],
   "source": [
    "\n",
    "vectorizer = TfidfVectorizer().fit(data['clean_tweets'])\n",
    "\n",
    "data_vectorized = vectorizer.transform(data['clean_tweets'])\n",
    "\n",
    "lda_model = LatentDirichletAllocation(n_components=10).fit(data_vectorized)\n",
    "\n",
    "def print_topics(model, vectorizer):\n",
    "    for idx, topic in enumerate(model.components_):\n",
    "        print(\"Topic %d:\" % (idx))\n",
    "        print([(vectorizer.get_feature_names()[i], topic[i])\n",
    "                        for i in topic.argsort()[:-10 - 1:-1]])\n",
    "        \n",
    "\n",
    "print_topics(lda_model, vectorizer)"
   ]
  }
 ],
 "metadata": {
  "kernelspec": {
   "display_name": "Python 3 (ipykernel)",
   "language": "python",
   "name": "python3"
  },
  "language_info": {
   "codemirror_mode": {
    "name": "ipython",
    "version": 3
   },
   "file_extension": ".py",
   "mimetype": "text/x-python",
   "name": "python",
   "nbconvert_exporter": "python",
   "pygments_lexer": "ipython3",
   "version": "3.8.12"
  },
  "toc": {
   "base_numbering": 1,
   "nav_menu": {},
   "number_sections": true,
   "sideBar": true,
   "skip_h1_title": false,
   "title_cell": "Table of Contents",
   "title_sidebar": "Contents",
   "toc_cell": false,
   "toc_position": {},
   "toc_section_display": true,
   "toc_window_display": false
  }
 },
 "nbformat": 4,
 "nbformat_minor": 5
}
